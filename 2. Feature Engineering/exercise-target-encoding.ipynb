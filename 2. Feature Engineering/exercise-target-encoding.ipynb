{
 "cells": [
  {
   "cell_type": "markdown",
   "id": "519702ac",
   "metadata": {
    "papermill": {
     "duration": 0.00873,
     "end_time": "2022-09-24T20:07:03.713225",
     "exception": false,
     "start_time": "2022-09-24T20:07:03.704495",
     "status": "completed"
    },
    "tags": []
   },
   "source": [
    "**This notebook is an exercise in the [Feature Engineering](https://www.kaggle.com/learn/feature-engineering) course.  You can reference the tutorial at [this link](https://www.kaggle.com/ryanholbrook/target-encoding).**\n",
    "\n",
    "---\n"
   ]
  },
  {
   "cell_type": "markdown",
   "id": "932ce09a",
   "metadata": {
    "papermill": {
     "duration": 0.005781,
     "end_time": "2022-09-24T20:07:03.725414",
     "exception": false,
     "start_time": "2022-09-24T20:07:03.719633",
     "status": "completed"
    },
    "tags": []
   },
   "source": [
    "# Introduction #\n",
    "\n",
    "In this exercise, you'll apply target encoding to features in the [*Ames*](https://www.kaggle.com/c/house-prices-advanced-regression-techniques/data) dataset.\n",
    "\n",
    "Run this cell to set everything up!"
   ]
  },
  {
   "cell_type": "code",
   "execution_count": 1,
   "id": "12a4d8e4",
   "metadata": {
    "execution": {
     "iopub.execute_input": "2022-09-24T20:07:03.739767Z",
     "iopub.status.busy": "2022-09-24T20:07:03.738780Z",
     "iopub.status.idle": "2022-09-24T20:07:05.507721Z",
     "shell.execute_reply": "2022-09-24T20:07:05.506670Z"
    },
    "papermill": {
     "duration": 1.779471,
     "end_time": "2022-09-24T20:07:05.510638",
     "exception": false,
     "start_time": "2022-09-24T20:07:03.731167",
     "status": "completed"
    },
    "tags": []
   },
   "outputs": [],
   "source": [
    "# Setup feedback system\n",
    "from learntools.core import binder\n",
    "binder.bind(globals())\n",
    "from learntools.feature_engineering_new.ex6 import *\n",
    "\n",
    "import matplotlib.pyplot as plt\n",
    "import numpy as np\n",
    "import pandas as pd\n",
    "import seaborn as sns\n",
    "import warnings\n",
    "from category_encoders import MEstimateEncoder\n",
    "from sklearn.model_selection import cross_val_score\n",
    "from xgboost import XGBRegressor\n",
    "\n",
    "# Set Matplotlib defaults\n",
    "plt.style.use(\"seaborn-whitegrid\")\n",
    "plt.rc(\"figure\", autolayout=True)\n",
    "plt.rc(\n",
    "    \"axes\",\n",
    "    labelweight=\"bold\",\n",
    "    labelsize=\"large\",\n",
    "    titleweight=\"bold\",\n",
    "    titlesize=14,\n",
    "    titlepad=10,\n",
    ")\n",
    "warnings.filterwarnings('ignore')\n",
    "\n",
    "\n",
    "def score_dataset(X, y, model=XGBRegressor()):\n",
    "    # Label encoding for categoricals\n",
    "    for colname in X.select_dtypes([\"category\", \"object\"]):\n",
    "        X[colname], _ = X[colname].factorize()\n",
    "    # Metric for Housing competition is RMSLE (Root Mean Squared Log Error)\n",
    "    score = cross_val_score(\n",
    "        model, X, y, cv=5, scoring=\"neg_mean_squared_log_error\",\n",
    "    )\n",
    "    score = -1 * score.mean()\n",
    "    score = np.sqrt(score)\n",
    "    return score\n",
    "\n",
    "\n",
    "df = pd.read_csv(\"../input/fe-course-data/ames.csv\")"
   ]
  },
  {
   "cell_type": "markdown",
   "id": "817c3189",
   "metadata": {
    "papermill": {
     "duration": 0.006203,
     "end_time": "2022-09-24T20:07:05.523544",
     "exception": false,
     "start_time": "2022-09-24T20:07:05.517341",
     "status": "completed"
    },
    "tags": []
   },
   "source": [
    "-------------------------------------------------------------------------------\n",
    "\n",
    "First you'll need to choose which features you want to apply a target encoding to. Categorical features with a large number of categories are often good candidates. Run this cell to see how many categories each categorical feature in the *Ames* dataset has."
   ]
  },
  {
   "cell_type": "code",
   "execution_count": 2,
   "id": "b8697767",
   "metadata": {
    "execution": {
     "iopub.execute_input": "2022-09-24T20:07:05.540963Z",
     "iopub.status.busy": "2022-09-24T20:07:05.539860Z",
     "iopub.status.idle": "2022-09-24T20:07:05.580140Z",
     "shell.execute_reply": "2022-09-24T20:07:05.578990Z"
    },
    "papermill": {
     "duration": 0.051856,
     "end_time": "2022-09-24T20:07:05.583283",
     "exception": false,
     "start_time": "2022-09-24T20:07:05.531427",
     "status": "completed"
    },
    "tags": []
   },
   "outputs": [
    {
     "data": {
      "text/plain": [
       "Street            2\n",
       "CentralAir        2\n",
       "Alley             3\n",
       "Utilities         3\n",
       "LandSlope         3\n",
       "PavedDrive        3\n",
       "LotShape          4\n",
       "LandContour       4\n",
       "ExterQual         4\n",
       "GarageFinish      4\n",
       "ExterCond         5\n",
       "HeatingQC         5\n",
       "MasVnrType        5\n",
       "KitchenQual       5\n",
       "BldgType          5\n",
       "PoolQC            5\n",
       "Fence             5\n",
       "LotConfig         5\n",
       "BsmtExposure      5\n",
       "GarageCond        6\n",
       "FireplaceQu       6\n",
       "Heating           6\n",
       "Electrical        6\n",
       "MiscFeature       6\n",
       "GarageQual        6\n",
       "SaleCondition     6\n",
       "BsmtQual          6\n",
       "BsmtCond          6\n",
       "Foundation        6\n",
       "RoofStyle         6\n",
       "BsmtFinType1      7\n",
       "GarageType        7\n",
       "MSZoning          7\n",
       "BsmtFinType2      7\n",
       "RoofMatl          8\n",
       "Functional        8\n",
       "HouseStyle        8\n",
       "Condition2        8\n",
       "OverallCond       9\n",
       "Condition1        9\n",
       "SaleType         10\n",
       "OverallQual      10\n",
       "Exterior1st      16\n",
       "MSSubClass       16\n",
       "Exterior2nd      17\n",
       "Neighborhood     28\n",
       "dtype: int64"
      ]
     },
     "execution_count": 2,
     "metadata": {},
     "output_type": "execute_result"
    }
   ],
   "source": [
    "df.select_dtypes([\"object\"]).nunique().sort_values()"
   ]
  },
  {
   "cell_type": "markdown",
   "id": "17e839cf",
   "metadata": {
    "papermill": {
     "duration": 0.007017,
     "end_time": "2022-09-24T20:07:05.597974",
     "exception": false,
     "start_time": "2022-09-24T20:07:05.590957",
     "status": "completed"
    },
    "tags": []
   },
   "source": [
    "We talked about how the M-estimate encoding uses smoothing to improve estimates for rare categories. To see how many times a category occurs in the dataset, you can use the `value_counts` method. This cell shows the counts for `SaleType`, but you might want to consider others as well."
   ]
  },
  {
   "cell_type": "code",
   "execution_count": 3,
   "id": "cf44c879",
   "metadata": {
    "execution": {
     "iopub.execute_input": "2022-09-24T20:07:05.612984Z",
     "iopub.status.busy": "2022-09-24T20:07:05.612552Z",
     "iopub.status.idle": "2022-09-24T20:07:05.626276Z",
     "shell.execute_reply": "2022-09-24T20:07:05.624841Z"
    },
    "papermill": {
     "duration": 0.024026,
     "end_time": "2022-09-24T20:07:05.628685",
     "exception": false,
     "start_time": "2022-09-24T20:07:05.604659",
     "status": "completed"
    },
    "tags": []
   },
   "outputs": [
    {
     "data": {
      "text/plain": [
       "Average           825\n",
       "Above_Average     732\n",
       "Good              602\n",
       "Very_Good         350\n",
       "Below_Average     226\n",
       "Excellent         107\n",
       "Fair               40\n",
       "Very_Excellent     31\n",
       "Poor               13\n",
       "Very_Poor           4\n",
       "Name: OverallQual, dtype: int64"
      ]
     },
     "execution_count": 3,
     "metadata": {},
     "output_type": "execute_result"
    }
   ],
   "source": [
    "df[\"OverallQual\"].value_counts()"
   ]
  },
  {
   "cell_type": "markdown",
   "id": "ee91bfe9",
   "metadata": {
    "papermill": {
     "duration": 0.007925,
     "end_time": "2022-09-24T20:07:05.643057",
     "exception": false,
     "start_time": "2022-09-24T20:07:05.635132",
     "status": "completed"
    },
    "tags": []
   },
   "source": [
    "# 1) Choose Features for Encoding\n",
    "\n",
    "Which features did you identify for target encoding? After you've thought about your answer, run the next cell for some discussion."
   ]
  },
  {
   "cell_type": "code",
   "execution_count": 4,
   "id": "57f0e5e2",
   "metadata": {
    "execution": {
     "iopub.execute_input": "2022-09-24T20:07:05.657639Z",
     "iopub.status.busy": "2022-09-24T20:07:05.657229Z",
     "iopub.status.idle": "2022-09-24T20:07:05.666500Z",
     "shell.execute_reply": "2022-09-24T20:07:05.665361Z"
    },
    "papermill": {
     "duration": 0.019304,
     "end_time": "2022-09-24T20:07:05.668832",
     "exception": false,
     "start_time": "2022-09-24T20:07:05.649528",
     "status": "completed"
    },
    "tags": []
   },
   "outputs": [
    {
     "data": {
      "application/javascript": [
       "parent.postMessage({\"jupyterEvent\": \"custom.exercise_interaction\", \"data\": {\"outcomeType\": 1, \"valueTowardsCompletion\": 0.3333333333333333, \"interactionType\": 1, \"questionType\": 4, \"questionId\": \"1_Q1\", \"learnToolsVersion\": \"0.3.4\", \"failureMessage\": \"\", \"exceptionClass\": \"\", \"trace\": \"\"}}, \"*\")"
      ],
      "text/plain": [
       "<IPython.core.display.Javascript object>"
      ]
     },
     "metadata": {},
     "output_type": "display_data"
    },
    {
     "data": {
      "text/markdown": [
       "<span style=\"color:#33cc33\">Correct:</span> \n",
       "\n",
       " The `Neighborhood` feature looks promising. It has the most categories of any feature, and several categories are rare. Others that could be worth considering are `SaleType`, `MSSubClass`, `Exterior1st`, `Exterior2nd`. In fact, almost any of the nominal features would be worth trying because of the prevalence of rare categories."
      ],
      "text/plain": [
       "Correct: \n",
       "\n",
       " The `Neighborhood` feature looks promising. It has the most categories of any feature, and several categories are rare. Others that could be worth considering are `SaleType`, `MSSubClass`, `Exterior1st`, `Exterior2nd`. In fact, almost any of the nominal features would be worth trying because of the prevalence of rare categories."
      ]
     },
     "metadata": {},
     "output_type": "display_data"
    }
   ],
   "source": [
    "# View the solution (Run this cell to receive credit!)\n",
    "q_1.check()"
   ]
  },
  {
   "cell_type": "markdown",
   "id": "cb87c95e",
   "metadata": {
    "papermill": {
     "duration": 0.006035,
     "end_time": "2022-09-24T20:07:05.681550",
     "exception": false,
     "start_time": "2022-09-24T20:07:05.675515",
     "status": "completed"
    },
    "tags": []
   },
   "source": [
    "-------------------------------------------------------------------------------\n",
    "\n",
    "Now you'll apply a target encoding to your choice of feature. As we discussed in the tutorial, to avoid overfitting, we need to fit the encoder on data heldout from the training set. Run this cell to create the encoding and training splits:"
   ]
  },
  {
   "cell_type": "code",
   "execution_count": 5,
   "id": "b63f52e1",
   "metadata": {
    "execution": {
     "iopub.execute_input": "2022-09-24T20:07:05.696681Z",
     "iopub.status.busy": "2022-09-24T20:07:05.695509Z",
     "iopub.status.idle": "2022-09-24T20:07:05.708022Z",
     "shell.execute_reply": "2022-09-24T20:07:05.707151Z"
    },
    "lines_to_next_cell": 2,
    "papermill": {
     "duration": 0.022504,
     "end_time": "2022-09-24T20:07:05.710381",
     "exception": false,
     "start_time": "2022-09-24T20:07:05.687877",
     "status": "completed"
    },
    "tags": []
   },
   "outputs": [],
   "source": [
    "# Encoding split\n",
    "X_encode = df.sample(frac=0.20, random_state=0)\n",
    "y_encode = X_encode.pop(\"SalePrice\")\n",
    "\n",
    "# Training split\n",
    "X_pretrain = df.drop(X_encode.index)\n",
    "y_train = X_pretrain.pop(\"SalePrice\")"
   ]
  },
  {
   "cell_type": "markdown",
   "id": "2e3023ea",
   "metadata": {
    "papermill": {
     "duration": 0.006081,
     "end_time": "2022-09-24T20:07:05.724082",
     "exception": false,
     "start_time": "2022-09-24T20:07:05.718001",
     "status": "completed"
    },
    "tags": []
   },
   "source": [
    "# 2) Apply M-Estimate Encoding\n",
    "\n",
    "Apply a target encoding to your choice of categorical features. Also choose a value for the smoothing parameter `m` (any value is okay for a correct answer)."
   ]
  },
  {
   "cell_type": "code",
   "execution_count": 6,
   "id": "b7db22b3",
   "metadata": {
    "execution": {
     "iopub.execute_input": "2022-09-24T20:07:05.740741Z",
     "iopub.status.busy": "2022-09-24T20:07:05.739554Z",
     "iopub.status.idle": "2022-09-24T20:07:05.926126Z",
     "shell.execute_reply": "2022-09-24T20:07:05.924257Z"
    },
    "lines_to_next_cell": 0,
    "papermill": {
     "duration": 0.198332,
     "end_time": "2022-09-24T20:07:05.928782",
     "exception": false,
     "start_time": "2022-09-24T20:07:05.730450",
     "status": "completed"
    },
    "tags": []
   },
   "outputs": [
    {
     "data": {
      "application/javascript": [
       "parent.postMessage({\"jupyterEvent\": \"custom.exercise_interaction\", \"data\": {\"outcomeType\": 1, \"valueTowardsCompletion\": 0.3333333333333333, \"interactionType\": 1, \"questionType\": 2, \"questionId\": \"2_Q2\", \"learnToolsVersion\": \"0.3.4\", \"failureMessage\": \"\", \"exceptionClass\": \"\", \"trace\": \"\"}}, \"*\")"
      ],
      "text/plain": [
       "<IPython.core.display.Javascript object>"
      ]
     },
     "metadata": {},
     "output_type": "display_data"
    },
    {
     "data": {
      "text/markdown": [
       "<span style=\"color:#33cc33\">Correct</span>"
      ],
      "text/plain": [
       "Correct"
      ]
     },
     "metadata": {},
     "output_type": "display_data"
    }
   ],
   "source": [
    "# YOUR CODE HERE: Create the MEstimateEncoder\n",
    "# Choose a set of features to encode and a value for m\n",
    "encoder = MEstimateEncoder(cols=['Neighborhood','Exterior2nd','MSSubClass','Exterior1st'], m=5.0)\n",
    "\n",
    "\n",
    "# Fit the encoder on the encoding split\n",
    "encoder.fit(X_encode, y_encode)\n",
    "\n",
    "# Encode the training split\n",
    "X_train = encoder.transform(X_pretrain, y_train)\n",
    "\n",
    "\n",
    "# Check your answer\n",
    "q_2.check()"
   ]
  },
  {
   "cell_type": "code",
   "execution_count": 7,
   "id": "a1ba2cb4",
   "metadata": {
    "execution": {
     "iopub.execute_input": "2022-09-24T20:07:05.944292Z",
     "iopub.status.busy": "2022-09-24T20:07:05.943793Z",
     "iopub.status.idle": "2022-09-24T20:07:05.948725Z",
     "shell.execute_reply": "2022-09-24T20:07:05.947662Z"
    },
    "lines_to_next_cell": 0,
    "papermill": {
     "duration": 0.015476,
     "end_time": "2022-09-24T20:07:05.951179",
     "exception": false,
     "start_time": "2022-09-24T20:07:05.935703",
     "status": "completed"
    },
    "tags": []
   },
   "outputs": [],
   "source": [
    "# Lines below will give you a hint or solution code\n",
    "#q_2.hint()\n",
    "#q_2.solution()"
   ]
  },
  {
   "cell_type": "markdown",
   "id": "83333a36",
   "metadata": {
    "papermill": {
     "duration": 0.006903,
     "end_time": "2022-09-24T20:07:05.965859",
     "exception": false,
     "start_time": "2022-09-24T20:07:05.958956",
     "status": "completed"
    },
    "tags": []
   },
   "source": [
    "If you'd like to see how the encoded feature compares to the target, you can run this cell:"
   ]
  },
  {
   "cell_type": "code",
   "execution_count": 8,
   "id": "50845a5f",
   "metadata": {
    "execution": {
     "iopub.execute_input": "2022-09-24T20:07:05.981675Z",
     "iopub.status.busy": "2022-09-24T20:07:05.981269Z",
     "iopub.status.idle": "2022-09-24T20:07:06.344512Z",
     "shell.execute_reply": "2022-09-24T20:07:06.343402Z"
    },
    "papermill": {
     "duration": 0.374264,
     "end_time": "2022-09-24T20:07:06.347400",
     "exception": false,
     "start_time": "2022-09-24T20:07:05.973136",
     "status": "completed"
    },
    "tags": []
   },
   "outputs": [
    {
     "data": {
      "image/png": "[encoded data removed]",
      "text/plain": [
       "<Figure size 540x360 with 1 Axes>"
      ]
     },
     "metadata": {},
     "output_type": "display_data"
    }
   ],
   "source": [
    "feature = encoder.cols\n",
    "\n",
    "plt.figure(dpi=90)\n",
    "ax = sns.distplot(y_train, kde=True, hist=False)\n",
    "ax = sns.distplot(X_train[feature], color='r', ax=ax, hist=True, kde=False, norm_hist=True)\n",
    "ax.set_xlabel(\"SalePrice\");"
   ]
  },
  {
   "cell_type": "markdown",
   "id": "a5d93d39",
   "metadata": {
    "papermill": {
     "duration": 0.006948,
     "end_time": "2022-09-24T20:07:06.361553",
     "exception": false,
     "start_time": "2022-09-24T20:07:06.354605",
     "status": "completed"
    },
    "tags": []
   },
   "source": [
    "From the distribution plots, does it seem like the encoding is informative?\n",
    "\n",
    "And this cell will show you the score of the encoded set compared to the original set:"
   ]
  },
  {
   "cell_type": "code",
   "execution_count": 9,
   "id": "ae9a8de5",
   "metadata": {
    "execution": {
     "iopub.execute_input": "2022-09-24T20:07:06.377506Z",
     "iopub.status.busy": "2022-09-24T20:07:06.377102Z",
     "iopub.status.idle": "2022-09-24T20:07:14.657996Z",
     "shell.execute_reply": "2022-09-24T20:07:14.656879Z"
    },
    "papermill": {
     "duration": 8.29168,
     "end_time": "2022-09-24T20:07:14.660419",
     "exception": false,
     "start_time": "2022-09-24T20:07:06.368739",
     "status": "completed"
    },
    "tags": []
   },
   "outputs": [
    {
     "name": "stdout",
     "output_type": "stream",
     "text": [
      "Baseline Score: 0.1428 RMSLE\n",
      "Score with Encoding: 0.1421 RMSLE\n"
     ]
    }
   ],
   "source": [
    "X = df.copy()\n",
    "y = X.pop(\"SalePrice\")\n",
    "score_base = score_dataset(X, y)\n",
    "score_new = score_dataset(X_train, y_train)\n",
    "\n",
    "print(f\"Baseline Score: {score_base:.4f} RMSLE\")\n",
    "print(f\"Score with Encoding: {score_new:.4f} RMSLE\")"
   ]
  },
  {
   "cell_type": "markdown",
   "id": "81cc1e41",
   "metadata": {
    "papermill": {
     "duration": 0.007118,
     "end_time": "2022-09-24T20:07:14.676074",
     "exception": false,
     "start_time": "2022-09-24T20:07:14.668956",
     "status": "completed"
    },
    "tags": []
   },
   "source": [
    "Do you think that target encoding was worthwhile in this case? Depending on which feature or features you chose, you may have ended up with a score significantly worse than the baseline. In that case, it's likely the extra information gained by the encoding couldn't make up for the loss of data used for the encoding."
   ]
  },
  {
   "cell_type": "markdown",
   "id": "ce9a5b66",
   "metadata": {
    "papermill": {
     "duration": 0.006736,
     "end_time": "2022-09-24T20:07:14.689823",
     "exception": false,
     "start_time": "2022-09-24T20:07:14.683087",
     "status": "completed"
    },
    "tags": []
   },
   "source": [
    "-------------------------------------------------------------------------------\n",
    "\n",
    "In this question, you'll explore the problem of overfitting with target encodings. This will illustrate this importance of training fitting target encoders on data held-out from the training set.\n",
    "\n",
    "So let's see what happens when we fit the encoder and the model on the *same* dataset. To emphasize how dramatic the overfitting can be, we'll mean-encode a feature that should have no relationship with `SalePrice`, a count: `0, 1, 2, 3, 4, 5, ...`."
   ]
  },
  {
   "cell_type": "code",
   "execution_count": 10,
   "id": "67906ff5",
   "metadata": {
    "execution": {
     "iopub.execute_input": "2022-09-24T20:07:14.707007Z",
     "iopub.status.busy": "2022-09-24T20:07:14.706604Z",
     "iopub.status.idle": "2022-09-24T20:07:19.099420Z",
     "shell.execute_reply": "2022-09-24T20:07:19.098357Z"
    },
    "papermill": {
     "duration": 4.404575,
     "end_time": "2022-09-24T20:07:19.102201",
     "exception": false,
     "start_time": "2022-09-24T20:07:14.697626",
     "status": "completed"
    },
    "tags": []
   },
   "outputs": [
    {
     "name": "stdout",
     "output_type": "stream",
     "text": [
      "Score: 0.0291 RMSLE\n"
     ]
    }
   ],
   "source": [
    "# Try experimenting with the smoothing parameter m\n",
    "# Try 0, 1, 5, 50\n",
    "m = 5\n",
    "\n",
    "X = df.copy()\n",
    "y = X.pop('SalePrice')\n",
    "\n",
    "# Create an uninformative feature\n",
    "X[\"Count\"] = range(len(X))\n",
    "X[\"Count\"][1] = 0  # actually need one duplicate value to circumvent error-checking in MEstimateEncoder\n",
    "\n",
    "# fit and transform on the same dataset\n",
    "encoder = MEstimateEncoder(cols=\"Count\", m=m)\n",
    "X = encoder.fit_transform(X, y)\n",
    "\n",
    "# Results\n",
    "score =  score_dataset(X, y)\n",
    "print(f\"Score: {score:.4f} RMSLE\")"
   ]
  },
  {
   "cell_type": "markdown",
   "id": "fbc449b6",
   "metadata": {
    "papermill": {
     "duration": 0.007842,
     "end_time": "2022-09-24T20:07:19.120054",
     "exception": false,
     "start_time": "2022-09-24T20:07:19.112212",
     "status": "completed"
    },
    "tags": []
   },
   "source": [
    "Almost a perfect score!"
   ]
  },
  {
   "cell_type": "code",
   "execution_count": 11,
   "id": "f1e5ee54",
   "metadata": {
    "execution": {
     "iopub.execute_input": "2022-09-24T20:07:19.136708Z",
     "iopub.status.busy": "2022-09-24T20:07:19.136304Z",
     "iopub.status.idle": "2022-09-24T20:07:19.451697Z",
     "shell.execute_reply": "2022-09-24T20:07:19.450661Z"
    },
    "papermill": {
     "duration": 0.326701,
     "end_time": "2022-09-24T20:07:19.454047",
     "exception": false,
     "start_time": "2022-09-24T20:07:19.127346",
     "status": "completed"
    },
    "tags": []
   },
   "outputs": [
    {
     "data": {
      "image/png": "[encoded data removed]",
      "text/plain": [
       "<Figure size 540x360 with 1 Axes>"
      ]
     },
     "metadata": {},
     "output_type": "display_data"
    }
   ],
   "source": [
    "plt.figure(dpi=90)\n",
    "ax = sns.distplot(y, kde=True, hist=False)\n",
    "ax = sns.distplot(X[\"Count\"], color='r', ax=ax, hist=True, kde=False, norm_hist=True)\n",
    "ax.set_xlabel(\"SalePrice\");"
   ]
  },
  {
   "cell_type": "markdown",
   "id": "6b52cd51",
   "metadata": {
    "papermill": {
     "duration": 0.007227,
     "end_time": "2022-09-24T20:07:19.468900",
     "exception": false,
     "start_time": "2022-09-24T20:07:19.461673",
     "status": "completed"
    },
    "tags": []
   },
   "source": [
    "And the distributions are almost exactly the same, too.\n",
    "\n",
    "# 3) Overfitting with Target Encoders\n",
    "\n",
    "Based on your understanding of how mean-encoding works, can you explain how XGBoost was able to get an almost a perfect fit after mean-encoding the count feature?"
   ]
  },
  {
   "cell_type": "code",
   "execution_count": 12,
   "id": "506a7afd",
   "metadata": {
    "execution": {
     "iopub.execute_input": "2022-09-24T20:07:19.485987Z",
     "iopub.status.busy": "2022-09-24T20:07:19.485553Z",
     "iopub.status.idle": "2022-09-24T20:07:19.495005Z",
     "shell.execute_reply": "2022-09-24T20:07:19.493899Z"
    },
    "lines_to_next_cell": 0,
    "papermill": {
     "duration": 0.020825,
     "end_time": "2022-09-24T20:07:19.497222",
     "exception": false,
     "start_time": "2022-09-24T20:07:19.476397",
     "status": "completed"
    },
    "tags": []
   },
   "outputs": [
    {
     "data": {
      "application/javascript": [
       "parent.postMessage({\"jupyterEvent\": \"custom.exercise_interaction\", \"data\": {\"outcomeType\": 1, \"valueTowardsCompletion\": 0.3333333333333333, \"interactionType\": 1, \"questionType\": 4, \"questionId\": \"3_Q3\", \"learnToolsVersion\": \"0.3.4\", \"failureMessage\": \"\", \"exceptionClass\": \"\", \"trace\": \"\"}}, \"*\")"
      ],
      "text/plain": [
       "<IPython.core.display.Javascript object>"
      ]
     },
     "metadata": {},
     "output_type": "display_data"
    },
    {
     "data": {
      "text/markdown": [
       "<span style=\"color:#33cc33\">Correct:</span> \n",
       "\n",
       "\n",
       "Since `Count` never has any duplicate values, the mean-encoded `Count` is essentially an exact copy of the target. In other words, mean-encoding turned a completely meaningless feature into a perfect feature.\n",
       "\n",
       "Now, the only reason this worked is because we trained XGBoost on the same set we used to train the encoder. If we had used a hold-out set instead, none of this \"fake\" encoding would have transferred to the training data.\n",
       "\n",
       "The lesson is that when using a target encoder it's very important to use separate data sets for training the encoder and training the model. Otherwise the results can be very disappointing!\n"
      ],
      "text/plain": [
       "Correct: \n",
       "\n",
       "\n",
       "Since `Count` never has any duplicate values, the mean-encoded `Count` is essentially an exact copy of the target. In other words, mean-encoding turned a completely meaningless feature into a perfect feature.\n",
       "\n",
       "Now, the only reason this worked is because we trained XGBoost on the same set we used to train the encoder. If we had used a hold-out set instead, none of this \"fake\" encoding would have transferred to the training data.\n",
       "\n",
       "The lesson is that when using a target encoder it's very important to use separate data sets for training the encoder and training the model. Otherwise the results can be very disappointing!"
      ]
     },
     "metadata": {},
     "output_type": "display_data"
    }
   ],
   "source": [
    "# View the solution (Run this cell to receive credit!)\n",
    "q_3.check()"
   ]
  },
  {
   "cell_type": "code",
   "execution_count": 13,
   "id": "55ad4943",
   "metadata": {
    "execution": {
     "iopub.execute_input": "2022-09-24T20:07:19.514824Z",
     "iopub.status.busy": "2022-09-24T20:07:19.514060Z",
     "iopub.status.idle": "2022-09-24T20:07:19.518648Z",
     "shell.execute_reply": "2022-09-24T20:07:19.517803Z"
    },
    "papermill": {
     "duration": 0.015652,
     "end_time": "2022-09-24T20:07:19.520663",
     "exception": false,
     "start_time": "2022-09-24T20:07:19.505011",
     "status": "completed"
    },
    "tags": []
   },
   "outputs": [],
   "source": [
    "# Uncomment this if you'd like a hint before seeing the answer\n",
    "#q_3.hint()"
   ]
  },
  {
   "cell_type": "markdown",
   "id": "b1f88d74",
   "metadata": {
    "papermill": {
     "duration": 0.007619,
     "end_time": "2022-09-24T20:07:19.536608",
     "exception": false,
     "start_time": "2022-09-24T20:07:19.528989",
     "status": "completed"
    },
    "tags": []
   },
   "source": [
    "# The End #\n",
    "\n",
    "That's it for *Feature Engineering*! We hope you enjoyed your time with us.\n",
    "\n",
    "Now, are you ready to try out your new skills? Now would be a great time to join our [Housing Prices](https://www.kaggle.com/c/house-prices-advanced-regression-techniques) Getting Started competition. We've even prepared a [Bonus Lesson](https://www.kaggle.com/ryanholbrook/feature-engineering-for-house-prices) that collects all the work we've done together into a starter notebook.\n",
    "\n",
    "# References #\n",
    "Here are some great resources you might like to consult for more information. They all played a part in shaping this course:\n",
    "- *The Art of Feature Engineering*, a book by Pablo Duboue.\n",
    "- *An Empirical Analysis of Feature Engineering for Predictive Modeling*, an article by Jeff Heaton.\n",
    "- *Feature Engineering for Machine Learning*, a book by Alice Zheng and Amanda Casari. The tutorial on clustering was inspired by this excellent book.\n",
    "- *Feature Engineering and Selection*, a book by Max Kuhn and Kjell Johnson."
   ]
  },
  {
   "cell_type": "markdown",
   "id": "847c1c04",
   "metadata": {
    "papermill": {
     "duration": 0.007676,
     "end_time": "2022-09-24T20:07:19.552085",
     "exception": false,
     "start_time": "2022-09-24T20:07:19.544409",
     "status": "completed"
    },
    "tags": []
   },
   "source": [
    "---\n",
    "\n",
    "\n",
    "\n",
    "\n",
    "*Have questions or comments? Visit the [course discussion forum](https://www.kaggle.com/learn/feature-engineering/discussion) to chat with other learners.*"
   ]
  }
 ],
 "metadata": {
  "kernelspec": {
   "display_name": "Python 3",
   "language": "python",
   "name": "python3"
  },
  "language_info": {
   "codemirror_mode": {
    "name": "ipython",
    "version": 3
   },
   "file_extension": ".py",
   "mimetype": "text/x-python",
   "name": "python",
   "nbconvert_exporter": "python",
   "pygments_lexer": "ipython3",
   "version": "3.7.12"
  },
  "papermill": {
   "default_parameters": {},
   "duration": 25.906951,
   "end_time": "2022-09-24T20:07:20.382757",
   "environment_variables": {},
   "exception": null,
   "input_path": "__notebook__.ipynb",
   "output_path": "__notebook__.ipynb",
   "parameters": {},
   "start_time": "2022-09-24T20:06:54.475806",
   "version": "2.3.4"
  }
 },
 "nbformat": 4,
 "nbformat_minor": 5
}
