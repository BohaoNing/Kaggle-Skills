{
 "cells": [
  {
   "cell_type": "markdown",
   "id": "343c8bdf",
   "metadata": {
    "papermill": {
     "duration": 0.007701,
     "end_time": "2022-07-30T15:46:51.408483",
     "exception": false,
     "start_time": "2022-07-30T15:46:51.400782",
     "status": "completed"
    },
    "tags": []
   },
   "source": [
    "**This notebook is an exercise in the [Feature Engineering](https://www.kaggle.com/learn/feature-engineering) course.  You can reference the tutorial at [this link](https://www.kaggle.com/ryanholbrook/target-encoding).**\n",
    "\n",
    "---\n"
   ]
  },
  {
   "cell_type": "markdown",
   "id": "29b4f351",
   "metadata": {
    "papermill": {
     "duration": 0.005881,
     "end_time": "2022-07-30T15:46:51.421001",
     "exception": false,
     "start_time": "2022-07-30T15:46:51.415120",
     "status": "completed"
    },
    "tags": []
   },
   "source": [
    "# Introduction #\n",
    "\n",
    "In this exercise, you'll apply target encoding to features in the [*Ames*](https://www.kaggle.com/c/house-prices-advanced-regression-techniques/data) dataset.\n",
    "\n",
    "Run this cell to set everything up!"
   ]
  },
  {
   "cell_type": "code",
   "execution_count": 1,
   "id": "c02a350a",
   "metadata": {
    "execution": {
     "iopub.execute_input": "2022-07-30T15:46:51.435961Z",
     "iopub.status.busy": "2022-07-30T15:46:51.435547Z",
     "iopub.status.idle": "2022-07-30T15:46:53.193269Z",
     "shell.execute_reply": "2022-07-30T15:46:53.192277Z"
    },
    "papermill": {
     "duration": 1.768634,
     "end_time": "2022-07-30T15:46:53.196042",
     "exception": false,
     "start_time": "2022-07-30T15:46:51.427408",
     "status": "completed"
    },
    "tags": []
   },
   "outputs": [],
   "source": [
    "# Setup feedback system\n",
    "from learntools.core import binder\n",
    "binder.bind(globals())\n",
    "from learntools.feature_engineering_new.ex6 import *\n",
    "\n",
    "import matplotlib.pyplot as plt\n",
    "import numpy as np\n",
    "import pandas as pd\n",
    "import seaborn as sns\n",
    "import warnings\n",
    "from category_encoders import MEstimateEncoder\n",
    "from sklearn.model_selection import cross_val_score\n",
    "from xgboost import XGBRegressor\n",
    "\n",
    "# Set Matplotlib defaults\n",
    "plt.style.use(\"seaborn-whitegrid\")\n",
    "plt.rc(\"figure\", autolayout=True)\n",
    "plt.rc(\n",
    "    \"axes\",\n",
    "    labelweight=\"bold\",\n",
    "    labelsize=\"large\",\n",
    "    titleweight=\"bold\",\n",
    "    titlesize=14,\n",
    "    titlepad=10,\n",
    ")\n",
    "warnings.filterwarnings('ignore')\n",
    "\n",
    "\n",
    "def score_dataset(X, y, model=XGBRegressor()):\n",
    "    # Label encoding for categoricals\n",
    "    for colname in X.select_dtypes([\"category\", \"object\"]):\n",
    "        X[colname], _ = X[colname].factorize()\n",
    "    # Metric for Housing competition is RMSLE (Root Mean Squared Log Error)\n",
    "    score = cross_val_score(\n",
    "        model, X, y, cv=5, scoring=\"neg_mean_squared_log_error\",\n",
    "    )\n",
    "    score = -1 * score.mean()\n",
    "    score = np.sqrt(score)\n",
    "    return score\n",
    "\n",
    "\n",
    "df = pd.read_csv(\"../input/fe-course-data/ames.csv\")"
   ]
  },
  {
   "cell_type": "markdown",
   "id": "2f06717e",
   "metadata": {
    "papermill": {
     "duration": 0.006375,
     "end_time": "2022-07-30T15:46:53.209051",
     "exception": false,
     "start_time": "2022-07-30T15:46:53.202676",
     "status": "completed"
    },
    "tags": []
   },
   "source": [
    "-------------------------------------------------------------------------------\n",
    "\n",
    "First you'll need to choose which features you want to apply a target encoding to. Categorical features with a large number of categories are often good candidates. Run this cell to see how many categories each categorical feature in the *Ames* dataset has."
   ]
  },
  {
   "cell_type": "code",
   "execution_count": 2,
   "id": "24b34c00",
   "metadata": {
    "execution": {
     "iopub.execute_input": "2022-07-30T15:46:53.223958Z",
     "iopub.status.busy": "2022-07-30T15:46:53.223079Z",
     "iopub.status.idle": "2022-07-30T15:46:53.259984Z",
     "shell.execute_reply": "2022-07-30T15:46:53.258747Z"
    },
    "papermill": {
     "duration": 0.047015,
     "end_time": "2022-07-30T15:46:53.262430",
     "exception": false,
     "start_time": "2022-07-30T15:46:53.215415",
     "status": "completed"
    },
    "tags": []
   },
   "outputs": [
    {
     "data": {
      "text/plain": [
       "Street            2\n",
       "CentralAir        2\n",
       "Alley             3\n",
       "Utilities         3\n",
       "LandSlope         3\n",
       "PavedDrive        3\n",
       "LotShape          4\n",
       "LandContour       4\n",
       "ExterQual         4\n",
       "GarageFinish      4\n",
       "ExterCond         5\n",
       "HeatingQC         5\n",
       "MasVnrType        5\n",
       "KitchenQual       5\n",
       "BldgType          5\n",
       "PoolQC            5\n",
       "Fence             5\n",
       "LotConfig         5\n",
       "BsmtExposure      5\n",
       "GarageCond        6\n",
       "FireplaceQu       6\n",
       "Heating           6\n",
       "Electrical        6\n",
       "MiscFeature       6\n",
       "GarageQual        6\n",
       "SaleCondition     6\n",
       "BsmtQual          6\n",
       "BsmtCond          6\n",
       "Foundation        6\n",
       "RoofStyle         6\n",
       "BsmtFinType1      7\n",
       "GarageType        7\n",
       "MSZoning          7\n",
       "BsmtFinType2      7\n",
       "RoofMatl          8\n",
       "Functional        8\n",
       "HouseStyle        8\n",
       "Condition2        8\n",
       "OverallCond       9\n",
       "Condition1        9\n",
       "SaleType         10\n",
       "OverallQual      10\n",
       "Exterior1st      16\n",
       "MSSubClass       16\n",
       "Exterior2nd      17\n",
       "Neighborhood     28\n",
       "dtype: int64"
      ]
     },
     "execution_count": 2,
     "metadata": {},
     "output_type": "execute_result"
    }
   ],
   "source": [
    "df.select_dtypes([\"object\"]).nunique().sort_values()"
   ]
  },
  {
   "cell_type": "markdown",
   "id": "39b57887",
   "metadata": {
    "papermill": {
     "duration": 0.006629,
     "end_time": "2022-07-30T15:46:53.275985",
     "exception": false,
     "start_time": "2022-07-30T15:46:53.269356",
     "status": "completed"
    },
    "tags": []
   },
   "source": [
    "We talked about how the M-estimate encoding uses smoothing to improve estimates for rare categories. To see how many times a category occurs in the dataset, you can use the `value_counts` method. This cell shows the counts for `SaleType`, but you might want to consider others as well."
   ]
  },
  {
   "cell_type": "code",
   "execution_count": 3,
   "id": "25d1e417",
   "metadata": {
    "execution": {
     "iopub.execute_input": "2022-07-30T15:46:53.291028Z",
     "iopub.status.busy": "2022-07-30T15:46:53.290599Z",
     "iopub.status.idle": "2022-07-30T15:46:53.301783Z",
     "shell.execute_reply": "2022-07-30T15:46:53.301062Z"
    },
    "papermill": {
     "duration": 0.021077,
     "end_time": "2022-07-30T15:46:53.303678",
     "exception": false,
     "start_time": "2022-07-30T15:46:53.282601",
     "status": "completed"
    },
    "tags": []
   },
   "outputs": [
    {
     "data": {
      "text/plain": [
       "Average           825\n",
       "Above_Average     732\n",
       "Good              602\n",
       "Very_Good         350\n",
       "Below_Average     226\n",
       "Excellent         107\n",
       "Fair               40\n",
       "Very_Excellent     31\n",
       "Poor               13\n",
       "Very_Poor           4\n",
       "Name: OverallQual, dtype: int64"
      ]
     },
     "execution_count": 3,
     "metadata": {},
     "output_type": "execute_result"
    }
   ],
   "source": [
    "df[\"OverallQual\"].value_counts()"
   ]
  },
  {
   "cell_type": "markdown",
   "id": "df82f470",
   "metadata": {
    "papermill": {
     "duration": 0.006418,
     "end_time": "2022-07-30T15:46:53.316615",
     "exception": false,
     "start_time": "2022-07-30T15:46:53.310197",
     "status": "completed"
    },
    "tags": []
   },
   "source": [
    "# 1) Choose Features for Encoding\n",
    "\n",
    "Which features did you identify for target encoding? After you've thought about your answer, run the next cell for some discussion."
   ]
  },
  {
   "cell_type": "code",
   "execution_count": 4,
   "id": "07f51d6b",
   "metadata": {
    "execution": {
     "iopub.execute_input": "2022-07-30T15:46:53.331316Z",
     "iopub.status.busy": "2022-07-30T15:46:53.330686Z",
     "iopub.status.idle": "2022-07-30T15:46:53.338535Z",
     "shell.execute_reply": "2022-07-30T15:46:53.337572Z"
    },
    "papermill": {
     "duration": 0.017541,
     "end_time": "2022-07-30T15:46:53.340633",
     "exception": false,
     "start_time": "2022-07-30T15:46:53.323092",
     "status": "completed"
    },
    "tags": []
   },
   "outputs": [
    {
     "data": {
      "application/javascript": [
       "parent.postMessage({\"jupyterEvent\": \"custom.exercise_interaction\", \"data\": {\"outcomeType\": 1, \"valueTowardsCompletion\": 0.3333333333333333, \"interactionType\": 1, \"questionType\": 4, \"questionId\": \"1_Q1\", \"learnToolsVersion\": \"0.3.4\", \"failureMessage\": \"\", \"exceptionClass\": \"\", \"trace\": \"\"}}, \"*\")"
      ],
      "text/plain": [
       "<IPython.core.display.Javascript object>"
      ]
     },
     "metadata": {},
     "output_type": "display_data"
    },
    {
     "data": {
      "text/markdown": [
       "<span style=\"color:#33cc33\">Correct:</span> \n",
       "\n",
       " The `Neighborhood` feature looks promising. It has the most categories of any feature, and several categories are rare. Others that could be worth considering are `SaleType`, `MSSubClass`, `Exterior1st`, `Exterior2nd`. In fact, almost any of the nominal features would be worth trying because of the prevalence of rare categories."
      ],
      "text/plain": [
       "Correct: \n",
       "\n",
       " The `Neighborhood` feature looks promising. It has the most categories of any feature, and several categories are rare. Others that could be worth considering are `SaleType`, `MSSubClass`, `Exterior1st`, `Exterior2nd`. In fact, almost any of the nominal features would be worth trying because of the prevalence of rare categories."
      ]
     },
     "metadata": {},
     "output_type": "display_data"
    }
   ],
   "source": [
    "# View the solution (Run this cell to receive credit!)\n",
    "q_1.check()"
   ]
  },
  {
   "cell_type": "markdown",
   "id": "409adf05",
   "metadata": {
    "papermill": {
     "duration": 0.006767,
     "end_time": "2022-07-30T15:46:53.354516",
     "exception": false,
     "start_time": "2022-07-30T15:46:53.347749",
     "status": "completed"
    },
    "tags": []
   },
   "source": [
    "-------------------------------------------------------------------------------\n",
    "\n",
    "Now you'll apply a target encoding to your choice of feature. As we discussed in the tutorial, to avoid overfitting, we need to fit the encoder on data heldout from the training set. Run this cell to create the encoding and training splits:"
   ]
  },
  {
   "cell_type": "code",
   "execution_count": 5,
   "id": "4565b0fa",
   "metadata": {
    "execution": {
     "iopub.execute_input": "2022-07-30T15:46:53.369985Z",
     "iopub.status.busy": "2022-07-30T15:46:53.369218Z",
     "iopub.status.idle": "2022-07-30T15:46:53.382503Z",
     "shell.execute_reply": "2022-07-30T15:46:53.381412Z"
    },
    "lines_to_next_cell": 2,
    "papermill": {
     "duration": 0.023613,
     "end_time": "2022-07-30T15:46:53.384728",
     "exception": false,
     "start_time": "2022-07-30T15:46:53.361115",
     "status": "completed"
    },
    "tags": []
   },
   "outputs": [],
   "source": [
    "# Encoding split\n",
    "X_encode = df.sample(frac=0.20, random_state=0)\n",
    "y_encode = X_encode.pop(\"SalePrice\")\n",
    "\n",
    "# Training split\n",
    "X_pretrain = df.drop(X_encode.index)\n",
    "y_train = X_pretrain.pop(\"SalePrice\")"
   ]
  },
  {
   "cell_type": "markdown",
   "id": "6de0e337",
   "metadata": {
    "papermill": {
     "duration": 0.00672,
     "end_time": "2022-07-30T15:46:53.398508",
     "exception": false,
     "start_time": "2022-07-30T15:46:53.391788",
     "status": "completed"
    },
    "tags": []
   },
   "source": [
    "# 2) Apply M-Estimate Encoding\n",
    "\n",
    "Apply a target encoding to your choice of categorical features. Also choose a value for the smoothing parameter `m` (any value is okay for a correct answer)."
   ]
  },
  {
   "cell_type": "code",
   "execution_count": 6,
   "id": "17546a6d",
   "metadata": {
    "execution": {
     "iopub.execute_input": "2022-07-30T15:46:53.413973Z",
     "iopub.status.busy": "2022-07-30T15:46:53.413590Z",
     "iopub.status.idle": "2022-07-30T15:46:53.564244Z",
     "shell.execute_reply": "2022-07-30T15:46:53.563556Z"
    },
    "lines_to_next_cell": 0,
    "papermill": {
     "duration": 0.162447,
     "end_time": "2022-07-30T15:46:53.567741",
     "exception": false,
     "start_time": "2022-07-30T15:46:53.405294",
     "status": "completed"
    },
    "tags": []
   },
   "outputs": [
    {
     "data": {
      "application/javascript": [
       "parent.postMessage({\"jupyterEvent\": \"custom.exercise_interaction\", \"data\": {\"outcomeType\": 1, \"valueTowardsCompletion\": 0.3333333333333333, \"interactionType\": 1, \"questionType\": 2, \"questionId\": \"2_Q2\", \"learnToolsVersion\": \"0.3.4\", \"failureMessage\": \"\", \"exceptionClass\": \"\", \"trace\": \"\"}}, \"*\")"
      ],
      "text/plain": [
       "<IPython.core.display.Javascript object>"
      ]
     },
     "metadata": {},
     "output_type": "display_data"
    },
    {
     "data": {
      "text/markdown": [
       "<span style=\"color:#33cc33\">Correct</span>"
      ],
      "text/plain": [
       "Correct"
      ]
     },
     "metadata": {},
     "output_type": "display_data"
    }
   ],
   "source": [
    "# YOUR CODE HERE: Create the MEstimateEncoder\n",
    "# Choose a set of features to encode and a value for m\n",
    "encoder = MEstimateEncoder(cols=['Neighborhood','Exterior2nd','MSSubClass','Exterior1st'], m=5.0)\n",
    "\n",
    "\n",
    "# Fit the encoder on the encoding split\n",
    "encoder.fit(X_encode, y_encode)\n",
    "\n",
    "# Encode the training split\n",
    "X_train = encoder.transform(X_pretrain, y_train)\n",
    "\n",
    "\n",
    "# Check your answer\n",
    "q_2.check()"
   ]
  },
  {
   "cell_type": "code",
   "execution_count": 7,
   "id": "d62c5e00",
   "metadata": {
    "execution": {
     "iopub.execute_input": "2022-07-30T15:46:53.584486Z",
     "iopub.status.busy": "2022-07-30T15:46:53.583642Z",
     "iopub.status.idle": "2022-07-30T15:46:53.587881Z",
     "shell.execute_reply": "2022-07-30T15:46:53.586979Z"
    },
    "lines_to_next_cell": 0,
    "papermill": {
     "duration": 0.015136,
     "end_time": "2022-07-30T15:46:53.589902",
     "exception": false,
     "start_time": "2022-07-30T15:46:53.574766",
     "status": "completed"
    },
    "tags": []
   },
   "outputs": [],
   "source": [
    "# Lines below will give you a hint or solution code\n",
    "#q_2.hint()\n",
    "#q_2.solution()"
   ]
  },
  {
   "cell_type": "markdown",
   "id": "ee31070a",
   "metadata": {
    "papermill": {
     "duration": 0.007288,
     "end_time": "2022-07-30T15:46:53.604288",
     "exception": false,
     "start_time": "2022-07-30T15:46:53.597000",
     "status": "completed"
    },
    "tags": []
   },
   "source": [
    "If you'd like to see how the encoded feature compares to the target, you can run this cell:"
   ]
  },
  {
   "cell_type": "code",
   "execution_count": 8,
   "id": "70d55cf4",
   "metadata": {
    "execution": {
     "iopub.execute_input": "2022-07-30T15:46:53.620777Z",
     "iopub.status.busy": "2022-07-30T15:46:53.620414Z",
     "iopub.status.idle": "2022-07-30T15:46:54.004709Z",
     "shell.execute_reply": "2022-07-30T15:46:54.003751Z"
    },
    "papermill": {
     "duration": 0.395693,
     "end_time": "2022-07-30T15:46:54.007414",
     "exception": false,
     "start_time": "2022-07-30T15:46:53.611721",
     "status": "completed"
    },
    "tags": []
   },
   "outputs": [
    {
     "data": {
      "image/png": "[encoded data removed]",
      "text/plain": [
       "<Figure size 540x360 with 1 Axes>"
      ]
     },
     "metadata": {},
     "output_type": "display_data"
    }
   ],
   "source": [
    "feature = encoder.cols\n",
    "\n",
    "plt.figure(dpi=90)\n",
    "ax = sns.distplot(y_train, kde=True, hist=False)\n",
    "ax = sns.distplot(X_train[feature], color='r', ax=ax, hist=True, kde=False, norm_hist=True)\n",
    "ax.set_xlabel(\"SalePrice\");"
   ]
  },
  {
   "cell_type": "markdown",
   "id": "5449dca9",
   "metadata": {
    "papermill": {
     "duration": 0.00777,
     "end_time": "2022-07-30T15:46:54.023152",
     "exception": false,
     "start_time": "2022-07-30T15:46:54.015382",
     "status": "completed"
    },
    "tags": []
   },
   "source": [
    "From the distribution plots, does it seem like the encoding is informative?\n",
    "\n",
    "And this cell will show you the score of the encoded set compared to the original set:"
   ]
  },
  {
   "cell_type": "code",
   "execution_count": 9,
   "id": "6a7832c2",
   "metadata": {
    "execution": {
     "iopub.execute_input": "2022-07-30T15:46:54.040684Z",
     "iopub.status.busy": "2022-07-30T15:46:54.039931Z",
     "iopub.status.idle": "2022-07-30T15:47:01.337435Z",
     "shell.execute_reply": "2022-07-30T15:47:01.335777Z"
    },
    "papermill": {
     "duration": 7.309649,
     "end_time": "2022-07-30T15:47:01.340683",
     "exception": false,
     "start_time": "2022-07-30T15:46:54.031034",
     "status": "completed"
    },
    "tags": []
   },
   "outputs": [
    {
     "name": "stdout",
     "output_type": "stream",
     "text": [
      "Baseline Score: 0.1428 RMSLE\n",
      "Score with Encoding: 0.1421 RMSLE\n"
     ]
    }
   ],
   "source": [
    "X = df.copy()\n",
    "y = X.pop(\"SalePrice\")\n",
    "score_base = score_dataset(X, y)\n",
    "score_new = score_dataset(X_train, y_train)\n",
    "\n",
    "print(f\"Baseline Score: {score_base:.4f} RMSLE\")\n",
    "print(f\"Score with Encoding: {score_new:.4f} RMSLE\")"
   ]
  },
  {
   "cell_type": "markdown",
   "id": "bac39c93",
   "metadata": {
    "papermill": {
     "duration": 0.007849,
     "end_time": "2022-07-30T15:47:01.357732",
     "exception": false,
     "start_time": "2022-07-30T15:47:01.349883",
     "status": "completed"
    },
    "tags": []
   },
   "source": [
    "Do you think that target encoding was worthwhile in this case? Depending on which feature or features you chose, you may have ended up with a score significantly worse than the baseline. In that case, it's likely the extra information gained by the encoding couldn't make up for the loss of data used for the encoding."
   ]
  },
  {
   "cell_type": "markdown",
   "id": "2fad5b20",
   "metadata": {
    "papermill": {
     "duration": 0.007848,
     "end_time": "2022-07-30T15:47:01.373446",
     "exception": false,
     "start_time": "2022-07-30T15:47:01.365598",
     "status": "completed"
    },
    "tags": []
   },
   "source": [
    "-------------------------------------------------------------------------------\n",
    "\n",
    "In this question, you'll explore the problem of overfitting with target encodings. This will illustrate this importance of training fitting target encoders on data held-out from the training set.\n",
    "\n",
    "So let's see what happens when we fit the encoder and the model on the *same* dataset. To emphasize how dramatic the overfitting can be, we'll mean-encode a feature that should have no relationship with `SalePrice`, a count: `0, 1, 2, 3, 4, 5, ...`."
   ]
  },
  {
   "cell_type": "code",
   "execution_count": 10,
   "id": "ab97b2f0",
   "metadata": {
    "execution": {
     "iopub.execute_input": "2022-07-30T15:47:01.391837Z",
     "iopub.status.busy": "2022-07-30T15:47:01.391146Z",
     "iopub.status.idle": "2022-07-30T15:47:06.265934Z",
     "shell.execute_reply": "2022-07-30T15:47:06.265061Z"
    },
    "papermill": {
     "duration": 4.887135,
     "end_time": "2022-07-30T15:47:06.268653",
     "exception": false,
     "start_time": "2022-07-30T15:47:01.381518",
     "status": "completed"
    },
    "tags": []
   },
   "outputs": [
    {
     "name": "stdout",
     "output_type": "stream",
     "text": [
      "Score: 0.0291 RMSLE\n"
     ]
    }
   ],
   "source": [
    "# Try experimenting with the smoothing parameter m\n",
    "# Try 0, 1, 5, 50\n",
    "m = 5\n",
    "\n",
    "X = df.copy()\n",
    "y = X.pop('SalePrice')\n",
    "\n",
    "# Create an uninformative feature\n",
    "X[\"Count\"] = range(len(X))\n",
    "X[\"Count\"][1] = 0  # actually need one duplicate value to circumvent error-checking in MEstimateEncoder\n",
    "\n",
    "# fit and transform on the same dataset\n",
    "encoder = MEstimateEncoder(cols=\"Count\", m=m)\n",
    "X = encoder.fit_transform(X, y)\n",
    "\n",
    "# Results\n",
    "score =  score_dataset(X, y)\n",
    "print(f\"Score: {score:.4f} RMSLE\")"
   ]
  },
  {
   "cell_type": "markdown",
   "id": "28ec1eb5",
   "metadata": {
    "papermill": {
     "duration": 0.007673,
     "end_time": "2022-07-30T15:47:06.285814",
     "exception": false,
     "start_time": "2022-07-30T15:47:06.278141",
     "status": "completed"
    },
    "tags": []
   },
   "source": [
    "Almost a perfect score!"
   ]
  },
  {
   "cell_type": "code",
   "execution_count": 11,
   "id": "5cf4a718",
   "metadata": {
    "execution": {
     "iopub.execute_input": "2022-07-30T15:47:06.303567Z",
     "iopub.status.busy": "2022-07-30T15:47:06.302919Z",
     "iopub.status.idle": "2022-07-30T15:47:06.655139Z",
     "shell.execute_reply": "2022-07-30T15:47:06.653812Z"
    },
    "papermill": {
     "duration": 0.36411,
     "end_time": "2022-07-30T15:47:06.657850",
     "exception": false,
     "start_time": "2022-07-30T15:47:06.293740",
     "status": "completed"
    },
    "tags": []
   },
   "outputs": [
    {
     "data": {
      "image/png": "[encoded data removed]",
      "text/plain": [
       "<Figure size 540x360 with 1 Axes>"
      ]
     },
     "metadata": {},
     "output_type": "display_data"
    }
   ],
   "source": [
    "plt.figure(dpi=90)\n",
    "ax = sns.distplot(y, kde=True, hist=False)\n",
    "ax = sns.distplot(X[\"Count\"], color='r', ax=ax, hist=True, kde=False, norm_hist=True)\n",
    "ax.set_xlabel(\"SalePrice\");"
   ]
  },
  {
   "cell_type": "markdown",
   "id": "0c7a6257",
   "metadata": {
    "papermill": {
     "duration": 0.009091,
     "end_time": "2022-07-30T15:47:06.676084",
     "exception": false,
     "start_time": "2022-07-30T15:47:06.666993",
     "status": "completed"
    },
    "tags": []
   },
   "source": [
    "And the distributions are almost exactly the same, too.\n",
    "\n",
    "# 3) Overfitting with Target Encoders\n",
    "\n",
    "Based on your understanding of how mean-encoding works, can you explain how XGBoost was able to get an almost a perfect fit after mean-encoding the count feature?"
   ]
  },
  {
   "cell_type": "code",
   "execution_count": 12,
   "id": "be29635b",
   "metadata": {
    "execution": {
     "iopub.execute_input": "2022-07-30T15:47:06.693868Z",
     "iopub.status.busy": "2022-07-30T15:47:06.693209Z",
     "iopub.status.idle": "2022-07-30T15:47:06.700153Z",
     "shell.execute_reply": "2022-07-30T15:47:06.699409Z"
    },
    "lines_to_next_cell": 0,
    "papermill": {
     "duration": 0.018225,
     "end_time": "2022-07-30T15:47:06.702107",
     "exception": false,
     "start_time": "2022-07-30T15:47:06.683882",
     "status": "completed"
    },
    "tags": []
   },
   "outputs": [
    {
     "data": {
      "application/javascript": [
       "parent.postMessage({\"jupyterEvent\": \"custom.exercise_interaction\", \"data\": {\"outcomeType\": 1, \"valueTowardsCompletion\": 0.3333333333333333, \"interactionType\": 1, \"questionType\": 4, \"questionId\": \"3_Q3\", \"learnToolsVersion\": \"0.3.4\", \"failureMessage\": \"\", \"exceptionClass\": \"\", \"trace\": \"\"}}, \"*\")"
      ],
      "text/plain": [
       "<IPython.core.display.Javascript object>"
      ]
     },
     "metadata": {},
     "output_type": "display_data"
    },
    {
     "data": {
      "text/markdown": [
       "<span style=\"color:#33cc33\">Correct:</span> \n",
       "\n",
       "\n",
       "Since `Count` never has any duplicate values, the mean-encoded `Count` is essentially an exact copy of the target. In other words, mean-encoding turned a completely meaningless feature into a perfect feature.\n",
       "\n",
       "Now, the only reason this worked is because we trained XGBoost on the same set we used to train the encoder. If we had used a hold-out set instead, none of this \"fake\" encoding would have transferred to the training data.\n",
       "\n",
       "The lesson is that when using a target encoder it's very important to use separate data sets for training the encoder and training the model. Otherwise the results can be very disappointing!\n"
      ],
      "text/plain": [
       "Correct: \n",
       "\n",
       "\n",
       "Since `Count` never has any duplicate values, the mean-encoded `Count` is essentially an exact copy of the target. In other words, mean-encoding turned a completely meaningless feature into a perfect feature.\n",
       "\n",
       "Now, the only reason this worked is because we trained XGBoost on the same set we used to train the encoder. If we had used a hold-out set instead, none of this \"fake\" encoding would have transferred to the training data.\n",
       "\n",
       "The lesson is that when using a target encoder it's very important to use separate data sets for training the encoder and training the model. Otherwise the results can be very disappointing!"
      ]
     },
     "metadata": {},
     "output_type": "display_data"
    }
   ],
   "source": [
    "# View the solution (Run this cell to receive credit!)\n",
    "q_3.check()"
   ]
  },
  {
   "cell_type": "code",
   "execution_count": 13,
   "id": "4e5a5554",
   "metadata": {
    "execution": {
     "iopub.execute_input": "2022-07-30T15:47:06.721376Z",
     "iopub.status.busy": "2022-07-30T15:47:06.720655Z",
     "iopub.status.idle": "2022-07-30T15:47:06.724282Z",
     "shell.execute_reply": "2022-07-30T15:47:06.723594Z"
    },
    "papermill": {
     "duration": 0.015533,
     "end_time": "2022-07-30T15:47:06.726166",
     "exception": false,
     "start_time": "2022-07-30T15:47:06.710633",
     "status": "completed"
    },
    "tags": []
   },
   "outputs": [],
   "source": [
    "# Uncomment this if you'd like a hint before seeing the answer\n",
    "#q_3.hint()"
   ]
  },
  {
   "cell_type": "markdown",
   "id": "ed41e528",
   "metadata": {
    "papermill": {
     "duration": 0.00844,
     "end_time": "2022-07-30T15:47:06.742924",
     "exception": false,
     "start_time": "2022-07-30T15:47:06.734484",
     "status": "completed"
    },
    "tags": []
   },
   "source": [
    "# The End #\n",
    "\n",
    "That's it for *Feature Engineering*! We hope you enjoyed your time with us.\n",
    "\n",
    "Now, are you ready to try out your new skills? Now would be a great time to join our [Housing Prices](https://www.kaggle.com/c/house-prices-advanced-regression-techniques) Getting Started competition. We've even prepared a [Bonus Lesson](https://www.kaggle.com/ryanholbrook/feature-engineering-for-house-prices) that collects all the work we've done together into a starter notebook.\n",
    "\n",
    "# References #\n",
    "Here are some great resources you might like to consult for more information. They all played a part in shaping this course:\n",
    "- *The Art of Feature Engineering*, a book by Pablo Duboue.\n",
    "- *An Empirical Analysis of Feature Engineering for Predictive Modeling*, an article by Jeff Heaton.\n",
    "- *Feature Engineering for Machine Learning*, a book by Alice Zheng and Amanda Casari. The tutorial on clustering was inspired by this excellent book.\n",
    "- *Feature Engineering and Selection*, a book by Max Kuhn and Kjell Johnson."
   ]
  },
  {
   "cell_type": "markdown",
   "id": "c810b5f2",
   "metadata": {
    "papermill": {
     "duration": 0.008094,
     "end_time": "2022-07-30T15:47:06.759423",
     "exception": false,
     "start_time": "2022-07-30T15:47:06.751329",
     "status": "completed"
    },
    "tags": []
   },
   "source": [
    "---\n",
    "\n",
    "\n",
    "\n",
    "\n",
    "*Have questions or comments? Visit the [course discussion forum](https://www.kaggle.com/learn/feature-engineering/discussion) to chat with other learners.*"
   ]
  }
 ],
 "metadata": {
  "kernelspec": {
   "display_name": "Python 3",
   "language": "python",
   "name": "python3"
  },
  "language_info": {
   "codemirror_mode": {
    "name": "ipython",
    "version": 3
   },
   "file_extension": ".py",
   "mimetype": "text/x-python",
   "name": "python",
   "nbconvert_exporter": "python",
   "pygments_lexer": "ipython3",
   "version": "3.7.12"
  },
  "papermill": {
   "default_parameters": {},
   "duration": 25.677726,
   "end_time": "2022-07-30T15:47:07.488602",
   "environment_variables": {},
   "exception": null,
   "input_path": "__notebook__.ipynb",
   "output_path": "__notebook__.ipynb",
   "parameters": {},
   "start_time": "2022-07-30T15:46:41.810876",
   "version": "2.3.4"
  }
 },
 "nbformat": 4,
 "nbformat_minor": 5
}
