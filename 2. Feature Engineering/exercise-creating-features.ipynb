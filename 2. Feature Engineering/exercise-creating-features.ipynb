{
 "cells": [
  {
   "cell_type": "markdown",
   "id": "bdc9e098",
   "metadata": {
    "papermill": {
     "duration": 0.007314,
     "end_time": "2022-08-23T17:51:45.216121",
     "exception": false,
     "start_time": "2022-08-23T17:51:45.208807",
     "status": "completed"
    },
    "tags": []
   },
   "source": [
    "**This notebook is an exercise in the [Feature Engineering](https://www.kaggle.com/learn/feature-engineering) course.  You can reference the tutorial at [this link](https://www.kaggle.com/ryanholbrook/creating-features).**\n",
    "\n",
    "---\n"
   ]
  },
  {
   "cell_type": "markdown",
   "id": "10dad751",
   "metadata": {
    "papermill": {
     "duration": 0.005135,
     "end_time": "2022-08-23T17:51:45.227162",
     "exception": false,
     "start_time": "2022-08-23T17:51:45.222027",
     "status": "completed"
    },
    "tags": []
   },
   "source": [
    "# Introduction #\n",
    "\n",
    "In this exercise you'll start developing the features you identified in Exercise 2 as having the most potential. As you work through this exercise, you might take a moment to look at the data documentation again and consider whether the features we're creating make sense from a real-world perspective, and whether there are any useful combinations that stand out to you.\n",
    "\n",
    "Run this cell to set everything up!"
   ]
  },
  {
   "cell_type": "code",
   "execution_count": 1,
   "id": "da89d973",
   "metadata": {
    "execution": {
     "iopub.execute_input": "2022-08-23T17:51:45.240337Z",
     "iopub.status.busy": "2022-08-23T17:51:45.239553Z",
     "iopub.status.idle": "2022-08-23T17:51:46.645913Z",
     "shell.execute_reply": "2022-08-23T17:51:46.644749Z"
    },
    "papermill": {
     "duration": 1.416265,
     "end_time": "2022-08-23T17:51:46.648804",
     "exception": false,
     "start_time": "2022-08-23T17:51:45.232539",
     "status": "completed"
    },
    "tags": []
   },
   "outputs": [],
   "source": [
    "# Setup feedback system\n",
    "from learntools.core import binder\n",
    "binder.bind(globals())\n",
    "from learntools.feature_engineering_new.ex3 import *\n",
    "\n",
    "import numpy as np\n",
    "import pandas as pd\n",
    "from sklearn.model_selection import cross_val_score\n",
    "from xgboost import XGBRegressor\n",
    "\n",
    "\n",
    "def score_dataset(X, y, model=XGBRegressor()):\n",
    "    # Label encoding for categoricals\n",
    "    for colname in X.select_dtypes([\"category\", \"object\"]):\n",
    "        X[colname], _ = X[colname].factorize()\n",
    "    # Metric for Housing competition is RMSLE (Root Mean Squared Log Error)\n",
    "    score = cross_val_score(\n",
    "        model, X, y, cv=5, scoring=\"neg_mean_squared_log_error\",\n",
    "    )\n",
    "    score = -1 * score.mean()\n",
    "    score = np.sqrt(score)\n",
    "    return score\n",
    "\n",
    "\n",
    "# Prepare data\n",
    "df = pd.read_csv(\"../input/fe-course-data/ames.csv\")\n",
    "X = df.copy()\n",
    "y = X.pop(\"SalePrice\")"
   ]
  },
  {
   "cell_type": "markdown",
   "id": "79afac5f",
   "metadata": {
    "papermill": {
     "duration": 0.005536,
     "end_time": "2022-08-23T17:51:46.660010",
     "exception": false,
     "start_time": "2022-08-23T17:51:46.654474",
     "status": "completed"
    },
    "tags": []
   },
   "source": [
    "-------------------------------------------------------------------------------\n",
    "\n",
    "Let's start with a few mathematical combinations. We'll focus on features describing areas -- having the same units (square-feet) makes it easy to combine them in sensible ways. Since we're using XGBoost (a tree-based model), we'll focus on ratios and sums.\n",
    "\n",
    "# 1) Create Mathematical Transforms\n",
    "\n",
    "Create the following features:\n",
    "\n",
    "- `LivLotRatio`: the ratio of `GrLivArea` to `LotArea`\n",
    "- `Spaciousness`: the sum of `FirstFlrSF` and `SecondFlrSF` divided by `TotRmsAbvGrd`\n",
    "- `TotalOutsideSF`: the sum of `WoodDeckSF`, `OpenPorchSF`, `EnclosedPorch`, `Threeseasonporch`, and `ScreenPorch`"
   ]
  },
  {
   "cell_type": "code",
   "execution_count": 2,
   "id": "dfd42d62",
   "metadata": {
    "execution": {
     "iopub.execute_input": "2022-08-23T17:51:46.674037Z",
     "iopub.status.busy": "2022-08-23T17:51:46.673022Z",
     "iopub.status.idle": "2022-08-23T17:51:46.699650Z",
     "shell.execute_reply": "2022-08-23T17:51:46.698606Z"
    },
    "lines_to_next_cell": 0,
    "papermill": {
     "duration": 0.036534,
     "end_time": "2022-08-23T17:51:46.702112",
     "exception": false,
     "start_time": "2022-08-23T17:51:46.665578",
     "status": "completed"
    },
    "tags": []
   },
   "outputs": [
    {
     "data": {
      "application/javascript": [
       "parent.postMessage({\"jupyterEvent\": \"custom.exercise_interaction\", \"data\": {\"outcomeType\": 1, \"valueTowardsCompletion\": 0.2, \"interactionType\": 1, \"questionType\": 2, \"questionId\": \"1_Q1\", \"learnToolsVersion\": \"0.3.4\", \"failureMessage\": \"\", \"exceptionClass\": \"\", \"trace\": \"\"}}, \"*\")"
      ],
      "text/plain": [
       "<IPython.core.display.Javascript object>"
      ]
     },
     "metadata": {},
     "output_type": "display_data"
    },
    {
     "data": {
      "text/markdown": [
       "<span style=\"color:#33cc33\">Correct</span>"
      ],
      "text/plain": [
       "Correct"
      ]
     },
     "metadata": {},
     "output_type": "display_data"
    }
   ],
   "source": [
    "# YOUR CODE HERE\n",
    "X_1 = pd.DataFrame()  # dataframe to hold new features\n",
    "\n",
    "X_1[\"LivLotRatio\"] = X.GrLivArea / X.LotArea\n",
    "X_1[\"Spaciousness\"] = (X.FirstFlrSF + X.SecondFlrSF) / X.TotRmsAbvGrd\n",
    "X_1[\"TotalOutsideSF\"] = X.WoodDeckSF + X.OpenPorchSF + X.EnclosedPorch + X.Threeseasonporch + X.ScreenPorch\n",
    "\n",
    "\n",
    "# Check your answer\n",
    "q_1.check()"
   ]
  },
  {
   "cell_type": "code",
   "execution_count": 3,
   "id": "1fdbcd79",
   "metadata": {
    "execution": {
     "iopub.execute_input": "2022-08-23T17:51:46.715644Z",
     "iopub.status.busy": "2022-08-23T17:51:46.714955Z",
     "iopub.status.idle": "2022-08-23T17:51:46.719419Z",
     "shell.execute_reply": "2022-08-23T17:51:46.718323Z"
    },
    "lines_to_next_cell": 0,
    "papermill": {
     "duration": 0.013621,
     "end_time": "2022-08-23T17:51:46.721560",
     "exception": false,
     "start_time": "2022-08-23T17:51:46.707939",
     "status": "completed"
    },
    "tags": []
   },
   "outputs": [],
   "source": [
    "# Lines below will give you a hint or solution code\n",
    "#q_1.hint()\n",
    "#q_1.solution()"
   ]
  },
  {
   "cell_type": "markdown",
   "id": "61fe98f7",
   "metadata": {
    "papermill": {
     "duration": 0.005311,
     "end_time": "2022-08-23T17:51:46.732681",
     "exception": false,
     "start_time": "2022-08-23T17:51:46.727370",
     "status": "completed"
    },
    "tags": []
   },
   "source": [
    "-------------------------------------------------------------------------------\n",
    "\n",
    "If you've discovered an interaction effect between a numeric feature and a categorical feature, you might want to model it explicitly using a one-hot encoding, like so:\n",
    "\n",
    "```\n",
    "# One-hot encode Categorical feature, adding a column prefix \"Cat\"\n",
    "X_new = pd.get_dummies(df.Categorical, prefix=\"Cat\")\n",
    "\n",
    "# Multiply row-by-row\n",
    "X_new = X_new.mul(df.Continuous, axis=0)\n",
    "\n",
    "# Join the new features to the feature set\n",
    "X = X.join(X_new)\n",
    "```\n",
    "\n",
    "# 2) Interaction with a Categorical\n",
    "\n",
    "We discovered an interaction between `BldgType` and `GrLivArea` in Exercise 2. Now create their interaction features."
   ]
  },
  {
   "cell_type": "code",
   "execution_count": 4,
   "id": "c39d4e7a",
   "metadata": {
    "execution": {
     "iopub.execute_input": "2022-08-23T17:51:46.745497Z",
     "iopub.status.busy": "2022-08-23T17:51:46.745118Z",
     "iopub.status.idle": "2022-08-23T17:51:46.759014Z",
     "shell.execute_reply": "2022-08-23T17:51:46.758115Z"
    },
    "lines_to_next_cell": 0,
    "papermill": {
     "duration": 0.022821,
     "end_time": "2022-08-23T17:51:46.761047",
     "exception": false,
     "start_time": "2022-08-23T17:51:46.738226",
     "status": "completed"
    },
    "tags": []
   },
   "outputs": [
    {
     "data": {
      "application/javascript": [
       "parent.postMessage({\"jupyterEvent\": \"custom.exercise_interaction\", \"data\": {\"outcomeType\": 1, \"valueTowardsCompletion\": 0.2, \"interactionType\": 1, \"questionType\": 2, \"questionId\": \"2_Q2\", \"learnToolsVersion\": \"0.3.4\", \"failureMessage\": \"\", \"exceptionClass\": \"\", \"trace\": \"\"}}, \"*\")"
      ],
      "text/plain": [
       "<IPython.core.display.Javascript object>"
      ]
     },
     "metadata": {},
     "output_type": "display_data"
    },
    {
     "data": {
      "text/markdown": [
       "<span style=\"color:#33cc33\">Correct</span>"
      ],
      "text/plain": [
       "Correct"
      ]
     },
     "metadata": {},
     "output_type": "display_data"
    }
   ],
   "source": [
    "# YOUR CODE HERE\n",
    "# One-hot encode BldgType. Use `prefix=\"Bldg\"` in `get_dummies`\n",
    "X_2 = pd.get_dummies(X.BldgType, prefix=\"Bldg\") \n",
    "# Multiply\n",
    "X_2 = X_2.mul(X.GrLivArea, axis=0)\n",
    "\n",
    "\n",
    "# Check your answer\n",
    "q_2.check()"
   ]
  },
  {
   "cell_type": "code",
   "execution_count": 5,
   "id": "6d57e024",
   "metadata": {
    "execution": {
     "iopub.execute_input": "2022-08-23T17:51:46.775521Z",
     "iopub.status.busy": "2022-08-23T17:51:46.774787Z",
     "iopub.status.idle": "2022-08-23T17:51:46.778731Z",
     "shell.execute_reply": "2022-08-23T17:51:46.777917Z"
    },
    "lines_to_next_cell": 0,
    "papermill": {
     "duration": 0.014108,
     "end_time": "2022-08-23T17:51:46.781118",
     "exception": false,
     "start_time": "2022-08-23T17:51:46.767010",
     "status": "completed"
    },
    "tags": []
   },
   "outputs": [],
   "source": [
    "# Lines below will give you a hint or solution code\n",
    "#q_2.hint()\n",
    "#q_2.solution()"
   ]
  },
  {
   "cell_type": "markdown",
   "id": "94479ad2",
   "metadata": {
    "lines_to_next_cell": 0,
    "papermill": {
     "duration": 0.005641,
     "end_time": "2022-08-23T17:51:46.792881",
     "exception": false,
     "start_time": "2022-08-23T17:51:46.787240",
     "status": "completed"
    },
    "tags": []
   },
   "source": [
    "# 3) Count Feature\n",
    "\n",
    "Let's try creating a feature that describes how many kinds of outdoor areas a dwelling has. Create a feature `PorchTypes` that counts how many of the following are greater than 0.0:\n",
    "\n",
    "```\n",
    "WoodDeckSF\n",
    "OpenPorchSF\n",
    "EnclosedPorch\n",
    "Threeseasonporch\n",
    "ScreenPorch\n",
    "```"
   ]
  },
  {
   "cell_type": "code",
   "execution_count": 6,
   "id": "1ab66c91",
   "metadata": {
    "execution": {
     "iopub.execute_input": "2022-08-23T17:51:46.806544Z",
     "iopub.status.busy": "2022-08-23T17:51:46.805816Z",
     "iopub.status.idle": "2022-08-23T17:51:46.828429Z",
     "shell.execute_reply": "2022-08-23T17:51:46.827571Z"
    },
    "lines_to_next_cell": 0,
    "papermill": {
     "duration": 0.03183,
     "end_time": "2022-08-23T17:51:46.830455",
     "exception": false,
     "start_time": "2022-08-23T17:51:46.798625",
     "status": "completed"
    },
    "tags": []
   },
   "outputs": [
    {
     "data": {
      "application/javascript": [
       "parent.postMessage({\"jupyterEvent\": \"custom.exercise_interaction\", \"data\": {\"outcomeType\": 1, \"valueTowardsCompletion\": 0.2, \"interactionType\": 1, \"questionType\": 2, \"questionId\": \"3_Q3\", \"learnToolsVersion\": \"0.3.4\", \"failureMessage\": \"\", \"exceptionClass\": \"\", \"trace\": \"\"}}, \"*\")"
      ],
      "text/plain": [
       "<IPython.core.display.Javascript object>"
      ]
     },
     "metadata": {},
     "output_type": "display_data"
    },
    {
     "data": {
      "text/markdown": [
       "<span style=\"color:#33cc33\">Correct</span>"
      ],
      "text/plain": [
       "Correct"
      ]
     },
     "metadata": {},
     "output_type": "display_data"
    }
   ],
   "source": [
    "X_3 = pd.DataFrame()\n",
    "\n",
    "# YOUR CODE HERE\n",
    "X_3[\"PorchTypes\"] = X[['WoodDeckSF','OpenPorchSF','EnclosedPorch','Threeseasonporch','ScreenPorch']].gt(0).sum(axis=1)\n",
    "\n",
    "\n",
    "# Check your answer\n",
    "q_3.check()"
   ]
  },
  {
   "cell_type": "code",
   "execution_count": 7,
   "id": "a2040450",
   "metadata": {
    "execution": {
     "iopub.execute_input": "2022-08-23T17:51:46.844710Z",
     "iopub.status.busy": "2022-08-23T17:51:46.844067Z",
     "iopub.status.idle": "2022-08-23T17:51:46.847815Z",
     "shell.execute_reply": "2022-08-23T17:51:46.846986Z"
    },
    "lines_to_next_cell": 0,
    "papermill": {
     "duration": 0.013316,
     "end_time": "2022-08-23T17:51:46.849877",
     "exception": false,
     "start_time": "2022-08-23T17:51:46.836561",
     "status": "completed"
    },
    "tags": []
   },
   "outputs": [],
   "source": [
    "# Lines below will give you a hint or solution code\n",
    "#q_3.hint()\n",
    "#q_3.solution()"
   ]
  },
  {
   "cell_type": "markdown",
   "id": "1dd5a196",
   "metadata": {
    "papermill": {
     "duration": 0.006391,
     "end_time": "2022-08-23T17:51:46.862682",
     "exception": false,
     "start_time": "2022-08-23T17:51:46.856291",
     "status": "completed"
    },
    "tags": []
   },
   "source": [
    "# 4) Break Down a Categorical Feature\n",
    "\n",
    "`MSSubClass` describes the type of a dwelling:"
   ]
  },
  {
   "cell_type": "code",
   "execution_count": 8,
   "id": "15ce3697",
   "metadata": {
    "execution": {
     "iopub.execute_input": "2022-08-23T17:51:46.878217Z",
     "iopub.status.busy": "2022-08-23T17:51:46.877224Z",
     "iopub.status.idle": "2022-08-23T17:51:46.884435Z",
     "shell.execute_reply": "2022-08-23T17:51:46.883647Z"
    },
    "papermill": {
     "duration": 0.017421,
     "end_time": "2022-08-23T17:51:46.886478",
     "exception": false,
     "start_time": "2022-08-23T17:51:46.869057",
     "status": "completed"
    },
    "tags": []
   },
   "outputs": [
    {
     "data": {
      "text/plain": [
       "array(['One_Story_1946_and_Newer_All_Styles', 'Two_Story_1946_and_Newer',\n",
       "       'One_Story_PUD_1946_and_Newer',\n",
       "       'One_and_Half_Story_Finished_All_Ages', 'Split_Foyer',\n",
       "       'Two_Story_PUD_1946_and_Newer', 'Split_or_Multilevel',\n",
       "       'One_Story_1945_and_Older', 'Duplex_All_Styles_and_Ages',\n",
       "       'Two_Family_conversion_All_Styles_and_Ages',\n",
       "       'One_and_Half_Story_Unfinished_All_Ages',\n",
       "       'Two_Story_1945_and_Older', 'Two_and_Half_Story_All_Ages',\n",
       "       'One_Story_with_Finished_Attic_All_Ages',\n",
       "       'PUD_Multilevel_Split_Level_Foyer',\n",
       "       'One_and_Half_Story_PUD_All_Ages'], dtype=object)"
      ]
     },
     "execution_count": 8,
     "metadata": {},
     "output_type": "execute_result"
    }
   ],
   "source": [
    "df.MSSubClass.unique()"
   ]
  },
  {
   "cell_type": "markdown",
   "id": "c8aba45e",
   "metadata": {
    "papermill": {
     "duration": 0.006039,
     "end_time": "2022-08-23T17:51:46.899008",
     "exception": false,
     "start_time": "2022-08-23T17:51:46.892969",
     "status": "completed"
    },
    "tags": []
   },
   "source": [
    "You can see that there is a more general categorization described (roughly) by the first word of each category. Create a feature containing only these first words by splitting `MSSubClass` at the first underscore `_`. (Hint: In the `split` method use an argument `n=1`.)"
   ]
  },
  {
   "cell_type": "code",
   "execution_count": 9,
   "id": "f53b84d6",
   "metadata": {
    "execution": {
     "iopub.execute_input": "2022-08-23T17:51:46.914058Z",
     "iopub.status.busy": "2022-08-23T17:51:46.913368Z",
     "iopub.status.idle": "2022-08-23T17:51:46.935982Z",
     "shell.execute_reply": "2022-08-23T17:51:46.934874Z"
    },
    "lines_to_next_cell": 0,
    "papermill": {
     "duration": 0.032805,
     "end_time": "2022-08-23T17:51:46.938179",
     "exception": false,
     "start_time": "2022-08-23T17:51:46.905374",
     "status": "completed"
    },
    "tags": []
   },
   "outputs": [
    {
     "data": {
      "application/javascript": [
       "parent.postMessage({\"jupyterEvent\": \"custom.exercise_interaction\", \"data\": {\"outcomeType\": 1, \"valueTowardsCompletion\": 0.2, \"interactionType\": 1, \"questionType\": 2, \"questionId\": \"4_Q4\", \"learnToolsVersion\": \"0.3.4\", \"failureMessage\": \"\", \"exceptionClass\": \"\", \"trace\": \"\"}}, \"*\")"
      ],
      "text/plain": [
       "<IPython.core.display.Javascript object>"
      ]
     },
     "metadata": {},
     "output_type": "display_data"
    },
    {
     "data": {
      "text/markdown": [
       "<span style=\"color:#33cc33\">Correct</span>"
      ],
      "text/plain": [
       "Correct"
      ]
     },
     "metadata": {},
     "output_type": "display_data"
    }
   ],
   "source": [
    "X_4 = pd.DataFrame()\n",
    "\n",
    "# YOUR CODE HERE 'MSClass'\n",
    "# X_4['MSClass'] = X.MSSubClass.apply(lambda item: item.split('_')[0])\n",
    "X_4['MSClass'] = X.MSSubClass.str.split('_',n=1,expand=True)[0]\n",
    " \n",
    "# Check your answer\n",
    "q_4.check()"
   ]
  },
  {
   "cell_type": "code",
   "execution_count": 10,
   "id": "8b034c4b",
   "metadata": {
    "execution": {
     "iopub.execute_input": "2022-08-23T17:51:46.953048Z",
     "iopub.status.busy": "2022-08-23T17:51:46.952419Z",
     "iopub.status.idle": "2022-08-23T17:51:46.962672Z",
     "shell.execute_reply": "2022-08-23T17:51:46.961887Z"
    },
    "lines_to_next_cell": 0,
    "papermill": {
     "duration": 0.019872,
     "end_time": "2022-08-23T17:51:46.964688",
     "exception": false,
     "start_time": "2022-08-23T17:51:46.944816",
     "status": "completed"
    },
    "tags": []
   },
   "outputs": [
    {
     "data": {
      "application/javascript": [
       "parent.postMessage({\"jupyterEvent\": \"custom.exercise_interaction\", \"data\": {\"interactionType\": 2, \"questionType\": 2, \"questionId\": \"4_Q4\", \"learnToolsVersion\": \"0.3.4\", \"valueTowardsCompletion\": 0.0, \"failureMessage\": \"\", \"exceptionClass\": \"\", \"trace\": \"\", \"outcomeType\": 4}}, \"*\")"
      ],
      "text/plain": [
       "<IPython.core.display.Javascript object>"
      ]
     },
     "metadata": {},
     "output_type": "display_data"
    },
    {
     "data": {
      "text/markdown": [
       "<span style=\"color:#3366cc\">Hint:</span> Your code should look something like:\n",
       "```python\n",
       "X_4 = pd.DataFrame()\n",
       "\n",
       "X_4[\"MSClass\"] = df.____.str.____(____, n=1, expand=True)[____]\n",
       "```\n"
      ],
      "text/plain": [
       "Hint: Your code should look something like:\n",
       "```python\n",
       "X_4 = pd.DataFrame()\n",
       "\n",
       "X_4[\"MSClass\"] = df.____.str.____(____, n=1, expand=True)[____]\n",
       "```"
      ]
     },
     "metadata": {},
     "output_type": "display_data"
    },
    {
     "data": {
      "application/javascript": [
       "parent.postMessage({\"jupyterEvent\": \"custom.exercise_interaction\", \"data\": {\"interactionType\": 3, \"questionType\": 2, \"questionId\": \"4_Q4\", \"learnToolsVersion\": \"0.3.4\", \"valueTowardsCompletion\": 0.0, \"failureMessage\": \"\", \"exceptionClass\": \"\", \"trace\": \"\", \"outcomeType\": 4}}, \"*\")"
      ],
      "text/plain": [
       "<IPython.core.display.Javascript object>"
      ]
     },
     "metadata": {},
     "output_type": "display_data"
    },
    {
     "data": {
      "text/markdown": [
       "<span style=\"color:#33cc99\">Solution:</span> \n",
       "```python\n",
       "\n",
       "X_4 = pd.DataFrame()\n",
       "\n",
       "X_4[\"MSClass\"] = df.MSSubClass.str.split(\"_\", n=1, expand=True)[0]\n",
       "\n",
       "```"
      ],
      "text/plain": [
       "Solution: \n",
       "```python\n",
       "\n",
       "X_4 = pd.DataFrame()\n",
       "\n",
       "X_4[\"MSClass\"] = df.MSSubClass.str.split(\"_\", n=1, expand=True)[0]\n",
       "\n",
       "```"
      ]
     },
     "metadata": {},
     "output_type": "display_data"
    }
   ],
   "source": [
    "# Lines below will give you a hint or solution code\n",
    "q_4.hint()\n",
    "q_4.solution()"
   ]
  },
  {
   "cell_type": "markdown",
   "id": "27ad8178",
   "metadata": {
    "papermill": {
     "duration": 0.006753,
     "end_time": "2022-08-23T17:51:46.978503",
     "exception": false,
     "start_time": "2022-08-23T17:51:46.971750",
     "status": "completed"
    },
    "tags": []
   },
   "source": [
    "# 5) Use a Grouped Transform\n",
    "\n",
    "The value of a home often depends on how it compares to typical homes in its neighborhood. Create a feature `MedNhbdArea` that describes the *median* of `GrLivArea` grouped on `Neighborhood`."
   ]
  },
  {
   "cell_type": "code",
   "execution_count": 11,
   "id": "3eb42167",
   "metadata": {
    "execution": {
     "iopub.execute_input": "2022-08-23T17:51:46.994606Z",
     "iopub.status.busy": "2022-08-23T17:51:46.993915Z",
     "iopub.status.idle": "2022-08-23T17:51:47.011462Z",
     "shell.execute_reply": "2022-08-23T17:51:47.010672Z"
    },
    "lines_to_next_cell": 0,
    "papermill": {
     "duration": 0.027842,
     "end_time": "2022-08-23T17:51:47.013446",
     "exception": false,
     "start_time": "2022-08-23T17:51:46.985604",
     "status": "completed"
    },
    "tags": []
   },
   "outputs": [
    {
     "data": {
      "application/javascript": [
       "parent.postMessage({\"jupyterEvent\": \"custom.exercise_interaction\", \"data\": {\"outcomeType\": 1, \"valueTowardsCompletion\": 0.2, \"interactionType\": 1, \"questionType\": 2, \"questionId\": \"5_Q5\", \"learnToolsVersion\": \"0.3.4\", \"failureMessage\": \"\", \"exceptionClass\": \"\", \"trace\": \"\"}}, \"*\")"
      ],
      "text/plain": [
       "<IPython.core.display.Javascript object>"
      ]
     },
     "metadata": {},
     "output_type": "display_data"
    },
    {
     "data": {
      "text/markdown": [
       "<span style=\"color:#33cc33\">Correct</span>"
      ],
      "text/plain": [
       "Correct"
      ]
     },
     "metadata": {},
     "output_type": "display_data"
    }
   ],
   "source": [
    "X_5 = pd.DataFrame()\n",
    "\n",
    "# YOUR CODE HERE\n",
    "X_5[\"MedNhbdArea\"] = X.groupby('Neighborhood').GrLivArea.transform('median')\n",
    "\n",
    "# Check your answer\n",
    "q_5.check()"
   ]
  },
  {
   "cell_type": "code",
   "execution_count": 12,
   "id": "3230704d",
   "metadata": {
    "execution": {
     "iopub.execute_input": "2022-08-23T17:51:47.029784Z",
     "iopub.status.busy": "2022-08-23T17:51:47.029104Z",
     "iopub.status.idle": "2022-08-23T17:51:47.032899Z",
     "shell.execute_reply": "2022-08-23T17:51:47.032056Z"
    },
    "lines_to_next_cell": 0,
    "papermill": {
     "duration": 0.014271,
     "end_time": "2022-08-23T17:51:47.034845",
     "exception": false,
     "start_time": "2022-08-23T17:51:47.020574",
     "status": "completed"
    },
    "tags": []
   },
   "outputs": [],
   "source": [
    "# Lines below will give you a hint or solution code\n",
    "#q_5.hint()\n",
    "#q_5.solution()"
   ]
  },
  {
   "cell_type": "markdown",
   "id": "05e6bc9d",
   "metadata": {
    "papermill": {
     "duration": 0.007353,
     "end_time": "2022-08-23T17:51:47.049531",
     "exception": false,
     "start_time": "2022-08-23T17:51:47.042178",
     "status": "completed"
    },
    "tags": []
   },
   "source": [
    "Now you've made your first new feature set! If you like, you can run the cell below to score the model with all of your new features added:"
   ]
  },
  {
   "cell_type": "code",
   "execution_count": 13,
   "id": "56f13e96",
   "metadata": {
    "execution": {
     "iopub.execute_input": "2022-08-23T17:51:47.066710Z",
     "iopub.status.busy": "2022-08-23T17:51:47.065922Z",
     "iopub.status.idle": "2022-08-23T17:51:51.987667Z",
     "shell.execute_reply": "2022-08-23T17:51:51.986607Z"
    },
    "papermill": {
     "duration": 4.933164,
     "end_time": "2022-08-23T17:51:51.990201",
     "exception": false,
     "start_time": "2022-08-23T17:51:47.057037",
     "status": "completed"
    },
    "tags": []
   },
   "outputs": [
    {
     "data": {
      "text/plain": [
       "0.13847331710099203"
      ]
     },
     "execution_count": 13,
     "metadata": {},
     "output_type": "execute_result"
    }
   ],
   "source": [
    "X_new = X.join([X_1, X_2, X_3, X_4, X_5])\n",
    "score_dataset(X_new, y)"
   ]
  },
  {
   "cell_type": "markdown",
   "id": "e2643c35",
   "metadata": {
    "papermill": {
     "duration": 0.007225,
     "end_time": "2022-08-23T17:51:52.004983",
     "exception": false,
     "start_time": "2022-08-23T17:51:51.997758",
     "status": "completed"
    },
    "tags": []
   },
   "source": [
    "# Keep Going #\n",
    "\n",
    "[**Untangle spatial relationships**](https://www.kaggle.com/ryanholbrook/clustering-with-k-means) by adding cluster labels to your dataset."
   ]
  },
  {
   "cell_type": "markdown",
   "id": "1834beb3",
   "metadata": {
    "papermill": {
     "duration": 0.007119,
     "end_time": "2022-08-23T17:51:52.019670",
     "exception": false,
     "start_time": "2022-08-23T17:51:52.012551",
     "status": "completed"
    },
    "tags": []
   },
   "source": [
    "---\n",
    "\n",
    "\n",
    "\n",
    "\n",
    "*Have questions or comments? Visit the [course discussion forum](https://www.kaggle.com/learn/feature-engineering/discussion) to chat with other learners.*"
   ]
  }
 ],
 "metadata": {
  "kernelspec": {
   "display_name": "Python 3",
   "language": "python",
   "name": "python3"
  },
  "language_info": {
   "codemirror_mode": {
    "name": "ipython",
    "version": 3
   },
   "file_extension": ".py",
   "mimetype": "text/x-python",
   "name": "python",
   "nbconvert_exporter": "python",
   "pygments_lexer": "ipython3",
   "version": "3.7.12"
  },
  "papermill": {
   "default_parameters": {},
   "duration": 16.898273,
   "end_time": "2022-08-23T17:51:52.748425",
   "environment_variables": {},
   "exception": null,
   "input_path": "__notebook__.ipynb",
   "output_path": "__notebook__.ipynb",
   "parameters": {},
   "start_time": "2022-08-23T17:51:35.850152",
   "version": "2.3.4"
  }
 },
 "nbformat": 4,
 "nbformat_minor": 5
}
