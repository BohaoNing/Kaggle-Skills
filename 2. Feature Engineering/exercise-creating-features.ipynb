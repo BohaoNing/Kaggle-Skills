{
 "cells": [
  {
   "cell_type": "markdown",
   "id": "280b24e8",
   "metadata": {
    "papermill": {
     "duration": 0.007835,
     "end_time": "2022-07-24T02:36:22.064239",
     "exception": false,
     "start_time": "2022-07-24T02:36:22.056404",
     "status": "completed"
    },
    "tags": []
   },
   "source": [
    "**This notebook is an exercise in the [Feature Engineering](https://www.kaggle.com/learn/feature-engineering) course.  You can reference the tutorial at [this link](https://www.kaggle.com/ryanholbrook/creating-features).**\n",
    "\n",
    "---\n"
   ]
  },
  {
   "cell_type": "markdown",
   "id": "9d6e4630",
   "metadata": {
    "papermill": {
     "duration": 0.005732,
     "end_time": "2022-07-24T02:36:22.076395",
     "exception": false,
     "start_time": "2022-07-24T02:36:22.070663",
     "status": "completed"
    },
    "tags": []
   },
   "source": [
    "# Introduction #\n",
    "\n",
    "In this exercise you'll start developing the features you identified in Exercise 2 as having the most potential. As you work through this exercise, you might take a moment to look at the data documentation again and consider whether the features we're creating make sense from a real-world perspective, and whether there are any useful combinations that stand out to you.\n",
    "\n",
    "Run this cell to set everything up!"
   ]
  },
  {
   "cell_type": "code",
   "execution_count": 1,
   "id": "109cdcfc",
   "metadata": {
    "execution": {
     "iopub.execute_input": "2022-07-24T02:36:22.091540Z",
     "iopub.status.busy": "2022-07-24T02:36:22.090603Z",
     "iopub.status.idle": "2022-07-24T02:36:23.668787Z",
     "shell.execute_reply": "2022-07-24T02:36:23.667504Z"
    },
    "papermill": {
     "duration": 1.589233,
     "end_time": "2022-07-24T02:36:23.671726",
     "exception": false,
     "start_time": "2022-07-24T02:36:22.082493",
     "status": "completed"
    },
    "tags": []
   },
   "outputs": [],
   "source": [
    "# Setup feedback system\n",
    "from learntools.core import binder\n",
    "binder.bind(globals())\n",
    "from learntools.feature_engineering_new.ex3 import *\n",
    "\n",
    "import numpy as np\n",
    "import pandas as pd\n",
    "from sklearn.model_selection import cross_val_score\n",
    "from xgboost import XGBRegressor\n",
    "\n",
    "\n",
    "def score_dataset(X, y, model=XGBRegressor()):\n",
    "    # Label encoding for categoricals\n",
    "    for colname in X.select_dtypes([\"category\", \"object\"]):\n",
    "        X[colname], _ = X[colname].factorize()\n",
    "    # Metric for Housing competition is RMSLE (Root Mean Squared Log Error)\n",
    "    score = cross_val_score(\n",
    "        model, X, y, cv=5, scoring=\"neg_mean_squared_log_error\",\n",
    "    )\n",
    "    score = -1 * score.mean()\n",
    "    score = np.sqrt(score)\n",
    "    return score\n",
    "\n",
    "\n",
    "# Prepare data\n",
    "df = pd.read_csv(\"../input/fe-course-data/ames.csv\")\n",
    "X = df.copy()\n",
    "y = X.pop(\"SalePrice\")"
   ]
  },
  {
   "cell_type": "markdown",
   "id": "98144245",
   "metadata": {
    "papermill": {
     "duration": 0.006124,
     "end_time": "2022-07-24T02:36:23.684021",
     "exception": false,
     "start_time": "2022-07-24T02:36:23.677897",
     "status": "completed"
    },
    "tags": []
   },
   "source": [
    "-------------------------------------------------------------------------------\n",
    "\n",
    "Let's start with a few mathematical combinations. We'll focus on features describing areas -- having the same units (square-feet) makes it easy to combine them in sensible ways. Since we're using XGBoost (a tree-based model), we'll focus on ratios and sums.\n",
    "\n",
    "# 1) Create Mathematical Transforms\n",
    "\n",
    "Create the following features:\n",
    "\n",
    "- `LivLotRatio`: the ratio of `GrLivArea` to `LotArea`\n",
    "- `Spaciousness`: the sum of `FirstFlrSF` and `SecondFlrSF` divided by `TotRmsAbvGrd`\n",
    "- `TotalOutsideSF`: the sum of `WoodDeckSF`, `OpenPorchSF`, `EnclosedPorch`, `Threeseasonporch`, and `ScreenPorch`"
   ]
  },
  {
   "cell_type": "code",
   "execution_count": 2,
   "id": "5a23d459",
   "metadata": {
    "execution": {
     "iopub.execute_input": "2022-07-24T02:36:23.698936Z",
     "iopub.status.busy": "2022-07-24T02:36:23.698185Z",
     "iopub.status.idle": "2022-07-24T02:36:23.722549Z",
     "shell.execute_reply": "2022-07-24T02:36:23.721712Z"
    },
    "lines_to_next_cell": 0,
    "papermill": {
     "duration": 0.033934,
     "end_time": "2022-07-24T02:36:23.724451",
     "exception": false,
     "start_time": "2022-07-24T02:36:23.690517",
     "status": "completed"
    },
    "tags": []
   },
   "outputs": [
    {
     "data": {
      "application/javascript": [
       "parent.postMessage({\"jupyterEvent\": \"custom.exercise_interaction\", \"data\": {\"outcomeType\": 1, \"valueTowardsCompletion\": 0.2, \"interactionType\": 1, \"questionType\": 2, \"questionId\": \"1_Q1\", \"learnToolsVersion\": \"0.3.4\", \"failureMessage\": \"\", \"exceptionClass\": \"\", \"trace\": \"\"}}, \"*\")"
      ],
      "text/plain": [
       "<IPython.core.display.Javascript object>"
      ]
     },
     "metadata": {},
     "output_type": "display_data"
    },
    {
     "data": {
      "text/markdown": [
       "<span style=\"color:#33cc33\">Correct</span>"
      ],
      "text/plain": [
       "Correct"
      ]
     },
     "metadata": {},
     "output_type": "display_data"
    }
   ],
   "source": [
    "# YOUR CODE HERE\n",
    "X_1 = pd.DataFrame()  # dataframe to hold new features\n",
    "\n",
    "X_1[\"LivLotRatio\"] = X.GrLivArea / X.LotArea\n",
    "X_1[\"Spaciousness\"] = (X.FirstFlrSF + X.SecondFlrSF) / X.TotRmsAbvGrd\n",
    "X_1[\"TotalOutsideSF\"] = X.WoodDeckSF + X.OpenPorchSF + X.EnclosedPorch + X.Threeseasonporch + X.ScreenPorch\n",
    "\n",
    "\n",
    "# Check your answer\n",
    "q_1.check()"
   ]
  },
  {
   "cell_type": "code",
   "execution_count": 3,
   "id": "39662dff",
   "metadata": {
    "execution": {
     "iopub.execute_input": "2022-07-24T02:36:23.739605Z",
     "iopub.status.busy": "2022-07-24T02:36:23.738891Z",
     "iopub.status.idle": "2022-07-24T02:36:23.742835Z",
     "shell.execute_reply": "2022-07-24T02:36:23.741804Z"
    },
    "lines_to_next_cell": 0,
    "papermill": {
     "duration": 0.013913,
     "end_time": "2022-07-24T02:36:23.744893",
     "exception": false,
     "start_time": "2022-07-24T02:36:23.730980",
     "status": "completed"
    },
    "tags": []
   },
   "outputs": [],
   "source": [
    "# Lines below will give you a hint or solution code\n",
    "#q_1.hint()\n",
    "#q_1.solution()"
   ]
  },
  {
   "cell_type": "markdown",
   "id": "c484a975",
   "metadata": {
    "papermill": {
     "duration": 0.006163,
     "end_time": "2022-07-24T02:36:23.757521",
     "exception": false,
     "start_time": "2022-07-24T02:36:23.751358",
     "status": "completed"
    },
    "tags": []
   },
   "source": [
    "-------------------------------------------------------------------------------\n",
    "\n",
    "If you've discovered an interaction effect between a numeric feature and a categorical feature, you might want to model it explicitly using a one-hot encoding, like so:\n",
    "\n",
    "```\n",
    "# One-hot encode Categorical feature, adding a column prefix \"Cat\"\n",
    "X_new = pd.get_dummies(df.Categorical, prefix=\"Cat\")\n",
    "\n",
    "# Multiply row-by-row\n",
    "X_new = X_new.mul(df.Continuous, axis=0)\n",
    "\n",
    "# Join the new features to the feature set\n",
    "X = X.join(X_new)\n",
    "```\n",
    "\n",
    "# 2) Interaction with a Categorical\n",
    "\n",
    "We discovered an interaction between `BldgType` and `GrLivArea` in Exercise 2. Now create their interaction features."
   ]
  },
  {
   "cell_type": "code",
   "execution_count": 4,
   "id": "5db9ca9d",
   "metadata": {
    "execution": {
     "iopub.execute_input": "2022-07-24T02:36:23.772696Z",
     "iopub.status.busy": "2022-07-24T02:36:23.771973Z",
     "iopub.status.idle": "2022-07-24T02:36:23.786467Z",
     "shell.execute_reply": "2022-07-24T02:36:23.785357Z"
    },
    "lines_to_next_cell": 0,
    "papermill": {
     "duration": 0.024578,
     "end_time": "2022-07-24T02:36:23.788637",
     "exception": false,
     "start_time": "2022-07-24T02:36:23.764059",
     "status": "completed"
    },
    "tags": []
   },
   "outputs": [
    {
     "data": {
      "application/javascript": [
       "parent.postMessage({\"jupyterEvent\": \"custom.exercise_interaction\", \"data\": {\"outcomeType\": 1, \"valueTowardsCompletion\": 0.2, \"interactionType\": 1, \"questionType\": 2, \"questionId\": \"2_Q2\", \"learnToolsVersion\": \"0.3.4\", \"failureMessage\": \"\", \"exceptionClass\": \"\", \"trace\": \"\"}}, \"*\")"
      ],
      "text/plain": [
       "<IPython.core.display.Javascript object>"
      ]
     },
     "metadata": {},
     "output_type": "display_data"
    },
    {
     "data": {
      "text/markdown": [
       "<span style=\"color:#33cc33\">Correct</span>"
      ],
      "text/plain": [
       "Correct"
      ]
     },
     "metadata": {},
     "output_type": "display_data"
    }
   ],
   "source": [
    "# YOUR CODE HERE\n",
    "# One-hot encode BldgType. Use `prefix=\"Bldg\"` in `get_dummies`\n",
    "X_2 = pd.get_dummies(X.BldgType, prefix=\"Bldg\") \n",
    "# Multiply\n",
    "X_2 = X_2.mul(X.GrLivArea, axis=0)\n",
    "\n",
    "\n",
    "# Check your answer\n",
    "q_2.check()"
   ]
  },
  {
   "cell_type": "code",
   "execution_count": 5,
   "id": "120f7fcb",
   "metadata": {
    "execution": {
     "iopub.execute_input": "2022-07-24T02:36:23.803722Z",
     "iopub.status.busy": "2022-07-24T02:36:23.803068Z",
     "iopub.status.idle": "2022-07-24T02:36:23.807533Z",
     "shell.execute_reply": "2022-07-24T02:36:23.806332Z"
    },
    "lines_to_next_cell": 0,
    "papermill": {
     "duration": 0.014502,
     "end_time": "2022-07-24T02:36:23.809803",
     "exception": false,
     "start_time": "2022-07-24T02:36:23.795301",
     "status": "completed"
    },
    "tags": []
   },
   "outputs": [],
   "source": [
    "# Lines below will give you a hint or solution code\n",
    "#q_2.hint()\n",
    "#q_2.solution()"
   ]
  },
  {
   "cell_type": "markdown",
   "id": "5b32df7d",
   "metadata": {
    "lines_to_next_cell": 0,
    "papermill": {
     "duration": 0.006651,
     "end_time": "2022-07-24T02:36:23.823332",
     "exception": false,
     "start_time": "2022-07-24T02:36:23.816681",
     "status": "completed"
    },
    "tags": []
   },
   "source": [
    "# 3) Count Feature\n",
    "\n",
    "Let's try creating a feature that describes how many kinds of outdoor areas a dwelling has. Create a feature `PorchTypes` that counts how many of the following are greater than 0.0:\n",
    "\n",
    "```\n",
    "WoodDeckSF\n",
    "OpenPorchSF\n",
    "EnclosedPorch\n",
    "Threeseasonporch\n",
    "ScreenPorch\n",
    "```"
   ]
  },
  {
   "cell_type": "code",
   "execution_count": 6,
   "id": "a339d94e",
   "metadata": {
    "execution": {
     "iopub.execute_input": "2022-07-24T02:36:23.839149Z",
     "iopub.status.busy": "2022-07-24T02:36:23.838767Z",
     "iopub.status.idle": "2022-07-24T02:36:23.861873Z",
     "shell.execute_reply": "2022-07-24T02:36:23.860738Z"
    },
    "lines_to_next_cell": 0,
    "papermill": {
     "duration": 0.033965,
     "end_time": "2022-07-24T02:36:23.864145",
     "exception": false,
     "start_time": "2022-07-24T02:36:23.830180",
     "status": "completed"
    },
    "tags": []
   },
   "outputs": [
    {
     "data": {
      "application/javascript": [
       "parent.postMessage({\"jupyterEvent\": \"custom.exercise_interaction\", \"data\": {\"outcomeType\": 1, \"valueTowardsCompletion\": 0.2, \"interactionType\": 1, \"questionType\": 2, \"questionId\": \"3_Q3\", \"learnToolsVersion\": \"0.3.4\", \"failureMessage\": \"\", \"exceptionClass\": \"\", \"trace\": \"\"}}, \"*\")"
      ],
      "text/plain": [
       "<IPython.core.display.Javascript object>"
      ]
     },
     "metadata": {},
     "output_type": "display_data"
    },
    {
     "data": {
      "text/markdown": [
       "<span style=\"color:#33cc33\">Correct</span>"
      ],
      "text/plain": [
       "Correct"
      ]
     },
     "metadata": {},
     "output_type": "display_data"
    }
   ],
   "source": [
    "X_3 = pd.DataFrame()\n",
    "\n",
    "# YOUR CODE HERE\n",
    "X_3[\"PorchTypes\"] = X[['WoodDeckSF','OpenPorchSF','EnclosedPorch','Threeseasonporch','ScreenPorch']].gt(0).sum(axis=1)\n",
    "\n",
    "\n",
    "# Check your answer\n",
    "q_3.check()"
   ]
  },
  {
   "cell_type": "code",
   "execution_count": 7,
   "id": "f251c7ad",
   "metadata": {
    "execution": {
     "iopub.execute_input": "2022-07-24T02:36:23.880466Z",
     "iopub.status.busy": "2022-07-24T02:36:23.879653Z",
     "iopub.status.idle": "2022-07-24T02:36:23.884875Z",
     "shell.execute_reply": "2022-07-24T02:36:23.883495Z"
    },
    "lines_to_next_cell": 0,
    "papermill": {
     "duration": 0.016146,
     "end_time": "2022-07-24T02:36:23.887375",
     "exception": false,
     "start_time": "2022-07-24T02:36:23.871229",
     "status": "completed"
    },
    "tags": []
   },
   "outputs": [],
   "source": [
    "# Lines below will give you a hint or solution code\n",
    "#q_3.hint()\n",
    "#q_3.solution()"
   ]
  },
  {
   "cell_type": "markdown",
   "id": "c873ba81",
   "metadata": {
    "papermill": {
     "duration": 0.006711,
     "end_time": "2022-07-24T02:36:23.901340",
     "exception": false,
     "start_time": "2022-07-24T02:36:23.894629",
     "status": "completed"
    },
    "tags": []
   },
   "source": [
    "# 4) Break Down a Categorical Feature\n",
    "\n",
    "`MSSubClass` describes the type of a dwelling:"
   ]
  },
  {
   "cell_type": "code",
   "execution_count": 8,
   "id": "cc202c56",
   "metadata": {
    "execution": {
     "iopub.execute_input": "2022-07-24T02:36:23.918017Z",
     "iopub.status.busy": "2022-07-24T02:36:23.917615Z",
     "iopub.status.idle": "2022-07-24T02:36:23.925409Z",
     "shell.execute_reply": "2022-07-24T02:36:23.924524Z"
    },
    "papermill": {
     "duration": 0.019147,
     "end_time": "2022-07-24T02:36:23.927507",
     "exception": false,
     "start_time": "2022-07-24T02:36:23.908360",
     "status": "completed"
    },
    "tags": []
   },
   "outputs": [
    {
     "data": {
      "text/plain": [
       "array(['One_Story_1946_and_Newer_All_Styles', 'Two_Story_1946_and_Newer',\n",
       "       'One_Story_PUD_1946_and_Newer',\n",
       "       'One_and_Half_Story_Finished_All_Ages', 'Split_Foyer',\n",
       "       'Two_Story_PUD_1946_and_Newer', 'Split_or_Multilevel',\n",
       "       'One_Story_1945_and_Older', 'Duplex_All_Styles_and_Ages',\n",
       "       'Two_Family_conversion_All_Styles_and_Ages',\n",
       "       'One_and_Half_Story_Unfinished_All_Ages',\n",
       "       'Two_Story_1945_and_Older', 'Two_and_Half_Story_All_Ages',\n",
       "       'One_Story_with_Finished_Attic_All_Ages',\n",
       "       'PUD_Multilevel_Split_Level_Foyer',\n",
       "       'One_and_Half_Story_PUD_All_Ages'], dtype=object)"
      ]
     },
     "execution_count": 8,
     "metadata": {},
     "output_type": "execute_result"
    }
   ],
   "source": [
    "df.MSSubClass.unique()"
   ]
  },
  {
   "cell_type": "markdown",
   "id": "eabe566c",
   "metadata": {
    "papermill": {
     "duration": 0.00704,
     "end_time": "2022-07-24T02:36:23.941917",
     "exception": false,
     "start_time": "2022-07-24T02:36:23.934877",
     "status": "completed"
    },
    "tags": []
   },
   "source": [
    "You can see that there is a more general categorization described (roughly) by the first word of each category. Create a feature containing only these first words by splitting `MSSubClass` at the first underscore `_`. (Hint: In the `split` method use an argument `n=1`.)"
   ]
  },
  {
   "cell_type": "code",
   "execution_count": 9,
   "id": "6b3931c3",
   "metadata": {
    "execution": {
     "iopub.execute_input": "2022-07-24T02:36:23.958783Z",
     "iopub.status.busy": "2022-07-24T02:36:23.958353Z",
     "iopub.status.idle": "2022-07-24T02:36:23.982862Z",
     "shell.execute_reply": "2022-07-24T02:36:23.981729Z"
    },
    "lines_to_next_cell": 0,
    "papermill": {
     "duration": 0.035855,
     "end_time": "2022-07-24T02:36:23.985233",
     "exception": false,
     "start_time": "2022-07-24T02:36:23.949378",
     "status": "completed"
    },
    "tags": []
   },
   "outputs": [
    {
     "data": {
      "application/javascript": [
       "parent.postMessage({\"jupyterEvent\": \"custom.exercise_interaction\", \"data\": {\"outcomeType\": 1, \"valueTowardsCompletion\": 0.2, \"interactionType\": 1, \"questionType\": 2, \"questionId\": \"4_Q4\", \"learnToolsVersion\": \"0.3.4\", \"failureMessage\": \"\", \"exceptionClass\": \"\", \"trace\": \"\"}}, \"*\")"
      ],
      "text/plain": [
       "<IPython.core.display.Javascript object>"
      ]
     },
     "metadata": {},
     "output_type": "display_data"
    },
    {
     "data": {
      "text/markdown": [
       "<span style=\"color:#33cc33\">Correct</span>"
      ],
      "text/plain": [
       "Correct"
      ]
     },
     "metadata": {},
     "output_type": "display_data"
    }
   ],
   "source": [
    "X_4 = pd.DataFrame()\n",
    "\n",
    "# YOUR CODE HERE 'MSClass'\n",
    "# X_4['MSClass'] = X.MSSubClass.apply(lambda item: item.split('_')[0])\n",
    "X_4['MSClass'] = X.MSSubClass.str.split('_',n=1,expand=True)[0]\n",
    " \n",
    "# Check your answer\n",
    "q_4.check()"
   ]
  },
  {
   "cell_type": "code",
   "execution_count": 10,
   "id": "151243ce",
   "metadata": {
    "execution": {
     "iopub.execute_input": "2022-07-24T02:36:24.002140Z",
     "iopub.status.busy": "2022-07-24T02:36:24.001764Z",
     "iopub.status.idle": "2022-07-24T02:36:24.016311Z",
     "shell.execute_reply": "2022-07-24T02:36:24.015097Z"
    },
    "lines_to_next_cell": 0,
    "papermill": {
     "duration": 0.02577,
     "end_time": "2022-07-24T02:36:24.018785",
     "exception": false,
     "start_time": "2022-07-24T02:36:23.993015",
     "status": "completed"
    },
    "tags": []
   },
   "outputs": [
    {
     "data": {
      "application/javascript": [
       "parent.postMessage({\"jupyterEvent\": \"custom.exercise_interaction\", \"data\": {\"interactionType\": 2, \"questionType\": 2, \"questionId\": \"4_Q4\", \"learnToolsVersion\": \"0.3.4\", \"valueTowardsCompletion\": 0.0, \"failureMessage\": \"\", \"exceptionClass\": \"\", \"trace\": \"\", \"outcomeType\": 4}}, \"*\")"
      ],
      "text/plain": [
       "<IPython.core.display.Javascript object>"
      ]
     },
     "metadata": {},
     "output_type": "display_data"
    },
    {
     "data": {
      "text/markdown": [
       "<span style=\"color:#3366cc\">Hint:</span> Your code should look something like:\n",
       "```python\n",
       "X_4 = pd.DataFrame()\n",
       "\n",
       "X_4[\"MSClass\"] = df.____.str.____(____, n=1, expand=True)[____]\n",
       "```\n"
      ],
      "text/plain": [
       "Hint: Your code should look something like:\n",
       "```python\n",
       "X_4 = pd.DataFrame()\n",
       "\n",
       "X_4[\"MSClass\"] = df.____.str.____(____, n=1, expand=True)[____]\n",
       "```"
      ]
     },
     "metadata": {},
     "output_type": "display_data"
    },
    {
     "data": {
      "application/javascript": [
       "parent.postMessage({\"jupyterEvent\": \"custom.exercise_interaction\", \"data\": {\"interactionType\": 3, \"questionType\": 2, \"questionId\": \"4_Q4\", \"learnToolsVersion\": \"0.3.4\", \"valueTowardsCompletion\": 0.0, \"failureMessage\": \"\", \"exceptionClass\": \"\", \"trace\": \"\", \"outcomeType\": 4}}, \"*\")"
      ],
      "text/plain": [
       "<IPython.core.display.Javascript object>"
      ]
     },
     "metadata": {},
     "output_type": "display_data"
    },
    {
     "data": {
      "text/markdown": [
       "<span style=\"color:#33cc99\">Solution:</span> \n",
       "```python\n",
       "\n",
       "X_4 = pd.DataFrame()\n",
       "\n",
       "X_4[\"MSClass\"] = df.MSSubClass.str.split(\"_\", n=1, expand=True)[0]\n",
       "\n",
       "```"
      ],
      "text/plain": [
       "Solution: \n",
       "```python\n",
       "\n",
       "X_4 = pd.DataFrame()\n",
       "\n",
       "X_4[\"MSClass\"] = df.MSSubClass.str.split(\"_\", n=1, expand=True)[0]\n",
       "\n",
       "```"
      ]
     },
     "metadata": {},
     "output_type": "display_data"
    }
   ],
   "source": [
    "# Lines below will give you a hint or solution code\n",
    "q_4.hint()\n",
    "q_4.solution()"
   ]
  },
  {
   "cell_type": "markdown",
   "id": "f1aed410",
   "metadata": {
    "papermill": {
     "duration": 0.007667,
     "end_time": "2022-07-24T02:36:24.034464",
     "exception": false,
     "start_time": "2022-07-24T02:36:24.026797",
     "status": "completed"
    },
    "tags": []
   },
   "source": [
    "# 5) Use a Grouped Transform\n",
    "\n",
    "The value of a home often depends on how it compares to typical homes in its neighborhood. Create a feature `MedNhbdArea` that describes the *median* of `GrLivArea` grouped on `Neighborhood`."
   ]
  },
  {
   "cell_type": "code",
   "execution_count": 11,
   "id": "bb70fe51",
   "metadata": {
    "execution": {
     "iopub.execute_input": "2022-07-24T02:36:24.051972Z",
     "iopub.status.busy": "2022-07-24T02:36:24.051564Z",
     "iopub.status.idle": "2022-07-24T02:36:24.072561Z",
     "shell.execute_reply": "2022-07-24T02:36:24.071224Z"
    },
    "lines_to_next_cell": 0,
    "papermill": {
     "duration": 0.032657,
     "end_time": "2022-07-24T02:36:24.075066",
     "exception": false,
     "start_time": "2022-07-24T02:36:24.042409",
     "status": "completed"
    },
    "tags": []
   },
   "outputs": [
    {
     "data": {
      "application/javascript": [
       "parent.postMessage({\"jupyterEvent\": \"custom.exercise_interaction\", \"data\": {\"outcomeType\": 1, \"valueTowardsCompletion\": 0.2, \"interactionType\": 1, \"questionType\": 2, \"questionId\": \"5_Q5\", \"learnToolsVersion\": \"0.3.4\", \"failureMessage\": \"\", \"exceptionClass\": \"\", \"trace\": \"\"}}, \"*\")"
      ],
      "text/plain": [
       "<IPython.core.display.Javascript object>"
      ]
     },
     "metadata": {},
     "output_type": "display_data"
    },
    {
     "data": {
      "text/markdown": [
       "<span style=\"color:#33cc33\">Correct</span>"
      ],
      "text/plain": [
       "Correct"
      ]
     },
     "metadata": {},
     "output_type": "display_data"
    }
   ],
   "source": [
    "X_5 = pd.DataFrame()\n",
    "\n",
    "# YOUR CODE HERE\n",
    "X_5[\"MedNhbdArea\"] = X.groupby('Neighborhood').GrLivArea.transform('median')\n",
    "\n",
    "# Check your answer\n",
    "q_5.check()"
   ]
  },
  {
   "cell_type": "code",
   "execution_count": 12,
   "id": "856a3285",
   "metadata": {
    "execution": {
     "iopub.execute_input": "2022-07-24T02:36:24.093815Z",
     "iopub.status.busy": "2022-07-24T02:36:24.093368Z",
     "iopub.status.idle": "2022-07-24T02:36:24.098500Z",
     "shell.execute_reply": "2022-07-24T02:36:24.097359Z"
    },
    "lines_to_next_cell": 0,
    "papermill": {
     "duration": 0.01767,
     "end_time": "2022-07-24T02:36:24.100971",
     "exception": false,
     "start_time": "2022-07-24T02:36:24.083301",
     "status": "completed"
    },
    "tags": []
   },
   "outputs": [],
   "source": [
    "# Lines below will give you a hint or solution code\n",
    "#q_5.hint()\n",
    "#q_5.solution()"
   ]
  },
  {
   "cell_type": "markdown",
   "id": "5c223b5b",
   "metadata": {
    "papermill": {
     "duration": 0.007934,
     "end_time": "2022-07-24T02:36:24.117346",
     "exception": false,
     "start_time": "2022-07-24T02:36:24.109412",
     "status": "completed"
    },
    "tags": []
   },
   "source": [
    "Now you've made your first new feature set! If you like, you can run the cell below to score the model with all of your new features added:"
   ]
  },
  {
   "cell_type": "code",
   "execution_count": 13,
   "id": "f98dabee",
   "metadata": {
    "execution": {
     "iopub.execute_input": "2022-07-24T02:36:24.135608Z",
     "iopub.status.busy": "2022-07-24T02:36:24.135181Z",
     "iopub.status.idle": "2022-07-24T02:36:28.768379Z",
     "shell.execute_reply": "2022-07-24T02:36:28.767388Z"
    },
    "papermill": {
     "duration": 4.645187,
     "end_time": "2022-07-24T02:36:28.770751",
     "exception": false,
     "start_time": "2022-07-24T02:36:24.125564",
     "status": "completed"
    },
    "tags": []
   },
   "outputs": [
    {
     "data": {
      "text/plain": [
       "0.13847331710099203"
      ]
     },
     "execution_count": 13,
     "metadata": {},
     "output_type": "execute_result"
    }
   ],
   "source": [
    "X_new = X.join([X_1, X_2, X_3, X_4, X_5])\n",
    "score_dataset(X_new, y)"
   ]
  },
  {
   "cell_type": "markdown",
   "id": "84af8d96",
   "metadata": {
    "papermill": {
     "duration": 0.007972,
     "end_time": "2022-07-24T02:36:28.788593",
     "exception": false,
     "start_time": "2022-07-24T02:36:28.780621",
     "status": "completed"
    },
    "tags": []
   },
   "source": [
    "# Keep Going #\n",
    "\n",
    "[**Untangle spatial relationships**](https://www.kaggle.com/ryanholbrook/clustering-with-k-means) by adding cluster labels to your dataset."
   ]
  },
  {
   "cell_type": "markdown",
   "id": "b1370c02",
   "metadata": {
    "papermill": {
     "duration": 0.007909,
     "end_time": "2022-07-24T02:36:28.804645",
     "exception": false,
     "start_time": "2022-07-24T02:36:28.796736",
     "status": "completed"
    },
    "tags": []
   },
   "source": [
    "---\n",
    "\n",
    "\n",
    "\n",
    "\n",
    "*Have questions or comments? Visit the [course discussion forum](https://www.kaggle.com/learn/feature-engineering/discussion) to chat with other learners.*"
   ]
  }
 ],
 "metadata": {
  "kernelspec": {
   "display_name": "Python 3",
   "language": "python",
   "name": "python3"
  },
  "language_info": {
   "codemirror_mode": {
    "name": "ipython",
    "version": 3
   },
   "file_extension": ".py",
   "mimetype": "text/x-python",
   "name": "python",
   "nbconvert_exporter": "python",
   "pygments_lexer": "ipython3",
   "version": "3.7.12"
  },
  "papermill": {
   "default_parameters": {},
   "duration": 17.946267,
   "end_time": "2022-07-24T02:36:29.534199",
   "environment_variables": {},
   "exception": null,
   "input_path": "__notebook__.ipynb",
   "output_path": "__notebook__.ipynb",
   "parameters": {},
   "start_time": "2022-07-24T02:36:11.587932",
   "version": "2.3.4"
  }
 },
 "nbformat": 4,
 "nbformat_minor": 5
}
