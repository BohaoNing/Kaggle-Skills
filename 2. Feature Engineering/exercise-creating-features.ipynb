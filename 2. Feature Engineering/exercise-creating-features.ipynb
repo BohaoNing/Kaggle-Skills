{
 "cells": [
  {
   "cell_type": "markdown",
   "id": "0111a9d9",
   "metadata": {
    "papermill": {
     "duration": 0.008222,
     "end_time": "2022-09-16T14:45:43.362414",
     "exception": false,
     "start_time": "2022-09-16T14:45:43.354192",
     "status": "completed"
    },
    "tags": []
   },
   "source": [
    "**This notebook is an exercise in the [Feature Engineering](https://www.kaggle.com/learn/feature-engineering) course.  You can reference the tutorial at [this link](https://www.kaggle.com/ryanholbrook/creating-features).**\n",
    "\n",
    "---\n"
   ]
  },
  {
   "cell_type": "markdown",
   "id": "7ce2bd33",
   "metadata": {
    "papermill": {
     "duration": 0.006269,
     "end_time": "2022-09-16T14:45:43.375015",
     "exception": false,
     "start_time": "2022-09-16T14:45:43.368746",
     "status": "completed"
    },
    "tags": []
   },
   "source": [
    "# Introduction #\n",
    "\n",
    "In this exercise you'll start developing the features you identified in Exercise 2 as having the most potential. As you work through this exercise, you might take a moment to look at the data documentation again and consider whether the features we're creating make sense from a real-world perspective, and whether there are any useful combinations that stand out to you.\n",
    "\n",
    "Run this cell to set everything up!"
   ]
  },
  {
   "cell_type": "code",
   "execution_count": 1,
   "id": "5e71d3ab",
   "metadata": {
    "execution": {
     "iopub.execute_input": "2022-09-16T14:45:43.388608Z",
     "iopub.status.busy": "2022-09-16T14:45:43.387988Z",
     "iopub.status.idle": "2022-09-16T14:45:44.792556Z",
     "shell.execute_reply": "2022-09-16T14:45:44.791042Z"
    },
    "papermill": {
     "duration": 1.415675,
     "end_time": "2022-09-16T14:45:44.796435",
     "exception": false,
     "start_time": "2022-09-16T14:45:43.380760",
     "status": "completed"
    },
    "tags": []
   },
   "outputs": [],
   "source": [
    "# Setup feedback system\n",
    "from learntools.core import binder\n",
    "binder.bind(globals())\n",
    "from learntools.feature_engineering_new.ex3 import *\n",
    "\n",
    "import numpy as np\n",
    "import pandas as pd\n",
    "from sklearn.model_selection import cross_val_score\n",
    "from xgboost import XGBRegressor\n",
    "\n",
    "\n",
    "def score_dataset(X, y, model=XGBRegressor()):\n",
    "    # Label encoding for categoricals\n",
    "    for colname in X.select_dtypes([\"category\", \"object\"]):\n",
    "        X[colname], _ = X[colname].factorize()\n",
    "    # Metric for Housing competition is RMSLE (Root Mean Squared Log Error)\n",
    "    score = cross_val_score(\n",
    "        model, X, y, cv=5, scoring=\"neg_mean_squared_log_error\",\n",
    "    )\n",
    "    score = -1 * score.mean()\n",
    "    score = np.sqrt(score)\n",
    "    return score\n",
    "\n",
    "\n",
    "# Prepare data\n",
    "df = pd.read_csv(\"../input/fe-course-data/ames.csv\")\n",
    "X = df.copy()\n",
    "y = X.pop(\"SalePrice\")"
   ]
  },
  {
   "cell_type": "markdown",
   "id": "062526c1",
   "metadata": {
    "papermill": {
     "duration": 0.007136,
     "end_time": "2022-09-16T14:45:44.811795",
     "exception": false,
     "start_time": "2022-09-16T14:45:44.804659",
     "status": "completed"
    },
    "tags": []
   },
   "source": [
    "-------------------------------------------------------------------------------\n",
    "\n",
    "Let's start with a few mathematical combinations. We'll focus on features describing areas -- having the same units (square-feet) makes it easy to combine them in sensible ways. Since we're using XGBoost (a tree-based model), we'll focus on ratios and sums.\n",
    "\n",
    "# 1) Create Mathematical Transforms\n",
    "\n",
    "Create the following features:\n",
    "\n",
    "- `LivLotRatio`: the ratio of `GrLivArea` to `LotArea`\n",
    "- `Spaciousness`: the sum of `FirstFlrSF` and `SecondFlrSF` divided by `TotRmsAbvGrd`\n",
    "- `TotalOutsideSF`: the sum of `WoodDeckSF`, `OpenPorchSF`, `EnclosedPorch`, `Threeseasonporch`, and `ScreenPorch`"
   ]
  },
  {
   "cell_type": "code",
   "execution_count": 2,
   "id": "4a1c4078",
   "metadata": {
    "execution": {
     "iopub.execute_input": "2022-09-16T14:45:44.826542Z",
     "iopub.status.busy": "2022-09-16T14:45:44.825975Z",
     "iopub.status.idle": "2022-09-16T14:45:44.856319Z",
     "shell.execute_reply": "2022-09-16T14:45:44.855050Z"
    },
    "lines_to_next_cell": 0,
    "papermill": {
     "duration": 0.041094,
     "end_time": "2022-09-16T14:45:44.859356",
     "exception": false,
     "start_time": "2022-09-16T14:45:44.818262",
     "status": "completed"
    },
    "tags": []
   },
   "outputs": [
    {
     "data": {
      "application/javascript": [
       "parent.postMessage({\"jupyterEvent\": \"custom.exercise_interaction\", \"data\": {\"outcomeType\": 1, \"valueTowardsCompletion\": 0.2, \"interactionType\": 1, \"questionType\": 2, \"questionId\": \"1_Q1\", \"learnToolsVersion\": \"0.3.4\", \"failureMessage\": \"\", \"exceptionClass\": \"\", \"trace\": \"\"}}, \"*\")"
      ],
      "text/plain": [
       "<IPython.core.display.Javascript object>"
      ]
     },
     "metadata": {},
     "output_type": "display_data"
    },
    {
     "data": {
      "text/markdown": [
       "<span style=\"color:#33cc33\">Correct</span>"
      ],
      "text/plain": [
       "Correct"
      ]
     },
     "metadata": {},
     "output_type": "display_data"
    }
   ],
   "source": [
    "# YOUR CODE HERE\n",
    "X_1 = pd.DataFrame()  # dataframe to hold new features\n",
    "\n",
    "X_1[\"LivLotRatio\"] = X.GrLivArea / X.LotArea\n",
    "X_1[\"Spaciousness\"] = (X.FirstFlrSF + X.SecondFlrSF) / X.TotRmsAbvGrd\n",
    "X_1[\"TotalOutsideSF\"] = X.WoodDeckSF + X.OpenPorchSF + X.EnclosedPorch + X.Threeseasonporch + X.ScreenPorch\n",
    "\n",
    "\n",
    "# Check your answer\n",
    "q_1.check()"
   ]
  },
  {
   "cell_type": "code",
   "execution_count": 3,
   "id": "8e8a674f",
   "metadata": {
    "execution": {
     "iopub.execute_input": "2022-09-16T14:45:44.873722Z",
     "iopub.status.busy": "2022-09-16T14:45:44.873106Z",
     "iopub.status.idle": "2022-09-16T14:45:44.878233Z",
     "shell.execute_reply": "2022-09-16T14:45:44.877070Z"
    },
    "lines_to_next_cell": 0,
    "papermill": {
     "duration": 0.014984,
     "end_time": "2022-09-16T14:45:44.880713",
     "exception": false,
     "start_time": "2022-09-16T14:45:44.865729",
     "status": "completed"
    },
    "tags": []
   },
   "outputs": [],
   "source": [
    "# Lines below will give you a hint or solution code\n",
    "#q_1.hint()\n",
    "#q_1.solution()"
   ]
  },
  {
   "cell_type": "markdown",
   "id": "e4557cc9",
   "metadata": {
    "papermill": {
     "duration": 0.005592,
     "end_time": "2022-09-16T14:45:44.892420",
     "exception": false,
     "start_time": "2022-09-16T14:45:44.886828",
     "status": "completed"
    },
    "tags": []
   },
   "source": [
    "-------------------------------------------------------------------------------\n",
    "\n",
    "If you've discovered an interaction effect between a numeric feature and a categorical feature, you might want to model it explicitly using a one-hot encoding, like so:\n",
    "\n",
    "```\n",
    "# One-hot encode Categorical feature, adding a column prefix \"Cat\"\n",
    "X_new = pd.get_dummies(df.Categorical, prefix=\"Cat\")\n",
    "\n",
    "# Multiply row-by-row\n",
    "X_new = X_new.mul(df.Continuous, axis=0)\n",
    "\n",
    "# Join the new features to the feature set\n",
    "X = X.join(X_new)\n",
    "```\n",
    "\n",
    "# 2) Interaction with a Categorical\n",
    "\n",
    "We discovered an interaction between `BldgType` and `GrLivArea` in Exercise 2. Now create their interaction features."
   ]
  },
  {
   "cell_type": "code",
   "execution_count": 4,
   "id": "b5e805c0",
   "metadata": {
    "execution": {
     "iopub.execute_input": "2022-09-16T14:45:44.906707Z",
     "iopub.status.busy": "2022-09-16T14:45:44.905828Z",
     "iopub.status.idle": "2022-09-16T14:45:44.921113Z",
     "shell.execute_reply": "2022-09-16T14:45:44.919841Z"
    },
    "lines_to_next_cell": 0,
    "papermill": {
     "duration": 0.025339,
     "end_time": "2022-09-16T14:45:44.923655",
     "exception": false,
     "start_time": "2022-09-16T14:45:44.898316",
     "status": "completed"
    },
    "tags": []
   },
   "outputs": [
    {
     "data": {
      "application/javascript": [
       "parent.postMessage({\"jupyterEvent\": \"custom.exercise_interaction\", \"data\": {\"outcomeType\": 1, \"valueTowardsCompletion\": 0.2, \"interactionType\": 1, \"questionType\": 2, \"questionId\": \"2_Q2\", \"learnToolsVersion\": \"0.3.4\", \"failureMessage\": \"\", \"exceptionClass\": \"\", \"trace\": \"\"}}, \"*\")"
      ],
      "text/plain": [
       "<IPython.core.display.Javascript object>"
      ]
     },
     "metadata": {},
     "output_type": "display_data"
    },
    {
     "data": {
      "text/markdown": [
       "<span style=\"color:#33cc33\">Correct</span>"
      ],
      "text/plain": [
       "Correct"
      ]
     },
     "metadata": {},
     "output_type": "display_data"
    }
   ],
   "source": [
    "# YOUR CODE HERE\n",
    "# One-hot encode BldgType. Use `prefix=\"Bldg\"` in `get_dummies`\n",
    "X_2 = pd.get_dummies(X.BldgType, prefix=\"Bldg\") \n",
    "# Multiply\n",
    "X_2 = X_2.mul(X.GrLivArea, axis=0)\n",
    "\n",
    "\n",
    "# Check your answer\n",
    "q_2.check()"
   ]
  },
  {
   "cell_type": "code",
   "execution_count": 5,
   "id": "58ee5e83",
   "metadata": {
    "execution": {
     "iopub.execute_input": "2022-09-16T14:45:44.937796Z",
     "iopub.status.busy": "2022-09-16T14:45:44.937368Z",
     "iopub.status.idle": "2022-09-16T14:45:44.942013Z",
     "shell.execute_reply": "2022-09-16T14:45:44.940792Z"
    },
    "lines_to_next_cell": 0,
    "papermill": {
     "duration": 0.014287,
     "end_time": "2022-09-16T14:45:44.944156",
     "exception": false,
     "start_time": "2022-09-16T14:45:44.929869",
     "status": "completed"
    },
    "tags": []
   },
   "outputs": [],
   "source": [
    "# Lines below will give you a hint or solution code\n",
    "#q_2.hint()\n",
    "#q_2.solution()"
   ]
  },
  {
   "cell_type": "markdown",
   "id": "c6af7276",
   "metadata": {
    "lines_to_next_cell": 0,
    "papermill": {
     "duration": 0.005815,
     "end_time": "2022-09-16T14:45:44.956099",
     "exception": false,
     "start_time": "2022-09-16T14:45:44.950284",
     "status": "completed"
    },
    "tags": []
   },
   "source": [
    "# 3) Count Feature\n",
    "\n",
    "Let's try creating a feature that describes how many kinds of outdoor areas a dwelling has. Create a feature `PorchTypes` that counts how many of the following are greater than 0.0:\n",
    "\n",
    "```\n",
    "WoodDeckSF\n",
    "OpenPorchSF\n",
    "EnclosedPorch\n",
    "Threeseasonporch\n",
    "ScreenPorch\n",
    "```"
   ]
  },
  {
   "cell_type": "code",
   "execution_count": 6,
   "id": "700a10af",
   "metadata": {
    "execution": {
     "iopub.execute_input": "2022-09-16T14:45:44.970090Z",
     "iopub.status.busy": "2022-09-16T14:45:44.969655Z",
     "iopub.status.idle": "2022-09-16T14:45:44.993275Z",
     "shell.execute_reply": "2022-09-16T14:45:44.992305Z"
    },
    "lines_to_next_cell": 0,
    "papermill": {
     "duration": 0.033339,
     "end_time": "2022-09-16T14:45:44.995601",
     "exception": false,
     "start_time": "2022-09-16T14:45:44.962262",
     "status": "completed"
    },
    "tags": []
   },
   "outputs": [
    {
     "data": {
      "application/javascript": [
       "parent.postMessage({\"jupyterEvent\": \"custom.exercise_interaction\", \"data\": {\"outcomeType\": 1, \"valueTowardsCompletion\": 0.2, \"interactionType\": 1, \"questionType\": 2, \"questionId\": \"3_Q3\", \"learnToolsVersion\": \"0.3.4\", \"failureMessage\": \"\", \"exceptionClass\": \"\", \"trace\": \"\"}}, \"*\")"
      ],
      "text/plain": [
       "<IPython.core.display.Javascript object>"
      ]
     },
     "metadata": {},
     "output_type": "display_data"
    },
    {
     "data": {
      "text/markdown": [
       "<span style=\"color:#33cc33\">Correct</span>"
      ],
      "text/plain": [
       "Correct"
      ]
     },
     "metadata": {},
     "output_type": "display_data"
    }
   ],
   "source": [
    "X_3 = pd.DataFrame()\n",
    "\n",
    "# YOUR CODE HERE\n",
    "X_3[\"PorchTypes\"] = X[['WoodDeckSF','OpenPorchSF','EnclosedPorch','Threeseasonporch','ScreenPorch']].gt(0).sum(axis=1)\n",
    "\n",
    "\n",
    "# Check your answer\n",
    "q_3.check()"
   ]
  },
  {
   "cell_type": "code",
   "execution_count": 7,
   "id": "5e649f07",
   "metadata": {
    "execution": {
     "iopub.execute_input": "2022-09-16T14:45:45.011286Z",
     "iopub.status.busy": "2022-09-16T14:45:45.010866Z",
     "iopub.status.idle": "2022-09-16T14:45:45.015216Z",
     "shell.execute_reply": "2022-09-16T14:45:45.014139Z"
    },
    "lines_to_next_cell": 0,
    "papermill": {
     "duration": 0.014482,
     "end_time": "2022-09-16T14:45:45.017499",
     "exception": false,
     "start_time": "2022-09-16T14:45:45.003017",
     "status": "completed"
    },
    "tags": []
   },
   "outputs": [],
   "source": [
    "# Lines below will give you a hint or solution code\n",
    "#q_3.hint()\n",
    "#q_3.solution()"
   ]
  },
  {
   "cell_type": "markdown",
   "id": "fb64d698",
   "metadata": {
    "papermill": {
     "duration": 0.006091,
     "end_time": "2022-09-16T14:45:45.030408",
     "exception": false,
     "start_time": "2022-09-16T14:45:45.024317",
     "status": "completed"
    },
    "tags": []
   },
   "source": [
    "# 4) Break Down a Categorical Feature\n",
    "\n",
    "`MSSubClass` describes the type of a dwelling:"
   ]
  },
  {
   "cell_type": "code",
   "execution_count": 8,
   "id": "5cbb337a",
   "metadata": {
    "execution": {
     "iopub.execute_input": "2022-09-16T14:45:45.045115Z",
     "iopub.status.busy": "2022-09-16T14:45:45.044719Z",
     "iopub.status.idle": "2022-09-16T14:45:45.054455Z",
     "shell.execute_reply": "2022-09-16T14:45:45.053581Z"
    },
    "papermill": {
     "duration": 0.020153,
     "end_time": "2022-09-16T14:45:45.056966",
     "exception": false,
     "start_time": "2022-09-16T14:45:45.036813",
     "status": "completed"
    },
    "tags": []
   },
   "outputs": [
    {
     "data": {
      "text/plain": [
       "array(['One_Story_1946_and_Newer_All_Styles', 'Two_Story_1946_and_Newer',\n",
       "       'One_Story_PUD_1946_and_Newer',\n",
       "       'One_and_Half_Story_Finished_All_Ages', 'Split_Foyer',\n",
       "       'Two_Story_PUD_1946_and_Newer', 'Split_or_Multilevel',\n",
       "       'One_Story_1945_and_Older', 'Duplex_All_Styles_and_Ages',\n",
       "       'Two_Family_conversion_All_Styles_and_Ages',\n",
       "       'One_and_Half_Story_Unfinished_All_Ages',\n",
       "       'Two_Story_1945_and_Older', 'Two_and_Half_Story_All_Ages',\n",
       "       'One_Story_with_Finished_Attic_All_Ages',\n",
       "       'PUD_Multilevel_Split_Level_Foyer',\n",
       "       'One_and_Half_Story_PUD_All_Ages'], dtype=object)"
      ]
     },
     "execution_count": 8,
     "metadata": {},
     "output_type": "execute_result"
    }
   ],
   "source": [
    "df.MSSubClass.unique()"
   ]
  },
  {
   "cell_type": "markdown",
   "id": "74313ed9",
   "metadata": {
    "papermill": {
     "duration": 0.006612,
     "end_time": "2022-09-16T14:45:45.070315",
     "exception": false,
     "start_time": "2022-09-16T14:45:45.063703",
     "status": "completed"
    },
    "tags": []
   },
   "source": [
    "You can see that there is a more general categorization described (roughly) by the first word of each category. Create a feature containing only these first words by splitting `MSSubClass` at the first underscore `_`. (Hint: In the `split` method use an argument `n=1`.)"
   ]
  },
  {
   "cell_type": "code",
   "execution_count": 9,
   "id": "b57f8599",
   "metadata": {
    "execution": {
     "iopub.execute_input": "2022-09-16T14:45:45.085378Z",
     "iopub.status.busy": "2022-09-16T14:45:45.084935Z",
     "iopub.status.idle": "2022-09-16T14:45:45.111541Z",
     "shell.execute_reply": "2022-09-16T14:45:45.110338Z"
    },
    "lines_to_next_cell": 0,
    "papermill": {
     "duration": 0.037089,
     "end_time": "2022-09-16T14:45:45.114048",
     "exception": false,
     "start_time": "2022-09-16T14:45:45.076959",
     "status": "completed"
    },
    "tags": []
   },
   "outputs": [
    {
     "data": {
      "application/javascript": [
       "parent.postMessage({\"jupyterEvent\": \"custom.exercise_interaction\", \"data\": {\"outcomeType\": 1, \"valueTowardsCompletion\": 0.2, \"interactionType\": 1, \"questionType\": 2, \"questionId\": \"4_Q4\", \"learnToolsVersion\": \"0.3.4\", \"failureMessage\": \"\", \"exceptionClass\": \"\", \"trace\": \"\"}}, \"*\")"
      ],
      "text/plain": [
       "<IPython.core.display.Javascript object>"
      ]
     },
     "metadata": {},
     "output_type": "display_data"
    },
    {
     "data": {
      "text/markdown": [
       "<span style=\"color:#33cc33\">Correct</span>"
      ],
      "text/plain": [
       "Correct"
      ]
     },
     "metadata": {},
     "output_type": "display_data"
    }
   ],
   "source": [
    "X_4 = pd.DataFrame()\n",
    "\n",
    "# YOUR CODE HERE 'MSClass'\n",
    "# X_4['MSClass'] = X.MSSubClass.apply(lambda item: item.split('_')[0])\n",
    "X_4['MSClass'] = X.MSSubClass.str.split('_',n=1,expand=True)[0]\n",
    " \n",
    "# Check your answer\n",
    "q_4.check()"
   ]
  },
  {
   "cell_type": "code",
   "execution_count": 10,
   "id": "8d42415f",
   "metadata": {
    "execution": {
     "iopub.execute_input": "2022-09-16T14:45:45.130049Z",
     "iopub.status.busy": "2022-09-16T14:45:45.129662Z",
     "iopub.status.idle": "2022-09-16T14:45:45.143109Z",
     "shell.execute_reply": "2022-09-16T14:45:45.142075Z"
    },
    "lines_to_next_cell": 0,
    "papermill": {
     "duration": 0.024333,
     "end_time": "2022-09-16T14:45:45.145260",
     "exception": false,
     "start_time": "2022-09-16T14:45:45.120927",
     "status": "completed"
    },
    "tags": []
   },
   "outputs": [
    {
     "data": {
      "application/javascript": [
       "parent.postMessage({\"jupyterEvent\": \"custom.exercise_interaction\", \"data\": {\"interactionType\": 2, \"questionType\": 2, \"questionId\": \"4_Q4\", \"learnToolsVersion\": \"0.3.4\", \"valueTowardsCompletion\": 0.0, \"failureMessage\": \"\", \"exceptionClass\": \"\", \"trace\": \"\", \"outcomeType\": 4}}, \"*\")"
      ],
      "text/plain": [
       "<IPython.core.display.Javascript object>"
      ]
     },
     "metadata": {},
     "output_type": "display_data"
    },
    {
     "data": {
      "text/markdown": [
       "<span style=\"color:#3366cc\">Hint:</span> Your code should look something like:\n",
       "```python\n",
       "X_4 = pd.DataFrame()\n",
       "\n",
       "X_4[\"MSClass\"] = df.____.str.____(____, n=1, expand=True)[____]\n",
       "```\n"
      ],
      "text/plain": [
       "Hint: Your code should look something like:\n",
       "```python\n",
       "X_4 = pd.DataFrame()\n",
       "\n",
       "X_4[\"MSClass\"] = df.____.str.____(____, n=1, expand=True)[____]\n",
       "```"
      ]
     },
     "metadata": {},
     "output_type": "display_data"
    },
    {
     "data": {
      "application/javascript": [
       "parent.postMessage({\"jupyterEvent\": \"custom.exercise_interaction\", \"data\": {\"interactionType\": 3, \"questionType\": 2, \"questionId\": \"4_Q4\", \"learnToolsVersion\": \"0.3.4\", \"valueTowardsCompletion\": 0.0, \"failureMessage\": \"\", \"exceptionClass\": \"\", \"trace\": \"\", \"outcomeType\": 4}}, \"*\")"
      ],
      "text/plain": [
       "<IPython.core.display.Javascript object>"
      ]
     },
     "metadata": {},
     "output_type": "display_data"
    },
    {
     "data": {
      "text/markdown": [
       "<span style=\"color:#33cc99\">Solution:</span> \n",
       "```python\n",
       "\n",
       "X_4 = pd.DataFrame()\n",
       "\n",
       "X_4[\"MSClass\"] = df.MSSubClass.str.split(\"_\", n=1, expand=True)[0]\n",
       "\n",
       "```"
      ],
      "text/plain": [
       "Solution: \n",
       "```python\n",
       "\n",
       "X_4 = pd.DataFrame()\n",
       "\n",
       "X_4[\"MSClass\"] = df.MSSubClass.str.split(\"_\", n=1, expand=True)[0]\n",
       "\n",
       "```"
      ]
     },
     "metadata": {},
     "output_type": "display_data"
    }
   ],
   "source": [
    "# Lines below will give you a hint or solution code\n",
    "q_4.hint()\n",
    "q_4.solution()"
   ]
  },
  {
   "cell_type": "markdown",
   "id": "20b1d52d",
   "metadata": {
    "papermill": {
     "duration": 0.006882,
     "end_time": "2022-09-16T14:45:45.159472",
     "exception": false,
     "start_time": "2022-09-16T14:45:45.152590",
     "status": "completed"
    },
    "tags": []
   },
   "source": [
    "# 5) Use a Grouped Transform\n",
    "\n",
    "The value of a home often depends on how it compares to typical homes in its neighborhood. Create a feature `MedNhbdArea` that describes the *median* of `GrLivArea` grouped on `Neighborhood`."
   ]
  },
  {
   "cell_type": "code",
   "execution_count": 11,
   "id": "f4c90acd",
   "metadata": {
    "execution": {
     "iopub.execute_input": "2022-09-16T14:45:45.175928Z",
     "iopub.status.busy": "2022-09-16T14:45:45.175490Z",
     "iopub.status.idle": "2022-09-16T14:45:45.198038Z",
     "shell.execute_reply": "2022-09-16T14:45:45.197028Z"
    },
    "lines_to_next_cell": 0,
    "papermill": {
     "duration": 0.03345,
     "end_time": "2022-09-16T14:45:45.200246",
     "exception": false,
     "start_time": "2022-09-16T14:45:45.166796",
     "status": "completed"
    },
    "tags": []
   },
   "outputs": [
    {
     "data": {
      "application/javascript": [
       "parent.postMessage({\"jupyterEvent\": \"custom.exercise_interaction\", \"data\": {\"outcomeType\": 1, \"valueTowardsCompletion\": 0.2, \"interactionType\": 1, \"questionType\": 2, \"questionId\": \"5_Q5\", \"learnToolsVersion\": \"0.3.4\", \"failureMessage\": \"\", \"exceptionClass\": \"\", \"trace\": \"\"}}, \"*\")"
      ],
      "text/plain": [
       "<IPython.core.display.Javascript object>"
      ]
     },
     "metadata": {},
     "output_type": "display_data"
    },
    {
     "data": {
      "text/markdown": [
       "<span style=\"color:#33cc33\">Correct</span>"
      ],
      "text/plain": [
       "Correct"
      ]
     },
     "metadata": {},
     "output_type": "display_data"
    }
   ],
   "source": [
    "X_5 = pd.DataFrame()\n",
    "\n",
    "# YOUR CODE HERE\n",
    "X_5[\"MedNhbdArea\"] = X.groupby('Neighborhood').GrLivArea.transform('median')\n",
    "\n",
    "# Check your answer\n",
    "q_5.check()"
   ]
  },
  {
   "cell_type": "code",
   "execution_count": 12,
   "id": "37bfcc47",
   "metadata": {
    "execution": {
     "iopub.execute_input": "2022-09-16T14:45:45.217882Z",
     "iopub.status.busy": "2022-09-16T14:45:45.217430Z",
     "iopub.status.idle": "2022-09-16T14:45:45.222125Z",
     "shell.execute_reply": "2022-09-16T14:45:45.221001Z"
    },
    "lines_to_next_cell": 0,
    "papermill": {
     "duration": 0.016197,
     "end_time": "2022-09-16T14:45:45.224446",
     "exception": false,
     "start_time": "2022-09-16T14:45:45.208249",
     "status": "completed"
    },
    "tags": []
   },
   "outputs": [],
   "source": [
    "# Lines below will give you a hint or solution code\n",
    "#q_5.hint()\n",
    "#q_5.solution()"
   ]
  },
  {
   "cell_type": "markdown",
   "id": "9100c90f",
   "metadata": {
    "papermill": {
     "duration": 0.007245,
     "end_time": "2022-09-16T14:45:45.239641",
     "exception": false,
     "start_time": "2022-09-16T14:45:45.232396",
     "status": "completed"
    },
    "tags": []
   },
   "source": [
    "Now you've made your first new feature set! If you like, you can run the cell below to score the model with all of your new features added:"
   ]
  },
  {
   "cell_type": "code",
   "execution_count": 13,
   "id": "7355681a",
   "metadata": {
    "execution": {
     "iopub.execute_input": "2022-09-16T14:45:45.256170Z",
     "iopub.status.busy": "2022-09-16T14:45:45.255720Z",
     "iopub.status.idle": "2022-09-16T14:45:50.198091Z",
     "shell.execute_reply": "2022-09-16T14:45:50.196831Z"
    },
    "papermill": {
     "duration": 4.953615,
     "end_time": "2022-09-16T14:45:50.200643",
     "exception": false,
     "start_time": "2022-09-16T14:45:45.247028",
     "status": "completed"
    },
    "tags": []
   },
   "outputs": [
    {
     "data": {
      "text/plain": [
       "0.13847331710099203"
      ]
     },
     "execution_count": 13,
     "metadata": {},
     "output_type": "execute_result"
    }
   ],
   "source": [
    "X_new = X.join([X_1, X_2, X_3, X_4, X_5])\n",
    "score_dataset(X_new, y)"
   ]
  },
  {
   "cell_type": "markdown",
   "id": "c2551bab",
   "metadata": {
    "papermill": {
     "duration": 0.007791,
     "end_time": "2022-09-16T14:45:50.216197",
     "exception": false,
     "start_time": "2022-09-16T14:45:50.208406",
     "status": "completed"
    },
    "tags": []
   },
   "source": [
    "# Keep Going #\n",
    "\n",
    "[**Untangle spatial relationships**](https://www.kaggle.com/ryanholbrook/clustering-with-k-means) by adding cluster labels to your dataset."
   ]
  },
  {
   "cell_type": "markdown",
   "id": "be276e5d",
   "metadata": {
    "papermill": {
     "duration": 0.007659,
     "end_time": "2022-09-16T14:45:50.231591",
     "exception": false,
     "start_time": "2022-09-16T14:45:50.223932",
     "status": "completed"
    },
    "tags": []
   },
   "source": [
    "---\n",
    "\n",
    "\n",
    "\n",
    "\n",
    "*Have questions or comments? Visit the [course discussion forum](https://www.kaggle.com/learn/feature-engineering/discussion) to chat with other learners.*"
   ]
  }
 ],
 "metadata": {
  "kernelspec": {
   "display_name": "Python 3",
   "language": "python",
   "name": "python3"
  },
  "language_info": {
   "codemirror_mode": {
    "name": "ipython",
    "version": 3
   },
   "file_extension": ".py",
   "mimetype": "text/x-python",
   "name": "python",
   "nbconvert_exporter": "python",
   "pygments_lexer": "ipython3",
   "version": "3.7.12"
  },
  "papermill": {
   "default_parameters": {},
   "duration": 16.972353,
   "end_time": "2022-09-16T14:45:50.961919",
   "environment_variables": {},
   "exception": null,
   "input_path": "__notebook__.ipynb",
   "output_path": "__notebook__.ipynb",
   "parameters": {},
   "start_time": "2022-09-16T14:45:33.989566",
   "version": "2.3.4"
  }
 },
 "nbformat": 4,
 "nbformat_minor": 5
}
