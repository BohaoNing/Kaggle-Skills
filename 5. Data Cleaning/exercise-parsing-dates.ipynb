{
 "cells": [
  {
   "cell_type": "markdown",
   "id": "baabef11",
   "metadata": {
    "papermill": {
     "duration": 0.010428,
     "end_time": "2022-09-08T23:34:37.678508",
     "exception": false,
     "start_time": "2022-09-08T23:34:37.668080",
     "status": "completed"
    },
    "tags": []
   },
   "source": [
    "**This notebook is an exercise in the [Data Cleaning](https://www.kaggle.com/learn/data-cleaning) course.  You can reference the tutorial at [this link](https://www.kaggle.com/alexisbcook/parsing-dates).**\n",
    "\n",
    "---\n"
   ]
  },
  {
   "cell_type": "markdown",
   "id": "7911d302",
   "metadata": {
    "papermill": {
     "duration": 0.00741,
     "end_time": "2022-09-08T23:34:37.693650",
     "exception": false,
     "start_time": "2022-09-08T23:34:37.686240",
     "status": "completed"
    },
    "tags": []
   },
   "source": [
    "In this exercise, you'll apply what you learned in the **Parsing dates** tutorial.\n",
    "\n",
    "# Setup\n",
    "\n",
    "The questions below will give you feedback on your work. Run the following cell to set up the feedback system."
   ]
  },
  {
   "cell_type": "code",
   "execution_count": 1,
   "id": "a8587c0c",
   "metadata": {
    "execution": {
     "iopub.execute_input": "2022-09-08T23:34:37.711319Z",
     "iopub.status.busy": "2022-09-08T23:34:37.710712Z",
     "iopub.status.idle": "2022-09-08T23:34:39.199423Z",
     "shell.execute_reply": "2022-09-08T23:34:39.198213Z"
    },
    "papermill": {
     "duration": 1.501293,
     "end_time": "2022-09-08T23:34:39.202776",
     "exception": false,
     "start_time": "2022-09-08T23:34:37.701483",
     "status": "completed"
    },
    "tags": []
   },
   "outputs": [
    {
     "name": "stdout",
     "output_type": "stream",
     "text": [
      "Setup Complete\n"
     ]
    }
   ],
   "source": [
    "from learntools.core import binder\n",
    "binder.bind(globals())\n",
    "from learntools.data_cleaning.ex3 import *\n",
    "print(\"Setup Complete\")"
   ]
  },
  {
   "cell_type": "markdown",
   "id": "e8cfa198",
   "metadata": {
    "papermill": {
     "duration": 0.007138,
     "end_time": "2022-09-08T23:34:39.218239",
     "exception": false,
     "start_time": "2022-09-08T23:34:39.211101",
     "status": "completed"
    },
    "tags": []
   },
   "source": [
    "# Get our environment set up\n",
    "\n",
    "The first thing we'll need to do is load in the libraries and dataset we'll be using. We'll be working with a dataset containing information on earthquakes that occured between 1965 and 2016."
   ]
  },
  {
   "cell_type": "code",
   "execution_count": 2,
   "id": "ec53fe0f",
   "metadata": {
    "execution": {
     "iopub.execute_input": "2022-09-08T23:34:39.236234Z",
     "iopub.status.busy": "2022-09-08T23:34:39.235110Z",
     "iopub.status.idle": "2022-09-08T23:34:39.327586Z",
     "shell.execute_reply": "2022-09-08T23:34:39.326520Z"
    },
    "papermill": {
     "duration": 0.104443,
     "end_time": "2022-09-08T23:34:39.330225",
     "exception": false,
     "start_time": "2022-09-08T23:34:39.225782",
     "status": "completed"
    },
    "tags": []
   },
   "outputs": [],
   "source": [
    "# modules we'll use\n",
    "import pandas as pd\n",
    "import numpy as np\n",
    "import seaborn as sns\n",
    "import datetime\n",
    "\n",
    "# read in our data\n",
    "earthquakes = pd.read_csv(\"../input/earthquake-database/database.csv\")\n",
    "\n",
    "# set seed for reproducibility\n",
    "np.random.seed(0)"
   ]
  },
  {
   "cell_type": "markdown",
   "id": "f6d4918e",
   "metadata": {
    "papermill": {
     "duration": 0.007804,
     "end_time": "2022-09-08T23:34:39.345749",
     "exception": false,
     "start_time": "2022-09-08T23:34:39.337945",
     "status": "completed"
    },
    "tags": []
   },
   "source": [
    "# 1) Check the data type of our date column\n",
    "\n",
    "You'll be working with the \"Date\" column from the `earthquakes` dataframe.  Investigate this column now: does it look like it contains dates?  What is the dtype of the column?"
   ]
  },
  {
   "cell_type": "code",
   "execution_count": 3,
   "id": "448e5ed8",
   "metadata": {
    "execution": {
     "iopub.execute_input": "2022-09-08T23:34:39.363429Z",
     "iopub.status.busy": "2022-09-08T23:34:39.362265Z",
     "iopub.status.idle": "2022-09-08T23:34:39.372517Z",
     "shell.execute_reply": "2022-09-08T23:34:39.371240Z"
    },
    "papermill": {
     "duration": 0.021504,
     "end_time": "2022-09-08T23:34:39.374932",
     "exception": false,
     "start_time": "2022-09-08T23:34:39.353428",
     "status": "completed"
    },
    "tags": []
   },
   "outputs": [
    {
     "data": {
      "text/plain": [
       "dtype('O')"
      ]
     },
     "execution_count": 3,
     "metadata": {},
     "output_type": "execute_result"
    }
   ],
   "source": [
    "# TODO: Your code here!\n",
    "earthquakes.Date.dtype"
   ]
  },
  {
   "cell_type": "markdown",
   "id": "16fdd4a9",
   "metadata": {
    "papermill": {
     "duration": 0.007353,
     "end_time": "2022-09-08T23:34:39.390942",
     "exception": false,
     "start_time": "2022-09-08T23:34:39.383589",
     "status": "completed"
    },
    "tags": []
   },
   "source": [
    "Once you have answered the question above, run the code cell below to get credit for your work."
   ]
  },
  {
   "cell_type": "code",
   "execution_count": 4,
   "id": "4d38e2a2",
   "metadata": {
    "execution": {
     "iopub.execute_input": "2022-09-08T23:34:39.408481Z",
     "iopub.status.busy": "2022-09-08T23:34:39.407684Z",
     "iopub.status.idle": "2022-09-08T23:34:39.417109Z",
     "shell.execute_reply": "2022-09-08T23:34:39.416215Z"
    },
    "papermill": {
     "duration": 0.020746,
     "end_time": "2022-09-08T23:34:39.419417",
     "exception": false,
     "start_time": "2022-09-08T23:34:39.398671",
     "status": "completed"
    },
    "tags": []
   },
   "outputs": [
    {
     "data": {
      "application/javascript": [
       "parent.postMessage({\"jupyterEvent\": \"custom.exercise_interaction\", \"data\": {\"outcomeType\": 1, \"valueTowardsCompletion\": 0.25, \"interactionType\": 1, \"questionType\": 4, \"questionId\": \"1_CheckDtype\", \"learnToolsVersion\": \"0.3.4\", \"failureMessage\": \"\", \"exceptionClass\": \"\", \"trace\": \"\"}}, \"*\")"
      ],
      "text/plain": [
       "<IPython.core.display.Javascript object>"
      ]
     },
     "metadata": {},
     "output_type": "display_data"
    },
    {
     "data": {
      "text/markdown": [
       "<span style=\"color:#33cc33\">Correct:</span> \n",
       "\n",
       "The \"Date\" column in the `earthquakes` DataFrame does have dates.  The dtype is \"object\"."
      ],
      "text/plain": [
       "Correct: \n",
       "\n",
       "The \"Date\" column in the `earthquakes` DataFrame does have dates.  The dtype is \"object\"."
      ]
     },
     "metadata": {},
     "output_type": "display_data"
    }
   ],
   "source": [
    "# Check your answer (Run this code cell to receive credit!)\n",
    "q1.check()"
   ]
  },
  {
   "cell_type": "code",
   "execution_count": 5,
   "id": "964cc0cb",
   "metadata": {
    "execution": {
     "iopub.execute_input": "2022-09-08T23:34:39.437481Z",
     "iopub.status.busy": "2022-09-08T23:34:39.436691Z",
     "iopub.status.idle": "2022-09-08T23:34:39.441534Z",
     "shell.execute_reply": "2022-09-08T23:34:39.440652Z"
    },
    "papermill": {
     "duration": 0.016603,
     "end_time": "2022-09-08T23:34:39.443869",
     "exception": false,
     "start_time": "2022-09-08T23:34:39.427266",
     "status": "completed"
    },
    "tags": []
   },
   "outputs": [],
   "source": [
    "# Line below will give you a hint\n",
    "# q1.hint()"
   ]
  },
  {
   "cell_type": "markdown",
   "id": "13d760d4",
   "metadata": {
    "papermill": {
     "duration": 0.007421,
     "end_time": "2022-09-08T23:34:39.459154",
     "exception": false,
     "start_time": "2022-09-08T23:34:39.451733",
     "status": "completed"
    },
    "tags": []
   },
   "source": [
    "# 2) Convert our date columns to datetime\n",
    "\n",
    "Most of the entries in the \"Date\" column follow the same format: \"month/day/four-digit year\".  However, the entry at index 3378 follows a completely different pattern.  Run the code cell below to see this."
   ]
  },
  {
   "cell_type": "code",
   "execution_count": 6,
   "id": "ca0e1b27",
   "metadata": {
    "execution": {
     "iopub.execute_input": "2022-09-08T23:34:39.476988Z",
     "iopub.status.busy": "2022-09-08T23:34:39.476181Z",
     "iopub.status.idle": "2022-09-08T23:34:39.511014Z",
     "shell.execute_reply": "2022-09-08T23:34:39.509554Z"
    },
    "papermill": {
     "duration": 0.046898,
     "end_time": "2022-09-08T23:34:39.513776",
     "exception": false,
     "start_time": "2022-09-08T23:34:39.466878",
     "status": "completed"
    },
    "tags": []
   },
   "outputs": [
    {
     "data": {
      "text/html": [
       "<div>\n",
       "<style scoped>\n",
       "    .dataframe tbody tr th:only-of-type {\n",
       "        vertical-align: middle;\n",
       "    }\n",
       "\n",
       "    .dataframe tbody tr th {\n",
       "        vertical-align: top;\n",
       "    }\n",
       "\n",
       "    .dataframe thead th {\n",
       "        text-align: right;\n",
       "    }\n",
       "</style>\n",
       "<table border=\"1\" class=\"dataframe\">\n",
       "  <thead>\n",
       "    <tr style=\"text-align: right;\">\n",
       "      <th></th>\n",
       "      <th>Date</th>\n",
       "      <th>Time</th>\n",
       "      <th>Latitude</th>\n",
       "      <th>Longitude</th>\n",
       "      <th>Type</th>\n",
       "      <th>Depth</th>\n",
       "      <th>Depth Error</th>\n",
       "      <th>Depth Seismic Stations</th>\n",
       "      <th>Magnitude</th>\n",
       "      <th>Magnitude Type</th>\n",
       "      <th>...</th>\n",
       "      <th>Magnitude Seismic Stations</th>\n",
       "      <th>Azimuthal Gap</th>\n",
       "      <th>Horizontal Distance</th>\n",
       "      <th>Horizontal Error</th>\n",
       "      <th>Root Mean Square</th>\n",
       "      <th>ID</th>\n",
       "      <th>Source</th>\n",
       "      <th>Location Source</th>\n",
       "      <th>Magnitude Source</th>\n",
       "      <th>Status</th>\n",
       "    </tr>\n",
       "  </thead>\n",
       "  <tbody>\n",
       "    <tr>\n",
       "      <th>3378</th>\n",
       "      <td>1975-02-23T02:58:41.000Z</td>\n",
       "      <td>1975-02-23T02:58:41.000Z</td>\n",
       "      <td>8.017</td>\n",
       "      <td>124.075</td>\n",
       "      <td>Earthquake</td>\n",
       "      <td>623.0</td>\n",
       "      <td>NaN</td>\n",
       "      <td>NaN</td>\n",
       "      <td>5.6</td>\n",
       "      <td>MB</td>\n",
       "      <td>...</td>\n",
       "      <td>NaN</td>\n",
       "      <td>NaN</td>\n",
       "      <td>NaN</td>\n",
       "      <td>NaN</td>\n",
       "      <td>NaN</td>\n",
       "      <td>USP0000A09</td>\n",
       "      <td>US</td>\n",
       "      <td>US</td>\n",
       "      <td>US</td>\n",
       "      <td>Reviewed</td>\n",
       "    </tr>\n",
       "    <tr>\n",
       "      <th>3379</th>\n",
       "      <td>02/23/1975</td>\n",
       "      <td>03:53:36</td>\n",
       "      <td>-21.727</td>\n",
       "      <td>-71.356</td>\n",
       "      <td>Earthquake</td>\n",
       "      <td>33.0</td>\n",
       "      <td>NaN</td>\n",
       "      <td>NaN</td>\n",
       "      <td>5.6</td>\n",
       "      <td>MB</td>\n",
       "      <td>...</td>\n",
       "      <td>NaN</td>\n",
       "      <td>NaN</td>\n",
       "      <td>NaN</td>\n",
       "      <td>NaN</td>\n",
       "      <td>NaN</td>\n",
       "      <td>USP0000A0A</td>\n",
       "      <td>US</td>\n",
       "      <td>US</td>\n",
       "      <td>US</td>\n",
       "      <td>Reviewed</td>\n",
       "    </tr>\n",
       "    <tr>\n",
       "      <th>3380</th>\n",
       "      <td>02/23/1975</td>\n",
       "      <td>07:34:11</td>\n",
       "      <td>-10.879</td>\n",
       "      <td>166.667</td>\n",
       "      <td>Earthquake</td>\n",
       "      <td>33.0</td>\n",
       "      <td>NaN</td>\n",
       "      <td>NaN</td>\n",
       "      <td>5.5</td>\n",
       "      <td>MS</td>\n",
       "      <td>...</td>\n",
       "      <td>NaN</td>\n",
       "      <td>NaN</td>\n",
       "      <td>NaN</td>\n",
       "      <td>NaN</td>\n",
       "      <td>NaN</td>\n",
       "      <td>USP0000A0C</td>\n",
       "      <td>US</td>\n",
       "      <td>US</td>\n",
       "      <td>US</td>\n",
       "      <td>Reviewed</td>\n",
       "    </tr>\n",
       "    <tr>\n",
       "      <th>3381</th>\n",
       "      <td>02/25/1975</td>\n",
       "      <td>05:20:05</td>\n",
       "      <td>-7.388</td>\n",
       "      <td>149.798</td>\n",
       "      <td>Earthquake</td>\n",
       "      <td>33.0</td>\n",
       "      <td>NaN</td>\n",
       "      <td>NaN</td>\n",
       "      <td>5.5</td>\n",
       "      <td>MB</td>\n",
       "      <td>...</td>\n",
       "      <td>NaN</td>\n",
       "      <td>NaN</td>\n",
       "      <td>NaN</td>\n",
       "      <td>NaN</td>\n",
       "      <td>NaN</td>\n",
       "      <td>USP0000A12</td>\n",
       "      <td>US</td>\n",
       "      <td>US</td>\n",
       "      <td>US</td>\n",
       "      <td>Reviewed</td>\n",
       "    </tr>\n",
       "    <tr>\n",
       "      <th>3382</th>\n",
       "      <td>02/26/1975</td>\n",
       "      <td>04:48:55</td>\n",
       "      <td>85.047</td>\n",
       "      <td>97.969</td>\n",
       "      <td>Earthquake</td>\n",
       "      <td>33.0</td>\n",
       "      <td>NaN</td>\n",
       "      <td>NaN</td>\n",
       "      <td>5.6</td>\n",
       "      <td>MS</td>\n",
       "      <td>...</td>\n",
       "      <td>NaN</td>\n",
       "      <td>NaN</td>\n",
       "      <td>NaN</td>\n",
       "      <td>NaN</td>\n",
       "      <td>NaN</td>\n",
       "      <td>USP0000A1H</td>\n",
       "      <td>US</td>\n",
       "      <td>US</td>\n",
       "      <td>US</td>\n",
       "      <td>Reviewed</td>\n",
       "    </tr>\n",
       "  </tbody>\n",
       "</table>\n",
       "<p>5 rows × 21 columns</p>\n",
       "</div>"
      ],
      "text/plain": [
       "                          Date                      Time  Latitude  Longitude  \\\n",
       "3378  1975-02-23T02:58:41.000Z  1975-02-23T02:58:41.000Z     8.017    124.075   \n",
       "3379                02/23/1975                  03:53:36   -21.727    -71.356   \n",
       "3380                02/23/1975                  07:34:11   -10.879    166.667   \n",
       "3381                02/25/1975                  05:20:05    -7.388    149.798   \n",
       "3382                02/26/1975                  04:48:55    85.047     97.969   \n",
       "\n",
       "            Type  Depth  Depth Error  Depth Seismic Stations  Magnitude  \\\n",
       "3378  Earthquake  623.0          NaN                     NaN        5.6   \n",
       "3379  Earthquake   33.0          NaN                     NaN        5.6   \n",
       "3380  Earthquake   33.0          NaN                     NaN        5.5   \n",
       "3381  Earthquake   33.0          NaN                     NaN        5.5   \n",
       "3382  Earthquake   33.0          NaN                     NaN        5.6   \n",
       "\n",
       "     Magnitude Type  ...  Magnitude Seismic Stations  Azimuthal Gap  \\\n",
       "3378             MB  ...                         NaN            NaN   \n",
       "3379             MB  ...                         NaN            NaN   \n",
       "3380             MS  ...                         NaN            NaN   \n",
       "3381             MB  ...                         NaN            NaN   \n",
       "3382             MS  ...                         NaN            NaN   \n",
       "\n",
       "      Horizontal Distance  Horizontal Error  Root Mean Square          ID  \\\n",
       "3378                  NaN               NaN               NaN  USP0000A09   \n",
       "3379                  NaN               NaN               NaN  USP0000A0A   \n",
       "3380                  NaN               NaN               NaN  USP0000A0C   \n",
       "3381                  NaN               NaN               NaN  USP0000A12   \n",
       "3382                  NaN               NaN               NaN  USP0000A1H   \n",
       "\n",
       "     Source Location Source Magnitude Source    Status  \n",
       "3378     US              US               US  Reviewed  \n",
       "3379     US              US               US  Reviewed  \n",
       "3380     US              US               US  Reviewed  \n",
       "3381     US              US               US  Reviewed  \n",
       "3382     US              US               US  Reviewed  \n",
       "\n",
       "[5 rows x 21 columns]"
      ]
     },
     "execution_count": 6,
     "metadata": {},
     "output_type": "execute_result"
    }
   ],
   "source": [
    "earthquakes[3378:3383]"
   ]
  },
  {
   "cell_type": "markdown",
   "id": "9aedf9bc",
   "metadata": {
    "papermill": {
     "duration": 0.007957,
     "end_time": "2022-09-08T23:34:39.530173",
     "exception": false,
     "start_time": "2022-09-08T23:34:39.522216",
     "status": "completed"
    },
    "tags": []
   },
   "source": [
    "This does appear to be an issue with data entry: ideally, all entries in the column have the same format.  We can get an idea of how widespread this issue is by checking the length of each entry in the \"Date\" column."
   ]
  },
  {
   "cell_type": "code",
   "execution_count": 7,
   "id": "702d6cb8",
   "metadata": {
    "execution": {
     "iopub.execute_input": "2022-09-08T23:34:39.549382Z",
     "iopub.status.busy": "2022-09-08T23:34:39.548577Z",
     "iopub.status.idle": "2022-09-08T23:34:39.569096Z",
     "shell.execute_reply": "2022-09-08T23:34:39.567973Z"
    },
    "papermill": {
     "duration": 0.032873,
     "end_time": "2022-09-08T23:34:39.571543",
     "exception": false,
     "start_time": "2022-09-08T23:34:39.538670",
     "status": "completed"
    },
    "tags": []
   },
   "outputs": [
    {
     "data": {
      "text/plain": [
       "10    23409\n",
       "24        3\n",
       "Name: Date, dtype: int64"
      ]
     },
     "execution_count": 7,
     "metadata": {},
     "output_type": "execute_result"
    }
   ],
   "source": [
    "date_lengths = earthquakes.Date.str.len()\n",
    "date_lengths.value_counts()"
   ]
  },
  {
   "cell_type": "code",
   "execution_count": 8,
   "id": "2f8ffb43",
   "metadata": {
    "execution": {
     "iopub.execute_input": "2022-09-08T23:34:39.591971Z",
     "iopub.status.busy": "2022-09-08T23:34:39.591153Z",
     "iopub.status.idle": "2022-09-08T23:34:39.610106Z",
     "shell.execute_reply": "2022-09-08T23:34:39.608921Z"
    },
    "papermill": {
     "duration": 0.031931,
     "end_time": "2022-09-08T23:34:39.612491",
     "exception": false,
     "start_time": "2022-09-08T23:34:39.580560",
     "status": "completed"
    },
    "tags": []
   },
   "outputs": [
    {
     "data": {
      "text/plain": [
       "8     23409\n",
       "24        3\n",
       "Name: Time, dtype: int64"
      ]
     },
     "execution_count": 8,
     "metadata": {},
     "output_type": "execute_result"
    }
   ],
   "source": [
    "date_lengths = earthquakes.Time.str.len()\n",
    "date_lengths.value_counts()"
   ]
  },
  {
   "cell_type": "markdown",
   "id": "8c7d7500",
   "metadata": {
    "papermill": {
     "duration": 0.008923,
     "end_time": "2022-09-08T23:34:39.629800",
     "exception": false,
     "start_time": "2022-09-08T23:34:39.620877",
     "status": "completed"
    },
    "tags": []
   },
   "source": [
    "Looks like there are two more rows that has a date in a different format.  Run the code cell below to obtain the indices corresponding to those rows and print the data."
   ]
  },
  {
   "cell_type": "code",
   "execution_count": 9,
   "id": "95c03ae7",
   "metadata": {
    "execution": {
     "iopub.execute_input": "2022-09-08T23:34:39.649639Z",
     "iopub.status.busy": "2022-09-08T23:34:39.648996Z",
     "iopub.status.idle": "2022-09-08T23:34:39.678769Z",
     "shell.execute_reply": "2022-09-08T23:34:39.677152Z"
    },
    "papermill": {
     "duration": 0.043069,
     "end_time": "2022-09-08T23:34:39.681561",
     "exception": false,
     "start_time": "2022-09-08T23:34:39.638492",
     "status": "completed"
    },
    "tags": []
   },
   "outputs": [
    {
     "name": "stdout",
     "output_type": "stream",
     "text": [
      "Indices with corrupted data: [ 3378  7512 20650]\n"
     ]
    },
    {
     "data": {
      "text/html": [
       "<div>\n",
       "<style scoped>\n",
       "    .dataframe tbody tr th:only-of-type {\n",
       "        vertical-align: middle;\n",
       "    }\n",
       "\n",
       "    .dataframe tbody tr th {\n",
       "        vertical-align: top;\n",
       "    }\n",
       "\n",
       "    .dataframe thead th {\n",
       "        text-align: right;\n",
       "    }\n",
       "</style>\n",
       "<table border=\"1\" class=\"dataframe\">\n",
       "  <thead>\n",
       "    <tr style=\"text-align: right;\">\n",
       "      <th></th>\n",
       "      <th>Date</th>\n",
       "      <th>Time</th>\n",
       "      <th>Latitude</th>\n",
       "      <th>Longitude</th>\n",
       "      <th>Type</th>\n",
       "      <th>Depth</th>\n",
       "      <th>Depth Error</th>\n",
       "      <th>Depth Seismic Stations</th>\n",
       "      <th>Magnitude</th>\n",
       "      <th>Magnitude Type</th>\n",
       "      <th>...</th>\n",
       "      <th>Magnitude Seismic Stations</th>\n",
       "      <th>Azimuthal Gap</th>\n",
       "      <th>Horizontal Distance</th>\n",
       "      <th>Horizontal Error</th>\n",
       "      <th>Root Mean Square</th>\n",
       "      <th>ID</th>\n",
       "      <th>Source</th>\n",
       "      <th>Location Source</th>\n",
       "      <th>Magnitude Source</th>\n",
       "      <th>Status</th>\n",
       "    </tr>\n",
       "  </thead>\n",
       "  <tbody>\n",
       "    <tr>\n",
       "      <th>3378</th>\n",
       "      <td>1975-02-23T02:58:41.000Z</td>\n",
       "      <td>1975-02-23T02:58:41.000Z</td>\n",
       "      <td>8.017</td>\n",
       "      <td>124.075</td>\n",
       "      <td>Earthquake</td>\n",
       "      <td>623.0</td>\n",
       "      <td>NaN</td>\n",
       "      <td>NaN</td>\n",
       "      <td>5.6</td>\n",
       "      <td>MB</td>\n",
       "      <td>...</td>\n",
       "      <td>NaN</td>\n",
       "      <td>NaN</td>\n",
       "      <td>NaN</td>\n",
       "      <td>NaN</td>\n",
       "      <td>NaN</td>\n",
       "      <td>USP0000A09</td>\n",
       "      <td>US</td>\n",
       "      <td>US</td>\n",
       "      <td>US</td>\n",
       "      <td>Reviewed</td>\n",
       "    </tr>\n",
       "    <tr>\n",
       "      <th>7512</th>\n",
       "      <td>1985-04-28T02:53:41.530Z</td>\n",
       "      <td>1985-04-28T02:53:41.530Z</td>\n",
       "      <td>-32.998</td>\n",
       "      <td>-71.766</td>\n",
       "      <td>Earthquake</td>\n",
       "      <td>33.0</td>\n",
       "      <td>NaN</td>\n",
       "      <td>NaN</td>\n",
       "      <td>5.6</td>\n",
       "      <td>MW</td>\n",
       "      <td>...</td>\n",
       "      <td>NaN</td>\n",
       "      <td>NaN</td>\n",
       "      <td>NaN</td>\n",
       "      <td>NaN</td>\n",
       "      <td>1.30</td>\n",
       "      <td>USP0002E81</td>\n",
       "      <td>US</td>\n",
       "      <td>US</td>\n",
       "      <td>HRV</td>\n",
       "      <td>Reviewed</td>\n",
       "    </tr>\n",
       "    <tr>\n",
       "      <th>20650</th>\n",
       "      <td>2011-03-13T02:23:34.520Z</td>\n",
       "      <td>2011-03-13T02:23:34.520Z</td>\n",
       "      <td>36.344</td>\n",
       "      <td>142.344</td>\n",
       "      <td>Earthquake</td>\n",
       "      <td>10.1</td>\n",
       "      <td>13.9</td>\n",
       "      <td>289.0</td>\n",
       "      <td>5.8</td>\n",
       "      <td>MWC</td>\n",
       "      <td>...</td>\n",
       "      <td>NaN</td>\n",
       "      <td>32.3</td>\n",
       "      <td>NaN</td>\n",
       "      <td>NaN</td>\n",
       "      <td>1.06</td>\n",
       "      <td>USP000HWQP</td>\n",
       "      <td>US</td>\n",
       "      <td>US</td>\n",
       "      <td>GCMT</td>\n",
       "      <td>Reviewed</td>\n",
       "    </tr>\n",
       "  </tbody>\n",
       "</table>\n",
       "<p>3 rows × 21 columns</p>\n",
       "</div>"
      ],
      "text/plain": [
       "                           Date                      Time  Latitude  \\\n",
       "3378   1975-02-23T02:58:41.000Z  1975-02-23T02:58:41.000Z     8.017   \n",
       "7512   1985-04-28T02:53:41.530Z  1985-04-28T02:53:41.530Z   -32.998   \n",
       "20650  2011-03-13T02:23:34.520Z  2011-03-13T02:23:34.520Z    36.344   \n",
       "\n",
       "       Longitude        Type  Depth  Depth Error  Depth Seismic Stations  \\\n",
       "3378     124.075  Earthquake  623.0          NaN                     NaN   \n",
       "7512     -71.766  Earthquake   33.0          NaN                     NaN   \n",
       "20650    142.344  Earthquake   10.1         13.9                   289.0   \n",
       "\n",
       "       Magnitude Magnitude Type  ...  Magnitude Seismic Stations  \\\n",
       "3378         5.6             MB  ...                         NaN   \n",
       "7512         5.6             MW  ...                         NaN   \n",
       "20650        5.8            MWC  ...                         NaN   \n",
       "\n",
       "       Azimuthal Gap  Horizontal Distance  Horizontal Error  Root Mean Square  \\\n",
       "3378             NaN                  NaN               NaN               NaN   \n",
       "7512             NaN                  NaN               NaN              1.30   \n",
       "20650           32.3                  NaN               NaN              1.06   \n",
       "\n",
       "               ID Source Location Source Magnitude Source    Status  \n",
       "3378   USP0000A09     US              US               US  Reviewed  \n",
       "7512   USP0002E81     US              US              HRV  Reviewed  \n",
       "20650  USP000HWQP     US              US             GCMT  Reviewed  \n",
       "\n",
       "[3 rows x 21 columns]"
      ]
     },
     "execution_count": 9,
     "metadata": {},
     "output_type": "execute_result"
    }
   ],
   "source": [
    "indices = np.where([date_lengths == 24])[1]\n",
    "print('Indices with corrupted data:', indices)\n",
    "earthquakes.loc[indices]"
   ]
  },
  {
   "cell_type": "markdown",
   "id": "f01fbd34",
   "metadata": {
    "papermill": {
     "duration": 0.008701,
     "end_time": "2022-09-08T23:34:39.699410",
     "exception": false,
     "start_time": "2022-09-08T23:34:39.690709",
     "status": "completed"
    },
    "tags": []
   },
   "source": [
    "Given all of this information, it's your turn to create a new column \"date_parsed\" in the `earthquakes` dataset that has correctly parsed dates in it.  \n",
    "\n",
    "**Note**: When completing this problem, you are allowed to (but are not required to) amend the entries in the \"Date\" and \"Time\" columns.  Do not remove any rows from the dataset."
   ]
  },
  {
   "cell_type": "code",
   "execution_count": 10,
   "id": "2ce0cf46",
   "metadata": {
    "execution": {
     "iopub.execute_input": "2022-09-08T23:34:39.719509Z",
     "iopub.status.busy": "2022-09-08T23:34:39.718632Z",
     "iopub.status.idle": "2022-09-08T23:34:39.735113Z",
     "shell.execute_reply": "2022-09-08T23:34:39.733801Z"
    },
    "papermill": {
     "duration": 0.030426,
     "end_time": "2022-09-08T23:34:39.738653",
     "exception": false,
     "start_time": "2022-09-08T23:34:39.708227",
     "status": "completed"
    },
    "tags": []
   },
   "outputs": [
    {
     "name": "stderr",
     "output_type": "stream",
     "text": [
      "/opt/conda/lib/python3.7/site-packages/pandas/core/indexing.py:1732: SettingWithCopyWarning: \n",
      "A value is trying to be set on a copy of a slice from a DataFrame\n",
      "\n",
      "See the caveats in the documentation: https://pandas.pydata.org/pandas-docs/stable/user_guide/indexing.html#returning-a-view-versus-a-copy\n",
      "  self._setitem_single_block(indexer, value, name)\n"
     ]
    }
   ],
   "source": [
    "# TODO: Your code here\n",
    "earthquakes.Date.loc[3378] = '02/23/1975'\n",
    "earthquakes.Date.loc[7512] = '04/28/1985'\n",
    "earthquakes.Date.loc[20650] = '03/13/2011'"
   ]
  },
  {
   "cell_type": "code",
   "execution_count": 11,
   "id": "649b141f",
   "metadata": {
    "execution": {
     "iopub.execute_input": "2022-09-08T23:34:39.759028Z",
     "iopub.status.busy": "2022-09-08T23:34:39.758561Z",
     "iopub.status.idle": "2022-09-08T23:34:39.801926Z",
     "shell.execute_reply": "2022-09-08T23:34:39.800649Z"
    },
    "papermill": {
     "duration": 0.05668,
     "end_time": "2022-09-08T23:34:39.804791",
     "exception": false,
     "start_time": "2022-09-08T23:34:39.748111",
     "status": "completed"
    },
    "tags": []
   },
   "outputs": [],
   "source": [
    "earthquakes['date_parsed'] = pd.to_datetime(earthquakes['Date'], format=\"%m/%d/%Y\")"
   ]
  },
  {
   "cell_type": "code",
   "execution_count": 12,
   "id": "cd14122c",
   "metadata": {
    "execution": {
     "iopub.execute_input": "2022-09-08T23:34:39.824601Z",
     "iopub.status.busy": "2022-09-08T23:34:39.824172Z",
     "iopub.status.idle": "2022-09-08T23:34:39.836611Z",
     "shell.execute_reply": "2022-09-08T23:34:39.835274Z"
    },
    "papermill": {
     "duration": 0.025574,
     "end_time": "2022-09-08T23:34:39.839404",
     "exception": false,
     "start_time": "2022-09-08T23:34:39.813830",
     "status": "completed"
    },
    "tags": []
   },
   "outputs": [
    {
     "data": {
      "application/javascript": [
       "parent.postMessage({\"jupyterEvent\": \"custom.exercise_interaction\", \"data\": {\"outcomeType\": 1, \"valueTowardsCompletion\": 0.25, \"interactionType\": 1, \"questionType\": 2, \"questionId\": \"2_ConvertToDatetime\", \"learnToolsVersion\": \"0.3.4\", \"failureMessage\": \"\", \"exceptionClass\": \"\", \"trace\": \"\"}}, \"*\")"
      ],
      "text/plain": [
       "<IPython.core.display.Javascript object>"
      ]
     },
     "metadata": {},
     "output_type": "display_data"
    },
    {
     "data": {
      "text/markdown": [
       "<span style=\"color:#33cc33\">Correct</span>"
      ],
      "text/plain": [
       "Correct"
      ]
     },
     "metadata": {},
     "output_type": "display_data"
    }
   ],
   "source": [
    "# Check your answer\n",
    "q2.check()"
   ]
  },
  {
   "cell_type": "code",
   "execution_count": 13,
   "id": "1e610a4d",
   "metadata": {
    "execution": {
     "iopub.execute_input": "2022-09-08T23:34:39.859970Z",
     "iopub.status.busy": "2022-09-08T23:34:39.859527Z",
     "iopub.status.idle": "2022-09-08T23:34:39.864240Z",
     "shell.execute_reply": "2022-09-08T23:34:39.863178Z"
    },
    "papermill": {
     "duration": 0.017919,
     "end_time": "2022-09-08T23:34:39.866609",
     "exception": false,
     "start_time": "2022-09-08T23:34:39.848690",
     "status": "completed"
    },
    "tags": []
   },
   "outputs": [],
   "source": [
    "# Lines below will give you a hint or solution code\n",
    "# q2.hint()\n",
    "# q2.solution()"
   ]
  },
  {
   "cell_type": "markdown",
   "id": "c9f3dfcd",
   "metadata": {
    "papermill": {
     "duration": 0.009189,
     "end_time": "2022-09-08T23:34:39.885041",
     "exception": false,
     "start_time": "2022-09-08T23:34:39.875852",
     "status": "completed"
    },
    "tags": []
   },
   "source": [
    "# 3) Select the day of the month\n",
    "\n",
    "Create a Pandas Series `day_of_month_earthquakes` containing the day of the month from the \"date_parsed\" column."
   ]
  },
  {
   "cell_type": "code",
   "execution_count": 14,
   "id": "8dd7c585",
   "metadata": {
    "execution": {
     "iopub.execute_input": "2022-09-08T23:34:39.905841Z",
     "iopub.status.busy": "2022-09-08T23:34:39.905436Z",
     "iopub.status.idle": "2022-09-08T23:34:39.917735Z",
     "shell.execute_reply": "2022-09-08T23:34:39.916452Z"
    },
    "papermill": {
     "duration": 0.025693,
     "end_time": "2022-09-08T23:34:39.920239",
     "exception": false,
     "start_time": "2022-09-08T23:34:39.894546",
     "status": "completed"
    },
    "tags": []
   },
   "outputs": [
    {
     "data": {
      "application/javascript": [
       "parent.postMessage({\"jupyterEvent\": \"custom.exercise_interaction\", \"data\": {\"outcomeType\": 1, \"valueTowardsCompletion\": 0.25, \"interactionType\": 1, \"questionType\": 1, \"questionId\": \"3_DayOfMonth\", \"learnToolsVersion\": \"0.3.4\", \"failureMessage\": \"\", \"exceptionClass\": \"\", \"trace\": \"\"}}, \"*\")"
      ],
      "text/plain": [
       "<IPython.core.display.Javascript object>"
      ]
     },
     "metadata": {},
     "output_type": "display_data"
    },
    {
     "data": {
      "text/markdown": [
       "<span style=\"color:#33cc33\">Correct</span>"
      ],
      "text/plain": [
       "Correct"
      ]
     },
     "metadata": {},
     "output_type": "display_data"
    }
   ],
   "source": [
    "# try to get the day of the month from the date column\n",
    "day_of_month_earthquakes = earthquakes.date_parsed.dt.day\n",
    "\n",
    "# Check your answer\n",
    "q3.check()"
   ]
  },
  {
   "cell_type": "code",
   "execution_count": 15,
   "id": "2111637b",
   "metadata": {
    "execution": {
     "iopub.execute_input": "2022-09-08T23:34:39.941670Z",
     "iopub.status.busy": "2022-09-08T23:34:39.941254Z",
     "iopub.status.idle": "2022-09-08T23:34:39.945428Z",
     "shell.execute_reply": "2022-09-08T23:34:39.944462Z"
    },
    "papermill": {
     "duration": 0.017668,
     "end_time": "2022-09-08T23:34:39.947571",
     "exception": false,
     "start_time": "2022-09-08T23:34:39.929903",
     "status": "completed"
    },
    "tags": []
   },
   "outputs": [],
   "source": [
    "# Lines below will give you a hint or solution code\n",
    "#q3.hint()\n",
    "#q3.solution()"
   ]
  },
  {
   "cell_type": "markdown",
   "id": "b2d385c4",
   "metadata": {
    "papermill": {
     "duration": 0.009115,
     "end_time": "2022-09-08T23:34:39.966344",
     "exception": false,
     "start_time": "2022-09-08T23:34:39.957229",
     "status": "completed"
    },
    "tags": []
   },
   "source": [
    "# 4) Plot the day of the month to check the date parsing\n",
    "\n",
    "Plot the days of the month from your earthquake dataset."
   ]
  },
  {
   "cell_type": "code",
   "execution_count": 16,
   "id": "a14688f2",
   "metadata": {
    "execution": {
     "iopub.execute_input": "2022-09-08T23:34:39.987185Z",
     "iopub.status.busy": "2022-09-08T23:34:39.986463Z",
     "iopub.status.idle": "2022-09-08T23:34:40.271610Z",
     "shell.execute_reply": "2022-09-08T23:34:40.270159Z"
    },
    "papermill": {
     "duration": 0.298656,
     "end_time": "2022-09-08T23:34:40.274469",
     "exception": false,
     "start_time": "2022-09-08T23:34:39.975813",
     "status": "completed"
    },
    "tags": []
   },
   "outputs": [
    {
     "data": {
      "text/plain": [
       "<AxesSubplot:ylabel='Frequency'>"
      ]
     },
     "execution_count": 16,
     "metadata": {},
     "output_type": "execute_result"
    },
    {
     "data": {
      "image/png": "[encoded data removed]",
      "text/plain": [
       "<Figure size 432x288 with 1 Axes>"
      ]
     },
     "metadata": {
      "needs_background": "light"
     },
     "output_type": "display_data"
    }
   ],
   "source": [
    "# TODO: Your code here!\n",
    "earthquakes.date_parsed.dt.day.plot(kind='hist')"
   ]
  },
  {
   "cell_type": "markdown",
   "id": "63e38725",
   "metadata": {
    "papermill": {
     "duration": 0.00955,
     "end_time": "2022-09-08T23:34:40.294688",
     "exception": false,
     "start_time": "2022-09-08T23:34:40.285138",
     "status": "completed"
    },
    "tags": []
   },
   "source": [
    "Does the graph make sense to you?"
   ]
  },
  {
   "cell_type": "code",
   "execution_count": 17,
   "id": "c23de6cf",
   "metadata": {
    "execution": {
     "iopub.execute_input": "2022-09-08T23:34:40.316491Z",
     "iopub.status.busy": "2022-09-08T23:34:40.316064Z",
     "iopub.status.idle": "2022-09-08T23:34:40.324913Z",
     "shell.execute_reply": "2022-09-08T23:34:40.323871Z"
    },
    "papermill": {
     "duration": 0.022301,
     "end_time": "2022-09-08T23:34:40.327296",
     "exception": false,
     "start_time": "2022-09-08T23:34:40.304995",
     "status": "completed"
    },
    "tags": []
   },
   "outputs": [
    {
     "data": {
      "application/javascript": [
       "parent.postMessage({\"jupyterEvent\": \"custom.exercise_interaction\", \"data\": {\"outcomeType\": 1, \"valueTowardsCompletion\": 0.25, \"interactionType\": 1, \"questionType\": 4, \"questionId\": \"4_PlotDayOfMonth\", \"learnToolsVersion\": \"0.3.4\", \"failureMessage\": \"\", \"exceptionClass\": \"\", \"trace\": \"\"}}, \"*\")"
      ],
      "text/plain": [
       "<IPython.core.display.Javascript object>"
      ]
     },
     "metadata": {},
     "output_type": "display_data"
    },
    {
     "data": {
      "text/markdown": [
       "<span style=\"color:#33cc33\">Correct:</span> \n",
       "\n",
       "The graph should make sense: it shows a relatively even distribution in days of the month,which is what we would expect."
      ],
      "text/plain": [
       "Correct: \n",
       "\n",
       "The graph should make sense: it shows a relatively even distribution in days of the month,which is what we would expect."
      ]
     },
     "metadata": {},
     "output_type": "display_data"
    }
   ],
   "source": [
    "# Check your answer (Run this code cell to receive credit!)\n",
    "q4.check()"
   ]
  },
  {
   "cell_type": "code",
   "execution_count": 18,
   "id": "b24da679",
   "metadata": {
    "execution": {
     "iopub.execute_input": "2022-09-08T23:34:40.349237Z",
     "iopub.status.busy": "2022-09-08T23:34:40.348818Z",
     "iopub.status.idle": "2022-09-08T23:34:40.353910Z",
     "shell.execute_reply": "2022-09-08T23:34:40.352779Z"
    },
    "papermill": {
     "duration": 0.018718,
     "end_time": "2022-09-08T23:34:40.356116",
     "exception": false,
     "start_time": "2022-09-08T23:34:40.337398",
     "status": "completed"
    },
    "tags": []
   },
   "outputs": [],
   "source": [
    "# Line below will give you a hint\n",
    "#q4.hint()"
   ]
  },
  {
   "cell_type": "markdown",
   "id": "3e09d5da",
   "metadata": {
    "papermill": {
     "duration": 0.009796,
     "end_time": "2022-09-08T23:34:40.376294",
     "exception": false,
     "start_time": "2022-09-08T23:34:40.366498",
     "status": "completed"
    },
    "tags": []
   },
   "source": [
    "# (Optional) Bonus Challenge\n",
    "\n",
    "For an extra challenge, you'll work with a [Smithsonian dataset](https://www.kaggle.com/smithsonian/volcanic-eruptions) that documents Earth's volcanoes and their eruptive history over the past 10,000 years \n",
    "\n",
    "Run the next code cell to load the data."
   ]
  },
  {
   "cell_type": "code",
   "execution_count": 19,
   "id": "b0d34d3b",
   "metadata": {
    "collapsed": true,
    "execution": {
     "iopub.execute_input": "2022-09-08T23:34:40.398754Z",
     "iopub.status.busy": "2022-09-08T23:34:40.398298Z",
     "iopub.status.idle": "2022-09-08T23:34:40.421876Z",
     "shell.execute_reply": "2022-09-08T23:34:40.420713Z"
    },
    "jupyter": {
     "outputs_hidden": true
    },
    "papermill": {
     "duration": 0.038087,
     "end_time": "2022-09-08T23:34:40.424738",
     "exception": false,
     "start_time": "2022-09-08T23:34:40.386651",
     "status": "completed"
    },
    "tags": []
   },
   "outputs": [],
   "source": [
    "volcanos = pd.read_csv(\"../input/volcanic-eruptions/database.csv\")"
   ]
  },
  {
   "cell_type": "markdown",
   "id": "31fcf41b",
   "metadata": {
    "papermill": {
     "duration": 0.010003,
     "end_time": "2022-09-08T23:34:40.445141",
     "exception": false,
     "start_time": "2022-09-08T23:34:40.435138",
     "status": "completed"
    },
    "tags": []
   },
   "source": [
    "Try parsing the column \"Last Known Eruption\" from the `volcanos` dataframe. This column contains a mixture of text (\"Unknown\") and years both before the common era (BCE, also known as BC) and in the common era (CE, also known as AD)."
   ]
  },
  {
   "cell_type": "code",
   "execution_count": 20,
   "id": "441996af",
   "metadata": {
    "execution": {
     "iopub.execute_input": "2022-09-08T23:34:40.467564Z",
     "iopub.status.busy": "2022-09-08T23:34:40.466849Z",
     "iopub.status.idle": "2022-09-08T23:34:40.476614Z",
     "shell.execute_reply": "2022-09-08T23:34:40.475693Z"
    },
    "papermill": {
     "duration": 0.02366,
     "end_time": "2022-09-08T23:34:40.478954",
     "exception": false,
     "start_time": "2022-09-08T23:34:40.455294",
     "status": "completed"
    },
    "tags": []
   },
   "outputs": [
    {
     "data": {
      "text/plain": [
       "764     Unknown\n",
       "1069    1996 CE\n",
       "34      1855 CE\n",
       "489     2016 CE\n",
       "9       1302 CE\n",
       "Name: Last Known Eruption, dtype: object"
      ]
     },
     "execution_count": 20,
     "metadata": {},
     "output_type": "execute_result"
    }
   ],
   "source": [
    "volcanos['Last Known Eruption'].sample(5)"
   ]
  },
  {
   "cell_type": "markdown",
   "id": "c8ea31aa",
   "metadata": {
    "papermill": {
     "duration": 0.010045,
     "end_time": "2022-09-08T23:34:40.499546",
     "exception": false,
     "start_time": "2022-09-08T23:34:40.489501",
     "status": "completed"
    },
    "tags": []
   },
   "source": [
    "# (Optional) More practice\n",
    "\n",
    "If you're interested in graphing time series, [check out this tutorial](https://www.kaggle.com/residentmario/time-series-plotting-optional).\n",
    "\n",
    "You can also look into passing columns that you know have dates in them  the `parse_dates` argument in `read_csv`. (The documention [is here](https://pandas.pydata.org/pandas-docs/stable/generated/pandas.read_csv.html).) Do note that this method can be very slow, but depending on your needs it may sometimes be handy to use.\n",
    "\n",
    "# Keep going\n",
    "\n",
    "In the next lesson, learn how to [**work with character encodings**](https://www.kaggle.com/alexisbcook/character-encodings)."
   ]
  },
  {
   "cell_type": "markdown",
   "id": "8fe4b058",
   "metadata": {
    "papermill": {
     "duration": 0.009995,
     "end_time": "2022-09-08T23:34:40.519932",
     "exception": false,
     "start_time": "2022-09-08T23:34:40.509937",
     "status": "completed"
    },
    "tags": []
   },
   "source": [
    "---\n",
    "\n",
    "\n",
    "\n",
    "\n",
    "*Have questions or comments? Visit the [course discussion forum](https://www.kaggle.com/learn/data-cleaning/discussion) to chat with other learners.*"
   ]
  }
 ],
 "metadata": {
  "kernelspec": {
   "display_name": "Python 3",
   "language": "python",
   "name": "python3"
  },
  "language_info": {
   "codemirror_mode": {
    "name": "ipython",
    "version": 3
   },
   "file_extension": ".py",
   "mimetype": "text/x-python",
   "name": "python",
   "nbconvert_exporter": "python",
   "pygments_lexer": "ipython3",
   "version": "3.7.12"
  },
  "papermill": {
   "default_parameters": {},
   "duration": 13.109531,
   "end_time": "2022-09-08T23:34:41.251914",
   "environment_variables": {},
   "exception": null,
   "input_path": "__notebook__.ipynb",
   "output_path": "__notebook__.ipynb",
   "parameters": {},
   "start_time": "2022-09-08T23:34:28.142383",
   "version": "2.3.4"
  }
 },
 "nbformat": 4,
 "nbformat_minor": 5
}
