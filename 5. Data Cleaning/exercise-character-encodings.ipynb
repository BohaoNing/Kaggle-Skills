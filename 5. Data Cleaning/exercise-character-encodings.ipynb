{
 "cells": [
  {
   "cell_type": "markdown",
   "id": "471332d8",
   "metadata": {
    "papermill": {
     "duration": 0.006403,
     "end_time": "2022-09-09T21:26:56.244096",
     "exception": false,
     "start_time": "2022-09-09T21:26:56.237693",
     "status": "completed"
    },
    "tags": []
   },
   "source": [
    "**This notebook is an exercise in the [Data Cleaning](https://www.kaggle.com/learn/data-cleaning) course.  You can reference the tutorial at [this link](https://www.kaggle.com/alexisbcook/character-encodings).**\n",
    "\n",
    "---\n"
   ]
  },
  {
   "cell_type": "markdown",
   "id": "53072857",
   "metadata": {
    "papermill": {
     "duration": 0.004213,
     "end_time": "2022-09-09T21:26:56.253285",
     "exception": false,
     "start_time": "2022-09-09T21:26:56.249072",
     "status": "completed"
    },
    "tags": []
   },
   "source": [
    "In this exercise, you'll apply what you learned in the **Character encodings** tutorial.\n",
    "\n",
    "# Setup\n",
    "\n",
    "The questions below will give you feedback on your work. Run the following cell to set up the feedback system."
   ]
  },
  {
   "cell_type": "code",
   "execution_count": 1,
   "id": "ed602059",
   "metadata": {
    "execution": {
     "iopub.execute_input": "2022-09-09T21:26:56.264580Z",
     "iopub.status.busy": "2022-09-09T21:26:56.263989Z",
     "iopub.status.idle": "2022-09-09T21:26:56.353952Z",
     "shell.execute_reply": "2022-09-09T21:26:56.352661Z"
    },
    "papermill": {
     "duration": 0.099014,
     "end_time": "2022-09-09T21:26:56.356682",
     "exception": false,
     "start_time": "2022-09-09T21:26:56.257668",
     "status": "completed"
    },
    "tags": []
   },
   "outputs": [
    {
     "name": "stdout",
     "output_type": "stream",
     "text": [
      "Setup Complete\n"
     ]
    }
   ],
   "source": [
    "from learntools.core import binder\n",
    "binder.bind(globals())\n",
    "from learntools.data_cleaning.ex4 import *\n",
    "print(\"Setup Complete\")"
   ]
  },
  {
   "cell_type": "markdown",
   "id": "f3978f4a",
   "metadata": {
    "papermill": {
     "duration": 0.004857,
     "end_time": "2022-09-09T21:26:56.366331",
     "exception": false,
     "start_time": "2022-09-09T21:26:56.361474",
     "status": "completed"
    },
    "tags": []
   },
   "source": [
    "# Get our environment set up\n",
    "\n",
    "The first thing we'll need to do is load in the libraries we'll be using."
   ]
  },
  {
   "cell_type": "code",
   "execution_count": 2,
   "id": "996bbcd4",
   "metadata": {
    "execution": {
     "iopub.execute_input": "2022-09-09T21:26:56.377527Z",
     "iopub.status.busy": "2022-09-09T21:26:56.377126Z",
     "iopub.status.idle": "2022-09-09T21:26:56.382588Z",
     "shell.execute_reply": "2022-09-09T21:26:56.381444Z"
    },
    "papermill": {
     "duration": 0.013807,
     "end_time": "2022-09-09T21:26:56.384927",
     "exception": false,
     "start_time": "2022-09-09T21:26:56.371120",
     "status": "completed"
    },
    "tags": []
   },
   "outputs": [],
   "source": [
    "# modules we'll use\n",
    "import pandas as pd\n",
    "import numpy as np\n",
    "\n",
    "# helpful character encoding module\n",
    "import chardet\n",
    "\n",
    "# set seed for reproducibility\n",
    "np.random.seed(0)"
   ]
  },
  {
   "cell_type": "markdown",
   "id": "4b4aac78",
   "metadata": {
    "papermill": {
     "duration": 0.004389,
     "end_time": "2022-09-09T21:26:56.393903",
     "exception": false,
     "start_time": "2022-09-09T21:26:56.389514",
     "status": "completed"
    },
    "tags": []
   },
   "source": [
    "# 1) What are encodings?\n",
    "\n",
    "You're working with a dataset composed of bytes.  Run the code cell below to print a sample entry."
   ]
  },
  {
   "cell_type": "code",
   "execution_count": 3,
   "id": "6338717b",
   "metadata": {
    "execution": {
     "iopub.execute_input": "2022-09-09T21:26:56.405247Z",
     "iopub.status.busy": "2022-09-09T21:26:56.404526Z",
     "iopub.status.idle": "2022-09-09T21:26:56.410452Z",
     "shell.execute_reply": "2022-09-09T21:26:56.409149Z"
    },
    "papermill": {
     "duration": 0.014931,
     "end_time": "2022-09-09T21:26:56.413579",
     "exception": false,
     "start_time": "2022-09-09T21:26:56.398648",
     "status": "completed"
    },
    "tags": []
   },
   "outputs": [
    {
     "name": "stdout",
     "output_type": "stream",
     "text": [
      "b'\\xa7A\\xa6n'\n",
      "data type: <class 'bytes'>\n"
     ]
    }
   ],
   "source": [
    "sample_entry = b'\\xa7A\\xa6n'\n",
    "print(sample_entry)\n",
    "print('data type:', type(sample_entry))"
   ]
  },
  {
   "cell_type": "markdown",
   "id": "97461a46",
   "metadata": {
    "papermill": {
     "duration": 0.004599,
     "end_time": "2022-09-09T21:26:56.423775",
     "exception": false,
     "start_time": "2022-09-09T21:26:56.419176",
     "status": "completed"
    },
    "tags": []
   },
   "source": [
    "You notice that it doesn't use the standard UTF-8 encoding. \n",
    "\n",
    "Use the next code cell to create a variable `new_entry` that changes the encoding from `\"big5-tw\"` to `\"utf-8\"`.  `new_entry` should have the bytes datatype."
   ]
  },
  {
   "cell_type": "code",
   "execution_count": 4,
   "id": "14880075",
   "metadata": {
    "execution": {
     "iopub.execute_input": "2022-09-09T21:26:56.435175Z",
     "iopub.status.busy": "2022-09-09T21:26:56.434749Z",
     "iopub.status.idle": "2022-09-09T21:26:56.446419Z",
     "shell.execute_reply": "2022-09-09T21:26:56.445263Z"
    },
    "papermill": {
     "duration": 0.02035,
     "end_time": "2022-09-09T21:26:56.448803",
     "exception": false,
     "start_time": "2022-09-09T21:26:56.428453",
     "status": "completed"
    },
    "tags": []
   },
   "outputs": [
    {
     "data": {
      "application/javascript": [
       "parent.postMessage({\"jupyterEvent\": \"custom.exercise_interaction\", \"data\": {\"outcomeType\": 1, \"valueTowardsCompletion\": 0.3333333333333333, \"interactionType\": 1, \"questionType\": 1, \"questionId\": \"1_EncodingsIntro\", \"learnToolsVersion\": \"0.3.4\", \"failureMessage\": \"\", \"exceptionClass\": \"\", \"trace\": \"\"}}, \"*\")"
      ],
      "text/plain": [
       "<IPython.core.display.Javascript object>"
      ]
     },
     "metadata": {},
     "output_type": "display_data"
    },
    {
     "data": {
      "text/markdown": [
       "<span style=\"color:#33cc33\">Correct</span>"
      ],
      "text/plain": [
       "Correct"
      ]
     },
     "metadata": {},
     "output_type": "display_data"
    }
   ],
   "source": [
    "new_entry = sample_entry.decode('big5-tw').encode(\"utf-8\", errors=\"replace\")\n",
    "\n",
    "# Check your answer\n",
    "q1.check()"
   ]
  },
  {
   "cell_type": "code",
   "execution_count": 5,
   "id": "d79be239",
   "metadata": {
    "execution": {
     "iopub.execute_input": "2022-09-09T21:26:56.461676Z",
     "iopub.status.busy": "2022-09-09T21:26:56.461274Z",
     "iopub.status.idle": "2022-09-09T21:26:56.465616Z",
     "shell.execute_reply": "2022-09-09T21:26:56.464369Z"
    },
    "papermill": {
     "duration": 0.013695,
     "end_time": "2022-09-09T21:26:56.467928",
     "exception": false,
     "start_time": "2022-09-09T21:26:56.454233",
     "status": "completed"
    },
    "tags": []
   },
   "outputs": [],
   "source": [
    "# Lines below will give you a hint or solution code\n",
    "#q1.hint()\n",
    "#q1.solution()"
   ]
  },
  {
   "cell_type": "markdown",
   "id": "758858bb",
   "metadata": {
    "papermill": {
     "duration": 0.005001,
     "end_time": "2022-09-09T21:26:56.478335",
     "exception": false,
     "start_time": "2022-09-09T21:26:56.473334",
     "status": "completed"
    },
    "tags": []
   },
   "source": [
    "# 2) Reading in files with encoding problems\n",
    "\n",
    "Use the code cell below to read in this file at path `\"../input/fatal-police-shootings-in-the-us/PoliceKillingsUS.csv\"`.  \n",
    "\n",
    "Figure out what the correct encoding should be and read in the file to a DataFrame `police_killings`."
   ]
  },
  {
   "cell_type": "code",
   "execution_count": 6,
   "id": "6d9977b7",
   "metadata": {
    "execution": {
     "iopub.execute_input": "2022-09-09T21:26:56.490651Z",
     "iopub.status.busy": "2022-09-09T21:26:56.490258Z",
     "iopub.status.idle": "2022-09-09T21:26:58.106143Z",
     "shell.execute_reply": "2022-09-09T21:26:58.104905Z"
    },
    "papermill": {
     "duration": 1.625688,
     "end_time": "2022-09-09T21:26:58.109303",
     "exception": false,
     "start_time": "2022-09-09T21:26:56.483615",
     "status": "completed"
    },
    "tags": []
   },
   "outputs": [
    {
     "name": "stdout",
     "output_type": "stream",
     "text": [
      "{'encoding': 'Windows-1252', 'confidence': 0.73, 'language': ''}\n"
     ]
    }
   ],
   "source": [
    "with open(\"../input/fatal-police-shootings-in-the-us/PoliceKillingsUS.csv\", 'rb') as rawdata:\n",
    "    result = chardet.detect(rawdata.read(100000))\n",
    "print(result)"
   ]
  },
  {
   "cell_type": "code",
   "execution_count": 7,
   "id": "a243c3d1",
   "metadata": {
    "execution": {
     "iopub.execute_input": "2022-09-09T21:26:58.122048Z",
     "iopub.status.busy": "2022-09-09T21:26:58.121270Z",
     "iopub.status.idle": "2022-09-09T21:26:58.143569Z",
     "shell.execute_reply": "2022-09-09T21:26:58.142350Z"
    },
    "papermill": {
     "duration": 0.031222,
     "end_time": "2022-09-09T21:26:58.146092",
     "exception": false,
     "start_time": "2022-09-09T21:26:58.114870",
     "status": "completed"
    },
    "tags": []
   },
   "outputs": [
    {
     "data": {
      "application/javascript": [
       "parent.postMessage({\"jupyterEvent\": \"custom.exercise_interaction\", \"data\": {\"outcomeType\": 1, \"valueTowardsCompletion\": 0.3333333333333333, \"interactionType\": 1, \"questionType\": 1, \"questionId\": \"2_ReadIn\", \"learnToolsVersion\": \"0.3.4\", \"failureMessage\": \"\", \"exceptionClass\": \"\", \"trace\": \"\"}}, \"*\")"
      ],
      "text/plain": [
       "<IPython.core.display.Javascript object>"
      ]
     },
     "metadata": {},
     "output_type": "display_data"
    },
    {
     "data": {
      "text/markdown": [
       "<span style=\"color:#33cc33\">Correct</span>"
      ],
      "text/plain": [
       "Correct"
      ]
     },
     "metadata": {},
     "output_type": "display_data"
    }
   ],
   "source": [
    "# TODO: Load in the DataFrame correctly.\n",
    "\n",
    "police_killings = pd.read_csv('../input/fatal-police-shootings-in-the-us/PoliceKillingsUS.csv', encoding='Windows-1252')\n",
    "\n",
    "# Check your answer\n",
    "q2.check()"
   ]
  },
  {
   "cell_type": "markdown",
   "id": "8bbc8933",
   "metadata": {
    "papermill": {
     "duration": 0.005064,
     "end_time": "2022-09-09T21:26:58.156458",
     "exception": false,
     "start_time": "2022-09-09T21:26:58.151394",
     "status": "completed"
    },
    "tags": []
   },
   "source": [
    "Feel free to use any additional code cells for supplemental work.  To get credit for finishing this question, you'll need to run `q2.check()` and get a result of **Correct**."
   ]
  },
  {
   "cell_type": "code",
   "execution_count": 8,
   "id": "2940244c",
   "metadata": {
    "execution": {
     "iopub.execute_input": "2022-09-09T21:26:58.168878Z",
     "iopub.status.busy": "2022-09-09T21:26:58.168146Z",
     "iopub.status.idle": "2022-09-09T21:26:58.172906Z",
     "shell.execute_reply": "2022-09-09T21:26:58.172063Z"
    },
    "papermill": {
     "duration": 0.013195,
     "end_time": "2022-09-09T21:26:58.174882",
     "exception": false,
     "start_time": "2022-09-09T21:26:58.161687",
     "status": "completed"
    },
    "tags": []
   },
   "outputs": [],
   "source": [
    "# (Optional) Use this code cell for any additional work."
   ]
  },
  {
   "cell_type": "code",
   "execution_count": 9,
   "id": "895094e5",
   "metadata": {
    "execution": {
     "iopub.execute_input": "2022-09-09T21:26:58.188022Z",
     "iopub.status.busy": "2022-09-09T21:26:58.187307Z",
     "iopub.status.idle": "2022-09-09T21:26:58.191100Z",
     "shell.execute_reply": "2022-09-09T21:26:58.190316Z"
    },
    "papermill": {
     "duration": 0.012772,
     "end_time": "2022-09-09T21:26:58.193207",
     "exception": false,
     "start_time": "2022-09-09T21:26:58.180435",
     "status": "completed"
    },
    "tags": []
   },
   "outputs": [],
   "source": [
    "# Lines below will give you a hint or solution code\n",
    "#q2.hint()\n",
    "#q2.solution()"
   ]
  },
  {
   "cell_type": "markdown",
   "id": "e2858f2a",
   "metadata": {
    "papermill": {
     "duration": 0.005249,
     "end_time": "2022-09-09T21:26:58.204239",
     "exception": false,
     "start_time": "2022-09-09T21:26:58.198990",
     "status": "completed"
    },
    "tags": []
   },
   "source": [
    "# 3) Saving your files with UTF-8 encoding\n",
    "\n",
    "Save a version of the police killings dataset to CSV with UTF-8 encoding.  Your answer will be marked correct after saving this file.  \n",
    "\n",
    "Note: When using the `to_csv()` method, supply only the name of the file (e.g., `\"my_file.csv\"`).  This saves the file at the filepath `\"/kaggle/working/my_file.csv\"`."
   ]
  },
  {
   "cell_type": "code",
   "execution_count": 10,
   "id": "d461620d",
   "metadata": {
    "execution": {
     "iopub.execute_input": "2022-09-09T21:26:58.217182Z",
     "iopub.status.busy": "2022-09-09T21:26:58.216722Z",
     "iopub.status.idle": "2022-09-09T21:26:58.251070Z",
     "shell.execute_reply": "2022-09-09T21:26:58.249715Z"
    },
    "papermill": {
     "duration": 0.043889,
     "end_time": "2022-09-09T21:26:58.253520",
     "exception": false,
     "start_time": "2022-09-09T21:26:58.209631",
     "status": "completed"
    },
    "tags": []
   },
   "outputs": [
    {
     "data": {
      "application/javascript": [
       "parent.postMessage({\"jupyterEvent\": \"custom.exercise_interaction\", \"data\": {\"outcomeType\": 1, \"valueTowardsCompletion\": 0.3333333333333333, \"interactionType\": 1, \"questionType\": 2, \"questionId\": \"3_SaveCSV\", \"learnToolsVersion\": \"0.3.4\", \"failureMessage\": \"\", \"exceptionClass\": \"\", \"trace\": \"\"}}, \"*\")"
      ],
      "text/plain": [
       "<IPython.core.display.Javascript object>"
      ]
     },
     "metadata": {},
     "output_type": "display_data"
    },
    {
     "data": {
      "text/markdown": [
       "<span style=\"color:#33cc33\">Correct</span>"
      ],
      "text/plain": [
       "Correct"
      ]
     },
     "metadata": {},
     "output_type": "display_data"
    }
   ],
   "source": [
    "# TODO: Save the police killings dataset to CSV\n",
    "police_killings.to_csv(\"/kaggle/working/my_file.csv\")\n",
    "\n",
    "# Check your answer\n",
    "q3.check()"
   ]
  },
  {
   "cell_type": "code",
   "execution_count": 11,
   "id": "b2939413",
   "metadata": {
    "execution": {
     "iopub.execute_input": "2022-09-09T21:26:58.267350Z",
     "iopub.status.busy": "2022-09-09T21:26:58.266982Z",
     "iopub.status.idle": "2022-09-09T21:26:58.271422Z",
     "shell.execute_reply": "2022-09-09T21:26:58.270123Z"
    },
    "papermill": {
     "duration": 0.013787,
     "end_time": "2022-09-09T21:26:58.273742",
     "exception": false,
     "start_time": "2022-09-09T21:26:58.259955",
     "status": "completed"
    },
    "tags": []
   },
   "outputs": [],
   "source": [
    "# Lines below will give you a hint or solution code\n",
    "#q3.hint()\n",
    "#q3.solution()"
   ]
  },
  {
   "cell_type": "markdown",
   "id": "8ad8097d",
   "metadata": {
    "papermill": {
     "duration": 0.005306,
     "end_time": "2022-09-09T21:26:58.284808",
     "exception": false,
     "start_time": "2022-09-09T21:26:58.279502",
     "status": "completed"
    },
    "tags": []
   },
   "source": [
    "# (Optional) More practice\n",
    "\n",
    "Check out [this dataset of files in different character encodings](https://www.kaggle.com/rtatman/character-encoding-examples). Can you read in all the files with their original encodings and them save them out as UTF-8 files?\n",
    "\n",
    "If you have a file that's in UTF-8 but has just a couple of weird-looking characters in it, you can try out the [ftfy module](https://ftfy.readthedocs.io/en/latest/#) and see if it helps. \n",
    "\n",
    "# Keep going\n",
    "\n",
    "In the final lesson, learn how to [**clean up inconsistent text entries**](https://www.kaggle.com/alexisbcook/inconsistent-data-entry) in your dataset."
   ]
  },
  {
   "cell_type": "markdown",
   "id": "8608f538",
   "metadata": {
    "papermill": {
     "duration": 0.005284,
     "end_time": "2022-09-09T21:26:58.295524",
     "exception": false,
     "start_time": "2022-09-09T21:26:58.290240",
     "status": "completed"
    },
    "tags": []
   },
   "source": [
    "---\n",
    "\n",
    "\n",
    "\n",
    "\n",
    "*Have questions or comments? Visit the [course discussion forum](https://www.kaggle.com/learn/data-cleaning/discussion) to chat with other learners.*"
   ]
  }
 ],
 "metadata": {
  "kernelspec": {
   "display_name": "Python 3",
   "language": "python",
   "name": "python3"
  },
  "language_info": {
   "codemirror_mode": {
    "name": "ipython",
    "version": 3
   },
   "file_extension": ".py",
   "mimetype": "text/x-python",
   "name": "python",
   "nbconvert_exporter": "python",
   "pygments_lexer": "ipython3",
   "version": "3.7.12"
  },
  "papermill": {
   "default_parameters": {},
   "duration": 11.743701,
   "end_time": "2022-09-09T21:26:58.922713",
   "environment_variables": {},
   "exception": null,
   "input_path": "__notebook__.ipynb",
   "output_path": "__notebook__.ipynb",
   "parameters": {},
   "start_time": "2022-09-09T21:26:47.179012",
   "version": "2.3.4"
  }
 },
 "nbformat": 4,
 "nbformat_minor": 5
}
