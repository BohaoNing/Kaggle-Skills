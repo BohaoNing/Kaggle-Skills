{
 "cells": [
  {
   "cell_type": "markdown",
   "id": "9a160b17",
   "metadata": {
    "papermill": {
     "duration": 0.005417,
     "end_time": "2022-08-16T02:11:56.030739",
     "exception": false,
     "start_time": "2022-08-16T02:11:56.025322",
     "status": "completed"
    },
    "tags": []
   },
   "source": [
    "**This notebook is an exercise in the [Data Cleaning](https://www.kaggle.com/learn/data-cleaning) course.  You can reference the tutorial at [this link](https://www.kaggle.com/alexisbcook/character-encodings).**\n",
    "\n",
    "---\n"
   ]
  },
  {
   "cell_type": "markdown",
   "id": "dcb40084",
   "metadata": {
    "papermill": {
     "duration": 0.004064,
     "end_time": "2022-08-16T02:11:56.039370",
     "exception": false,
     "start_time": "2022-08-16T02:11:56.035306",
     "status": "completed"
    },
    "tags": []
   },
   "source": [
    "In this exercise, you'll apply what you learned in the **Character encodings** tutorial.\n",
    "\n",
    "# Setup\n",
    "\n",
    "The questions below will give you feedback on your work. Run the following cell to set up the feedback system."
   ]
  },
  {
   "cell_type": "code",
   "execution_count": 1,
   "id": "094b3aa4",
   "metadata": {
    "execution": {
     "iopub.execute_input": "2022-08-16T02:11:56.049656Z",
     "iopub.status.busy": "2022-08-16T02:11:56.049202Z",
     "iopub.status.idle": "2022-08-16T02:11:56.125967Z",
     "shell.execute_reply": "2022-08-16T02:11:56.125021Z"
    },
    "papermill": {
     "duration": 0.085287,
     "end_time": "2022-08-16T02:11:56.128766",
     "exception": false,
     "start_time": "2022-08-16T02:11:56.043479",
     "status": "completed"
    },
    "tags": []
   },
   "outputs": [
    {
     "name": "stdout",
     "output_type": "stream",
     "text": [
      "Setup Complete\n"
     ]
    }
   ],
   "source": [
    "from learntools.core import binder\n",
    "binder.bind(globals())\n",
    "from learntools.data_cleaning.ex4 import *\n",
    "print(\"Setup Complete\")"
   ]
  },
  {
   "cell_type": "markdown",
   "id": "54eba4aa",
   "metadata": {
    "papermill": {
     "duration": 0.003955,
     "end_time": "2022-08-16T02:11:56.137567",
     "exception": false,
     "start_time": "2022-08-16T02:11:56.133612",
     "status": "completed"
    },
    "tags": []
   },
   "source": [
    "# Get our environment set up\n",
    "\n",
    "The first thing we'll need to do is load in the libraries we'll be using."
   ]
  },
  {
   "cell_type": "code",
   "execution_count": 2,
   "id": "e7943622",
   "metadata": {
    "execution": {
     "iopub.execute_input": "2022-08-16T02:11:56.147995Z",
     "iopub.status.busy": "2022-08-16T02:11:56.147584Z",
     "iopub.status.idle": "2022-08-16T02:11:56.152086Z",
     "shell.execute_reply": "2022-08-16T02:11:56.151173Z"
    },
    "papermill": {
     "duration": 0.012129,
     "end_time": "2022-08-16T02:11:56.153841",
     "exception": false,
     "start_time": "2022-08-16T02:11:56.141712",
     "status": "completed"
    },
    "tags": []
   },
   "outputs": [],
   "source": [
    "# modules we'll use\n",
    "import pandas as pd\n",
    "import numpy as np\n",
    "\n",
    "# helpful character encoding module\n",
    "import chardet\n",
    "\n",
    "# set seed for reproducibility\n",
    "np.random.seed(0)"
   ]
  },
  {
   "cell_type": "markdown",
   "id": "a04a8293",
   "metadata": {
    "papermill": {
     "duration": 0.003876,
     "end_time": "2022-08-16T02:11:56.162247",
     "exception": false,
     "start_time": "2022-08-16T02:11:56.158371",
     "status": "completed"
    },
    "tags": []
   },
   "source": [
    "# 1) What are encodings?\n",
    "\n",
    "You're working with a dataset composed of bytes.  Run the code cell below to print a sample entry."
   ]
  },
  {
   "cell_type": "code",
   "execution_count": 3,
   "id": "a11e2f4a",
   "metadata": {
    "execution": {
     "iopub.execute_input": "2022-08-16T02:11:56.172475Z",
     "iopub.status.busy": "2022-08-16T02:11:56.171869Z",
     "iopub.status.idle": "2022-08-16T02:11:56.176633Z",
     "shell.execute_reply": "2022-08-16T02:11:56.175619Z"
    },
    "papermill": {
     "duration": 0.012363,
     "end_time": "2022-08-16T02:11:56.178687",
     "exception": false,
     "start_time": "2022-08-16T02:11:56.166324",
     "status": "completed"
    },
    "tags": []
   },
   "outputs": [
    {
     "name": "stdout",
     "output_type": "stream",
     "text": [
      "b'\\xa7A\\xa6n'\n",
      "data type: <class 'bytes'>\n"
     ]
    }
   ],
   "source": [
    "sample_entry = b'\\xa7A\\xa6n'\n",
    "print(sample_entry)\n",
    "print('data type:', type(sample_entry))"
   ]
  },
  {
   "cell_type": "markdown",
   "id": "3e6faa65",
   "metadata": {
    "papermill": {
     "duration": 0.003855,
     "end_time": "2022-08-16T02:11:56.186676",
     "exception": false,
     "start_time": "2022-08-16T02:11:56.182821",
     "status": "completed"
    },
    "tags": []
   },
   "source": [
    "You notice that it doesn't use the standard UTF-8 encoding. \n",
    "\n",
    "Use the next code cell to create a variable `new_entry` that changes the encoding from `\"big5-tw\"` to `\"utf-8\"`.  `new_entry` should have the bytes datatype."
   ]
  },
  {
   "cell_type": "code",
   "execution_count": 4,
   "id": "9527180b",
   "metadata": {
    "execution": {
     "iopub.execute_input": "2022-08-16T02:11:56.196065Z",
     "iopub.status.busy": "2022-08-16T02:11:56.195741Z",
     "iopub.status.idle": "2022-08-16T02:11:56.206937Z",
     "shell.execute_reply": "2022-08-16T02:11:56.205676Z"
    },
    "papermill": {
     "duration": 0.018288,
     "end_time": "2022-08-16T02:11:56.208962",
     "exception": false,
     "start_time": "2022-08-16T02:11:56.190674",
     "status": "completed"
    },
    "tags": []
   },
   "outputs": [
    {
     "data": {
      "application/javascript": [
       "parent.postMessage({\"jupyterEvent\": \"custom.exercise_interaction\", \"data\": {\"outcomeType\": 1, \"valueTowardsCompletion\": 0.3333333333333333, \"interactionType\": 1, \"questionType\": 1, \"questionId\": \"1_EncodingsIntro\", \"learnToolsVersion\": \"0.3.4\", \"failureMessage\": \"\", \"exceptionClass\": \"\", \"trace\": \"\"}}, \"*\")"
      ],
      "text/plain": [
       "<IPython.core.display.Javascript object>"
      ]
     },
     "metadata": {},
     "output_type": "display_data"
    },
    {
     "data": {
      "text/markdown": [
       "<span style=\"color:#33cc33\">Correct</span>"
      ],
      "text/plain": [
       "Correct"
      ]
     },
     "metadata": {},
     "output_type": "display_data"
    }
   ],
   "source": [
    "new_entry = sample_entry.decode('big5-tw').encode(\"utf-8\", errors=\"replace\")\n",
    "\n",
    "# Check your answer\n",
    "q1.check()"
   ]
  },
  {
   "cell_type": "code",
   "execution_count": 5,
   "id": "26bf6333",
   "metadata": {
    "execution": {
     "iopub.execute_input": "2022-08-16T02:11:56.220472Z",
     "iopub.status.busy": "2022-08-16T02:11:56.219796Z",
     "iopub.status.idle": "2022-08-16T02:11:56.223398Z",
     "shell.execute_reply": "2022-08-16T02:11:56.222686Z"
    },
    "papermill": {
     "duration": 0.011941,
     "end_time": "2022-08-16T02:11:56.225708",
     "exception": false,
     "start_time": "2022-08-16T02:11:56.213767",
     "status": "completed"
    },
    "tags": []
   },
   "outputs": [],
   "source": [
    "# Lines below will give you a hint or solution code\n",
    "#q1.hint()\n",
    "#q1.solution()"
   ]
  },
  {
   "cell_type": "markdown",
   "id": "cccbdae7",
   "metadata": {
    "papermill": {
     "duration": 0.004422,
     "end_time": "2022-08-16T02:11:56.235006",
     "exception": false,
     "start_time": "2022-08-16T02:11:56.230584",
     "status": "completed"
    },
    "tags": []
   },
   "source": [
    "# 2) Reading in files with encoding problems\n",
    "\n",
    "Use the code cell below to read in this file at path `\"../input/fatal-police-shootings-in-the-us/PoliceKillingsUS.csv\"`.  \n",
    "\n",
    "Figure out what the correct encoding should be and read in the file to a DataFrame `police_killings`."
   ]
  },
  {
   "cell_type": "code",
   "execution_count": 6,
   "id": "5d2f8610",
   "metadata": {
    "execution": {
     "iopub.execute_input": "2022-08-16T02:11:56.245779Z",
     "iopub.status.busy": "2022-08-16T02:11:56.245145Z",
     "iopub.status.idle": "2022-08-16T02:11:57.602353Z",
     "shell.execute_reply": "2022-08-16T02:11:57.600687Z"
    },
    "papermill": {
     "duration": 1.365975,
     "end_time": "2022-08-16T02:11:57.605442",
     "exception": false,
     "start_time": "2022-08-16T02:11:56.239467",
     "status": "completed"
    },
    "tags": []
   },
   "outputs": [
    {
     "name": "stdout",
     "output_type": "stream",
     "text": [
      "{'encoding': 'Windows-1252', 'confidence': 0.73, 'language': ''}\n"
     ]
    }
   ],
   "source": [
    "with open(\"../input/fatal-police-shootings-in-the-us/PoliceKillingsUS.csv\", 'rb') as rawdata:\n",
    "    result = chardet.detect(rawdata.read(100000))\n",
    "print(result)"
   ]
  },
  {
   "cell_type": "code",
   "execution_count": 7,
   "id": "ab9adb6c",
   "metadata": {
    "execution": {
     "iopub.execute_input": "2022-08-16T02:11:57.617320Z",
     "iopub.status.busy": "2022-08-16T02:11:57.616950Z",
     "iopub.status.idle": "2022-08-16T02:11:57.643147Z",
     "shell.execute_reply": "2022-08-16T02:11:57.641686Z"
    },
    "papermill": {
     "duration": 0.034986,
     "end_time": "2022-08-16T02:11:57.646063",
     "exception": false,
     "start_time": "2022-08-16T02:11:57.611077",
     "status": "completed"
    },
    "tags": []
   },
   "outputs": [
    {
     "data": {
      "application/javascript": [
       "parent.postMessage({\"jupyterEvent\": \"custom.exercise_interaction\", \"data\": {\"outcomeType\": 1, \"valueTowardsCompletion\": 0.3333333333333333, \"interactionType\": 1, \"questionType\": 1, \"questionId\": \"2_ReadIn\", \"learnToolsVersion\": \"0.3.4\", \"failureMessage\": \"\", \"exceptionClass\": \"\", \"trace\": \"\"}}, \"*\")"
      ],
      "text/plain": [
       "<IPython.core.display.Javascript object>"
      ]
     },
     "metadata": {},
     "output_type": "display_data"
    },
    {
     "data": {
      "text/markdown": [
       "<span style=\"color:#33cc33\">Correct</span>"
      ],
      "text/plain": [
       "Correct"
      ]
     },
     "metadata": {},
     "output_type": "display_data"
    }
   ],
   "source": [
    "# TODO: Load in the DataFrame correctly.\n",
    "\n",
    "police_killings = pd.read_csv('../input/fatal-police-shootings-in-the-us/PoliceKillingsUS.csv', encoding='Windows-1252')\n",
    "\n",
    "# Check your answer\n",
    "q2.check()"
   ]
  },
  {
   "cell_type": "markdown",
   "id": "aec72689",
   "metadata": {
    "papermill": {
     "duration": 0.004955,
     "end_time": "2022-08-16T02:11:57.656956",
     "exception": false,
     "start_time": "2022-08-16T02:11:57.652001",
     "status": "completed"
    },
    "tags": []
   },
   "source": [
    "Feel free to use any additional code cells for supplemental work.  To get credit for finishing this question, you'll need to run `q2.check()` and get a result of **Correct**."
   ]
  },
  {
   "cell_type": "code",
   "execution_count": 8,
   "id": "111a7198",
   "metadata": {
    "execution": {
     "iopub.execute_input": "2022-08-16T02:11:57.670037Z",
     "iopub.status.busy": "2022-08-16T02:11:57.669172Z",
     "iopub.status.idle": "2022-08-16T02:11:57.674078Z",
     "shell.execute_reply": "2022-08-16T02:11:57.673236Z"
    },
    "papermill": {
     "duration": 0.01428,
     "end_time": "2022-08-16T02:11:57.676249",
     "exception": false,
     "start_time": "2022-08-16T02:11:57.661969",
     "status": "completed"
    },
    "tags": []
   },
   "outputs": [],
   "source": [
    "# (Optional) Use this code cell for any additional work."
   ]
  },
  {
   "cell_type": "code",
   "execution_count": 9,
   "id": "5a2d8f61",
   "metadata": {
    "execution": {
     "iopub.execute_input": "2022-08-16T02:11:57.691620Z",
     "iopub.status.busy": "2022-08-16T02:11:57.690878Z",
     "iopub.status.idle": "2022-08-16T02:11:57.695551Z",
     "shell.execute_reply": "2022-08-16T02:11:57.694696Z"
    },
    "papermill": {
     "duration": 0.015515,
     "end_time": "2022-08-16T02:11:57.697365",
     "exception": false,
     "start_time": "2022-08-16T02:11:57.681850",
     "status": "completed"
    },
    "tags": []
   },
   "outputs": [],
   "source": [
    "# Lines below will give you a hint or solution code\n",
    "#q2.hint()\n",
    "#q2.solution()"
   ]
  },
  {
   "cell_type": "markdown",
   "id": "de9cb0c2",
   "metadata": {
    "papermill": {
     "duration": 0.004716,
     "end_time": "2022-08-16T02:11:57.707405",
     "exception": false,
     "start_time": "2022-08-16T02:11:57.702689",
     "status": "completed"
    },
    "tags": []
   },
   "source": [
    "# 3) Saving your files with UTF-8 encoding\n",
    "\n",
    "Save a version of the police killings dataset to CSV with UTF-8 encoding.  Your answer will be marked correct after saving this file.  \n",
    "\n",
    "Note: When using the `to_csv()` method, supply only the name of the file (e.g., `\"my_file.csv\"`).  This saves the file at the filepath `\"/kaggle/working/my_file.csv\"`."
   ]
  },
  {
   "cell_type": "code",
   "execution_count": 10,
   "id": "90dc3dcb",
   "metadata": {
    "execution": {
     "iopub.execute_input": "2022-08-16T02:11:57.719693Z",
     "iopub.status.busy": "2022-08-16T02:11:57.719000Z",
     "iopub.status.idle": "2022-08-16T02:11:57.749872Z",
     "shell.execute_reply": "2022-08-16T02:11:57.748768Z"
    },
    "papermill": {
     "duration": 0.039773,
     "end_time": "2022-08-16T02:11:57.752068",
     "exception": false,
     "start_time": "2022-08-16T02:11:57.712295",
     "status": "completed"
    },
    "tags": []
   },
   "outputs": [
    {
     "data": {
      "application/javascript": [
       "parent.postMessage({\"jupyterEvent\": \"custom.exercise_interaction\", \"data\": {\"outcomeType\": 1, \"valueTowardsCompletion\": 0.3333333333333333, \"interactionType\": 1, \"questionType\": 2, \"questionId\": \"3_SaveCSV\", \"learnToolsVersion\": \"0.3.4\", \"failureMessage\": \"\", \"exceptionClass\": \"\", \"trace\": \"\"}}, \"*\")"
      ],
      "text/plain": [
       "<IPython.core.display.Javascript object>"
      ]
     },
     "metadata": {},
     "output_type": "display_data"
    },
    {
     "data": {
      "text/markdown": [
       "<span style=\"color:#33cc33\">Correct</span>"
      ],
      "text/plain": [
       "Correct"
      ]
     },
     "metadata": {},
     "output_type": "display_data"
    }
   ],
   "source": [
    "# TODO: Save the police killings dataset to CSV\n",
    "police_killings.to_csv(\"/kaggle/working/my_file.csv\")\n",
    "\n",
    "# Check your answer\n",
    "q3.check()"
   ]
  },
  {
   "cell_type": "code",
   "execution_count": 11,
   "id": "a165f274",
   "metadata": {
    "execution": {
     "iopub.execute_input": "2022-08-16T02:11:57.764774Z",
     "iopub.status.busy": "2022-08-16T02:11:57.764368Z",
     "iopub.status.idle": "2022-08-16T02:11:57.767847Z",
     "shell.execute_reply": "2022-08-16T02:11:57.767142Z"
    },
    "papermill": {
     "duration": 0.011196,
     "end_time": "2022-08-16T02:11:57.769449",
     "exception": false,
     "start_time": "2022-08-16T02:11:57.758253",
     "status": "completed"
    },
    "tags": []
   },
   "outputs": [],
   "source": [
    "# Lines below will give you a hint or solution code\n",
    "#q3.hint()\n",
    "#q3.solution()"
   ]
  },
  {
   "cell_type": "markdown",
   "id": "7193c5aa",
   "metadata": {
    "papermill": {
     "duration": 0.004609,
     "end_time": "2022-08-16T02:11:57.779043",
     "exception": false,
     "start_time": "2022-08-16T02:11:57.774434",
     "status": "completed"
    },
    "tags": []
   },
   "source": [
    "# (Optional) More practice\n",
    "\n",
    "Check out [this dataset of files in different character encodings](https://www.kaggle.com/rtatman/character-encoding-examples). Can you read in all the files with their original encodings and them save them out as UTF-8 files?\n",
    "\n",
    "If you have a file that's in UTF-8 but has just a couple of weird-looking characters in it, you can try out the [ftfy module](https://ftfy.readthedocs.io/en/latest/#) and see if it helps. \n",
    "\n",
    "# Keep going\n",
    "\n",
    "In the final lesson, learn how to [**clean up inconsistent text entries**](https://www.kaggle.com/alexisbcook/inconsistent-data-entry) in your dataset."
   ]
  },
  {
   "cell_type": "markdown",
   "id": "572e08be",
   "metadata": {
    "papermill": {
     "duration": 0.004785,
     "end_time": "2022-08-16T02:11:57.788707",
     "exception": false,
     "start_time": "2022-08-16T02:11:57.783922",
     "status": "completed"
    },
    "tags": []
   },
   "source": [
    "---\n",
    "\n",
    "\n",
    "\n",
    "\n",
    "*Have questions or comments? Visit the [course discussion forum](https://www.kaggle.com/learn/data-cleaning/discussion) to chat with other learners.*"
   ]
  }
 ],
 "metadata": {
  "kernelspec": {
   "display_name": "Python 3",
   "language": "python",
   "name": "python3"
  },
  "language_info": {
   "codemirror_mode": {
    "name": "ipython",
    "version": 3
   },
   "file_extension": ".py",
   "mimetype": "text/x-python",
   "name": "python",
   "nbconvert_exporter": "python",
   "pygments_lexer": "ipython3",
   "version": "3.7.12"
  },
  "papermill": {
   "default_parameters": {},
   "duration": 10.627334,
   "end_time": "2022-08-16T02:11:58.515195",
   "environment_variables": {},
   "exception": null,
   "input_path": "__notebook__.ipynb",
   "output_path": "__notebook__.ipynb",
   "parameters": {},
   "start_time": "2022-08-16T02:11:47.887861",
   "version": "2.3.4"
  }
 },
 "nbformat": 4,
 "nbformat_minor": 5
}
