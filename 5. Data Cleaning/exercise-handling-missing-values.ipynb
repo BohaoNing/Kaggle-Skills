{
 "cells": [
  {
   "cell_type": "markdown",
   "id": "a1b90614",
   "metadata": {
    "papermill": {
     "duration": 0.007645,
     "end_time": "2022-08-16T01:07:21.735964",
     "exception": false,
     "start_time": "2022-08-16T01:07:21.728319",
     "status": "completed"
    },
    "tags": []
   },
   "source": [
    "**This notebook is an exercise in the [Data Cleaning](https://www.kaggle.com/learn/data-cleaning) course.  You can reference the tutorial at [this link](https://www.kaggle.com/alexisbcook/handling-missing-values).**\n",
    "\n",
    "---\n"
   ]
  },
  {
   "cell_type": "markdown",
   "id": "01f68ff4",
   "metadata": {
    "papermill": {
     "duration": 0.006814,
     "end_time": "2022-08-16T01:07:21.749511",
     "exception": false,
     "start_time": "2022-08-16T01:07:21.742697",
     "status": "completed"
    },
    "tags": []
   },
   "source": [
    "In this exercise, you'll apply what you learned in the **Handling missing values** tutorial.\n",
    "\n",
    "# Setup\n",
    "\n",
    "The questions below will give you feedback on your work. Run the following cell to set up the feedback system."
   ]
  },
  {
   "cell_type": "code",
   "execution_count": 1,
   "id": "b8c48455",
   "metadata": {
    "execution": {
     "iopub.execute_input": "2022-08-16T01:07:21.765407Z",
     "iopub.status.busy": "2022-08-16T01:07:21.764902Z",
     "iopub.status.idle": "2022-08-16T01:07:26.175900Z",
     "shell.execute_reply": "2022-08-16T01:07:26.174095Z"
    },
    "papermill": {
     "duration": 4.422373,
     "end_time": "2022-08-16T01:07:26.179274",
     "exception": false,
     "start_time": "2022-08-16T01:07:21.756901",
     "status": "completed"
    },
    "tags": []
   },
   "outputs": [
    {
     "name": "stderr",
     "output_type": "stream",
     "text": [
      "/opt/conda/lib/python3.7/site-packages/ipykernel_launcher.py:3: DtypeWarning: Columns (22,32) have mixed types.Specify dtype option on import or set low_memory=False.\n",
      "  This is separate from the ipykernel package so we can avoid doing imports until\n"
     ]
    },
    {
     "name": "stdout",
     "output_type": "stream",
     "text": [
      "Setup Complete\n"
     ]
    }
   ],
   "source": [
    "from learntools.core import binder\n",
    "binder.bind(globals())\n",
    "from learntools.data_cleaning.ex1 import *\n",
    "print(\"Setup Complete\")"
   ]
  },
  {
   "cell_type": "markdown",
   "id": "9efc17e2",
   "metadata": {
    "papermill": {
     "duration": 0.006346,
     "end_time": "2022-08-16T01:07:26.193312",
     "exception": false,
     "start_time": "2022-08-16T01:07:26.186966",
     "status": "completed"
    },
    "tags": []
   },
   "source": [
    "# 1) Take a first look at the data\n",
    "\n",
    "Run the next code cell to load in the libraries and dataset you'll use to complete the exercise."
   ]
  },
  {
   "cell_type": "code",
   "execution_count": 2,
   "id": "24c8b272",
   "metadata": {
    "execution": {
     "iopub.execute_input": "2022-08-16T01:07:26.208829Z",
     "iopub.status.busy": "2022-08-16T01:07:26.208372Z",
     "iopub.status.idle": "2022-08-16T01:07:28.149209Z",
     "shell.execute_reply": "2022-08-16T01:07:28.148038Z"
    },
    "papermill": {
     "duration": 1.952013,
     "end_time": "2022-08-16T01:07:28.152046",
     "exception": false,
     "start_time": "2022-08-16T01:07:26.200033",
     "status": "completed"
    },
    "tags": []
   },
   "outputs": [
    {
     "name": "stderr",
     "output_type": "stream",
     "text": [
      "/opt/conda/lib/python3.7/site-packages/IPython/core/interactiveshell.py:3552: DtypeWarning: Columns (22,32) have mixed types.Specify dtype option on import or set low_memory=False.\n",
      "  exec(code_obj, self.user_global_ns, self.user_ns)\n"
     ]
    }
   ],
   "source": [
    "# modules we'll use\n",
    "import pandas as pd\n",
    "import numpy as np\n",
    "\n",
    "# read in all our data\n",
    "sf_permits = pd.read_csv(\"../input/building-permit-applications-data/Building_Permits.csv\")\n",
    "\n",
    "# set seed for reproducibility\n",
    "np.random.seed(0) "
   ]
  },
  {
   "cell_type": "markdown",
   "id": "53903f6b",
   "metadata": {
    "papermill": {
     "duration": 0.006712,
     "end_time": "2022-08-16T01:07:28.165557",
     "exception": false,
     "start_time": "2022-08-16T01:07:28.158845",
     "status": "completed"
    },
    "tags": []
   },
   "source": [
    "Use the code cell below to print the first five rows of the `sf_permits` DataFrame."
   ]
  },
  {
   "cell_type": "code",
   "execution_count": 3,
   "id": "2baf5aef",
   "metadata": {
    "execution": {
     "iopub.execute_input": "2022-08-16T01:07:28.181389Z",
     "iopub.status.busy": "2022-08-16T01:07:28.181011Z",
     "iopub.status.idle": "2022-08-16T01:07:28.216855Z",
     "shell.execute_reply": "2022-08-16T01:07:28.215543Z"
    },
    "papermill": {
     "duration": 0.046721,
     "end_time": "2022-08-16T01:07:28.219347",
     "exception": false,
     "start_time": "2022-08-16T01:07:28.172626",
     "status": "completed"
    },
    "tags": []
   },
   "outputs": [
    {
     "data": {
      "text/html": [
       "<div>\n",
       "<style scoped>\n",
       "    .dataframe tbody tr th:only-of-type {\n",
       "        vertical-align: middle;\n",
       "    }\n",
       "\n",
       "    .dataframe tbody tr th {\n",
       "        vertical-align: top;\n",
       "    }\n",
       "\n",
       "    .dataframe thead th {\n",
       "        text-align: right;\n",
       "    }\n",
       "</style>\n",
       "<table border=\"1\" class=\"dataframe\">\n",
       "  <thead>\n",
       "    <tr style=\"text-align: right;\">\n",
       "      <th></th>\n",
       "      <th>Permit Number</th>\n",
       "      <th>Permit Type</th>\n",
       "      <th>Permit Type Definition</th>\n",
       "      <th>Permit Creation Date</th>\n",
       "      <th>Block</th>\n",
       "      <th>Lot</th>\n",
       "      <th>Street Number</th>\n",
       "      <th>Street Number Suffix</th>\n",
       "      <th>Street Name</th>\n",
       "      <th>Street Suffix</th>\n",
       "      <th>...</th>\n",
       "      <th>Existing Construction Type</th>\n",
       "      <th>Existing Construction Type Description</th>\n",
       "      <th>Proposed Construction Type</th>\n",
       "      <th>Proposed Construction Type Description</th>\n",
       "      <th>Site Permit</th>\n",
       "      <th>Supervisor District</th>\n",
       "      <th>Neighborhoods - Analysis Boundaries</th>\n",
       "      <th>Zipcode</th>\n",
       "      <th>Location</th>\n",
       "      <th>Record ID</th>\n",
       "    </tr>\n",
       "  </thead>\n",
       "  <tbody>\n",
       "    <tr>\n",
       "      <th>0</th>\n",
       "      <td>201505065519</td>\n",
       "      <td>4</td>\n",
       "      <td>sign - erect</td>\n",
       "      <td>05/06/2015</td>\n",
       "      <td>0326</td>\n",
       "      <td>023</td>\n",
       "      <td>140</td>\n",
       "      <td>NaN</td>\n",
       "      <td>Ellis</td>\n",
       "      <td>St</td>\n",
       "      <td>...</td>\n",
       "      <td>3.0</td>\n",
       "      <td>constr type 3</td>\n",
       "      <td>NaN</td>\n",
       "      <td>NaN</td>\n",
       "      <td>NaN</td>\n",
       "      <td>3.0</td>\n",
       "      <td>Tenderloin</td>\n",
       "      <td>94102.0</td>\n",
       "      <td>(37.785719256680785, -122.40852313194863)</td>\n",
       "      <td>1380611233945</td>\n",
       "    </tr>\n",
       "    <tr>\n",
       "      <th>1</th>\n",
       "      <td>201604195146</td>\n",
       "      <td>4</td>\n",
       "      <td>sign - erect</td>\n",
       "      <td>04/19/2016</td>\n",
       "      <td>0306</td>\n",
       "      <td>007</td>\n",
       "      <td>440</td>\n",
       "      <td>NaN</td>\n",
       "      <td>Geary</td>\n",
       "      <td>St</td>\n",
       "      <td>...</td>\n",
       "      <td>3.0</td>\n",
       "      <td>constr type 3</td>\n",
       "      <td>NaN</td>\n",
       "      <td>NaN</td>\n",
       "      <td>NaN</td>\n",
       "      <td>3.0</td>\n",
       "      <td>Tenderloin</td>\n",
       "      <td>94102.0</td>\n",
       "      <td>(37.78733980600732, -122.41063199757738)</td>\n",
       "      <td>1420164406718</td>\n",
       "    </tr>\n",
       "    <tr>\n",
       "      <th>2</th>\n",
       "      <td>201605278609</td>\n",
       "      <td>3</td>\n",
       "      <td>additions alterations or repairs</td>\n",
       "      <td>05/27/2016</td>\n",
       "      <td>0595</td>\n",
       "      <td>203</td>\n",
       "      <td>1647</td>\n",
       "      <td>NaN</td>\n",
       "      <td>Pacific</td>\n",
       "      <td>Av</td>\n",
       "      <td>...</td>\n",
       "      <td>1.0</td>\n",
       "      <td>constr type 1</td>\n",
       "      <td>1.0</td>\n",
       "      <td>constr type 1</td>\n",
       "      <td>NaN</td>\n",
       "      <td>3.0</td>\n",
       "      <td>Russian Hill</td>\n",
       "      <td>94109.0</td>\n",
       "      <td>(37.7946573324287, -122.42232562979227)</td>\n",
       "      <td>1424856504716</td>\n",
       "    </tr>\n",
       "    <tr>\n",
       "      <th>3</th>\n",
       "      <td>201611072166</td>\n",
       "      <td>8</td>\n",
       "      <td>otc alterations permit</td>\n",
       "      <td>11/07/2016</td>\n",
       "      <td>0156</td>\n",
       "      <td>011</td>\n",
       "      <td>1230</td>\n",
       "      <td>NaN</td>\n",
       "      <td>Pacific</td>\n",
       "      <td>Av</td>\n",
       "      <td>...</td>\n",
       "      <td>5.0</td>\n",
       "      <td>wood frame (5)</td>\n",
       "      <td>5.0</td>\n",
       "      <td>wood frame (5)</td>\n",
       "      <td>NaN</td>\n",
       "      <td>3.0</td>\n",
       "      <td>Nob Hill</td>\n",
       "      <td>94109.0</td>\n",
       "      <td>(37.79595867909168, -122.41557405519474)</td>\n",
       "      <td>1443574295566</td>\n",
       "    </tr>\n",
       "    <tr>\n",
       "      <th>4</th>\n",
       "      <td>201611283529</td>\n",
       "      <td>6</td>\n",
       "      <td>demolitions</td>\n",
       "      <td>11/28/2016</td>\n",
       "      <td>0342</td>\n",
       "      <td>001</td>\n",
       "      <td>950</td>\n",
       "      <td>NaN</td>\n",
       "      <td>Market</td>\n",
       "      <td>St</td>\n",
       "      <td>...</td>\n",
       "      <td>3.0</td>\n",
       "      <td>constr type 3</td>\n",
       "      <td>NaN</td>\n",
       "      <td>NaN</td>\n",
       "      <td>NaN</td>\n",
       "      <td>6.0</td>\n",
       "      <td>Tenderloin</td>\n",
       "      <td>94102.0</td>\n",
       "      <td>(37.78315261897309, -122.40950883997789)</td>\n",
       "      <td>144548169992</td>\n",
       "    </tr>\n",
       "  </tbody>\n",
       "</table>\n",
       "<p>5 rows × 43 columns</p>\n",
       "</div>"
      ],
      "text/plain": [
       "  Permit Number  Permit Type            Permit Type Definition  \\\n",
       "0  201505065519            4                      sign - erect   \n",
       "1  201604195146            4                      sign - erect   \n",
       "2  201605278609            3  additions alterations or repairs   \n",
       "3  201611072166            8            otc alterations permit   \n",
       "4  201611283529            6                       demolitions   \n",
       "\n",
       "  Permit Creation Date Block  Lot  Street Number Street Number Suffix  \\\n",
       "0           05/06/2015  0326  023            140                  NaN   \n",
       "1           04/19/2016  0306  007            440                  NaN   \n",
       "2           05/27/2016  0595  203           1647                  NaN   \n",
       "3           11/07/2016  0156  011           1230                  NaN   \n",
       "4           11/28/2016  0342  001            950                  NaN   \n",
       "\n",
       "  Street Name Street Suffix  ...  Existing Construction Type  \\\n",
       "0       Ellis            St  ...                         3.0   \n",
       "1       Geary            St  ...                         3.0   \n",
       "2     Pacific            Av  ...                         1.0   \n",
       "3     Pacific            Av  ...                         5.0   \n",
       "4      Market            St  ...                         3.0   \n",
       "\n",
       "  Existing Construction Type Description Proposed Construction Type  \\\n",
       "0                          constr type 3                        NaN   \n",
       "1                          constr type 3                        NaN   \n",
       "2                          constr type 1                        1.0   \n",
       "3                         wood frame (5)                        5.0   \n",
       "4                          constr type 3                        NaN   \n",
       "\n",
       "  Proposed Construction Type Description Site Permit Supervisor District  \\\n",
       "0                                    NaN         NaN                 3.0   \n",
       "1                                    NaN         NaN                 3.0   \n",
       "2                          constr type 1         NaN                 3.0   \n",
       "3                         wood frame (5)         NaN                 3.0   \n",
       "4                                    NaN         NaN                 6.0   \n",
       "\n",
       "  Neighborhoods - Analysis Boundaries  Zipcode  \\\n",
       "0                          Tenderloin  94102.0   \n",
       "1                          Tenderloin  94102.0   \n",
       "2                        Russian Hill  94109.0   \n",
       "3                            Nob Hill  94109.0   \n",
       "4                          Tenderloin  94102.0   \n",
       "\n",
       "                                    Location      Record ID  \n",
       "0  (37.785719256680785, -122.40852313194863)  1380611233945  \n",
       "1   (37.78733980600732, -122.41063199757738)  1420164406718  \n",
       "2    (37.7946573324287, -122.42232562979227)  1424856504716  \n",
       "3   (37.79595867909168, -122.41557405519474)  1443574295566  \n",
       "4   (37.78315261897309, -122.40950883997789)   144548169992  \n",
       "\n",
       "[5 rows x 43 columns]"
      ]
     },
     "execution_count": 3,
     "metadata": {},
     "output_type": "execute_result"
    }
   ],
   "source": [
    "# TODO: Your code here!\n",
    "sf_permits.head(5)"
   ]
  },
  {
   "cell_type": "markdown",
   "id": "c7f33d47",
   "metadata": {
    "papermill": {
     "duration": 0.006672,
     "end_time": "2022-08-16T01:07:28.233317",
     "exception": false,
     "start_time": "2022-08-16T01:07:28.226645",
     "status": "completed"
    },
    "tags": []
   },
   "source": [
    "Does the dataset have any missing values?  Once you have an answer, run the code cell below to get credit for your work."
   ]
  },
  {
   "cell_type": "code",
   "execution_count": 4,
   "id": "7468a298",
   "metadata": {
    "execution": {
     "iopub.execute_input": "2022-08-16T01:07:28.249838Z",
     "iopub.status.busy": "2022-08-16T01:07:28.249105Z",
     "iopub.status.idle": "2022-08-16T01:07:28.259777Z",
     "shell.execute_reply": "2022-08-16T01:07:28.258518Z"
    },
    "papermill": {
     "duration": 0.021772,
     "end_time": "2022-08-16T01:07:28.262568",
     "exception": false,
     "start_time": "2022-08-16T01:07:28.240796",
     "status": "completed"
    },
    "tags": []
   },
   "outputs": [
    {
     "data": {
      "application/javascript": [
       "parent.postMessage({\"jupyterEvent\": \"custom.exercise_interaction\", \"data\": {\"outcomeType\": 1, \"valueTowardsCompletion\": 0.16666666666666666, \"interactionType\": 1, \"questionType\": 4, \"questionId\": \"1_TakeFirstLook\", \"learnToolsVersion\": \"0.3.4\", \"failureMessage\": \"\", \"exceptionClass\": \"\", \"trace\": \"\"}}, \"*\")"
      ],
      "text/plain": [
       "<IPython.core.display.Javascript object>"
      ]
     },
     "metadata": {},
     "output_type": "display_data"
    },
    {
     "data": {
      "text/markdown": [
       "<span style=\"color:#33cc33\">Correct:</span> \n",
       "\n",
       "The first five rows of the data does show that several columns have missing values.  You can see this in the \"Street Number Suffix\", \"Proposed Construction Type\" and \"Site Permit\" columns, among others."
      ],
      "text/plain": [
       "Correct: \n",
       "\n",
       "The first five rows of the data does show that several columns have missing values.  You can see this in the \"Street Number Suffix\", \"Proposed Construction Type\" and \"Site Permit\" columns, among others."
      ]
     },
     "metadata": {},
     "output_type": "display_data"
    }
   ],
   "source": [
    "# Check your answer (Run this code cell to receive credit!)\n",
    "q1.check()"
   ]
  },
  {
   "cell_type": "code",
   "execution_count": 5,
   "id": "d06d9864",
   "metadata": {
    "execution": {
     "iopub.execute_input": "2022-08-16T01:07:28.281452Z",
     "iopub.status.busy": "2022-08-16T01:07:28.279768Z",
     "iopub.status.idle": "2022-08-16T01:07:28.285400Z",
     "shell.execute_reply": "2022-08-16T01:07:28.284529Z"
    },
    "papermill": {
     "duration": 0.017284,
     "end_time": "2022-08-16T01:07:28.287874",
     "exception": false,
     "start_time": "2022-08-16T01:07:28.270590",
     "status": "completed"
    },
    "tags": []
   },
   "outputs": [],
   "source": [
    "# Line below will give you a hint\n",
    "#q1.hint()"
   ]
  },
  {
   "cell_type": "markdown",
   "id": "6adcc944",
   "metadata": {
    "papermill": {
     "duration": 0.00715,
     "end_time": "2022-08-16T01:07:28.302358",
     "exception": false,
     "start_time": "2022-08-16T01:07:28.295208",
     "status": "completed"
    },
    "tags": []
   },
   "source": [
    "# 2) How many missing data points do we have?\n",
    "\n",
    "What percentage of the values in the dataset are missing?  Your answer should be a number between 0 and 100.  (If 1/4 of the values in the dataset are missing, the answer is 25.)"
   ]
  },
  {
   "cell_type": "code",
   "execution_count": 6,
   "id": "412fe38c",
   "metadata": {
    "execution": {
     "iopub.execute_input": "2022-08-16T01:07:28.320233Z",
     "iopub.status.busy": "2022-08-16T01:07:28.319428Z",
     "iopub.status.idle": "2022-08-16T01:07:28.560521Z",
     "shell.execute_reply": "2022-08-16T01:07:28.559169Z"
    },
    "papermill": {
     "duration": 0.253427,
     "end_time": "2022-08-16T01:07:28.563268",
     "exception": false,
     "start_time": "2022-08-16T01:07:28.309841",
     "status": "completed"
    },
    "tags": []
   },
   "outputs": [
    {
     "data": {
      "text/plain": [
       "26.26002315058403"
      ]
     },
     "execution_count": 6,
     "metadata": {},
     "output_type": "execute_result"
    }
   ],
   "source": [
    "(sf_permits.isnull().sum().sum() / np.product(sf_permits.shape))*100"
   ]
  },
  {
   "cell_type": "code",
   "execution_count": 7,
   "id": "dc0f080b",
   "metadata": {
    "execution": {
     "iopub.execute_input": "2022-08-16T01:07:28.580441Z",
     "iopub.status.busy": "2022-08-16T01:07:28.579842Z",
     "iopub.status.idle": "2022-08-16T01:07:28.588432Z",
     "shell.execute_reply": "2022-08-16T01:07:28.587295Z"
    },
    "papermill": {
     "duration": 0.020102,
     "end_time": "2022-08-16T01:07:28.590877",
     "exception": false,
     "start_time": "2022-08-16T01:07:28.570775",
     "status": "completed"
    },
    "tags": []
   },
   "outputs": [
    {
     "data": {
      "application/javascript": [
       "parent.postMessage({\"jupyterEvent\": \"custom.exercise_interaction\", \"data\": {\"outcomeType\": 1, \"valueTowardsCompletion\": 0.16666666666666666, \"interactionType\": 1, \"questionType\": 1, \"questionId\": \"2_PercentMissingValues\", \"learnToolsVersion\": \"0.3.4\", \"failureMessage\": \"\", \"exceptionClass\": \"\", \"trace\": \"\"}}, \"*\")"
      ],
      "text/plain": [
       "<IPython.core.display.Javascript object>"
      ]
     },
     "metadata": {},
     "output_type": "display_data"
    },
    {
     "data": {
      "text/markdown": [
       "<span style=\"color:#33cc33\">Correct</span>"
      ],
      "text/plain": [
       "Correct"
      ]
     },
     "metadata": {},
     "output_type": "display_data"
    }
   ],
   "source": [
    "# TODO: Your code here!\n",
    "percent_missing = 26.26002315058403\n",
    "\n",
    "# Check your answer\n",
    "q2.check()"
   ]
  },
  {
   "cell_type": "code",
   "execution_count": 8,
   "id": "672e8a87",
   "metadata": {
    "execution": {
     "iopub.execute_input": "2022-08-16T01:07:28.608275Z",
     "iopub.status.busy": "2022-08-16T01:07:28.607854Z",
     "iopub.status.idle": "2022-08-16T01:07:28.612548Z",
     "shell.execute_reply": "2022-08-16T01:07:28.611641Z"
    },
    "papermill": {
     "duration": 0.015966,
     "end_time": "2022-08-16T01:07:28.614828",
     "exception": false,
     "start_time": "2022-08-16T01:07:28.598862",
     "status": "completed"
    },
    "tags": []
   },
   "outputs": [],
   "source": [
    "# Lines below will give you a hint or solution code\n",
    "#q2.hint()\n",
    "#q2.solution()"
   ]
  },
  {
   "cell_type": "markdown",
   "id": "f5241f33",
   "metadata": {
    "papermill": {
     "duration": 0.007981,
     "end_time": "2022-08-16T01:07:28.630728",
     "exception": false,
     "start_time": "2022-08-16T01:07:28.622747",
     "status": "completed"
    },
    "tags": []
   },
   "source": [
    "# 3) Figure out why the data is missing\n",
    "\n",
    "Look at the columns **\"Street Number Suffix\"** and **\"Zipcode\"** from the [San Francisco Building Permits dataset](https://www.kaggle.com/aparnashastry/building-permit-applications-data). Both of these contain missing values. \n",
    "- Which, if either, are missing because they don't exist? \n",
    "- Which, if either, are missing because they weren't recorded?  \n",
    "\n",
    "Once you have an answer, run the code cell below."
   ]
  },
  {
   "cell_type": "code",
   "execution_count": 9,
   "id": "ba8c707d",
   "metadata": {
    "execution": {
     "iopub.execute_input": "2022-08-16T01:07:28.648650Z",
     "iopub.status.busy": "2022-08-16T01:07:28.647848Z",
     "iopub.status.idle": "2022-08-16T01:07:28.655939Z",
     "shell.execute_reply": "2022-08-16T01:07:28.654554Z"
    },
    "papermill": {
     "duration": 0.019549,
     "end_time": "2022-08-16T01:07:28.658162",
     "exception": false,
     "start_time": "2022-08-16T01:07:28.638613",
     "status": "completed"
    },
    "tags": []
   },
   "outputs": [
    {
     "data": {
      "application/javascript": [
       "parent.postMessage({\"jupyterEvent\": \"custom.exercise_interaction\", \"data\": {\"outcomeType\": 1, \"valueTowardsCompletion\": 0.16666666666666666, \"interactionType\": 1, \"questionType\": 4, \"questionId\": \"3_WhyDataMissing\", \"learnToolsVersion\": \"0.3.4\", \"failureMessage\": \"\", \"exceptionClass\": \"\", \"trace\": \"\"}}, \"*\")"
      ],
      "text/plain": [
       "<IPython.core.display.Javascript object>"
      ]
     },
     "metadata": {},
     "output_type": "display_data"
    },
    {
     "data": {
      "text/markdown": [
       "<span style=\"color:#33cc33\">Correct:</span> \n",
       "\n",
       "If a value in the \"Street Number Suffix\" column is missing, it is likely because it does not exist. If a value in the \"Zipcode\" column is missing, it was not recorded."
      ],
      "text/plain": [
       "Correct: \n",
       "\n",
       "If a value in the \"Street Number Suffix\" column is missing, it is likely because it does not exist. If a value in the \"Zipcode\" column is missing, it was not recorded."
      ]
     },
     "metadata": {},
     "output_type": "display_data"
    }
   ],
   "source": [
    "# Check your answer (Run this code cell to receive credit!)\n",
    "q3.check()"
   ]
  },
  {
   "cell_type": "code",
   "execution_count": 10,
   "id": "efa17d4a",
   "metadata": {
    "execution": {
     "iopub.execute_input": "2022-08-16T01:07:28.676728Z",
     "iopub.status.busy": "2022-08-16T01:07:28.675946Z",
     "iopub.status.idle": "2022-08-16T01:07:28.680375Z",
     "shell.execute_reply": "2022-08-16T01:07:28.679135Z"
    },
    "papermill": {
     "duration": 0.016413,
     "end_time": "2022-08-16T01:07:28.682677",
     "exception": false,
     "start_time": "2022-08-16T01:07:28.666264",
     "status": "completed"
    },
    "tags": []
   },
   "outputs": [],
   "source": [
    "# Line below will give you a hint\n",
    "#q3.hint()"
   ]
  },
  {
   "cell_type": "markdown",
   "id": "204800d6",
   "metadata": {
    "papermill": {
     "duration": 0.007816,
     "end_time": "2022-08-16T01:07:28.698633",
     "exception": false,
     "start_time": "2022-08-16T01:07:28.690817",
     "status": "completed"
    },
    "tags": []
   },
   "source": [
    "# 4) Drop missing values: rows\n",
    "\n",
    "If you removed all of the rows of `sf_permits` with missing values, how many rows are left?\n",
    "\n",
    "**Note**: Do not change the value of `sf_permits` when checking this.  "
   ]
  },
  {
   "cell_type": "code",
   "execution_count": 11,
   "id": "14d0048d",
   "metadata": {
    "execution": {
     "iopub.execute_input": "2022-08-16T01:07:28.718545Z",
     "iopub.status.busy": "2022-08-16T01:07:28.717774Z",
     "iopub.status.idle": "2022-08-16T01:07:28.962279Z",
     "shell.execute_reply": "2022-08-16T01:07:28.961097Z"
    },
    "papermill": {
     "duration": 0.258424,
     "end_time": "2022-08-16T01:07:28.965067",
     "exception": false,
     "start_time": "2022-08-16T01:07:28.706643",
     "status": "completed"
    },
    "tags": []
   },
   "outputs": [
    {
     "data": {
      "text/plain": [
       "(0, 43)"
      ]
     },
     "execution_count": 11,
     "metadata": {},
     "output_type": "execute_result"
    }
   ],
   "source": [
    "# TODO: Your code here!\n",
    "sf_permits_new = sf_permits.dropna(axis=0)\n",
    "sf_permits_new.shape"
   ]
  },
  {
   "cell_type": "markdown",
   "id": "a76db294",
   "metadata": {
    "papermill": {
     "duration": 0.007847,
     "end_time": "2022-08-16T01:07:28.981404",
     "exception": false,
     "start_time": "2022-08-16T01:07:28.973557",
     "status": "completed"
    },
    "tags": []
   },
   "source": [
    "Once you have an answer, run the code cell below."
   ]
  },
  {
   "cell_type": "code",
   "execution_count": 12,
   "id": "7c44f45a",
   "metadata": {
    "execution": {
     "iopub.execute_input": "2022-08-16T01:07:29.001739Z",
     "iopub.status.busy": "2022-08-16T01:07:28.999377Z",
     "iopub.status.idle": "2022-08-16T01:07:29.010338Z",
     "shell.execute_reply": "2022-08-16T01:07:29.009439Z"
    },
    "papermill": {
     "duration": 0.023141,
     "end_time": "2022-08-16T01:07:29.012785",
     "exception": false,
     "start_time": "2022-08-16T01:07:28.989644",
     "status": "completed"
    },
    "tags": []
   },
   "outputs": [
    {
     "data": {
      "application/javascript": [
       "parent.postMessage({\"jupyterEvent\": \"custom.exercise_interaction\", \"data\": {\"outcomeType\": 1, \"valueTowardsCompletion\": 0.16666666666666666, \"interactionType\": 1, \"questionType\": 4, \"questionId\": \"4_DropMissingRows\", \"learnToolsVersion\": \"0.3.4\", \"failureMessage\": \"\", \"exceptionClass\": \"\", \"trace\": \"\"}}, \"*\")"
      ],
      "text/plain": [
       "<IPython.core.display.Javascript object>"
      ]
     },
     "metadata": {},
     "output_type": "display_data"
    },
    {
     "data": {
      "text/markdown": [
       "<span style=\"color:#33cc33\">Correct:</span> \n",
       "\n",
       "There are no rows remaining in the dataset!"
      ],
      "text/plain": [
       "Correct: \n",
       "\n",
       "There are no rows remaining in the dataset!"
      ]
     },
     "metadata": {},
     "output_type": "display_data"
    }
   ],
   "source": [
    "# Check your answer (Run this code cell to receive credit!)\n",
    "q4.check()"
   ]
  },
  {
   "cell_type": "code",
   "execution_count": 13,
   "id": "49e35f39",
   "metadata": {
    "execution": {
     "iopub.execute_input": "2022-08-16T01:07:29.032049Z",
     "iopub.status.busy": "2022-08-16T01:07:29.030943Z",
     "iopub.status.idle": "2022-08-16T01:07:29.035880Z",
     "shell.execute_reply": "2022-08-16T01:07:29.035064Z"
    },
    "papermill": {
     "duration": 0.017121,
     "end_time": "2022-08-16T01:07:29.038275",
     "exception": false,
     "start_time": "2022-08-16T01:07:29.021154",
     "status": "completed"
    },
    "tags": []
   },
   "outputs": [],
   "source": [
    "# Line below will give you a hint\n",
    "#q4.hint()"
   ]
  },
  {
   "cell_type": "markdown",
   "id": "f9df549a",
   "metadata": {
    "papermill": {
     "duration": 0.008143,
     "end_time": "2022-08-16T01:07:29.054913",
     "exception": false,
     "start_time": "2022-08-16T01:07:29.046770",
     "status": "completed"
    },
    "tags": []
   },
   "source": [
    "# 5) Drop missing values: columns\n",
    "\n",
    "Now try removing all the columns with empty values.  \n",
    "- Create a new DataFrame called `sf_permits_with_na_dropped` that has all of the columns with empty values removed.  \n",
    "- How many columns were removed from the original `sf_permits` DataFrame? Use this number to set the value of the `dropped_columns` variable below."
   ]
  },
  {
   "cell_type": "code",
   "execution_count": 14,
   "id": "75a29c1c",
   "metadata": {
    "execution": {
     "iopub.execute_input": "2022-08-16T01:07:29.074408Z",
     "iopub.status.busy": "2022-08-16T01:07:29.073046Z",
     "iopub.status.idle": "2022-08-16T01:07:29.080668Z",
     "shell.execute_reply": "2022-08-16T01:07:29.079755Z"
    },
    "papermill": {
     "duration": 0.019687,
     "end_time": "2022-08-16T01:07:29.082994",
     "exception": false,
     "start_time": "2022-08-16T01:07:29.063307",
     "status": "completed"
    },
    "tags": []
   },
   "outputs": [
    {
     "data": {
      "text/plain": [
       "43"
      ]
     },
     "execution_count": 14,
     "metadata": {},
     "output_type": "execute_result"
    }
   ],
   "source": [
    "sf_permits.shape[1]"
   ]
  },
  {
   "cell_type": "code",
   "execution_count": 15,
   "id": "484a2a12",
   "metadata": {
    "execution": {
     "iopub.execute_input": "2022-08-16T01:07:29.102324Z",
     "iopub.status.busy": "2022-08-16T01:07:29.101540Z",
     "iopub.status.idle": "2022-08-16T01:07:29.361909Z",
     "shell.execute_reply": "2022-08-16T01:07:29.360572Z"
    },
    "papermill": {
     "duration": 0.272966,
     "end_time": "2022-08-16T01:07:29.364379",
     "exception": false,
     "start_time": "2022-08-16T01:07:29.091413",
     "status": "completed"
    },
    "tags": []
   },
   "outputs": [
    {
     "data": {
      "application/javascript": [
       "parent.postMessage({\"jupyterEvent\": \"custom.exercise_interaction\", \"data\": {\"outcomeType\": 1, \"valueTowardsCompletion\": 0.16666666666666666, \"interactionType\": 1, \"questionType\": 1, \"questionId\": \"5_DropMissingCols\", \"learnToolsVersion\": \"0.3.4\", \"failureMessage\": \"\", \"exceptionClass\": \"\", \"trace\": \"\"}}, \"*\")"
      ],
      "text/plain": [
       "<IPython.core.display.Javascript object>"
      ]
     },
     "metadata": {},
     "output_type": "display_data"
    },
    {
     "data": {
      "text/markdown": [
       "<span style=\"color:#33cc33\">Correct</span>"
      ],
      "text/plain": [
       "Correct"
      ]
     },
     "metadata": {},
     "output_type": "display_data"
    }
   ],
   "source": [
    "# TODO: Your code here\n",
    "sf_permits_with_na_dropped = sf_permits.dropna(axis=1)\n",
    "\n",
    "dropped_columns = sf_permits.shape[1] - sf_permits_with_na_dropped.shape[1]\n",
    "\n",
    "# Check your answer\n",
    "q5.check()"
   ]
  },
  {
   "cell_type": "code",
   "execution_count": 16,
   "id": "7098ca8d",
   "metadata": {
    "execution": {
     "iopub.execute_input": "2022-08-16T01:07:29.384691Z",
     "iopub.status.busy": "2022-08-16T01:07:29.383934Z",
     "iopub.status.idle": "2022-08-16T01:07:29.388619Z",
     "shell.execute_reply": "2022-08-16T01:07:29.387694Z"
    },
    "papermill": {
     "duration": 0.017659,
     "end_time": "2022-08-16T01:07:29.391085",
     "exception": false,
     "start_time": "2022-08-16T01:07:29.373426",
     "status": "completed"
    },
    "tags": []
   },
   "outputs": [],
   "source": [
    "# Lines below will give you a hint or solution code\n",
    "#q5.hint()\n",
    "#q5.solution()"
   ]
  },
  {
   "cell_type": "markdown",
   "id": "335e2ac8",
   "metadata": {
    "papermill": {
     "duration": 0.009297,
     "end_time": "2022-08-16T01:07:29.409377",
     "exception": false,
     "start_time": "2022-08-16T01:07:29.400080",
     "status": "completed"
    },
    "tags": []
   },
   "source": [
    "# 6) Fill in missing values automatically\n",
    "\n",
    "Try replacing all the NaN's in the `sf_permits` data with the one that comes directly after it and then replacing any remaining NaN's with 0.  Set the result to a new DataFrame `sf_permits_with_na_imputed`."
   ]
  },
  {
   "cell_type": "code",
   "execution_count": 17,
   "id": "b88fc83b",
   "metadata": {
    "execution": {
     "iopub.execute_input": "2022-08-16T01:07:29.430166Z",
     "iopub.status.busy": "2022-08-16T01:07:29.429337Z",
     "iopub.status.idle": "2022-08-16T01:07:30.404948Z",
     "shell.execute_reply": "2022-08-16T01:07:30.403521Z"
    },
    "papermill": {
     "duration": 0.990292,
     "end_time": "2022-08-16T01:07:30.408644",
     "exception": false,
     "start_time": "2022-08-16T01:07:29.418352",
     "status": "completed"
    },
    "tags": []
   },
   "outputs": [
    {
     "data": {
      "application/javascript": [
       "parent.postMessage({\"jupyterEvent\": \"custom.exercise_interaction\", \"data\": {\"outcomeType\": 1, \"valueTowardsCompletion\": 0.16666666666666666, \"interactionType\": 1, \"questionType\": 1, \"questionId\": \"6_ImputeAutomatically\", \"learnToolsVersion\": \"0.3.4\", \"failureMessage\": \"\", \"exceptionClass\": \"\", \"trace\": \"\"}}, \"*\")"
      ],
      "text/plain": [
       "<IPython.core.display.Javascript object>"
      ]
     },
     "metadata": {},
     "output_type": "display_data"
    },
    {
     "data": {
      "text/markdown": [
       "<span style=\"color:#33cc33\">Correct</span>"
      ],
      "text/plain": [
       "Correct"
      ]
     },
     "metadata": {},
     "output_type": "display_data"
    }
   ],
   "source": [
    "# TODO: Your code here\n",
    "sf_permits_with_na_imputed = sf_permits.fillna(method='backfill').fillna(0)\n",
    "\n",
    "# Check your answer\n",
    "q6.check()"
   ]
  },
  {
   "cell_type": "code",
   "execution_count": 18,
   "id": "b0ce1628",
   "metadata": {
    "execution": {
     "iopub.execute_input": "2022-08-16T01:07:30.428962Z",
     "iopub.status.busy": "2022-08-16T01:07:30.428586Z",
     "iopub.status.idle": "2022-08-16T01:07:30.433152Z",
     "shell.execute_reply": "2022-08-16T01:07:30.431935Z"
    },
    "papermill": {
     "duration": 0.017636,
     "end_time": "2022-08-16T01:07:30.435573",
     "exception": false,
     "start_time": "2022-08-16T01:07:30.417937",
     "status": "completed"
    },
    "tags": []
   },
   "outputs": [],
   "source": [
    "# Lines below will give you a hint or solution code\n",
    "#q6.hint()\n",
    "#q6.solution()"
   ]
  },
  {
   "cell_type": "markdown",
   "id": "8a0539d7",
   "metadata": {
    "papermill": {
     "duration": 0.008889,
     "end_time": "2022-08-16T01:07:30.453598",
     "exception": false,
     "start_time": "2022-08-16T01:07:30.444709",
     "status": "completed"
    },
    "tags": []
   },
   "source": [
    "# More practice\n",
    "\n",
    "If you're looking for more practice handling missing values:\n",
    "\n",
    "* Check out [this noteboook](https://www.kaggle.com/alexisbcook/missing-values) on handling missing values using scikit-learn's imputer. \n",
    "* Look back at the \"Zipcode\" column in the `sf_permits` dataset, which has some missing values. How would you go about figuring out what the actual zipcode of each address should be? (You might try using another dataset. You can search for datasets about San Fransisco on the [Datasets listing](https://www.kaggle.com/datasets).) \n",
    "\n",
    "# Keep going\n",
    "\n",
    "In the next lesson, learn how to [**apply scaling and normalization**](https://www.kaggle.com/alexisbcook/scaling-and-normalization) to transform your data."
   ]
  },
  {
   "cell_type": "markdown",
   "id": "90d46ba6",
   "metadata": {
    "papermill": {
     "duration": 0.008675,
     "end_time": "2022-08-16T01:07:30.471412",
     "exception": false,
     "start_time": "2022-08-16T01:07:30.462737",
     "status": "completed"
    },
    "tags": []
   },
   "source": [
    "---\n",
    "\n",
    "\n",
    "\n",
    "\n",
    "*Have questions or comments? Visit the [course discussion forum](https://www.kaggle.com/learn/data-cleaning/discussion) to chat with other learners.*"
   ]
  }
 ],
 "metadata": {
  "kernelspec": {
   "display_name": "Python 3",
   "language": "python",
   "name": "python3"
  },
  "language_info": {
   "codemirror_mode": {
    "name": "ipython",
    "version": 3
   },
   "file_extension": ".py",
   "mimetype": "text/x-python",
   "name": "python",
   "nbconvert_exporter": "python",
   "pygments_lexer": "ipython3",
   "version": "3.7.12"
  },
  "papermill": {
   "default_parameters": {},
   "duration": 19.263562,
   "end_time": "2022-08-16T01:07:31.303245",
   "environment_variables": {},
   "exception": null,
   "input_path": "__notebook__.ipynb",
   "output_path": "__notebook__.ipynb",
   "parameters": {},
   "start_time": "2022-08-16T01:07:12.039683",
   "version": "2.3.4"
  }
 },
 "nbformat": 4,
 "nbformat_minor": 5
}
