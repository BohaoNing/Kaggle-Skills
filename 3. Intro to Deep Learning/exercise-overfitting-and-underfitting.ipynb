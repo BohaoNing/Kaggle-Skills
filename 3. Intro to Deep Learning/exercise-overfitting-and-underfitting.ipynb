{
 "cells": [
  {
   "cell_type": "markdown",
   "id": "00286170",
   "metadata": {
    "papermill": {
     "duration": 0.006071,
     "end_time": "2022-07-24T19:21:23.340811",
     "exception": false,
     "start_time": "2022-07-24T19:21:23.334740",
     "status": "completed"
    },
    "tags": []
   },
   "source": [
    "**This notebook is an exercise in the [Intro to Deep Learning](https://www.kaggle.com/learn/intro-to-deep-learning) course.  You can reference the tutorial at [this link](https://www.kaggle.com/ryanholbrook/overfitting-and-underfitting).**\n",
    "\n",
    "---\n"
   ]
  },
  {
   "cell_type": "markdown",
   "id": "5225f6ff",
   "metadata": {
    "papermill": {
     "duration": 0.004655,
     "end_time": "2022-07-24T19:21:23.350567",
     "exception": false,
     "start_time": "2022-07-24T19:21:23.345912",
     "status": "completed"
    },
    "tags": []
   },
   "source": [
    "# Introduction #\n",
    "\n",
    "In this exercise, you’ll learn how to improve training outcomes by including an early stopping callback to prevent overfitting.\n",
    "\n",
    "When you're ready, run this next cell to set everything up!"
   ]
  },
  {
   "cell_type": "code",
   "execution_count": 1,
   "id": "07a5decc",
   "metadata": {
    "execution": {
     "iopub.execute_input": "2022-07-24T19:21:23.362239Z",
     "iopub.status.busy": "2022-07-24T19:21:23.361808Z",
     "iopub.status.idle": "2022-07-24T19:21:23.400362Z",
     "shell.execute_reply": "2022-07-24T19:21:23.399344Z"
    },
    "papermill": {
     "duration": 0.046847,
     "end_time": "2022-07-24T19:21:23.402441",
     "exception": false,
     "start_time": "2022-07-24T19:21:23.355594",
     "status": "completed"
    },
    "tags": []
   },
   "outputs": [],
   "source": [
    "# Setup plotting\n",
    "import matplotlib.pyplot as plt\n",
    "plt.style.use('seaborn-whitegrid')\n",
    "# Set Matplotlib defaults\n",
    "plt.rc('figure', autolayout=True)\n",
    "plt.rc('axes', labelweight='bold', labelsize='large',\n",
    "       titleweight='bold', titlesize=18, titlepad=10)\n",
    "plt.rc('animation', html='html5')\n",
    "\n",
    "# Setup feedback system\n",
    "from learntools.core import binder\n",
    "binder.bind(globals())\n",
    "from learntools.deep_learning_intro.ex4 import *"
   ]
  },
  {
   "cell_type": "markdown",
   "id": "f5c8f372",
   "metadata": {
    "papermill": {
     "duration": 0.004621,
     "end_time": "2022-07-24T19:21:23.411844",
     "exception": false,
     "start_time": "2022-07-24T19:21:23.407223",
     "status": "completed"
    },
    "tags": []
   },
   "source": [
    "First load the *Spotify* dataset. Your task will be to predict the popularity of a song based on various audio features, like `'tempo'`, `'danceability'`, and `'mode'`."
   ]
  },
  {
   "cell_type": "code",
   "execution_count": 2,
   "id": "bbec947e",
   "metadata": {
    "execution": {
     "iopub.execute_input": "2022-07-24T19:21:23.422519Z",
     "iopub.status.busy": "2022-07-24T19:21:23.422262Z",
     "iopub.status.idle": "2022-07-24T19:21:30.041352Z",
     "shell.execute_reply": "2022-07-24T19:21:30.040000Z"
    },
    "papermill": {
     "duration": 6.627672,
     "end_time": "2022-07-24T19:21:30.044269",
     "exception": false,
     "start_time": "2022-07-24T19:21:23.416597",
     "status": "completed"
    },
    "tags": []
   },
   "outputs": [
    {
     "name": "stdout",
     "output_type": "stream",
     "text": [
      "Input shape: [18]\n"
     ]
    }
   ],
   "source": [
    "import pandas as pd\n",
    "from sklearn.preprocessing import StandardScaler, OneHotEncoder\n",
    "from sklearn.compose import make_column_transformer\n",
    "from sklearn.model_selection import GroupShuffleSplit\n",
    "\n",
    "from tensorflow import keras\n",
    "from tensorflow.keras import layers\n",
    "from tensorflow.keras import callbacks\n",
    "\n",
    "spotify = pd.read_csv('../input/dl-course-data/spotify.csv')\n",
    "\n",
    "X = spotify.copy().dropna()\n",
    "y = X.pop('track_popularity')\n",
    "artists = X['track_artist']\n",
    "\n",
    "features_num = ['danceability', 'energy', 'key', 'loudness', 'mode',\n",
    "                'speechiness', 'acousticness', 'instrumentalness',\n",
    "                'liveness', 'valence', 'tempo', 'duration_ms']\n",
    "features_cat = ['playlist_genre']\n",
    "\n",
    "preprocessor = make_column_transformer(\n",
    "    (StandardScaler(), features_num),\n",
    "    (OneHotEncoder(), features_cat),\n",
    ")\n",
    "\n",
    "# We'll do a \"grouped\" split to keep all of an artist's songs in one\n",
    "# split or the other. This is to help prevent signal leakage.\n",
    "def group_split(X, y, group, train_size=0.75):\n",
    "    splitter = GroupShuffleSplit(train_size=train_size)\n",
    "    train, test = next(splitter.split(X, y, groups=group))\n",
    "    return (X.iloc[train], X.iloc[test], y.iloc[train], y.iloc[test])\n",
    "\n",
    "X_train, X_valid, y_train, y_valid = group_split(X, y, artists)\n",
    "\n",
    "X_train = preprocessor.fit_transform(X_train)\n",
    "X_valid = preprocessor.transform(X_valid)\n",
    "y_train = y_train / 100 # popularity is on a scale 0-100, so this rescales to 0-1.\n",
    "y_valid = y_valid / 100\n",
    "\n",
    "input_shape = [X_train.shape[1]]\n",
    "print(\"Input shape: {}\".format(input_shape))"
   ]
  },
  {
   "cell_type": "markdown",
   "id": "62baaa3d",
   "metadata": {
    "papermill": {
     "duration": 0.004855,
     "end_time": "2022-07-24T19:21:30.055053",
     "exception": false,
     "start_time": "2022-07-24T19:21:30.050198",
     "status": "completed"
    },
    "tags": []
   },
   "source": [
    "Let's start with the simplest network, a linear model. This model has low capacity.\n",
    "\n",
    "Run this next cell without any changes to train a linear model on the *Spotify* dataset."
   ]
  },
  {
   "cell_type": "code",
   "execution_count": 3,
   "id": "d49be13a",
   "metadata": {
    "execution": {
     "iopub.execute_input": "2022-07-24T19:21:30.065977Z",
     "iopub.status.busy": "2022-07-24T19:21:30.065690Z",
     "iopub.status.idle": "2022-07-24T19:21:39.815132Z",
     "shell.execute_reply": "2022-07-24T19:21:39.814160Z"
    },
    "lines_to_next_cell": 0,
    "papermill": {
     "duration": 9.757331,
     "end_time": "2022-07-24T19:21:39.817183",
     "exception": false,
     "start_time": "2022-07-24T19:21:30.059852",
     "status": "completed"
    },
    "tags": []
   },
   "outputs": [
    {
     "name": "stderr",
     "output_type": "stream",
     "text": [
      "2022-07-24 19:21:30.164313: I tensorflow/stream_executor/cuda/cuda_gpu_executor.cc:937] successful NUMA node read from SysFS had negative value (-1), but there must be at least one NUMA node, so returning NUMA node zero\n",
      "2022-07-24 19:21:30.279910: I tensorflow/stream_executor/cuda/cuda_gpu_executor.cc:937] successful NUMA node read from SysFS had negative value (-1), but there must be at least one NUMA node, so returning NUMA node zero\n",
      "2022-07-24 19:21:30.280680: I tensorflow/stream_executor/cuda/cuda_gpu_executor.cc:937] successful NUMA node read from SysFS had negative value (-1), but there must be at least one NUMA node, so returning NUMA node zero\n",
      "2022-07-24 19:21:30.282643: I tensorflow/core/platform/cpu_feature_guard.cc:142] This TensorFlow binary is optimized with oneAPI Deep Neural Network Library (oneDNN) to use the following CPU instructions in performance-critical operations:  AVX2 AVX512F FMA\n",
      "To enable them in other operations, rebuild TensorFlow with the appropriate compiler flags.\n",
      "2022-07-24 19:21:30.283022: I tensorflow/stream_executor/cuda/cuda_gpu_executor.cc:937] successful NUMA node read from SysFS had negative value (-1), but there must be at least one NUMA node, so returning NUMA node zero\n",
      "2022-07-24 19:21:30.284149: I tensorflow/stream_executor/cuda/cuda_gpu_executor.cc:937] successful NUMA node read from SysFS had negative value (-1), but there must be at least one NUMA node, so returning NUMA node zero\n",
      "2022-07-24 19:21:30.285220: I tensorflow/stream_executor/cuda/cuda_gpu_executor.cc:937] successful NUMA node read from SysFS had negative value (-1), but there must be at least one NUMA node, so returning NUMA node zero\n",
      "2022-07-24 19:21:32.542224: I tensorflow/stream_executor/cuda/cuda_gpu_executor.cc:937] successful NUMA node read from SysFS had negative value (-1), but there must be at least one NUMA node, so returning NUMA node zero\n",
      "2022-07-24 19:21:32.543104: I tensorflow/stream_executor/cuda/cuda_gpu_executor.cc:937] successful NUMA node read from SysFS had negative value (-1), but there must be at least one NUMA node, so returning NUMA node zero\n",
      "2022-07-24 19:21:32.543819: I tensorflow/stream_executor/cuda/cuda_gpu_executor.cc:937] successful NUMA node read from SysFS had negative value (-1), but there must be at least one NUMA node, so returning NUMA node zero\n",
      "2022-07-24 19:21:32.544426: I tensorflow/core/common_runtime/gpu/gpu_device.cc:1510] Created device /job:localhost/replica:0/task:0/device:GPU:0 with 15403 MB memory:  -> device: 0, name: Tesla P100-PCIE-16GB, pci bus id: 0000:00:04.0, compute capability: 6.0\n",
      "2022-07-24 19:21:32.974888: I tensorflow/compiler/mlir/mlir_graph_optimization_pass.cc:185] None of the MLIR Optimization Passes are enabled (registered 2)\n"
     ]
    },
    {
     "name": "stdout",
     "output_type": "stream",
     "text": [
      "Minimum Validation Loss: 0.1991\n"
     ]
    },
    {
     "data": {
      "image/png": "[encoded data removed]",
      "text/plain": [
       "<Figure size 432x288 with 1 Axes>"
      ]
     },
     "metadata": {},
     "output_type": "display_data"
    }
   ],
   "source": [
    "model = keras.Sequential([\n",
    "    layers.Dense(1, input_shape=input_shape),\n",
    "])\n",
    "model.compile(\n",
    "    optimizer='adam',\n",
    "    loss='mae',\n",
    ")\n",
    "history = model.fit(\n",
    "    X_train, y_train,\n",
    "    validation_data=(X_valid, y_valid),\n",
    "    batch_size=512,\n",
    "    epochs=50,\n",
    "    verbose=0, # suppress output since we'll plot the curves\n",
    ")\n",
    "history_df = pd.DataFrame(history.history)\n",
    "history_df.loc[0:, ['loss', 'val_loss']].plot()\n",
    "print(\"Minimum Validation Loss: {:0.4f}\".format(history_df['val_loss'].min()));"
   ]
  },
  {
   "cell_type": "markdown",
   "id": "972776e5",
   "metadata": {
    "papermill": {
     "duration": 0.005297,
     "end_time": "2022-07-24T19:21:39.828223",
     "exception": false,
     "start_time": "2022-07-24T19:21:39.822926",
     "status": "completed"
    },
    "tags": []
   },
   "source": [
    "It's not uncommon for the curves to follow a \"hockey stick\" pattern like you see here. This makes the final part of training hard to see, so let's start at epoch 10 instead:"
   ]
  },
  {
   "cell_type": "code",
   "execution_count": 4,
   "id": "059c77c9",
   "metadata": {
    "execution": {
     "iopub.execute_input": "2022-07-24T19:21:39.840517Z",
     "iopub.status.busy": "2022-07-24T19:21:39.840216Z",
     "iopub.status.idle": "2022-07-24T19:21:40.075490Z",
     "shell.execute_reply": "2022-07-24T19:21:40.074582Z"
    },
    "papermill": {
     "duration": 0.243668,
     "end_time": "2022-07-24T19:21:40.077503",
     "exception": false,
     "start_time": "2022-07-24T19:21:39.833835",
     "status": "completed"
    },
    "tags": []
   },
   "outputs": [
    {
     "name": "stdout",
     "output_type": "stream",
     "text": [
      "Minimum Validation Loss: 0.1991\n"
     ]
    },
    {
     "data": {
      "image/png": "[encoded data removed]",
      "text/plain": [
       "<Figure size 432x288 with 1 Axes>"
      ]
     },
     "metadata": {},
     "output_type": "display_data"
    }
   ],
   "source": [
    "# Start the plot at epoch 10\n",
    "history_df.loc[10:, ['loss', 'val_loss']].plot()\n",
    "print(\"Minimum Validation Loss: {:0.4f}\".format(history_df['val_loss'].min()));"
   ]
  },
  {
   "cell_type": "markdown",
   "id": "cbe8ed2c",
   "metadata": {
    "papermill": {
     "duration": 0.005775,
     "end_time": "2022-07-24T19:21:40.089205",
     "exception": false,
     "start_time": "2022-07-24T19:21:40.083430",
     "status": "completed"
    },
    "tags": []
   },
   "source": [
    "# 1) Evaluate Baseline\n",
    "\n",
    "What do you think? Would you say this model is underfitting, overfitting, just right?"
   ]
  },
  {
   "cell_type": "code",
   "execution_count": 5,
   "id": "4bf70931",
   "metadata": {
    "execution": {
     "iopub.execute_input": "2022-07-24T19:21:40.102420Z",
     "iopub.status.busy": "2022-07-24T19:21:40.101696Z",
     "iopub.status.idle": "2022-07-24T19:21:40.109754Z",
     "shell.execute_reply": "2022-07-24T19:21:40.108764Z"
    },
    "papermill": {
     "duration": 0.018044,
     "end_time": "2022-07-24T19:21:40.112991",
     "exception": false,
     "start_time": "2022-07-24T19:21:40.094947",
     "status": "completed"
    },
    "tags": []
   },
   "outputs": [
    {
     "data": {
      "application/javascript": [
       "parent.postMessage({\"jupyterEvent\": \"custom.exercise_interaction\", \"data\": {\"outcomeType\": 1, \"valueTowardsCompletion\": 0.25, \"interactionType\": 1, \"questionType\": 4, \"questionId\": \"1_Q1\", \"learnToolsVersion\": \"0.3.4\", \"failureMessage\": \"\", \"exceptionClass\": \"\", \"trace\": \"\"}}, \"*\")"
      ],
      "text/plain": [
       "<IPython.core.display.Javascript object>"
      ]
     },
     "metadata": {},
     "output_type": "display_data"
    },
    {
     "data": {
      "text/markdown": [
       "<span style=\"color:#33cc33\">Correct:</span> \n",
       "\n",
       "The gap between these curves is quite small and the validation loss never increases, so it's more likely that the network is underfitting than overfitting. It would be worth experimenting with more capacity to see if that's the case."
      ],
      "text/plain": [
       "Correct: \n",
       "\n",
       "The gap between these curves is quite small and the validation loss never increases, so it's more likely that the network is underfitting than overfitting. It would be worth experimenting with more capacity to see if that's the case."
      ]
     },
     "metadata": {},
     "output_type": "display_data"
    }
   ],
   "source": [
    "# View the solution (Run this cell to receive credit!)\n",
    "q_1.check()"
   ]
  },
  {
   "cell_type": "markdown",
   "id": "8b28c0a8",
   "metadata": {
    "papermill": {
     "duration": 0.005836,
     "end_time": "2022-07-24T19:21:40.125715",
     "exception": false,
     "start_time": "2022-07-24T19:21:40.119879",
     "status": "completed"
    },
    "tags": []
   },
   "source": [
    "Now let's add some capacity to our network. We'll add three hidden layers with 128 units each. Run the next cell to train the network and see the learning curves."
   ]
  },
  {
   "cell_type": "code",
   "execution_count": 6,
   "id": "616780a1",
   "metadata": {
    "execution": {
     "iopub.execute_input": "2022-07-24T19:21:40.138905Z",
     "iopub.status.busy": "2022-07-24T19:21:40.138653Z",
     "iopub.status.idle": "2022-07-24T19:21:47.446904Z",
     "shell.execute_reply": "2022-07-24T19:21:47.445984Z"
    },
    "papermill": {
     "duration": 7.317216,
     "end_time": "2022-07-24T19:21:47.448920",
     "exception": false,
     "start_time": "2022-07-24T19:21:40.131704",
     "status": "completed"
    },
    "tags": []
   },
   "outputs": [
    {
     "name": "stdout",
     "output_type": "stream",
     "text": [
      "Epoch 1/50\n",
      "48/48 [==============================] - 0s 4ms/step - loss: 0.2344 - val_loss: 0.2116\n",
      "Epoch 2/50\n",
      "48/48 [==============================] - 0s 3ms/step - loss: 0.1999 - val_loss: 0.2041\n",
      "Epoch 3/50\n",
      "48/48 [==============================] - 0s 3ms/step - loss: 0.1947 - val_loss: 0.2044\n",
      "Epoch 4/50\n",
      "48/48 [==============================] - 0s 3ms/step - loss: 0.1918 - val_loss: 0.2040\n",
      "Epoch 5/50\n",
      "48/48 [==============================] - 0s 3ms/step - loss: 0.1895 - val_loss: 0.2041\n",
      "Epoch 6/50\n",
      "48/48 [==============================] - 0s 3ms/step - loss: 0.1888 - val_loss: 0.2040\n",
      "Epoch 7/50\n",
      "48/48 [==============================] - 0s 3ms/step - loss: 0.1870 - val_loss: 0.2038\n",
      "Epoch 8/50\n",
      "48/48 [==============================] - 0s 3ms/step - loss: 0.1852 - val_loss: 0.2050\n",
      "Epoch 9/50\n",
      "48/48 [==============================] - 0s 3ms/step - loss: 0.1852 - val_loss: 0.2030\n",
      "Epoch 10/50\n",
      "48/48 [==============================] - 0s 3ms/step - loss: 0.1840 - val_loss: 0.2020\n",
      "Epoch 11/50\n",
      "48/48 [==============================] - 0s 3ms/step - loss: 0.1836 - val_loss: 0.2030\n",
      "Epoch 12/50\n",
      "48/48 [==============================] - 0s 3ms/step - loss: 0.1819 - val_loss: 0.2044\n",
      "Epoch 13/50\n",
      "48/48 [==============================] - 0s 3ms/step - loss: 0.1817 - val_loss: 0.2024\n",
      "Epoch 14/50\n",
      "48/48 [==============================] - 0s 3ms/step - loss: 0.1810 - val_loss: 0.2037\n",
      "Epoch 15/50\n",
      "48/48 [==============================] - 0s 3ms/step - loss: 0.1803 - val_loss: 0.2029\n",
      "Epoch 16/50\n",
      "48/48 [==============================] - 0s 3ms/step - loss: 0.1795 - val_loss: 0.2036\n",
      "Epoch 17/50\n",
      "48/48 [==============================] - 0s 3ms/step - loss: 0.1798 - val_loss: 0.2021\n",
      "Epoch 18/50\n",
      "48/48 [==============================] - 0s 3ms/step - loss: 0.1778 - val_loss: 0.2035\n",
      "Epoch 19/50\n",
      "48/48 [==============================] - 0s 3ms/step - loss: 0.1783 - val_loss: 0.2031\n",
      "Epoch 20/50\n",
      "48/48 [==============================] - 0s 3ms/step - loss: 0.1773 - val_loss: 0.2031\n",
      "Epoch 21/50\n",
      "48/48 [==============================] - 0s 3ms/step - loss: 0.1766 - val_loss: 0.2030\n",
      "Epoch 22/50\n",
      "48/48 [==============================] - 0s 3ms/step - loss: 0.1760 - val_loss: 0.2030\n",
      "Epoch 23/50\n",
      "48/48 [==============================] - 0s 3ms/step - loss: 0.1758 - val_loss: 0.2031\n",
      "Epoch 24/50\n",
      "48/48 [==============================] - 0s 3ms/step - loss: 0.1757 - val_loss: 0.2034\n",
      "Epoch 25/50\n",
      "48/48 [==============================] - 0s 2ms/step - loss: 0.1746 - val_loss: 0.2046\n",
      "Epoch 26/50\n",
      "48/48 [==============================] - 0s 3ms/step - loss: 0.1740 - val_loss: 0.2049\n",
      "Epoch 27/50\n",
      "48/48 [==============================] - 0s 3ms/step - loss: 0.1731 - val_loss: 0.2034\n",
      "Epoch 28/50\n",
      "48/48 [==============================] - 0s 3ms/step - loss: 0.1735 - val_loss: 0.2044\n",
      "Epoch 29/50\n",
      "48/48 [==============================] - 0s 2ms/step - loss: 0.1727 - val_loss: 0.2029\n",
      "Epoch 30/50\n",
      "48/48 [==============================] - 0s 3ms/step - loss: 0.1717 - val_loss: 0.2033\n",
      "Epoch 31/50\n",
      "48/48 [==============================] - 0s 2ms/step - loss: 0.1721 - val_loss: 0.2051\n",
      "Epoch 32/50\n",
      "48/48 [==============================] - 0s 2ms/step - loss: 0.1711 - val_loss: 0.2048\n",
      "Epoch 33/50\n",
      "48/48 [==============================] - 0s 3ms/step - loss: 0.1707 - val_loss: 0.2042\n",
      "Epoch 34/50\n",
      "48/48 [==============================] - 0s 3ms/step - loss: 0.1708 - val_loss: 0.2040\n",
      "Epoch 35/50\n",
      "48/48 [==============================] - 0s 3ms/step - loss: 0.1704 - val_loss: 0.2049\n",
      "Epoch 36/50\n",
      "48/48 [==============================] - 0s 3ms/step - loss: 0.1697 - val_loss: 0.2054\n",
      "Epoch 37/50\n",
      "48/48 [==============================] - 0s 3ms/step - loss: 0.1694 - val_loss: 0.2062\n",
      "Epoch 38/50\n",
      "48/48 [==============================] - 0s 3ms/step - loss: 0.1686 - val_loss: 0.2063\n",
      "Epoch 39/50\n",
      "48/48 [==============================] - 0s 3ms/step - loss: 0.1682 - val_loss: 0.2043\n",
      "Epoch 40/50\n",
      "48/48 [==============================] - 0s 3ms/step - loss: 0.1682 - val_loss: 0.2057\n",
      "Epoch 41/50\n",
      "48/48 [==============================] - 0s 3ms/step - loss: 0.1678 - val_loss: 0.2051\n",
      "Epoch 42/50\n",
      "48/48 [==============================] - 0s 3ms/step - loss: 0.1679 - val_loss: 0.2048\n",
      "Epoch 43/50\n",
      "48/48 [==============================] - 0s 3ms/step - loss: 0.1666 - val_loss: 0.2052\n",
      "Epoch 44/50\n",
      "48/48 [==============================] - 0s 3ms/step - loss: 0.1664 - val_loss: 0.2072\n",
      "Epoch 45/50\n",
      "48/48 [==============================] - 0s 3ms/step - loss: 0.1664 - val_loss: 0.2086\n",
      "Epoch 46/50\n",
      "48/48 [==============================] - 0s 3ms/step - loss: 0.1659 - val_loss: 0.2084\n",
      "Epoch 47/50\n",
      "48/48 [==============================] - 0s 3ms/step - loss: 0.1662 - val_loss: 0.2076\n",
      "Epoch 48/50\n",
      "48/48 [==============================] - 0s 3ms/step - loss: 0.1651 - val_loss: 0.2070\n",
      "Epoch 49/50\n",
      "48/48 [==============================] - 0s 5ms/step - loss: 0.1657 - val_loss: 0.2094\n",
      "Epoch 50/50\n",
      "48/48 [==============================] - 0s 4ms/step - loss: 0.1645 - val_loss: 0.2076\n",
      "Minimum Validation Loss: 0.2020\n"
     ]
    },
    {
     "data": {
      "image/png": "[encoded data removed]",
      "text/plain": [
       "<Figure size 432x288 with 1 Axes>"
      ]
     },
     "metadata": {},
     "output_type": "display_data"
    }
   ],
   "source": [
    "model = keras.Sequential([\n",
    "    layers.Dense(128, activation='relu', input_shape=input_shape),\n",
    "    layers.Dense(64, activation='relu'),\n",
    "    layers.Dense(1)\n",
    "])\n",
    "model.compile(\n",
    "    optimizer='adam',\n",
    "    loss='mae',\n",
    ")\n",
    "history = model.fit(\n",
    "    X_train, y_train,\n",
    "    validation_data=(X_valid, y_valid),\n",
    "    batch_size=512,\n",
    "    epochs=50,\n",
    ")\n",
    "history_df = pd.DataFrame(history.history)\n",
    "history_df.loc[:, ['loss', 'val_loss']].plot()\n",
    "print(\"Minimum Validation Loss: {:0.4f}\".format(history_df['val_loss'].min()));"
   ]
  },
  {
   "cell_type": "markdown",
   "id": "f229c4b8",
   "metadata": {
    "papermill": {
     "duration": 0.015823,
     "end_time": "2022-07-24T19:21:47.481951",
     "exception": false,
     "start_time": "2022-07-24T19:21:47.466128",
     "status": "completed"
    },
    "tags": []
   },
   "source": [
    "# 2) Add Capacity\n",
    "\n",
    "What is your evaluation of these curves? Underfitting, overfitting, just right?"
   ]
  },
  {
   "cell_type": "code",
   "execution_count": 7,
   "id": "852fe89b",
   "metadata": {
    "execution": {
     "iopub.execute_input": "2022-07-24T19:21:47.516109Z",
     "iopub.status.busy": "2022-07-24T19:21:47.514590Z",
     "iopub.status.idle": "2022-07-24T19:21:47.524050Z",
     "shell.execute_reply": "2022-07-24T19:21:47.523230Z"
    },
    "papermill": {
     "duration": 0.028414,
     "end_time": "2022-07-24T19:21:47.526152",
     "exception": false,
     "start_time": "2022-07-24T19:21:47.497738",
     "status": "completed"
    },
    "tags": []
   },
   "outputs": [
    {
     "data": {
      "application/javascript": [
       "parent.postMessage({\"jupyterEvent\": \"custom.exercise_interaction\", \"data\": {\"outcomeType\": 1, \"valueTowardsCompletion\": 0.25, \"interactionType\": 1, \"questionType\": 4, \"questionId\": \"2_Q2\", \"learnToolsVersion\": \"0.3.4\", \"failureMessage\": \"\", \"exceptionClass\": \"\", \"trace\": \"\"}}, \"*\")"
      ],
      "text/plain": [
       "<IPython.core.display.Javascript object>"
      ]
     },
     "metadata": {},
     "output_type": "display_data"
    },
    {
     "data": {
      "text/markdown": [
       "<span style=\"color:#33cc33\">Correct:</span> \n",
       "\n",
       "Now the validation loss begins to rise very early, while the training loss continues to decrease. This indicates that the network has begun to overfit. At this point, we would need to try something to prevent it, either by reducing the number of units or through a method like early stopping. (We'll see another in the next lesson!)"
      ],
      "text/plain": [
       "Correct: \n",
       "\n",
       "Now the validation loss begins to rise very early, while the training loss continues to decrease. This indicates that the network has begun to overfit. At this point, we would need to try something to prevent it, either by reducing the number of units or through a method like early stopping. (We'll see another in the next lesson!)"
      ]
     },
     "metadata": {},
     "output_type": "display_data"
    }
   ],
   "source": [
    "# View the solution (Run this cell to receive credit!)\n",
    "q_2.check()"
   ]
  },
  {
   "cell_type": "markdown",
   "id": "55963c22",
   "metadata": {
    "papermill": {
     "duration": 0.015869,
     "end_time": "2022-07-24T19:21:47.558668",
     "exception": false,
     "start_time": "2022-07-24T19:21:47.542799",
     "status": "completed"
    },
    "tags": []
   },
   "source": [
    "# 3) Define Early Stopping Callback\n",
    "\n",
    "Now define an early stopping callback that waits 5 epochs (`patience'`) for a change in validation loss of at least `0.001` (`min_delta`) and keeps the weights with the best loss (`restore_best_weights`)."
   ]
  },
  {
   "cell_type": "code",
   "execution_count": 8,
   "id": "305eba61",
   "metadata": {
    "execution": {
     "iopub.execute_input": "2022-07-24T19:21:47.592198Z",
     "iopub.status.busy": "2022-07-24T19:21:47.591925Z",
     "iopub.status.idle": "2022-07-24T19:21:47.600106Z",
     "shell.execute_reply": "2022-07-24T19:21:47.599141Z"
    },
    "lines_to_next_cell": 0,
    "papermill": {
     "duration": 0.027246,
     "end_time": "2022-07-24T19:21:47.602070",
     "exception": false,
     "start_time": "2022-07-24T19:21:47.574824",
     "status": "completed"
    },
    "tags": []
   },
   "outputs": [
    {
     "data": {
      "application/javascript": [
       "parent.postMessage({\"jupyterEvent\": \"custom.exercise_interaction\", \"data\": {\"outcomeType\": 1, \"valueTowardsCompletion\": 0.25, \"interactionType\": 1, \"questionType\": 2, \"questionId\": \"3_Q3\", \"learnToolsVersion\": \"0.3.4\", \"failureMessage\": \"\", \"exceptionClass\": \"\", \"trace\": \"\"}}, \"*\")"
      ],
      "text/plain": [
       "<IPython.core.display.Javascript object>"
      ]
     },
     "metadata": {},
     "output_type": "display_data"
    },
    {
     "data": {
      "text/markdown": [
       "<span style=\"color:#33cc33\">Correct</span>"
      ],
      "text/plain": [
       "Correct"
      ]
     },
     "metadata": {},
     "output_type": "display_data"
    }
   ],
   "source": [
    "from tensorflow.keras import callbacks\n",
    "\n",
    "# YOUR CODE HERE: define an early stopping callback\n",
    "early_stopping = callbacks.EarlyStopping(min_delta=0.001,patience=5,restore_best_weights=True)\n",
    "\n",
    "# Check your answer\n",
    "q_3.check()"
   ]
  },
  {
   "cell_type": "code",
   "execution_count": 9,
   "id": "3c6b7004",
   "metadata": {
    "execution": {
     "iopub.execute_input": "2022-07-24T19:21:47.636429Z",
     "iopub.status.busy": "2022-07-24T19:21:47.635894Z",
     "iopub.status.idle": "2022-07-24T19:21:47.639875Z",
     "shell.execute_reply": "2022-07-24T19:21:47.638886Z"
    },
    "papermill": {
     "duration": 0.02327,
     "end_time": "2022-07-24T19:21:47.642074",
     "exception": false,
     "start_time": "2022-07-24T19:21:47.618804",
     "status": "completed"
    },
    "tags": []
   },
   "outputs": [],
   "source": [
    "# Lines below will give you a hint or solution code\n",
    "#q_3.hint()\n",
    "#q_3.solution()"
   ]
  },
  {
   "cell_type": "markdown",
   "id": "fad7ca7f",
   "metadata": {
    "papermill": {
     "duration": 0.016211,
     "end_time": "2022-07-24T19:21:47.674432",
     "exception": false,
     "start_time": "2022-07-24T19:21:47.658221",
     "status": "completed"
    },
    "tags": []
   },
   "source": [
    "Now run this cell to train the model and get the learning curves. Notice the `callbacks` argument in `model.fit`."
   ]
  },
  {
   "cell_type": "code",
   "execution_count": 10,
   "id": "d5786fde",
   "metadata": {
    "execution": {
     "iopub.execute_input": "2022-07-24T19:21:47.708763Z",
     "iopub.status.busy": "2022-07-24T19:21:47.708512Z",
     "iopub.status.idle": "2022-07-24T19:21:49.566539Z",
     "shell.execute_reply": "2022-07-24T19:21:49.565649Z"
    },
    "papermill": {
     "duration": 1.877191,
     "end_time": "2022-07-24T19:21:49.568461",
     "exception": false,
     "start_time": "2022-07-24T19:21:47.691270",
     "status": "completed"
    },
    "tags": []
   },
   "outputs": [
    {
     "name": "stdout",
     "output_type": "stream",
     "text": [
      "Epoch 1/50\n",
      "48/48 [==============================] - 0s 4ms/step - loss: 0.2510 - val_loss: 0.2098\n",
      "Epoch 2/50\n",
      "48/48 [==============================] - 0s 3ms/step - loss: 0.2009 - val_loss: 0.2038\n",
      "Epoch 3/50\n",
      "48/48 [==============================] - 0s 3ms/step - loss: 0.1955 - val_loss: 0.2020\n",
      "Epoch 4/50\n",
      "48/48 [==============================] - 0s 4ms/step - loss: 0.1925 - val_loss: 0.2009\n",
      "Epoch 5/50\n",
      "48/48 [==============================] - 0s 3ms/step - loss: 0.1904 - val_loss: 0.2009\n",
      "Epoch 6/50\n",
      "48/48 [==============================] - 0s 3ms/step - loss: 0.1888 - val_loss: 0.2007\n",
      "Epoch 7/50\n",
      "48/48 [==============================] - 0s 3ms/step - loss: 0.1880 - val_loss: 0.2000\n",
      "Epoch 8/50\n",
      "48/48 [==============================] - 0s 3ms/step - loss: 0.1871 - val_loss: 0.2005\n",
      "Epoch 9/50\n",
      "48/48 [==============================] - 0s 3ms/step - loss: 0.1857 - val_loss: 0.2002\n",
      "Minimum Validation Loss: 0.2000\n"
     ]
    },
    {
     "data": {
      "image/png": "[encoded data removed]",
      "text/plain": [
       "<Figure size 432x288 with 1 Axes>"
      ]
     },
     "metadata": {},
     "output_type": "display_data"
    }
   ],
   "source": [
    "model = keras.Sequential([\n",
    "    layers.Dense(128, activation='relu', input_shape=input_shape),\n",
    "    layers.Dense(64, activation='relu'),    \n",
    "    layers.Dense(1)\n",
    "])\n",
    "model.compile(\n",
    "    optimizer='adam',\n",
    "    loss='mae',\n",
    ")\n",
    "history = model.fit(\n",
    "    X_train, y_train,\n",
    "    validation_data=(X_valid, y_valid),\n",
    "    batch_size=512,\n",
    "    epochs=50,\n",
    "    callbacks=[early_stopping]\n",
    ")\n",
    "history_df = pd.DataFrame(history.history)\n",
    "history_df.loc[:, ['loss', 'val_loss']].plot()\n",
    "print(\"Minimum Validation Loss: {:0.4f}\".format(history_df['val_loss'].min()));"
   ]
  },
  {
   "cell_type": "markdown",
   "id": "5bcef221",
   "metadata": {
    "papermill": {
     "duration": 0.018602,
     "end_time": "2022-07-24T19:21:49.605731",
     "exception": false,
     "start_time": "2022-07-24T19:21:49.587129",
     "status": "completed"
    },
    "tags": []
   },
   "source": [
    "# 4) Train and Interpret\n",
    "\n",
    "Was this an improvement compared to training without early stopping?"
   ]
  },
  {
   "cell_type": "code",
   "execution_count": 11,
   "id": "be364249",
   "metadata": {
    "execution": {
     "iopub.execute_input": "2022-07-24T19:21:49.643676Z",
     "iopub.status.busy": "2022-07-24T19:21:49.643022Z",
     "iopub.status.idle": "2022-07-24T19:21:49.651827Z",
     "shell.execute_reply": "2022-07-24T19:21:49.650926Z"
    },
    "papermill": {
     "duration": 0.029919,
     "end_time": "2022-07-24T19:21:49.653874",
     "exception": false,
     "start_time": "2022-07-24T19:21:49.623955",
     "status": "completed"
    },
    "tags": []
   },
   "outputs": [
    {
     "data": {
      "application/javascript": [
       "parent.postMessage({\"jupyterEvent\": \"custom.exercise_interaction\", \"data\": {\"outcomeType\": 1, \"valueTowardsCompletion\": 0.25, \"interactionType\": 1, \"questionType\": 4, \"questionId\": \"4_Q4\", \"learnToolsVersion\": \"0.3.4\", \"failureMessage\": \"\", \"exceptionClass\": \"\", \"trace\": \"\"}}, \"*\")"
      ],
      "text/plain": [
       "<IPython.core.display.Javascript object>"
      ]
     },
     "metadata": {},
     "output_type": "display_data"
    },
    {
     "data": {
      "text/markdown": [
       "<span style=\"color:#33cc33\">Correct:</span> \n",
       "\n",
       "The early stopping callback did stop the training once the network began overfitting. Moreover, by including `restore_best_weights` we still get to keep the model where validation loss was lowest."
      ],
      "text/plain": [
       "Correct: \n",
       "\n",
       "The early stopping callback did stop the training once the network began overfitting. Moreover, by including `restore_best_weights` we still get to keep the model where validation loss was lowest."
      ]
     },
     "metadata": {},
     "output_type": "display_data"
    }
   ],
   "source": [
    "# View the solution (Run this cell to receive credit!)\n",
    "q_4.check()"
   ]
  },
  {
   "cell_type": "markdown",
   "id": "0e6231f0",
   "metadata": {
    "papermill": {
     "duration": 0.018203,
     "end_time": "2022-07-24T19:21:49.690736",
     "exception": false,
     "start_time": "2022-07-24T19:21:49.672533",
     "status": "completed"
    },
    "tags": []
   },
   "source": [
    "If you like, try experimenting with `patience` and `min_delta` to see what difference it might make.\n",
    "\n",
    "# Keep Going #\n",
    "\n",
    "Move on to [**learn about a couple of special layers**](https://www.kaggle.com/ryanholbrook/dropout-and-batch-normalization): batch normalization and dropout."
   ]
  },
  {
   "cell_type": "markdown",
   "id": "213f47fd",
   "metadata": {
    "papermill": {
     "duration": 0.018507,
     "end_time": "2022-07-24T19:21:49.727444",
     "exception": false,
     "start_time": "2022-07-24T19:21:49.708937",
     "status": "completed"
    },
    "tags": []
   },
   "source": [
    "---\n",
    "\n",
    "\n",
    "\n",
    "\n",
    "*Have questions or comments? Visit the [course discussion forum](https://www.kaggle.com/learn/intro-to-deep-learning/discussion) to chat with other learners.*"
   ]
  }
 ],
 "metadata": {
  "kernelspec": {
   "display_name": "Python 3",
   "language": "python",
   "name": "python3"
  },
  "language_info": {
   "codemirror_mode": {
    "name": "ipython",
    "version": 3
   },
   "file_extension": ".py",
   "mimetype": "text/x-python",
   "name": "python",
   "nbconvert_exporter": "python",
   "pygments_lexer": "ipython3",
   "version": "3.7.12"
  },
  "papermill": {
   "default_parameters": {},
   "duration": 37.363857,
   "end_time": "2022-07-24T19:21:52.543407",
   "environment_variables": {},
   "exception": null,
   "input_path": "__notebook__.ipynb",
   "output_path": "__notebook__.ipynb",
   "parameters": {},
   "start_time": "2022-07-24T19:21:15.179550",
   "version": "2.3.4"
  }
 },
 "nbformat": 4,
 "nbformat_minor": 5
}
