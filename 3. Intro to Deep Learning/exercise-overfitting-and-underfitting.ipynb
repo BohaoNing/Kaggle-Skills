{
 "cells": [
  {
   "cell_type": "markdown",
   "id": "84ca62cc",
   "metadata": {
    "papermill": {
     "duration": 0.00999,
     "end_time": "2022-09-17T17:18:02.226608",
     "exception": false,
     "start_time": "2022-09-17T17:18:02.216618",
     "status": "completed"
    },
    "tags": []
   },
   "source": [
    "**This notebook is an exercise in the [Intro to Deep Learning](https://www.kaggle.com/learn/intro-to-deep-learning) course.  You can reference the tutorial at [this link](https://www.kaggle.com/ryanholbrook/overfitting-and-underfitting).**\n",
    "\n",
    "---\n"
   ]
  },
  {
   "cell_type": "markdown",
   "id": "f555ec3a",
   "metadata": {
    "papermill": {
     "duration": 0.005567,
     "end_time": "2022-09-17T17:18:02.238741",
     "exception": false,
     "start_time": "2022-09-17T17:18:02.233174",
     "status": "completed"
    },
    "tags": []
   },
   "source": [
    "# Introduction #\n",
    "\n",
    "In this exercise, you’ll learn how to improve training outcomes by including an early stopping callback to prevent overfitting.\n",
    "\n",
    "When you're ready, run this next cell to set everything up!"
   ]
  },
  {
   "cell_type": "code",
   "execution_count": 1,
   "id": "6907af18",
   "metadata": {
    "execution": {
     "iopub.execute_input": "2022-09-17T17:18:02.258541Z",
     "iopub.status.busy": "2022-09-17T17:18:02.257972Z",
     "iopub.status.idle": "2022-09-17T17:18:02.304539Z",
     "shell.execute_reply": "2022-09-17T17:18:02.303631Z"
    },
    "papermill": {
     "duration": 0.057569,
     "end_time": "2022-09-17T17:18:02.306876",
     "exception": false,
     "start_time": "2022-09-17T17:18:02.249307",
     "status": "completed"
    },
    "tags": []
   },
   "outputs": [],
   "source": [
    "# Setup plotting\n",
    "import matplotlib.pyplot as plt\n",
    "plt.style.use('seaborn-whitegrid')\n",
    "# Set Matplotlib defaults\n",
    "plt.rc('figure', autolayout=True)\n",
    "plt.rc('axes', labelweight='bold', labelsize='large',\n",
    "       titleweight='bold', titlesize=18, titlepad=10)\n",
    "plt.rc('animation', html='html5')\n",
    "\n",
    "# Setup feedback system\n",
    "from learntools.core import binder\n",
    "binder.bind(globals())\n",
    "from learntools.deep_learning_intro.ex4 import *"
   ]
  },
  {
   "cell_type": "markdown",
   "id": "020de226",
   "metadata": {
    "papermill": {
     "duration": 0.004202,
     "end_time": "2022-09-17T17:18:02.315535",
     "exception": false,
     "start_time": "2022-09-17T17:18:02.311333",
     "status": "completed"
    },
    "tags": []
   },
   "source": [
    "First load the *Spotify* dataset. Your task will be to predict the popularity of a song based on various audio features, like `'tempo'`, `'danceability'`, and `'mode'`."
   ]
  },
  {
   "cell_type": "code",
   "execution_count": 2,
   "id": "0ad23f2e",
   "metadata": {
    "execution": {
     "iopub.execute_input": "2022-09-17T17:18:02.326050Z",
     "iopub.status.busy": "2022-09-17T17:18:02.325173Z",
     "iopub.status.idle": "2022-09-17T17:18:08.766861Z",
     "shell.execute_reply": "2022-09-17T17:18:08.765683Z"
    },
    "papermill": {
     "duration": 6.450494,
     "end_time": "2022-09-17T17:18:08.770485",
     "exception": false,
     "start_time": "2022-09-17T17:18:02.319991",
     "status": "completed"
    },
    "tags": []
   },
   "outputs": [
    {
     "name": "stdout",
     "output_type": "stream",
     "text": [
      "Input shape: [18]\n"
     ]
    }
   ],
   "source": [
    "import pandas as pd\n",
    "from sklearn.preprocessing import StandardScaler, OneHotEncoder\n",
    "from sklearn.compose import make_column_transformer\n",
    "from sklearn.model_selection import GroupShuffleSplit\n",
    "\n",
    "from tensorflow import keras\n",
    "from tensorflow.keras import layers\n",
    "from tensorflow.keras import callbacks\n",
    "\n",
    "spotify = pd.read_csv('../input/dl-course-data/spotify.csv')\n",
    "\n",
    "X = spotify.copy().dropna()\n",
    "y = X.pop('track_popularity')\n",
    "artists = X['track_artist']\n",
    "\n",
    "features_num = ['danceability', 'energy', 'key', 'loudness', 'mode',\n",
    "                'speechiness', 'acousticness', 'instrumentalness',\n",
    "                'liveness', 'valence', 'tempo', 'duration_ms']\n",
    "features_cat = ['playlist_genre']\n",
    "\n",
    "preprocessor = make_column_transformer(\n",
    "    (StandardScaler(), features_num),\n",
    "    (OneHotEncoder(), features_cat),\n",
    ")\n",
    "\n",
    "# We'll do a \"grouped\" split to keep all of an artist's songs in one\n",
    "# split or the other. This is to help prevent signal leakage.\n",
    "def group_split(X, y, group, train_size=0.75):\n",
    "    splitter = GroupShuffleSplit(train_size=train_size)\n",
    "    train, test = next(splitter.split(X, y, groups=group))\n",
    "    return (X.iloc[train], X.iloc[test], y.iloc[train], y.iloc[test])\n",
    "\n",
    "X_train, X_valid, y_train, y_valid = group_split(X, y, artists)\n",
    "\n",
    "X_train = preprocessor.fit_transform(X_train)\n",
    "X_valid = preprocessor.transform(X_valid)\n",
    "y_train = y_train / 100 # popularity is on a scale 0-100, so this rescales to 0-1.\n",
    "y_valid = y_valid / 100\n",
    "\n",
    "input_shape = [X_train.shape[1]]\n",
    "print(\"Input shape: {}\".format(input_shape))"
   ]
  },
  {
   "cell_type": "markdown",
   "id": "30179f6c",
   "metadata": {
    "papermill": {
     "duration": 0.004498,
     "end_time": "2022-09-17T17:18:08.779841",
     "exception": false,
     "start_time": "2022-09-17T17:18:08.775343",
     "status": "completed"
    },
    "tags": []
   },
   "source": [
    "Let's start with the simplest network, a linear model. This model has low capacity.\n",
    "\n",
    "Run this next cell without any changes to train a linear model on the *Spotify* dataset."
   ]
  },
  {
   "cell_type": "code",
   "execution_count": 3,
   "id": "da333cec",
   "metadata": {
    "execution": {
     "iopub.execute_input": "2022-09-17T17:18:08.790113Z",
     "iopub.status.busy": "2022-09-17T17:18:08.789821Z",
     "iopub.status.idle": "2022-09-17T17:18:18.931269Z",
     "shell.execute_reply": "2022-09-17T17:18:18.930383Z"
    },
    "lines_to_next_cell": 0,
    "papermill": {
     "duration": 10.149185,
     "end_time": "2022-09-17T17:18:18.933365",
     "exception": false,
     "start_time": "2022-09-17T17:18:08.784180",
     "status": "completed"
    },
    "tags": []
   },
   "outputs": [
    {
     "name": "stderr",
     "output_type": "stream",
     "text": [
      "2022-09-17 17:18:08.899543: I tensorflow/stream_executor/cuda/cuda_gpu_executor.cc:937] successful NUMA node read from SysFS had negative value (-1), but there must be at least one NUMA node, so returning NUMA node zero\n",
      "2022-09-17 17:18:09.016859: I tensorflow/stream_executor/cuda/cuda_gpu_executor.cc:937] successful NUMA node read from SysFS had negative value (-1), but there must be at least one NUMA node, so returning NUMA node zero\n",
      "2022-09-17 17:18:09.018087: I tensorflow/stream_executor/cuda/cuda_gpu_executor.cc:937] successful NUMA node read from SysFS had negative value (-1), but there must be at least one NUMA node, so returning NUMA node zero\n",
      "2022-09-17 17:18:09.020346: I tensorflow/core/platform/cpu_feature_guard.cc:142] This TensorFlow binary is optimized with oneAPI Deep Neural Network Library (oneDNN) to use the following CPU instructions in performance-critical operations:  AVX2 AVX512F FMA\n",
      "To enable them in other operations, rebuild TensorFlow with the appropriate compiler flags.\n",
      "2022-09-17 17:18:09.020768: I tensorflow/stream_executor/cuda/cuda_gpu_executor.cc:937] successful NUMA node read from SysFS had negative value (-1), but there must be at least one NUMA node, so returning NUMA node zero\n",
      "2022-09-17 17:18:09.021895: I tensorflow/stream_executor/cuda/cuda_gpu_executor.cc:937] successful NUMA node read from SysFS had negative value (-1), but there must be at least one NUMA node, so returning NUMA node zero\n",
      "2022-09-17 17:18:09.022934: I tensorflow/stream_executor/cuda/cuda_gpu_executor.cc:937] successful NUMA node read from SysFS had negative value (-1), but there must be at least one NUMA node, so returning NUMA node zero\n",
      "2022-09-17 17:18:11.610347: I tensorflow/stream_executor/cuda/cuda_gpu_executor.cc:937] successful NUMA node read from SysFS had negative value (-1), but there must be at least one NUMA node, so returning NUMA node zero\n",
      "2022-09-17 17:18:11.611223: I tensorflow/stream_executor/cuda/cuda_gpu_executor.cc:937] successful NUMA node read from SysFS had negative value (-1), but there must be at least one NUMA node, so returning NUMA node zero\n",
      "2022-09-17 17:18:11.611892: I tensorflow/stream_executor/cuda/cuda_gpu_executor.cc:937] successful NUMA node read from SysFS had negative value (-1), but there must be at least one NUMA node, so returning NUMA node zero\n",
      "2022-09-17 17:18:11.612485: I tensorflow/core/common_runtime/gpu/gpu_device.cc:1510] Created device /job:localhost/replica:0/task:0/device:GPU:0 with 15401 MB memory:  -> device: 0, name: Tesla P100-PCIE-16GB, pci bus id: 0000:00:04.0, compute capability: 6.0\n",
      "2022-09-17 17:18:12.076369: I tensorflow/compiler/mlir/mlir_graph_optimization_pass.cc:185] None of the MLIR Optimization Passes are enabled (registered 2)\n"
     ]
    },
    {
     "name": "stdout",
     "output_type": "stream",
     "text": [
      "Minimum Validation Loss: 0.1993\n"
     ]
    },
    {
     "data": {
      "image/png": "[encoded data removed]",
      "text/plain": [
       "<Figure size 432x288 with 1 Axes>"
      ]
     },
     "metadata": {},
     "output_type": "display_data"
    }
   ],
   "source": [
    "model = keras.Sequential([\n",
    "    layers.Dense(1, input_shape=input_shape),\n",
    "])\n",
    "model.compile(\n",
    "    optimizer='adam',\n",
    "    loss='mae',\n",
    ")\n",
    "history = model.fit(\n",
    "    X_train, y_train,\n",
    "    validation_data=(X_valid, y_valid),\n",
    "    batch_size=512,\n",
    "    epochs=50,\n",
    "    verbose=0, # suppress output since we'll plot the curves\n",
    ")\n",
    "history_df = pd.DataFrame(history.history)\n",
    "history_df.loc[0:, ['loss', 'val_loss']].plot()\n",
    "print(\"Minimum Validation Loss: {:0.4f}\".format(history_df['val_loss'].min()));"
   ]
  },
  {
   "cell_type": "markdown",
   "id": "f840a2e1",
   "metadata": {
    "papermill": {
     "duration": 0.004775,
     "end_time": "2022-09-17T17:18:18.943401",
     "exception": false,
     "start_time": "2022-09-17T17:18:18.938626",
     "status": "completed"
    },
    "tags": []
   },
   "source": [
    "It's not uncommon for the curves to follow a \"hockey stick\" pattern like you see here. This makes the final part of training hard to see, so let's start at epoch 10 instead:"
   ]
  },
  {
   "cell_type": "code",
   "execution_count": 4,
   "id": "45ab1842",
   "metadata": {
    "execution": {
     "iopub.execute_input": "2022-09-17T17:18:18.954324Z",
     "iopub.status.busy": "2022-09-17T17:18:18.954032Z",
     "iopub.status.idle": "2022-09-17T17:18:19.242322Z",
     "shell.execute_reply": "2022-09-17T17:18:19.241321Z"
    },
    "papermill": {
     "duration": 0.295956,
     "end_time": "2022-09-17T17:18:19.244326",
     "exception": false,
     "start_time": "2022-09-17T17:18:18.948370",
     "status": "completed"
    },
    "tags": []
   },
   "outputs": [
    {
     "name": "stdout",
     "output_type": "stream",
     "text": [
      "Minimum Validation Loss: 0.1993\n"
     ]
    },
    {
     "data": {
      "image/png": "[encoded data removed]",
      "text/plain": [
       "<Figure size 432x288 with 1 Axes>"
      ]
     },
     "metadata": {},
     "output_type": "display_data"
    }
   ],
   "source": [
    "# Start the plot at epoch 10\n",
    "history_df.loc[10:, ['loss', 'val_loss']].plot()\n",
    "print(\"Minimum Validation Loss: {:0.4f}\".format(history_df['val_loss'].min()));"
   ]
  },
  {
   "cell_type": "markdown",
   "id": "596f34ff",
   "metadata": {
    "papermill": {
     "duration": 0.005147,
     "end_time": "2022-09-17T17:18:19.254964",
     "exception": false,
     "start_time": "2022-09-17T17:18:19.249817",
     "status": "completed"
    },
    "tags": []
   },
   "source": [
    "# 1) Evaluate Baseline\n",
    "\n",
    "What do you think? Would you say this model is underfitting, overfitting, just right?"
   ]
  },
  {
   "cell_type": "code",
   "execution_count": 5,
   "id": "7abb0022",
   "metadata": {
    "execution": {
     "iopub.execute_input": "2022-09-17T17:18:19.266470Z",
     "iopub.status.busy": "2022-09-17T17:18:19.266171Z",
     "iopub.status.idle": "2022-09-17T17:18:19.275345Z",
     "shell.execute_reply": "2022-09-17T17:18:19.274339Z"
    },
    "papermill": {
     "duration": 0.017348,
     "end_time": "2022-09-17T17:18:19.277525",
     "exception": false,
     "start_time": "2022-09-17T17:18:19.260177",
     "status": "completed"
    },
    "tags": []
   },
   "outputs": [
    {
     "data": {
      "application/javascript": [
       "parent.postMessage({\"jupyterEvent\": \"custom.exercise_interaction\", \"data\": {\"outcomeType\": 1, \"valueTowardsCompletion\": 0.25, \"interactionType\": 1, \"questionType\": 4, \"questionId\": \"1_Q1\", \"learnToolsVersion\": \"0.3.4\", \"failureMessage\": \"\", \"exceptionClass\": \"\", \"trace\": \"\"}}, \"*\")"
      ],
      "text/plain": [
       "<IPython.core.display.Javascript object>"
      ]
     },
     "metadata": {},
     "output_type": "display_data"
    },
    {
     "data": {
      "text/markdown": [
       "<span style=\"color:#33cc33\">Correct:</span> \n",
       "\n",
       "The gap between these curves is quite small and the validation loss never increases, so it's more likely that the network is underfitting than overfitting. It would be worth experimenting with more capacity to see if that's the case."
      ],
      "text/plain": [
       "Correct: \n",
       "\n",
       "The gap between these curves is quite small and the validation loss never increases, so it's more likely that the network is underfitting than overfitting. It would be worth experimenting with more capacity to see if that's the case."
      ]
     },
     "metadata": {},
     "output_type": "display_data"
    }
   ],
   "source": [
    "# View the solution (Run this cell to receive credit!)\n",
    "q_1.check()"
   ]
  },
  {
   "cell_type": "markdown",
   "id": "0b255664",
   "metadata": {
    "papermill": {
     "duration": 0.005199,
     "end_time": "2022-09-17T17:18:19.288901",
     "exception": false,
     "start_time": "2022-09-17T17:18:19.283702",
     "status": "completed"
    },
    "tags": []
   },
   "source": [
    "Now let's add some capacity to our network. We'll add three hidden layers with 128 units each. Run the next cell to train the network and see the learning curves."
   ]
  },
  {
   "cell_type": "code",
   "execution_count": 6,
   "id": "1034d72a",
   "metadata": {
    "execution": {
     "iopub.execute_input": "2022-09-17T17:18:19.300635Z",
     "iopub.status.busy": "2022-09-17T17:18:19.300349Z",
     "iopub.status.idle": "2022-09-17T17:18:26.497670Z",
     "shell.execute_reply": "2022-09-17T17:18:26.496485Z"
    },
    "papermill": {
     "duration": 7.206439,
     "end_time": "2022-09-17T17:18:26.500554",
     "exception": false,
     "start_time": "2022-09-17T17:18:19.294115",
     "status": "completed"
    },
    "tags": []
   },
   "outputs": [
    {
     "name": "stdout",
     "output_type": "stream",
     "text": [
      "Epoch 1/50\n",
      "49/49 [==============================] - 0s 4ms/step - loss: 0.2544 - val_loss: 0.2115\n",
      "Epoch 2/50\n",
      "49/49 [==============================] - 0s 3ms/step - loss: 0.2017 - val_loss: 0.2031\n",
      "Epoch 3/50\n",
      "49/49 [==============================] - 0s 3ms/step - loss: 0.1960 - val_loss: 0.2016\n",
      "Epoch 4/50\n",
      "49/49 [==============================] - 0s 3ms/step - loss: 0.1929 - val_loss: 0.2009\n",
      "Epoch 5/50\n",
      "49/49 [==============================] - 0s 3ms/step - loss: 0.1908 - val_loss: 0.1999\n",
      "Epoch 6/50\n",
      "49/49 [==============================] - 0s 2ms/step - loss: 0.1895 - val_loss: 0.1995\n",
      "Epoch 7/50\n",
      "49/49 [==============================] - 0s 2ms/step - loss: 0.1877 - val_loss: 0.1988\n",
      "Epoch 8/50\n",
      "49/49 [==============================] - 0s 3ms/step - loss: 0.1867 - val_loss: 0.1988\n",
      "Epoch 9/50\n",
      "49/49 [==============================] - 0s 3ms/step - loss: 0.1863 - val_loss: 0.1996\n",
      "Epoch 10/50\n",
      "49/49 [==============================] - 0s 3ms/step - loss: 0.1849 - val_loss: 0.1989\n",
      "Epoch 11/50\n",
      "49/49 [==============================] - 0s 3ms/step - loss: 0.1840 - val_loss: 0.1985\n",
      "Epoch 12/50\n",
      "49/49 [==============================] - 0s 3ms/step - loss: 0.1834 - val_loss: 0.1988\n",
      "Epoch 13/50\n",
      "49/49 [==============================] - 0s 3ms/step - loss: 0.1822 - val_loss: 0.1976\n",
      "Epoch 14/50\n",
      "49/49 [==============================] - 0s 3ms/step - loss: 0.1819 - val_loss: 0.1979\n",
      "Epoch 15/50\n",
      "49/49 [==============================] - 0s 2ms/step - loss: 0.1810 - val_loss: 0.2002\n",
      "Epoch 16/50\n",
      "49/49 [==============================] - 0s 3ms/step - loss: 0.1807 - val_loss: 0.1987\n",
      "Epoch 17/50\n",
      "49/49 [==============================] - 0s 3ms/step - loss: 0.1795 - val_loss: 0.1994\n",
      "Epoch 18/50\n",
      "49/49 [==============================] - 0s 2ms/step - loss: 0.1791 - val_loss: 0.2003\n",
      "Epoch 19/50\n",
      "49/49 [==============================] - 0s 2ms/step - loss: 0.1783 - val_loss: 0.1992\n",
      "Epoch 20/50\n",
      "49/49 [==============================] - 0s 3ms/step - loss: 0.1777 - val_loss: 0.2009\n",
      "Epoch 21/50\n",
      "49/49 [==============================] - 0s 3ms/step - loss: 0.1780 - val_loss: 0.2001\n",
      "Epoch 22/50\n",
      "49/49 [==============================] - 0s 3ms/step - loss: 0.1770 - val_loss: 0.2011\n",
      "Epoch 23/50\n",
      "49/49 [==============================] - 0s 3ms/step - loss: 0.1761 - val_loss: 0.2012\n",
      "Epoch 24/50\n",
      "49/49 [==============================] - 0s 2ms/step - loss: 0.1757 - val_loss: 0.2014\n",
      "Epoch 25/50\n",
      "49/49 [==============================] - 0s 2ms/step - loss: 0.1760 - val_loss: 0.2007\n",
      "Epoch 26/50\n",
      "49/49 [==============================] - 0s 3ms/step - loss: 0.1746 - val_loss: 0.2024\n",
      "Epoch 27/50\n",
      "49/49 [==============================] - 0s 3ms/step - loss: 0.1739 - val_loss: 0.2014\n",
      "Epoch 28/50\n",
      "49/49 [==============================] - 0s 3ms/step - loss: 0.1731 - val_loss: 0.2010\n",
      "Epoch 29/50\n",
      "49/49 [==============================] - 0s 3ms/step - loss: 0.1731 - val_loss: 0.2015\n",
      "Epoch 30/50\n",
      "49/49 [==============================] - 0s 2ms/step - loss: 0.1728 - val_loss: 0.2024\n",
      "Epoch 31/50\n",
      "49/49 [==============================] - 0s 2ms/step - loss: 0.1716 - val_loss: 0.2019\n",
      "Epoch 32/50\n",
      "49/49 [==============================] - 0s 2ms/step - loss: 0.1718 - val_loss: 0.2027\n",
      "Epoch 33/50\n",
      "49/49 [==============================] - 0s 3ms/step - loss: 0.1712 - val_loss: 0.2029\n",
      "Epoch 34/50\n",
      "49/49 [==============================] - 0s 3ms/step - loss: 0.1702 - val_loss: 0.2035\n",
      "Epoch 35/50\n",
      "49/49 [==============================] - 0s 3ms/step - loss: 0.1702 - val_loss: 0.2030\n",
      "Epoch 36/50\n",
      "49/49 [==============================] - 0s 2ms/step - loss: 0.1691 - val_loss: 0.2038\n",
      "Epoch 37/50\n",
      "49/49 [==============================] - 0s 2ms/step - loss: 0.1690 - val_loss: 0.2041\n",
      "Epoch 38/50\n",
      "49/49 [==============================] - 0s 3ms/step - loss: 0.1689 - val_loss: 0.2051\n",
      "Epoch 39/50\n",
      "49/49 [==============================] - 0s 2ms/step - loss: 0.1686 - val_loss: 0.2039\n",
      "Epoch 40/50\n",
      "49/49 [==============================] - 0s 3ms/step - loss: 0.1685 - val_loss: 0.2065\n",
      "Epoch 41/50\n",
      "49/49 [==============================] - 0s 3ms/step - loss: 0.1674 - val_loss: 0.2051\n",
      "Epoch 42/50\n",
      "49/49 [==============================] - 0s 3ms/step - loss: 0.1667 - val_loss: 0.2043\n",
      "Epoch 43/50\n",
      "49/49 [==============================] - 0s 3ms/step - loss: 0.1670 - val_loss: 0.2046\n",
      "Epoch 44/50\n",
      "49/49 [==============================] - 0s 2ms/step - loss: 0.1659 - val_loss: 0.2066\n",
      "Epoch 45/50\n",
      "49/49 [==============================] - 0s 3ms/step - loss: 0.1653 - val_loss: 0.2059\n",
      "Epoch 46/50\n",
      "49/49 [==============================] - 0s 2ms/step - loss: 0.1662 - val_loss: 0.2068\n",
      "Epoch 47/50\n",
      "49/49 [==============================] - 0s 3ms/step - loss: 0.1649 - val_loss: 0.2073\n",
      "Epoch 48/50\n",
      "49/49 [==============================] - 0s 2ms/step - loss: 0.1644 - val_loss: 0.2066\n",
      "Epoch 49/50\n",
      "49/49 [==============================] - 0s 2ms/step - loss: 0.1642 - val_loss: 0.2077\n",
      "Epoch 50/50\n",
      "49/49 [==============================] - 0s 2ms/step - loss: 0.1641 - val_loss: 0.2065\n",
      "Minimum Validation Loss: 0.1976\n"
     ]
    },
    {
     "data": {
      "image/png": "[encoded data removed]",
      "text/plain": [
       "<Figure size 432x288 with 1 Axes>"
      ]
     },
     "metadata": {},
     "output_type": "display_data"
    }
   ],
   "source": [
    "model = keras.Sequential([\n",
    "    layers.Dense(128, activation='relu', input_shape=input_shape),\n",
    "    layers.Dense(64, activation='relu'),\n",
    "    layers.Dense(1)\n",
    "])\n",
    "model.compile(\n",
    "    optimizer='adam',\n",
    "    loss='mae',\n",
    ")\n",
    "history = model.fit(\n",
    "    X_train, y_train,\n",
    "    validation_data=(X_valid, y_valid),\n",
    "    batch_size=512,\n",
    "    epochs=50,\n",
    ")\n",
    "history_df = pd.DataFrame(history.history)\n",
    "history_df.loc[:, ['loss', 'val_loss']].plot()\n",
    "print(\"Minimum Validation Loss: {:0.4f}\".format(history_df['val_loss'].min()));"
   ]
  },
  {
   "cell_type": "markdown",
   "id": "253daecb",
   "metadata": {
    "papermill": {
     "duration": 0.020677,
     "end_time": "2022-09-17T17:18:26.543690",
     "exception": false,
     "start_time": "2022-09-17T17:18:26.523013",
     "status": "completed"
    },
    "tags": []
   },
   "source": [
    "# 2) Add Capacity\n",
    "\n",
    "What is your evaluation of these curves? Underfitting, overfitting, just right?"
   ]
  },
  {
   "cell_type": "code",
   "execution_count": 7,
   "id": "1d547855",
   "metadata": {
    "execution": {
     "iopub.execute_input": "2022-09-17T17:18:26.585490Z",
     "iopub.status.busy": "2022-09-17T17:18:26.585102Z",
     "iopub.status.idle": "2022-09-17T17:18:26.594274Z",
     "shell.execute_reply": "2022-09-17T17:18:26.593168Z"
    },
    "papermill": {
     "duration": 0.035148,
     "end_time": "2022-09-17T17:18:26.598902",
     "exception": false,
     "start_time": "2022-09-17T17:18:26.563754",
     "status": "completed"
    },
    "tags": []
   },
   "outputs": [
    {
     "data": {
      "application/javascript": [
       "parent.postMessage({\"jupyterEvent\": \"custom.exercise_interaction\", \"data\": {\"outcomeType\": 1, \"valueTowardsCompletion\": 0.25, \"interactionType\": 1, \"questionType\": 4, \"questionId\": \"2_Q2\", \"learnToolsVersion\": \"0.3.4\", \"failureMessage\": \"\", \"exceptionClass\": \"\", \"trace\": \"\"}}, \"*\")"
      ],
      "text/plain": [
       "<IPython.core.display.Javascript object>"
      ]
     },
     "metadata": {},
     "output_type": "display_data"
    },
    {
     "data": {
      "text/markdown": [
       "<span style=\"color:#33cc33\">Correct:</span> \n",
       "\n",
       "Now the validation loss begins to rise very early, while the training loss continues to decrease. This indicates that the network has begun to overfit. At this point, we would need to try something to prevent it, either by reducing the number of units or through a method like early stopping. (We'll see another in the next lesson!)"
      ],
      "text/plain": [
       "Correct: \n",
       "\n",
       "Now the validation loss begins to rise very early, while the training loss continues to decrease. This indicates that the network has begun to overfit. At this point, we would need to try something to prevent it, either by reducing the number of units or through a method like early stopping. (We'll see another in the next lesson!)"
      ]
     },
     "metadata": {},
     "output_type": "display_data"
    }
   ],
   "source": [
    "# View the solution (Run this cell to receive credit!)\n",
    "q_2.check()"
   ]
  },
  {
   "cell_type": "markdown",
   "id": "e805e9a1",
   "metadata": {
    "papermill": {
     "duration": 0.020232,
     "end_time": "2022-09-17T17:18:26.639448",
     "exception": false,
     "start_time": "2022-09-17T17:18:26.619216",
     "status": "completed"
    },
    "tags": []
   },
   "source": [
    "# 3) Define Early Stopping Callback\n",
    "\n",
    "Now define an early stopping callback that waits 5 epochs (`patience'`) for a change in validation loss of at least `0.001` (`min_delta`) and keeps the weights with the best loss (`restore_best_weights`)."
   ]
  },
  {
   "cell_type": "code",
   "execution_count": 8,
   "id": "07f72f99",
   "metadata": {
    "execution": {
     "iopub.execute_input": "2022-09-17T17:18:26.681790Z",
     "iopub.status.busy": "2022-09-17T17:18:26.681452Z",
     "iopub.status.idle": "2022-09-17T17:18:26.693125Z",
     "shell.execute_reply": "2022-09-17T17:18:26.692297Z"
    },
    "lines_to_next_cell": 0,
    "papermill": {
     "duration": 0.03642,
     "end_time": "2022-09-17T17:18:26.696447",
     "exception": false,
     "start_time": "2022-09-17T17:18:26.660027",
     "status": "completed"
    },
    "tags": []
   },
   "outputs": [
    {
     "data": {
      "application/javascript": [
       "parent.postMessage({\"jupyterEvent\": \"custom.exercise_interaction\", \"data\": {\"outcomeType\": 1, \"valueTowardsCompletion\": 0.25, \"interactionType\": 1, \"questionType\": 2, \"questionId\": \"3_Q3\", \"learnToolsVersion\": \"0.3.4\", \"failureMessage\": \"\", \"exceptionClass\": \"\", \"trace\": \"\"}}, \"*\")"
      ],
      "text/plain": [
       "<IPython.core.display.Javascript object>"
      ]
     },
     "metadata": {},
     "output_type": "display_data"
    },
    {
     "data": {
      "text/markdown": [
       "<span style=\"color:#33cc33\">Correct</span>"
      ],
      "text/plain": [
       "Correct"
      ]
     },
     "metadata": {},
     "output_type": "display_data"
    }
   ],
   "source": [
    "from tensorflow.keras import callbacks\n",
    "\n",
    "# YOUR CODE HERE: define an early stopping callback\n",
    "early_stopping = callbacks.EarlyStopping(min_delta=0.001,patience=5,restore_best_weights=True)\n",
    "\n",
    "# Check your answer\n",
    "q_3.check()"
   ]
  },
  {
   "cell_type": "code",
   "execution_count": 9,
   "id": "6ec023ef",
   "metadata": {
    "execution": {
     "iopub.execute_input": "2022-09-17T17:18:26.739015Z",
     "iopub.status.busy": "2022-09-17T17:18:26.738584Z",
     "iopub.status.idle": "2022-09-17T17:18:26.742667Z",
     "shell.execute_reply": "2022-09-17T17:18:26.741883Z"
    },
    "papermill": {
     "duration": 0.029407,
     "end_time": "2022-09-17T17:18:26.746451",
     "exception": false,
     "start_time": "2022-09-17T17:18:26.717044",
     "status": "completed"
    },
    "tags": []
   },
   "outputs": [],
   "source": [
    "# Lines below will give you a hint or solution code\n",
    "#q_3.hint()\n",
    "#q_3.solution()"
   ]
  },
  {
   "cell_type": "markdown",
   "id": "4515c5a4",
   "metadata": {
    "papermill": {
     "duration": 0.022198,
     "end_time": "2022-09-17T17:18:26.789353",
     "exception": false,
     "start_time": "2022-09-17T17:18:26.767155",
     "status": "completed"
    },
    "tags": []
   },
   "source": [
    "Now run this cell to train the model and get the learning curves. Notice the `callbacks` argument in `model.fit`."
   ]
  },
  {
   "cell_type": "code",
   "execution_count": 10,
   "id": "399f6ae0",
   "metadata": {
    "execution": {
     "iopub.execute_input": "2022-09-17T17:18:26.837594Z",
     "iopub.status.busy": "2022-09-17T17:18:26.837311Z",
     "iopub.status.idle": "2022-09-17T17:18:29.989585Z",
     "shell.execute_reply": "2022-09-17T17:18:29.988605Z"
    },
    "papermill": {
     "duration": 3.174922,
     "end_time": "2022-09-17T17:18:29.991731",
     "exception": false,
     "start_time": "2022-09-17T17:18:26.816809",
     "status": "completed"
    },
    "tags": []
   },
   "outputs": [
    {
     "name": "stdout",
     "output_type": "stream",
     "text": [
      "Epoch 1/50\n",
      "49/49 [==============================] - 0s 4ms/step - loss: 0.2175 - val_loss: 0.2066\n",
      "Epoch 2/50\n",
      "49/49 [==============================] - 0s 3ms/step - loss: 0.1979 - val_loss: 0.2016\n",
      "Epoch 3/50\n",
      "49/49 [==============================] - 0s 2ms/step - loss: 0.1937 - val_loss: 0.2003\n",
      "Epoch 4/50\n",
      "49/49 [==============================] - 0s 2ms/step - loss: 0.1904 - val_loss: 0.1985\n",
      "Epoch 5/50\n",
      "49/49 [==============================] - 0s 2ms/step - loss: 0.1889 - val_loss: 0.1987\n",
      "Epoch 6/50\n",
      "49/49 [==============================] - 0s 3ms/step - loss: 0.1883 - val_loss: 0.1980\n",
      "Epoch 7/50\n",
      "49/49 [==============================] - 0s 3ms/step - loss: 0.1866 - val_loss: 0.1985\n",
      "Epoch 8/50\n",
      "49/49 [==============================] - 0s 2ms/step - loss: 0.1854 - val_loss: 0.1966\n",
      "Epoch 9/50\n",
      "49/49 [==============================] - 0s 2ms/step - loss: 0.1850 - val_loss: 0.1987\n",
      "Epoch 10/50\n",
      "49/49 [==============================] - 0s 3ms/step - loss: 0.1837 - val_loss: 0.1981\n",
      "Epoch 11/50\n",
      "49/49 [==============================] - 0s 2ms/step - loss: 0.1835 - val_loss: 0.1971\n",
      "Epoch 12/50\n",
      "49/49 [==============================] - 0s 2ms/step - loss: 0.1820 - val_loss: 0.1980\n",
      "Epoch 13/50\n",
      "49/49 [==============================] - 0s 3ms/step - loss: 0.1816 - val_loss: 0.1977\n",
      "Minimum Validation Loss: 0.1966\n"
     ]
    },
    {
     "data": {
      "image/png": "[encoded data removed]",
      "text/plain": [
       "<Figure size 432x288 with 1 Axes>"
      ]
     },
     "metadata": {},
     "output_type": "display_data"
    }
   ],
   "source": [
    "model = keras.Sequential([\n",
    "    layers.Dense(128, activation='relu', input_shape=input_shape),\n",
    "    layers.Dense(64, activation='relu'),    \n",
    "    layers.Dense(1)\n",
    "])\n",
    "model.compile(\n",
    "    optimizer='adam',\n",
    "    loss='mae',\n",
    ")\n",
    "history = model.fit(\n",
    "    X_train, y_train,\n",
    "    validation_data=(X_valid, y_valid),\n",
    "    batch_size=512,\n",
    "    epochs=50,\n",
    "    callbacks=[early_stopping]\n",
    ")\n",
    "history_df = pd.DataFrame(history.history)\n",
    "history_df.loc[:, ['loss', 'val_loss']].plot()\n",
    "print(\"Minimum Validation Loss: {:0.4f}\".format(history_df['val_loss'].min()));"
   ]
  },
  {
   "cell_type": "markdown",
   "id": "687990b2",
   "metadata": {
    "papermill": {
     "duration": 0.016431,
     "end_time": "2022-09-17T17:18:30.025032",
     "exception": false,
     "start_time": "2022-09-17T17:18:30.008601",
     "status": "completed"
    },
    "tags": []
   },
   "source": [
    "# 4) Train and Interpret\n",
    "\n",
    "Was this an improvement compared to training without early stopping?"
   ]
  },
  {
   "cell_type": "code",
   "execution_count": 11,
   "id": "f60abc3b",
   "metadata": {
    "execution": {
     "iopub.execute_input": "2022-09-17T17:18:30.059546Z",
     "iopub.status.busy": "2022-09-17T17:18:30.059193Z",
     "iopub.status.idle": "2022-09-17T17:18:30.067545Z",
     "shell.execute_reply": "2022-09-17T17:18:30.066692Z"
    },
    "papermill": {
     "duration": 0.028211,
     "end_time": "2022-09-17T17:18:30.069755",
     "exception": false,
     "start_time": "2022-09-17T17:18:30.041544",
     "status": "completed"
    },
    "tags": []
   },
   "outputs": [
    {
     "data": {
      "application/javascript": [
       "parent.postMessage({\"jupyterEvent\": \"custom.exercise_interaction\", \"data\": {\"outcomeType\": 1, \"valueTowardsCompletion\": 0.25, \"interactionType\": 1, \"questionType\": 4, \"questionId\": \"4_Q4\", \"learnToolsVersion\": \"0.3.4\", \"failureMessage\": \"\", \"exceptionClass\": \"\", \"trace\": \"\"}}, \"*\")"
      ],
      "text/plain": [
       "<IPython.core.display.Javascript object>"
      ]
     },
     "metadata": {},
     "output_type": "display_data"
    },
    {
     "data": {
      "text/markdown": [
       "<span style=\"color:#33cc33\">Correct:</span> \n",
       "\n",
       "The early stopping callback did stop the training once the network began overfitting. Moreover, by including `restore_best_weights` we still get to keep the model where validation loss was lowest."
      ],
      "text/plain": [
       "Correct: \n",
       "\n",
       "The early stopping callback did stop the training once the network began overfitting. Moreover, by including `restore_best_weights` we still get to keep the model where validation loss was lowest."
      ]
     },
     "metadata": {},
     "output_type": "display_data"
    }
   ],
   "source": [
    "# View the solution (Run this cell to receive credit!)\n",
    "q_4.check()"
   ]
  },
  {
   "cell_type": "markdown",
   "id": "c1ddd33f",
   "metadata": {
    "papermill": {
     "duration": 0.016769,
     "end_time": "2022-09-17T17:18:30.103335",
     "exception": false,
     "start_time": "2022-09-17T17:18:30.086566",
     "status": "completed"
    },
    "tags": []
   },
   "source": [
    "If you like, try experimenting with `patience` and `min_delta` to see what difference it might make.\n",
    "\n",
    "# Keep Going #\n",
    "\n",
    "Move on to [**learn about a couple of special layers**](https://www.kaggle.com/ryanholbrook/dropout-and-batch-normalization): batch normalization and dropout."
   ]
  },
  {
   "cell_type": "markdown",
   "id": "08b6c966",
   "metadata": {
    "papermill": {
     "duration": 0.016441,
     "end_time": "2022-09-17T17:18:30.136533",
     "exception": false,
     "start_time": "2022-09-17T17:18:30.120092",
     "status": "completed"
    },
    "tags": []
   },
   "source": [
    "---\n",
    "\n",
    "\n",
    "\n",
    "\n",
    "*Have questions or comments? Visit the [course discussion forum](https://www.kaggle.com/learn/intro-to-deep-learning/discussion) to chat with other learners.*"
   ]
  }
 ],
 "metadata": {
  "kernelspec": {
   "display_name": "Python 3",
   "language": "python",
   "name": "python3"
  },
  "language_info": {
   "codemirror_mode": {
    "name": "ipython",
    "version": 3
   },
   "file_extension": ".py",
   "mimetype": "text/x-python",
   "name": "python",
   "nbconvert_exporter": "python",
   "pygments_lexer": "ipython3",
   "version": "3.7.12"
  },
  "papermill": {
   "default_parameters": {},
   "duration": 39.304429,
   "end_time": "2022-09-17T17:18:33.854187",
   "environment_variables": {},
   "exception": null,
   "input_path": "__notebook__.ipynb",
   "output_path": "__notebook__.ipynb",
   "parameters": {},
   "start_time": "2022-09-17T17:17:54.549758",
   "version": "2.3.4"
  }
 },
 "nbformat": 4,
 "nbformat_minor": 5
}
