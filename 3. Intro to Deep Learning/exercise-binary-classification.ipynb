{
 "cells": [
  {
   "cell_type": "markdown",
   "id": "782e4d75",
   "metadata": {
    "papermill": {
     "duration": 0.004651,
     "end_time": "2022-07-24T20:06:28.596622",
     "exception": false,
     "start_time": "2022-07-24T20:06:28.591971",
     "status": "completed"
    },
    "tags": []
   },
   "source": [
    "**This notebook is an exercise in the [Intro to Deep Learning](https://www.kaggle.com/learn/intro-to-deep-learning) course.  You can reference the tutorial at [this link](https://www.kaggle.com/ryanholbrook/binary-classification).**\n",
    "\n",
    "---\n"
   ]
  },
  {
   "cell_type": "markdown",
   "id": "2e084b23",
   "metadata": {
    "papermill": {
     "duration": 0.003322,
     "end_time": "2022-07-24T20:06:28.604029",
     "exception": false,
     "start_time": "2022-07-24T20:06:28.600707",
     "status": "completed"
    },
    "tags": []
   },
   "source": [
    "# Introduction #\n",
    "\n",
    "In this exercise, you'll build a model to predict hotel cancellations with a binary classifier."
   ]
  },
  {
   "cell_type": "code",
   "execution_count": 1,
   "id": "06f4e0c2",
   "metadata": {
    "execution": {
     "iopub.execute_input": "2022-07-24T20:06:28.613231Z",
     "iopub.status.busy": "2022-07-24T20:06:28.612444Z",
     "iopub.status.idle": "2022-07-24T20:06:28.650517Z",
     "shell.execute_reply": "2022-07-24T20:06:28.649677Z"
    },
    "lines_to_next_cell": 0,
    "papermill": {
     "duration": 0.045135,
     "end_time": "2022-07-24T20:06:28.652646",
     "exception": false,
     "start_time": "2022-07-24T20:06:28.607511",
     "status": "completed"
    },
    "tags": []
   },
   "outputs": [],
   "source": [
    "# Setup plotting\n",
    "import matplotlib.pyplot as plt\n",
    "plt.style.use('seaborn-whitegrid')\n",
    "# Set Matplotlib defaults\n",
    "plt.rc('figure', autolayout=True)\n",
    "plt.rc('axes', labelweight='bold', labelsize='large',\n",
    "       titleweight='bold', titlesize=18, titlepad=10)\n",
    "plt.rc('animation', html='html5')\n",
    "\n",
    "# Setup feedback system\n",
    "from learntools.core import binder\n",
    "binder.bind(globals())\n",
    "from learntools.deep_learning_intro.ex6 import *"
   ]
  },
  {
   "cell_type": "markdown",
   "id": "17801a90",
   "metadata": {
    "papermill": {
     "duration": 0.003253,
     "end_time": "2022-07-24T20:06:28.660065",
     "exception": false,
     "start_time": "2022-07-24T20:06:28.656812",
     "status": "completed"
    },
    "tags": []
   },
   "source": [
    "First, load the *Hotel Cancellations* dataset."
   ]
  },
  {
   "cell_type": "code",
   "execution_count": 2,
   "id": "048b4490",
   "metadata": {
    "execution": {
     "iopub.execute_input": "2022-07-24T20:06:28.668622Z",
     "iopub.status.busy": "2022-07-24T20:06:28.667843Z",
     "iopub.status.idle": "2022-07-24T20:06:30.859254Z",
     "shell.execute_reply": "2022-07-24T20:06:30.858275Z"
    },
    "lines_to_next_cell": 2,
    "papermill": {
     "duration": 2.198048,
     "end_time": "2022-07-24T20:06:30.861564",
     "exception": false,
     "start_time": "2022-07-24T20:06:28.663516",
     "status": "completed"
    },
    "tags": []
   },
   "outputs": [],
   "source": [
    "import pandas as pd\n",
    "\n",
    "from sklearn.model_selection import train_test_split\n",
    "from sklearn.preprocessing import StandardScaler, OneHotEncoder\n",
    "from sklearn.impute import SimpleImputer\n",
    "from sklearn.pipeline import make_pipeline\n",
    "from sklearn.compose import make_column_transformer\n",
    "\n",
    "hotel = pd.read_csv('../input/dl-course-data/hotel.csv')\n",
    "\n",
    "X = hotel.copy()\n",
    "y = X.pop('is_canceled')\n",
    "\n",
    "X['arrival_date_month'] = \\\n",
    "    X['arrival_date_month'].map(\n",
    "        {'January':1, 'February': 2, 'March':3,\n",
    "         'April':4, 'May':5, 'June':6, 'July':7,\n",
    "         'August':8, 'September':9, 'October':10,\n",
    "         'November':11, 'December':12}\n",
    "    )\n",
    "\n",
    "features_num = [\n",
    "    \"lead_time\", \"arrival_date_week_number\",\n",
    "    \"arrival_date_day_of_month\", \"stays_in_weekend_nights\",\n",
    "    \"stays_in_week_nights\", \"adults\", \"children\", \"babies\",\n",
    "    \"is_repeated_guest\", \"previous_cancellations\",\n",
    "    \"previous_bookings_not_canceled\", \"required_car_parking_spaces\",\n",
    "    \"total_of_special_requests\", \"adr\",\n",
    "]\n",
    "features_cat = [\n",
    "    \"hotel\", \"arrival_date_month\", \"meal\",\n",
    "    \"market_segment\", \"distribution_channel\",\n",
    "    \"reserved_room_type\", \"deposit_type\", \"customer_type\",\n",
    "]\n",
    "\n",
    "transformer_num = make_pipeline(\n",
    "    SimpleImputer(strategy=\"constant\"), # there are a few missing values\n",
    "    StandardScaler(),\n",
    ")\n",
    "transformer_cat = make_pipeline(\n",
    "    SimpleImputer(strategy=\"constant\", fill_value=\"NA\"),\n",
    "    OneHotEncoder(handle_unknown='ignore'),\n",
    ")\n",
    "\n",
    "preprocessor = make_column_transformer(\n",
    "    (transformer_num, features_num),\n",
    "    (transformer_cat, features_cat),\n",
    ")\n",
    "\n",
    "# stratify - make sure classes are evenlly represented across splits\n",
    "X_train, X_valid, y_train, y_valid = \\\n",
    "    train_test_split(X, y, stratify=y, train_size=0.75)\n",
    "\n",
    "X_train = preprocessor.fit_transform(X_train)\n",
    "X_valid = preprocessor.transform(X_valid)\n",
    "\n",
    "input_shape = [X_train.shape[1]]"
   ]
  },
  {
   "cell_type": "markdown",
   "id": "42c1f627",
   "metadata": {
    "papermill": {
     "duration": 0.003644,
     "end_time": "2022-07-24T20:06:30.869011",
     "exception": false,
     "start_time": "2022-07-24T20:06:30.865367",
     "status": "completed"
    },
    "tags": []
   },
   "source": [
    "# 1) Define Model #\n",
    "\n",
    "The model we'll use this time will have both batch normalization and dropout layers. To ease reading we've broken the diagram into blocks, but you can define it layer by layer as usual.\n",
    "\n",
    "Define a model with an architecture given by this diagram:\n",
    "\n",
    "<figure style=\"padding: 1em;\">\n",
    "<img src=\"https://i.imgur.com/V04o59Z.png\" width=\"400\" alt=\"Diagram of network architecture: BatchNorm, Dense, BatchNorm, Dropout, Dense, BatchNorm, Dropout, Dense.\">\n",
    "<figcaption style=\"textalign: center; font-style: italic\"><center>Diagram of a binary classifier.</center></figcaption>\n",
    "</figure>\n"
   ]
  },
  {
   "cell_type": "code",
   "execution_count": 3,
   "id": "5708c438",
   "metadata": {
    "execution": {
     "iopub.execute_input": "2022-07-24T20:06:30.881700Z",
     "iopub.status.busy": "2022-07-24T20:06:30.881331Z",
     "iopub.status.idle": "2022-07-24T20:06:38.533793Z",
     "shell.execute_reply": "2022-07-24T20:06:38.532858Z"
    },
    "lines_to_next_cell": 2,
    "papermill": {
     "duration": 7.663219,
     "end_time": "2022-07-24T20:06:38.535798",
     "exception": false,
     "start_time": "2022-07-24T20:06:30.872579",
     "status": "completed"
    },
    "tags": []
   },
   "outputs": [
    {
     "name": "stderr",
     "output_type": "stream",
     "text": [
      "2022-07-24 20:06:35.968451: I tensorflow/stream_executor/cuda/cuda_gpu_executor.cc:937] successful NUMA node read from SysFS had negative value (-1), but there must be at least one NUMA node, so returning NUMA node zero\n",
      "2022-07-24 20:06:36.084538: I tensorflow/stream_executor/cuda/cuda_gpu_executor.cc:937] successful NUMA node read from SysFS had negative value (-1), but there must be at least one NUMA node, so returning NUMA node zero\n",
      "2022-07-24 20:06:36.085343: I tensorflow/stream_executor/cuda/cuda_gpu_executor.cc:937] successful NUMA node read from SysFS had negative value (-1), but there must be at least one NUMA node, so returning NUMA node zero\n",
      "2022-07-24 20:06:36.087023: I tensorflow/core/platform/cpu_feature_guard.cc:142] This TensorFlow binary is optimized with oneAPI Deep Neural Network Library (oneDNN) to use the following CPU instructions in performance-critical operations:  AVX2 AVX512F FMA\n",
      "To enable them in other operations, rebuild TensorFlow with the appropriate compiler flags.\n",
      "2022-07-24 20:06:36.091803: I tensorflow/stream_executor/cuda/cuda_gpu_executor.cc:937] successful NUMA node read from SysFS had negative value (-1), but there must be at least one NUMA node, so returning NUMA node zero\n",
      "2022-07-24 20:06:36.092518: I tensorflow/stream_executor/cuda/cuda_gpu_executor.cc:937] successful NUMA node read from SysFS had negative value (-1), but there must be at least one NUMA node, so returning NUMA node zero\n",
      "2022-07-24 20:06:36.093207: I tensorflow/stream_executor/cuda/cuda_gpu_executor.cc:937] successful NUMA node read from SysFS had negative value (-1), but there must be at least one NUMA node, so returning NUMA node zero\n",
      "2022-07-24 20:06:38.129313: I tensorflow/stream_executor/cuda/cuda_gpu_executor.cc:937] successful NUMA node read from SysFS had negative value (-1), but there must be at least one NUMA node, so returning NUMA node zero\n",
      "2022-07-24 20:06:38.130154: I tensorflow/stream_executor/cuda/cuda_gpu_executor.cc:937] successful NUMA node read from SysFS had negative value (-1), but there must be at least one NUMA node, so returning NUMA node zero\n",
      "2022-07-24 20:06:38.130851: I tensorflow/stream_executor/cuda/cuda_gpu_executor.cc:937] successful NUMA node read from SysFS had negative value (-1), but there must be at least one NUMA node, so returning NUMA node zero\n",
      "2022-07-24 20:06:38.131438: I tensorflow/core/common_runtime/gpu/gpu_device.cc:1510] Created device /job:localhost/replica:0/task:0/device:GPU:0 with 15403 MB memory:  -> device: 0, name: Tesla P100-PCIE-16GB, pci bus id: 0000:00:04.0, compute capability: 6.0\n"
     ]
    },
    {
     "data": {
      "application/javascript": [
       "parent.postMessage({\"jupyterEvent\": \"custom.exercise_interaction\", \"data\": {\"outcomeType\": 1, \"valueTowardsCompletion\": 0.3333333333333333, \"interactionType\": 1, \"questionType\": 2, \"questionId\": \"1_Q1\", \"learnToolsVersion\": \"0.3.4\", \"failureMessage\": \"\", \"exceptionClass\": \"\", \"trace\": \"\"}}, \"*\")"
      ],
      "text/plain": [
       "<IPython.core.display.Javascript object>"
      ]
     },
     "metadata": {},
     "output_type": "display_data"
    },
    {
     "data": {
      "text/markdown": [
       "<span style=\"color:#33cc33\">Correct</span>"
      ],
      "text/plain": [
       "Correct"
      ]
     },
     "metadata": {},
     "output_type": "display_data"
    }
   ],
   "source": [
    "from tensorflow import keras\n",
    "from tensorflow.keras import layers\n",
    "\n",
    "# YOUR CODE HERE: define the model given in the diagram\n",
    "model = keras.Sequential([\n",
    "    layers.BatchNormalization(input_shape=input_shape),\n",
    "    layers.Dense(256,activation='relu'),\n",
    "    layers.BatchNormalization(),\n",
    "    layers.Dropout(0.3),\n",
    "    layers.Dense(256,activation='relu'),\n",
    "    layers.BatchNormalization(),\n",
    "    layers.Dropout(0.3),\n",
    "    layers.Dense(1,activation='sigmoid')\n",
    "])\n",
    "\n",
    "# Check your answer\n",
    "q_1.check()"
   ]
  },
  {
   "cell_type": "markdown",
   "id": "6070e778",
   "metadata": {
    "papermill": {
     "duration": 0.003869,
     "end_time": "2022-07-24T20:06:38.543883",
     "exception": false,
     "start_time": "2022-07-24T20:06:38.540014",
     "status": "completed"
    },
    "tags": []
   },
   "source": [
    "# 2) Add Optimizer, Loss, and Metric #\n",
    "\n",
    "Now compile the model with the Adam optimizer and binary versions of the cross-entropy loss and accuracy metric."
   ]
  },
  {
   "cell_type": "code",
   "execution_count": 4,
   "id": "1e9f4633",
   "metadata": {
    "execution": {
     "iopub.execute_input": "2022-07-24T20:06:38.553654Z",
     "iopub.status.busy": "2022-07-24T20:06:38.552707Z",
     "iopub.status.idle": "2022-07-24T20:06:38.570107Z",
     "shell.execute_reply": "2022-07-24T20:06:38.569231Z"
    },
    "lines_to_next_cell": 0,
    "papermill": {
     "duration": 0.024232,
     "end_time": "2022-07-24T20:06:38.572032",
     "exception": false,
     "start_time": "2022-07-24T20:06:38.547800",
     "status": "completed"
    },
    "tags": []
   },
   "outputs": [
    {
     "data": {
      "application/javascript": [
       "parent.postMessage({\"jupyterEvent\": \"custom.exercise_interaction\", \"data\": {\"outcomeType\": 1, \"valueTowardsCompletion\": 0.3333333333333333, \"interactionType\": 1, \"questionType\": 2, \"questionId\": \"2_Q2\", \"learnToolsVersion\": \"0.3.4\", \"failureMessage\": \"\", \"exceptionClass\": \"\", \"trace\": \"\"}}, \"*\")"
      ],
      "text/plain": [
       "<IPython.core.display.Javascript object>"
      ]
     },
     "metadata": {},
     "output_type": "display_data"
    },
    {
     "data": {
      "text/markdown": [
       "<span style=\"color:#33cc33\">Correct</span>"
      ],
      "text/plain": [
       "Correct"
      ]
     },
     "metadata": {},
     "output_type": "display_data"
    }
   ],
   "source": [
    "# YOUR CODE HERE\n",
    "model.compile(\n",
    "    optimizer='adam',\n",
    "    loss='binary_crossentropy',\n",
    "    metrics=['binary_accuracy'],\n",
    ")\n",
    "\n",
    "# Check your answer\n",
    "q_2.check()"
   ]
  },
  {
   "cell_type": "code",
   "execution_count": 5,
   "id": "0f9a81a0",
   "metadata": {
    "execution": {
     "iopub.execute_input": "2022-07-24T20:06:38.582936Z",
     "iopub.status.busy": "2022-07-24T20:06:38.582099Z",
     "iopub.status.idle": "2022-07-24T20:06:38.586573Z",
     "shell.execute_reply": "2022-07-24T20:06:38.585711Z"
    },
    "lines_to_next_cell": 0,
    "papermill": {
     "duration": 0.011934,
     "end_time": "2022-07-24T20:06:38.588529",
     "exception": false,
     "start_time": "2022-07-24T20:06:38.576595",
     "status": "completed"
    },
    "tags": []
   },
   "outputs": [],
   "source": [
    "# Lines below will give you a hint or solution code\n",
    "#q_2.hint()\n",
    "#q_2.solution()"
   ]
  },
  {
   "cell_type": "markdown",
   "id": "b32ab196",
   "metadata": {
    "papermill": {
     "duration": 0.004108,
     "end_time": "2022-07-24T20:06:38.596799",
     "exception": false,
     "start_time": "2022-07-24T20:06:38.592691",
     "status": "completed"
    },
    "tags": []
   },
   "source": [
    "Finally, run this cell to train the model and view the learning curves. It may run for around 60 to 70 epochs, which could take a minute or two."
   ]
  },
  {
   "cell_type": "code",
   "execution_count": 6,
   "id": "043ceb04",
   "metadata": {
    "execution": {
     "iopub.execute_input": "2022-07-24T20:06:38.606734Z",
     "iopub.status.busy": "2022-07-24T20:06:38.606088Z",
     "iopub.status.idle": "2022-07-24T20:07:05.553586Z",
     "shell.execute_reply": "2022-07-24T20:07:05.552674Z"
    },
    "papermill": {
     "duration": 26.954746,
     "end_time": "2022-07-24T20:07:05.555799",
     "exception": false,
     "start_time": "2022-07-24T20:06:38.601053",
     "status": "completed"
    },
    "tags": []
   },
   "outputs": [
    {
     "name": "stderr",
     "output_type": "stream",
     "text": [
      "2022-07-24 20:06:38.723372: I tensorflow/compiler/mlir/mlir_graph_optimization_pass.cc:185] None of the MLIR Optimization Passes are enabled (registered 2)\n"
     ]
    },
    {
     "name": "stdout",
     "output_type": "stream",
     "text": [
      "Epoch 1/200\n",
      "175/175 [==============================] - 3s 5ms/step - loss: 0.4865 - binary_accuracy: 0.7694 - val_loss: 0.4358 - val_binary_accuracy: 0.8077\n",
      "Epoch 2/200\n",
      "175/175 [==============================] - 1s 5ms/step - loss: 0.4245 - binary_accuracy: 0.8018 - val_loss: 0.4062 - val_binary_accuracy: 0.8116\n",
      "Epoch 3/200\n",
      "175/175 [==============================] - 1s 5ms/step - loss: 0.4100 - binary_accuracy: 0.8098 - val_loss: 0.3956 - val_binary_accuracy: 0.8153\n",
      "Epoch 4/200\n",
      "175/175 [==============================] - 1s 4ms/step - loss: 0.4028 - binary_accuracy: 0.8122 - val_loss: 0.3917 - val_binary_accuracy: 0.8163\n",
      "Epoch 5/200\n",
      "175/175 [==============================] - 1s 4ms/step - loss: 0.3971 - binary_accuracy: 0.8154 - val_loss: 0.3894 - val_binary_accuracy: 0.8210\n",
      "Epoch 6/200\n",
      "175/175 [==============================] - 1s 4ms/step - loss: 0.3927 - binary_accuracy: 0.8178 - val_loss: 0.3828 - val_binary_accuracy: 0.8221\n",
      "Epoch 7/200\n",
      "175/175 [==============================] - 1s 4ms/step - loss: 0.3899 - binary_accuracy: 0.8192 - val_loss: 0.3831 - val_binary_accuracy: 0.8236\n",
      "Epoch 8/200\n",
      "175/175 [==============================] - 1s 4ms/step - loss: 0.3860 - binary_accuracy: 0.8212 - val_loss: 0.3824 - val_binary_accuracy: 0.8255\n",
      "Epoch 9/200\n",
      "175/175 [==============================] - 1s 4ms/step - loss: 0.3834 - binary_accuracy: 0.8225 - val_loss: 0.3724 - val_binary_accuracy: 0.8293\n",
      "Epoch 10/200\n",
      "175/175 [==============================] - 1s 5ms/step - loss: 0.3796 - binary_accuracy: 0.8239 - val_loss: 0.3747 - val_binary_accuracy: 0.8311\n",
      "Epoch 11/200\n",
      "175/175 [==============================] - 1s 5ms/step - loss: 0.3776 - binary_accuracy: 0.8259 - val_loss: 0.3702 - val_binary_accuracy: 0.8319\n",
      "Epoch 12/200\n",
      "175/175 [==============================] - 1s 4ms/step - loss: 0.3762 - binary_accuracy: 0.8263 - val_loss: 0.3740 - val_binary_accuracy: 0.8299\n",
      "Epoch 13/200\n",
      "175/175 [==============================] - 1s 4ms/step - loss: 0.3733 - binary_accuracy: 0.8271 - val_loss: 0.3693 - val_binary_accuracy: 0.8311\n",
      "Epoch 14/200\n",
      "175/175 [==============================] - 1s 4ms/step - loss: 0.3702 - binary_accuracy: 0.8295 - val_loss: 0.3687 - val_binary_accuracy: 0.8325\n",
      "Epoch 15/200\n",
      "175/175 [==============================] - 1s 5ms/step - loss: 0.3691 - binary_accuracy: 0.8291 - val_loss: 0.3640 - val_binary_accuracy: 0.8347\n",
      "Epoch 16/200\n",
      "175/175 [==============================] - 1s 5ms/step - loss: 0.3661 - binary_accuracy: 0.8315 - val_loss: 0.3666 - val_binary_accuracy: 0.8335\n",
      "Epoch 17/200\n",
      "175/175 [==============================] - 1s 5ms/step - loss: 0.3649 - binary_accuracy: 0.8317 - val_loss: 0.3600 - val_binary_accuracy: 0.8341\n",
      "Epoch 18/200\n",
      "175/175 [==============================] - 1s 5ms/step - loss: 0.3629 - binary_accuracy: 0.8332 - val_loss: 0.3586 - val_binary_accuracy: 0.8367\n",
      "Epoch 19/200\n",
      "175/175 [==============================] - 1s 5ms/step - loss: 0.3631 - binary_accuracy: 0.8327 - val_loss: 0.3590 - val_binary_accuracy: 0.8365\n",
      "Epoch 20/200\n",
      "175/175 [==============================] - 1s 4ms/step - loss: 0.3596 - binary_accuracy: 0.8341 - val_loss: 0.3576 - val_binary_accuracy: 0.8384\n",
      "Epoch 21/200\n",
      "175/175 [==============================] - 1s 5ms/step - loss: 0.3593 - binary_accuracy: 0.8349 - val_loss: 0.3569 - val_binary_accuracy: 0.8384\n",
      "Epoch 22/200\n",
      "175/175 [==============================] - 1s 4ms/step - loss: 0.3581 - binary_accuracy: 0.8347 - val_loss: 0.3578 - val_binary_accuracy: 0.8387\n",
      "Epoch 23/200\n",
      "175/175 [==============================] - 1s 5ms/step - loss: 0.3564 - binary_accuracy: 0.8359 - val_loss: 0.3556 - val_binary_accuracy: 0.8377\n",
      "Epoch 24/200\n",
      "175/175 [==============================] - 1s 5ms/step - loss: 0.3554 - binary_accuracy: 0.8359 - val_loss: 0.3581 - val_binary_accuracy: 0.8369\n",
      "Epoch 25/200\n",
      "175/175 [==============================] - 1s 4ms/step - loss: 0.3529 - binary_accuracy: 0.8371 - val_loss: 0.3539 - val_binary_accuracy: 0.8404\n",
      "Epoch 26/200\n",
      "175/175 [==============================] - 1s 7ms/step - loss: 0.3510 - binary_accuracy: 0.8382 - val_loss: 0.3538 - val_binary_accuracy: 0.8393\n",
      "Epoch 27/200\n",
      "175/175 [==============================] - 1s 5ms/step - loss: 0.3510 - binary_accuracy: 0.8385 - val_loss: 0.3542 - val_binary_accuracy: 0.8413\n",
      "Epoch 28/200\n",
      "175/175 [==============================] - 1s 4ms/step - loss: 0.3505 - binary_accuracy: 0.8389 - val_loss: 0.3550 - val_binary_accuracy: 0.8388\n",
      "Epoch 29/200\n",
      "175/175 [==============================] - 1s 5ms/step - loss: 0.3495 - binary_accuracy: 0.8390 - val_loss: 0.3532 - val_binary_accuracy: 0.8411\n",
      "Epoch 30/200\n",
      "175/175 [==============================] - 1s 5ms/step - loss: 0.3479 - binary_accuracy: 0.8405 - val_loss: 0.3532 - val_binary_accuracy: 0.8417\n"
     ]
    },
    {
     "data": {
      "text/plain": [
       "<AxesSubplot:title={'center':'Accuracy'}>"
      ]
     },
     "execution_count": 6,
     "metadata": {},
     "output_type": "execute_result"
    },
    {
     "data": {
      "image/png": "[encoded data removed]",
      "text/plain": [
       "<Figure size 432x288 with 1 Axes>"
      ]
     },
     "metadata": {},
     "output_type": "display_data"
    },
    {
     "data": {
      "image/png": "[encoded data removed]",
      "text/plain": [
       "<Figure size 432x288 with 1 Axes>"
      ]
     },
     "metadata": {},
     "output_type": "display_data"
    }
   ],
   "source": [
    "early_stopping = keras.callbacks.EarlyStopping(\n",
    "    patience=5,\n",
    "    min_delta=0.001,\n",
    "    restore_best_weights=True,\n",
    ")\n",
    "history = model.fit(\n",
    "    X_train, y_train,\n",
    "    validation_data=(X_valid, y_valid),\n",
    "    batch_size=512,\n",
    "    epochs=200,\n",
    "    callbacks=[early_stopping],\n",
    ")\n",
    "\n",
    "history_df = pd.DataFrame(history.history)\n",
    "history_df.loc[:, ['loss', 'val_loss']].plot(title=\"Cross-entropy\")\n",
    "history_df.loc[:, ['binary_accuracy', 'val_binary_accuracy']].plot(title=\"Accuracy\")"
   ]
  },
  {
   "cell_type": "markdown",
   "id": "dc7477af",
   "metadata": {
    "papermill": {
     "duration": 0.030815,
     "end_time": "2022-07-24T20:07:05.618465",
     "exception": false,
     "start_time": "2022-07-24T20:07:05.587650",
     "status": "completed"
    },
    "tags": []
   },
   "source": [
    "# 3) Train and Evaluate #\n",
    "\n",
    "\n",
    "What do you think about the learning curves? Does it look like the model underfit or overfit? Was the cross-entropy loss a good stand-in for accuracy?"
   ]
  },
  {
   "cell_type": "code",
   "execution_count": 7,
   "id": "27b5fcc6",
   "metadata": {
    "execution": {
     "iopub.execute_input": "2022-07-24T20:07:05.681408Z",
     "iopub.status.busy": "2022-07-24T20:07:05.680799Z",
     "iopub.status.idle": "2022-07-24T20:07:05.689276Z",
     "shell.execute_reply": "2022-07-24T20:07:05.688408Z"
    },
    "papermill": {
     "duration": 0.042183,
     "end_time": "2022-07-24T20:07:05.691364",
     "exception": false,
     "start_time": "2022-07-24T20:07:05.649181",
     "status": "completed"
    },
    "tags": []
   },
   "outputs": [
    {
     "data": {
      "application/javascript": [
       "parent.postMessage({\"jupyterEvent\": \"custom.exercise_interaction\", \"data\": {\"outcomeType\": 1, \"valueTowardsCompletion\": 0.3333333333333333, \"interactionType\": 1, \"questionType\": 4, \"questionId\": \"3_Q3\", \"learnToolsVersion\": \"0.3.4\", \"failureMessage\": \"\", \"exceptionClass\": \"\", \"trace\": \"\"}}, \"*\")"
      ],
      "text/plain": [
       "<IPython.core.display.Javascript object>"
      ]
     },
     "metadata": {},
     "output_type": "display_data"
    },
    {
     "data": {
      "text/markdown": [
       "<span style=\"color:#33cc33\">Correct:</span> \n",
       "\n",
       "Though we can see the training loss continuing to fall, the early stopping callback prevented any overfitting. Moreover, the accuracy rose at the same rate as the cross-entropy fell, so it appears that minimizing cross-entropy was a good stand-in. All in all, it looks like this training was a success!"
      ],
      "text/plain": [
       "Correct: \n",
       "\n",
       "Though we can see the training loss continuing to fall, the early stopping callback prevented any overfitting. Moreover, the accuracy rose at the same rate as the cross-entropy fell, so it appears that minimizing cross-entropy was a good stand-in. All in all, it looks like this training was a success!"
      ]
     },
     "metadata": {},
     "output_type": "display_data"
    }
   ],
   "source": [
    "# View the solution (Run this cell to receive credit!)\n",
    "q_3.check()"
   ]
  },
  {
   "cell_type": "markdown",
   "id": "415c0355",
   "metadata": {
    "papermill": {
     "duration": 0.030336,
     "end_time": "2022-07-24T20:07:05.752066",
     "exception": false,
     "start_time": "2022-07-24T20:07:05.721730",
     "status": "completed"
    },
    "tags": []
   },
   "source": [
    "# Conclusion #\n",
    "\n",
    "Congratulations! You've completed Kaggle's *Introduction to Deep Learning* course!\n",
    "\n",
    "With your new skills you're ready to take on more advanced applications like computer vision and sentiment classification. What would you like to do next?\n",
    "\n",
    "Why not try one of our *Getting Started* competitions?\n",
    "\n",
    "- Classify images with TPUs in [**Petals to the Metal**](https://www.kaggle.com/c/tpu-getting-started)\n",
    "- Create art with GANs in [**I'm Something of a Painter Myself**](https://www.kaggle.com/c/gan-getting-started)\n",
    "- Classify Tweets in [**Real or Not? NLP with Disaster Tweets**](https://www.kaggle.com/c/nlp-getting-started)\n",
    "- Detect contradiction and entailment in [**Contradictory, My Dear Watson**](https://www.kaggle.com/c/contradictory-my-dear-watson)\n",
    "\n",
    "Until next time, Kagglers!"
   ]
  },
  {
   "cell_type": "markdown",
   "id": "1f1d56ff",
   "metadata": {
    "papermill": {
     "duration": 0.030386,
     "end_time": "2022-07-24T20:07:05.812769",
     "exception": false,
     "start_time": "2022-07-24T20:07:05.782383",
     "status": "completed"
    },
    "tags": []
   },
   "source": [
    "---\n",
    "\n",
    "\n",
    "\n",
    "\n",
    "*Have questions or comments? Visit the [course discussion forum](https://www.kaggle.com/learn/intro-to-deep-learning/discussion) to chat with other learners.*"
   ]
  }
 ],
 "metadata": {
  "kernelspec": {
   "display_name": "Python 3",
   "language": "python",
   "name": "python3"
  },
  "language_info": {
   "codemirror_mode": {
    "name": "ipython",
    "version": 3
   },
   "file_extension": ".py",
   "mimetype": "text/x-python",
   "name": "python",
   "nbconvert_exporter": "python",
   "pygments_lexer": "ipython3",
   "version": "3.7.12"
  },
  "papermill": {
   "default_parameters": {},
   "duration": 48.321775,
   "end_time": "2022-07-24T20:07:08.952566",
   "environment_variables": {},
   "exception": null,
   "input_path": "__notebook__.ipynb",
   "output_path": "__notebook__.ipynb",
   "parameters": {},
   "start_time": "2022-07-24T20:06:20.630791",
   "version": "2.3.4"
  }
 },
 "nbformat": 4,
 "nbformat_minor": 5
}
