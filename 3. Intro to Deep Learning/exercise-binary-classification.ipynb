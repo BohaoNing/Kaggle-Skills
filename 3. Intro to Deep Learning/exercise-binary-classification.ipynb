{
 "cells": [
  {
   "cell_type": "markdown",
   "id": "cafa5af0",
   "metadata": {
    "papermill": {
     "duration": 0.005481,
     "end_time": "2022-08-30T14:39:17.028020",
     "exception": false,
     "start_time": "2022-08-30T14:39:17.022539",
     "status": "completed"
    },
    "tags": []
   },
   "source": [
    "**This notebook is an exercise in the [Intro to Deep Learning](https://www.kaggle.com/learn/intro-to-deep-learning) course.  You can reference the tutorial at [this link](https://www.kaggle.com/ryanholbrook/binary-classification).**\n",
    "\n",
    "---\n"
   ]
  },
  {
   "cell_type": "markdown",
   "id": "800e1ed0",
   "metadata": {
    "papermill": {
     "duration": 0.003215,
     "end_time": "2022-08-30T14:39:17.035362",
     "exception": false,
     "start_time": "2022-08-30T14:39:17.032147",
     "status": "completed"
    },
    "tags": []
   },
   "source": [
    "# Introduction #\n",
    "\n",
    "In this exercise, you'll build a model to predict hotel cancellations with a binary classifier."
   ]
  },
  {
   "cell_type": "code",
   "execution_count": 1,
   "id": "03e7643a",
   "metadata": {
    "execution": {
     "iopub.execute_input": "2022-08-30T14:39:17.044201Z",
     "iopub.status.busy": "2022-08-30T14:39:17.043696Z",
     "iopub.status.idle": "2022-08-30T14:39:17.076420Z",
     "shell.execute_reply": "2022-08-30T14:39:17.075558Z"
    },
    "lines_to_next_cell": 0,
    "papermill": {
     "duration": 0.040475,
     "end_time": "2022-08-30T14:39:17.078997",
     "exception": false,
     "start_time": "2022-08-30T14:39:17.038522",
     "status": "completed"
    },
    "tags": []
   },
   "outputs": [],
   "source": [
    "# Setup plotting\n",
    "import matplotlib.pyplot as plt\n",
    "plt.style.use('seaborn-whitegrid')\n",
    "# Set Matplotlib defaults\n",
    "plt.rc('figure', autolayout=True)\n",
    "plt.rc('axes', labelweight='bold', labelsize='large',\n",
    "       titleweight='bold', titlesize=18, titlepad=10)\n",
    "plt.rc('animation', html='html5')\n",
    "\n",
    "# Setup feedback system\n",
    "from learntools.core import binder\n",
    "binder.bind(globals())\n",
    "from learntools.deep_learning_intro.ex6 import *"
   ]
  },
  {
   "cell_type": "markdown",
   "id": "f384d185",
   "metadata": {
    "papermill": {
     "duration": 0.003082,
     "end_time": "2022-08-30T14:39:17.085468",
     "exception": false,
     "start_time": "2022-08-30T14:39:17.082386",
     "status": "completed"
    },
    "tags": []
   },
   "source": [
    "First, load the *Hotel Cancellations* dataset."
   ]
  },
  {
   "cell_type": "code",
   "execution_count": 2,
   "id": "6995a42f",
   "metadata": {
    "execution": {
     "iopub.execute_input": "2022-08-30T14:39:17.092875Z",
     "iopub.status.busy": "2022-08-30T14:39:17.092588Z",
     "iopub.status.idle": "2022-08-30T14:39:19.266982Z",
     "shell.execute_reply": "2022-08-30T14:39:19.265960Z"
    },
    "lines_to_next_cell": 2,
    "papermill": {
     "duration": 2.180767,
     "end_time": "2022-08-30T14:39:19.269373",
     "exception": false,
     "start_time": "2022-08-30T14:39:17.088606",
     "status": "completed"
    },
    "tags": []
   },
   "outputs": [],
   "source": [
    "import pandas as pd\n",
    "\n",
    "from sklearn.model_selection import train_test_split\n",
    "from sklearn.preprocessing import StandardScaler, OneHotEncoder\n",
    "from sklearn.impute import SimpleImputer\n",
    "from sklearn.pipeline import make_pipeline\n",
    "from sklearn.compose import make_column_transformer\n",
    "\n",
    "hotel = pd.read_csv('../input/dl-course-data/hotel.csv')\n",
    "\n",
    "X = hotel.copy()\n",
    "y = X.pop('is_canceled')\n",
    "\n",
    "X['arrival_date_month'] = \\\n",
    "    X['arrival_date_month'].map(\n",
    "        {'January':1, 'February': 2, 'March':3,\n",
    "         'April':4, 'May':5, 'June':6, 'July':7,\n",
    "         'August':8, 'September':9, 'October':10,\n",
    "         'November':11, 'December':12}\n",
    "    )\n",
    "\n",
    "features_num = [\n",
    "    \"lead_time\", \"arrival_date_week_number\",\n",
    "    \"arrival_date_day_of_month\", \"stays_in_weekend_nights\",\n",
    "    \"stays_in_week_nights\", \"adults\", \"children\", \"babies\",\n",
    "    \"is_repeated_guest\", \"previous_cancellations\",\n",
    "    \"previous_bookings_not_canceled\", \"required_car_parking_spaces\",\n",
    "    \"total_of_special_requests\", \"adr\",\n",
    "]\n",
    "features_cat = [\n",
    "    \"hotel\", \"arrival_date_month\", \"meal\",\n",
    "    \"market_segment\", \"distribution_channel\",\n",
    "    \"reserved_room_type\", \"deposit_type\", \"customer_type\",\n",
    "]\n",
    "\n",
    "transformer_num = make_pipeline(\n",
    "    SimpleImputer(strategy=\"constant\"), # there are a few missing values\n",
    "    StandardScaler(),\n",
    ")\n",
    "transformer_cat = make_pipeline(\n",
    "    SimpleImputer(strategy=\"constant\", fill_value=\"NA\"),\n",
    "    OneHotEncoder(handle_unknown='ignore'),\n",
    ")\n",
    "\n",
    "preprocessor = make_column_transformer(\n",
    "    (transformer_num, features_num),\n",
    "    (transformer_cat, features_cat),\n",
    ")\n",
    "\n",
    "# stratify - make sure classes are evenlly represented across splits\n",
    "X_train, X_valid, y_train, y_valid = \\\n",
    "    train_test_split(X, y, stratify=y, train_size=0.75)\n",
    "\n",
    "X_train = preprocessor.fit_transform(X_train)\n",
    "X_valid = preprocessor.transform(X_valid)\n",
    "\n",
    "input_shape = [X_train.shape[1]]"
   ]
  },
  {
   "cell_type": "markdown",
   "id": "27554985",
   "metadata": {
    "papermill": {
     "duration": 0.003054,
     "end_time": "2022-08-30T14:39:19.275958",
     "exception": false,
     "start_time": "2022-08-30T14:39:19.272904",
     "status": "completed"
    },
    "tags": []
   },
   "source": [
    "# 1) Define Model #\n",
    "\n",
    "The model we'll use this time will have both batch normalization and dropout layers. To ease reading we've broken the diagram into blocks, but you can define it layer by layer as usual.\n",
    "\n",
    "Define a model with an architecture given by this diagram:\n",
    "\n",
    "<figure style=\"padding: 1em;\">\n",
    "<img src=\"https://i.imgur.com/V04o59Z.png\" width=\"400\" alt=\"Diagram of network architecture: BatchNorm, Dense, BatchNorm, Dropout, Dense, BatchNorm, Dropout, Dense.\">\n",
    "<figcaption style=\"textalign: center; font-style: italic\"><center>Diagram of a binary classifier.</center></figcaption>\n",
    "</figure>\n"
   ]
  },
  {
   "cell_type": "code",
   "execution_count": 3,
   "id": "4132c38d",
   "metadata": {
    "execution": {
     "iopub.execute_input": "2022-08-30T14:39:19.284332Z",
     "iopub.status.busy": "2022-08-30T14:39:19.283551Z",
     "iopub.status.idle": "2022-08-30T14:39:27.238784Z",
     "shell.execute_reply": "2022-08-30T14:39:27.237135Z"
    },
    "lines_to_next_cell": 2,
    "papermill": {
     "duration": 7.96267,
     "end_time": "2022-08-30T14:39:27.241795",
     "exception": false,
     "start_time": "2022-08-30T14:39:19.279125",
     "status": "completed"
    },
    "tags": []
   },
   "outputs": [
    {
     "name": "stderr",
     "output_type": "stream",
     "text": [
      "2022-08-30 14:39:24.315815: I tensorflow/stream_executor/cuda/cuda_gpu_executor.cc:937] successful NUMA node read from SysFS had negative value (-1), but there must be at least one NUMA node, so returning NUMA node zero\n",
      "2022-08-30 14:39:24.477406: I tensorflow/stream_executor/cuda/cuda_gpu_executor.cc:937] successful NUMA node read from SysFS had negative value (-1), but there must be at least one NUMA node, so returning NUMA node zero\n",
      "2022-08-30 14:39:24.478335: I tensorflow/stream_executor/cuda/cuda_gpu_executor.cc:937] successful NUMA node read from SysFS had negative value (-1), but there must be at least one NUMA node, so returning NUMA node zero\n",
      "2022-08-30 14:39:24.480500: I tensorflow/core/platform/cpu_feature_guard.cc:142] This TensorFlow binary is optimized with oneAPI Deep Neural Network Library (oneDNN) to use the following CPU instructions in performance-critical operations:  AVX2 AVX512F FMA\n",
      "To enable them in other operations, rebuild TensorFlow with the appropriate compiler flags.\n",
      "2022-08-30 14:39:24.484821: I tensorflow/stream_executor/cuda/cuda_gpu_executor.cc:937] successful NUMA node read from SysFS had negative value (-1), but there must be at least one NUMA node, so returning NUMA node zero\n",
      "2022-08-30 14:39:24.485638: I tensorflow/stream_executor/cuda/cuda_gpu_executor.cc:937] successful NUMA node read from SysFS had negative value (-1), but there must be at least one NUMA node, so returning NUMA node zero\n",
      "2022-08-30 14:39:24.486403: I tensorflow/stream_executor/cuda/cuda_gpu_executor.cc:937] successful NUMA node read from SysFS had negative value (-1), but there must be at least one NUMA node, so returning NUMA node zero\n",
      "2022-08-30 14:39:26.792786: I tensorflow/stream_executor/cuda/cuda_gpu_executor.cc:937] successful NUMA node read from SysFS had negative value (-1), but there must be at least one NUMA node, so returning NUMA node zero\n",
      "2022-08-30 14:39:26.793648: I tensorflow/stream_executor/cuda/cuda_gpu_executor.cc:937] successful NUMA node read from SysFS had negative value (-1), but there must be at least one NUMA node, so returning NUMA node zero\n",
      "2022-08-30 14:39:26.794371: I tensorflow/stream_executor/cuda/cuda_gpu_executor.cc:937] successful NUMA node read from SysFS had negative value (-1), but there must be at least one NUMA node, so returning NUMA node zero\n",
      "2022-08-30 14:39:26.795122: I tensorflow/core/common_runtime/gpu/gpu_device.cc:1510] Created device /job:localhost/replica:0/task:0/device:GPU:0 with 15401 MB memory:  -> device: 0, name: Tesla P100-PCIE-16GB, pci bus id: 0000:00:04.0, compute capability: 6.0\n"
     ]
    },
    {
     "data": {
      "application/javascript": [
       "parent.postMessage({\"jupyterEvent\": \"custom.exercise_interaction\", \"data\": {\"outcomeType\": 1, \"valueTowardsCompletion\": 0.3333333333333333, \"interactionType\": 1, \"questionType\": 2, \"questionId\": \"1_Q1\", \"learnToolsVersion\": \"0.3.4\", \"failureMessage\": \"\", \"exceptionClass\": \"\", \"trace\": \"\"}}, \"*\")"
      ],
      "text/plain": [
       "<IPython.core.display.Javascript object>"
      ]
     },
     "metadata": {},
     "output_type": "display_data"
    },
    {
     "data": {
      "text/markdown": [
       "<span style=\"color:#33cc33\">Correct</span>"
      ],
      "text/plain": [
       "Correct"
      ]
     },
     "metadata": {},
     "output_type": "display_data"
    }
   ],
   "source": [
    "from tensorflow import keras\n",
    "from tensorflow.keras import layers\n",
    "\n",
    "# YOUR CODE HERE: define the model given in the diagram\n",
    "model = keras.Sequential([\n",
    "    layers.BatchNormalization(input_shape=input_shape),\n",
    "    layers.Dense(256,activation='relu'),\n",
    "    layers.BatchNormalization(),\n",
    "    layers.Dropout(0.3),\n",
    "    layers.Dense(256,activation='relu'),\n",
    "    layers.BatchNormalization(),\n",
    "    layers.Dropout(0.3),\n",
    "    layers.Dense(1,activation='sigmoid')\n",
    "])\n",
    "\n",
    "# Check your answer\n",
    "q_1.check()"
   ]
  },
  {
   "cell_type": "markdown",
   "id": "17819dd1",
   "metadata": {
    "papermill": {
     "duration": 0.003435,
     "end_time": "2022-08-30T14:39:27.249177",
     "exception": false,
     "start_time": "2022-08-30T14:39:27.245742",
     "status": "completed"
    },
    "tags": []
   },
   "source": [
    "# 2) Add Optimizer, Loss, and Metric #\n",
    "\n",
    "Now compile the model with the Adam optimizer and binary versions of the cross-entropy loss and accuracy metric."
   ]
  },
  {
   "cell_type": "code",
   "execution_count": 4,
   "id": "dfcd5fbd",
   "metadata": {
    "execution": {
     "iopub.execute_input": "2022-08-30T14:39:27.258421Z",
     "iopub.status.busy": "2022-08-30T14:39:27.256974Z",
     "iopub.status.idle": "2022-08-30T14:39:27.272976Z",
     "shell.execute_reply": "2022-08-30T14:39:27.272011Z"
    },
    "lines_to_next_cell": 0,
    "papermill": {
     "duration": 0.022272,
     "end_time": "2022-08-30T14:39:27.274908",
     "exception": false,
     "start_time": "2022-08-30T14:39:27.252636",
     "status": "completed"
    },
    "tags": []
   },
   "outputs": [
    {
     "data": {
      "application/javascript": [
       "parent.postMessage({\"jupyterEvent\": \"custom.exercise_interaction\", \"data\": {\"outcomeType\": 1, \"valueTowardsCompletion\": 0.3333333333333333, \"interactionType\": 1, \"questionType\": 2, \"questionId\": \"2_Q2\", \"learnToolsVersion\": \"0.3.4\", \"failureMessage\": \"\", \"exceptionClass\": \"\", \"trace\": \"\"}}, \"*\")"
      ],
      "text/plain": [
       "<IPython.core.display.Javascript object>"
      ]
     },
     "metadata": {},
     "output_type": "display_data"
    },
    {
     "data": {
      "text/markdown": [
       "<span style=\"color:#33cc33\">Correct</span>"
      ],
      "text/plain": [
       "Correct"
      ]
     },
     "metadata": {},
     "output_type": "display_data"
    }
   ],
   "source": [
    "# YOUR CODE HERE\n",
    "model.compile(\n",
    "    optimizer='adam',\n",
    "    loss='binary_crossentropy',\n",
    "    metrics=['binary_accuracy'],\n",
    ")\n",
    "\n",
    "# Check your answer\n",
    "q_2.check()"
   ]
  },
  {
   "cell_type": "code",
   "execution_count": 5,
   "id": "6296658c",
   "metadata": {
    "execution": {
     "iopub.execute_input": "2022-08-30T14:39:27.283877Z",
     "iopub.status.busy": "2022-08-30T14:39:27.283088Z",
     "iopub.status.idle": "2022-08-30T14:39:27.287160Z",
     "shell.execute_reply": "2022-08-30T14:39:27.286317Z"
    },
    "lines_to_next_cell": 0,
    "papermill": {
     "duration": 0.01054,
     "end_time": "2022-08-30T14:39:27.289102",
     "exception": false,
     "start_time": "2022-08-30T14:39:27.278562",
     "status": "completed"
    },
    "tags": []
   },
   "outputs": [],
   "source": [
    "# Lines below will give you a hint or solution code\n",
    "#q_2.hint()\n",
    "#q_2.solution()"
   ]
  },
  {
   "cell_type": "markdown",
   "id": "1e4b3972",
   "metadata": {
    "papermill": {
     "duration": 0.003515,
     "end_time": "2022-08-30T14:39:27.296347",
     "exception": false,
     "start_time": "2022-08-30T14:39:27.292832",
     "status": "completed"
    },
    "tags": []
   },
   "source": [
    "Finally, run this cell to train the model and view the learning curves. It may run for around 60 to 70 epochs, which could take a minute or two."
   ]
  },
  {
   "cell_type": "code",
   "execution_count": 6,
   "id": "59a825ad",
   "metadata": {
    "execution": {
     "iopub.execute_input": "2022-08-30T14:39:27.305413Z",
     "iopub.status.busy": "2022-08-30T14:39:27.304733Z",
     "iopub.status.idle": "2022-08-30T14:40:10.113057Z",
     "shell.execute_reply": "2022-08-30T14:40:10.112130Z"
    },
    "papermill": {
     "duration": 42.815154,
     "end_time": "2022-08-30T14:40:10.115212",
     "exception": false,
     "start_time": "2022-08-30T14:39:27.300058",
     "status": "completed"
    },
    "tags": []
   },
   "outputs": [
    {
     "name": "stderr",
     "output_type": "stream",
     "text": [
      "2022-08-30 14:39:27.435592: I tensorflow/compiler/mlir/mlir_graph_optimization_pass.cc:185] None of the MLIR Optimization Passes are enabled (registered 2)\n"
     ]
    },
    {
     "name": "stdout",
     "output_type": "stream",
     "text": [
      "Epoch 1/200\n",
      "175/175 [==============================] - 3s 6ms/step - loss: 0.4820 - binary_accuracy: 0.7719 - val_loss: 0.4313 - val_binary_accuracy: 0.7943\n",
      "Epoch 2/200\n",
      "175/175 [==============================] - 1s 5ms/step - loss: 0.4243 - binary_accuracy: 0.8002 - val_loss: 0.4008 - val_binary_accuracy: 0.8139\n",
      "Epoch 3/200\n",
      "175/175 [==============================] - 1s 5ms/step - loss: 0.4102 - binary_accuracy: 0.8074 - val_loss: 0.3956 - val_binary_accuracy: 0.8154\n",
      "Epoch 4/200\n",
      "175/175 [==============================] - 1s 4ms/step - loss: 0.4034 - binary_accuracy: 0.8114 - val_loss: 0.3902 - val_binary_accuracy: 0.8173\n",
      "Epoch 5/200\n",
      "175/175 [==============================] - 1s 5ms/step - loss: 0.3989 - binary_accuracy: 0.8142 - val_loss: 0.3861 - val_binary_accuracy: 0.8240\n",
      "Epoch 6/200\n",
      "175/175 [==============================] - 1s 5ms/step - loss: 0.3937 - binary_accuracy: 0.8158 - val_loss: 0.3860 - val_binary_accuracy: 0.8236\n",
      "Epoch 7/200\n",
      "175/175 [==============================] - 1s 5ms/step - loss: 0.3899 - binary_accuracy: 0.8189 - val_loss: 0.3807 - val_binary_accuracy: 0.8235\n",
      "Epoch 8/200\n",
      "175/175 [==============================] - 1s 5ms/step - loss: 0.3856 - binary_accuracy: 0.8206 - val_loss: 0.3787 - val_binary_accuracy: 0.8268\n",
      "Epoch 9/200\n",
      "175/175 [==============================] - 1s 4ms/step - loss: 0.3827 - binary_accuracy: 0.8227 - val_loss: 0.3757 - val_binary_accuracy: 0.8269\n",
      "Epoch 10/200\n",
      "175/175 [==============================] - 1s 5ms/step - loss: 0.3800 - binary_accuracy: 0.8229 - val_loss: 0.3728 - val_binary_accuracy: 0.8288\n",
      "Epoch 11/200\n",
      "175/175 [==============================] - 1s 5ms/step - loss: 0.3766 - binary_accuracy: 0.8244 - val_loss: 0.3716 - val_binary_accuracy: 0.8298\n",
      "Epoch 12/200\n",
      "175/175 [==============================] - 1s 5ms/step - loss: 0.3753 - binary_accuracy: 0.8264 - val_loss: 0.3704 - val_binary_accuracy: 0.8303\n",
      "Epoch 13/200\n",
      "175/175 [==============================] - 1s 5ms/step - loss: 0.3734 - binary_accuracy: 0.8274 - val_loss: 0.3673 - val_binary_accuracy: 0.8300\n",
      "Epoch 14/200\n",
      "175/175 [==============================] - 1s 4ms/step - loss: 0.3700 - binary_accuracy: 0.8284 - val_loss: 0.3666 - val_binary_accuracy: 0.8316\n",
      "Epoch 15/200\n",
      "175/175 [==============================] - 1s 6ms/step - loss: 0.3686 - binary_accuracy: 0.8296 - val_loss: 0.3645 - val_binary_accuracy: 0.8329\n",
      "Epoch 16/200\n",
      "175/175 [==============================] - 1s 4ms/step - loss: 0.3656 - binary_accuracy: 0.8301 - val_loss: 0.3652 - val_binary_accuracy: 0.8290\n",
      "Epoch 17/200\n",
      "175/175 [==============================] - 1s 4ms/step - loss: 0.3639 - binary_accuracy: 0.8321 - val_loss: 0.3625 - val_binary_accuracy: 0.8352\n",
      "Epoch 18/200\n",
      "175/175 [==============================] - 1s 4ms/step - loss: 0.3640 - binary_accuracy: 0.8316 - val_loss: 0.3596 - val_binary_accuracy: 0.8373\n",
      "Epoch 19/200\n",
      "175/175 [==============================] - 1s 4ms/step - loss: 0.3616 - binary_accuracy: 0.8324 - val_loss: 0.3624 - val_binary_accuracy: 0.8346\n",
      "Epoch 20/200\n",
      "175/175 [==============================] - 1s 4ms/step - loss: 0.3605 - binary_accuracy: 0.8335 - val_loss: 0.3598 - val_binary_accuracy: 0.8354\n",
      "Epoch 21/200\n",
      "175/175 [==============================] - 1s 5ms/step - loss: 0.3582 - binary_accuracy: 0.8343 - val_loss: 0.3567 - val_binary_accuracy: 0.8372\n",
      "Epoch 22/200\n",
      "175/175 [==============================] - 1s 4ms/step - loss: 0.3571 - binary_accuracy: 0.8349 - val_loss: 0.3576 - val_binary_accuracy: 0.8361\n",
      "Epoch 23/200\n",
      "175/175 [==============================] - 1s 5ms/step - loss: 0.3560 - binary_accuracy: 0.8351 - val_loss: 0.3592 - val_binary_accuracy: 0.8352\n",
      "Epoch 24/200\n",
      "175/175 [==============================] - 1s 4ms/step - loss: 0.3551 - binary_accuracy: 0.8364 - val_loss: 0.3567 - val_binary_accuracy: 0.8371\n",
      "Epoch 25/200\n",
      "175/175 [==============================] - 1s 4ms/step - loss: 0.3529 - binary_accuracy: 0.8361 - val_loss: 0.3551 - val_binary_accuracy: 0.8364\n",
      "Epoch 26/200\n",
      "175/175 [==============================] - 1s 4ms/step - loss: 0.3529 - binary_accuracy: 0.8362 - val_loss: 0.3543 - val_binary_accuracy: 0.8384\n",
      "Epoch 27/200\n",
      "175/175 [==============================] - 1s 4ms/step - loss: 0.3517 - binary_accuracy: 0.8375 - val_loss: 0.3546 - val_binary_accuracy: 0.8363\n",
      "Epoch 28/200\n",
      "175/175 [==============================] - 1s 4ms/step - loss: 0.3506 - binary_accuracy: 0.8385 - val_loss: 0.3535 - val_binary_accuracy: 0.8382\n",
      "Epoch 29/200\n",
      "175/175 [==============================] - 1s 6ms/step - loss: 0.3488 - binary_accuracy: 0.8386 - val_loss: 0.3527 - val_binary_accuracy: 0.8377\n",
      "Epoch 30/200\n",
      "175/175 [==============================] - 1s 5ms/step - loss: 0.3479 - binary_accuracy: 0.8388 - val_loss: 0.3541 - val_binary_accuracy: 0.8365\n",
      "Epoch 31/200\n",
      "175/175 [==============================] - 1s 4ms/step - loss: 0.3483 - binary_accuracy: 0.8395 - val_loss: 0.3542 - val_binary_accuracy: 0.8378\n",
      "Epoch 32/200\n",
      "175/175 [==============================] - 1s 5ms/step - loss: 0.3464 - binary_accuracy: 0.8409 - val_loss: 0.3514 - val_binary_accuracy: 0.8383\n",
      "Epoch 33/200\n",
      "175/175 [==============================] - 1s 5ms/step - loss: 0.3463 - binary_accuracy: 0.8410 - val_loss: 0.3504 - val_binary_accuracy: 0.8402\n",
      "Epoch 34/200\n",
      "175/175 [==============================] - 1s 4ms/step - loss: 0.3456 - binary_accuracy: 0.8406 - val_loss: 0.3537 - val_binary_accuracy: 0.8360\n",
      "Epoch 35/200\n",
      "175/175 [==============================] - 1s 5ms/step - loss: 0.3447 - binary_accuracy: 0.8410 - val_loss: 0.3504 - val_binary_accuracy: 0.8407\n",
      "Epoch 36/200\n",
      "175/175 [==============================] - 1s 4ms/step - loss: 0.3424 - binary_accuracy: 0.8421 - val_loss: 0.3496 - val_binary_accuracy: 0.8413\n",
      "Epoch 37/200\n",
      "175/175 [==============================] - 1s 5ms/step - loss: 0.3419 - binary_accuracy: 0.8407 - val_loss: 0.3490 - val_binary_accuracy: 0.8413\n",
      "Epoch 38/200\n",
      "175/175 [==============================] - 1s 6ms/step - loss: 0.3411 - binary_accuracy: 0.8430 - val_loss: 0.3511 - val_binary_accuracy: 0.8402\n",
      "Epoch 39/200\n",
      "175/175 [==============================] - 1s 4ms/step - loss: 0.3415 - binary_accuracy: 0.8413 - val_loss: 0.3488 - val_binary_accuracy: 0.8426\n",
      "Epoch 40/200\n",
      "175/175 [==============================] - 1s 4ms/step - loss: 0.3401 - binary_accuracy: 0.8428 - val_loss: 0.3486 - val_binary_accuracy: 0.8404\n",
      "Epoch 41/200\n",
      "175/175 [==============================] - 1s 4ms/step - loss: 0.3393 - binary_accuracy: 0.8436 - val_loss: 0.3486 - val_binary_accuracy: 0.8416\n",
      "Epoch 42/200\n",
      "175/175 [==============================] - 1s 6ms/step - loss: 0.3388 - binary_accuracy: 0.8434 - val_loss: 0.3486 - val_binary_accuracy: 0.8403\n"
     ]
    },
    {
     "data": {
      "text/plain": [
       "<AxesSubplot:title={'center':'Accuracy'}>"
      ]
     },
     "execution_count": 6,
     "metadata": {},
     "output_type": "execute_result"
    },
    {
     "data": {
      "image/png": "[encoded data removed]",
      "text/plain": [
       "<Figure size 432x288 with 1 Axes>"
      ]
     },
     "metadata": {},
     "output_type": "display_data"
    },
    {
     "data": {
      "image/png": "[encoded data removed]",
      "text/plain": [
       "<Figure size 432x288 with 1 Axes>"
      ]
     },
     "metadata": {},
     "output_type": "display_data"
    }
   ],
   "source": [
    "early_stopping = keras.callbacks.EarlyStopping(\n",
    "    patience=5,\n",
    "    min_delta=0.001,\n",
    "    restore_best_weights=True,\n",
    ")\n",
    "history = model.fit(\n",
    "    X_train, y_train,\n",
    "    validation_data=(X_valid, y_valid),\n",
    "    batch_size=512,\n",
    "    epochs=200,\n",
    "    callbacks=[early_stopping],\n",
    ")\n",
    "\n",
    "history_df = pd.DataFrame(history.history)\n",
    "history_df.loc[:, ['loss', 'val_loss']].plot(title=\"Cross-entropy\")\n",
    "history_df.loc[:, ['binary_accuracy', 'val_binary_accuracy']].plot(title=\"Accuracy\")"
   ]
  },
  {
   "cell_type": "markdown",
   "id": "dbc51260",
   "metadata": {
    "papermill": {
     "duration": 0.035152,
     "end_time": "2022-08-30T14:40:10.186265",
     "exception": false,
     "start_time": "2022-08-30T14:40:10.151113",
     "status": "completed"
    },
    "tags": []
   },
   "source": [
    "# 3) Train and Evaluate #\n",
    "\n",
    "\n",
    "What do you think about the learning curves? Does it look like the model underfit or overfit? Was the cross-entropy loss a good stand-in for accuracy?"
   ]
  },
  {
   "cell_type": "code",
   "execution_count": 7,
   "id": "9fc0f4dc",
   "metadata": {
    "execution": {
     "iopub.execute_input": "2022-08-30T14:40:10.258030Z",
     "iopub.status.busy": "2022-08-30T14:40:10.257695Z",
     "iopub.status.idle": "2022-08-30T14:40:10.266200Z",
     "shell.execute_reply": "2022-08-30T14:40:10.265168Z"
    },
    "papermill": {
     "duration": 0.047918,
     "end_time": "2022-08-30T14:40:10.269153",
     "exception": false,
     "start_time": "2022-08-30T14:40:10.221235",
     "status": "completed"
    },
    "tags": []
   },
   "outputs": [
    {
     "data": {
      "application/javascript": [
       "parent.postMessage({\"jupyterEvent\": \"custom.exercise_interaction\", \"data\": {\"outcomeType\": 1, \"valueTowardsCompletion\": 0.3333333333333333, \"interactionType\": 1, \"questionType\": 4, \"questionId\": \"3_Q3\", \"learnToolsVersion\": \"0.3.4\", \"failureMessage\": \"\", \"exceptionClass\": \"\", \"trace\": \"\"}}, \"*\")"
      ],
      "text/plain": [
       "<IPython.core.display.Javascript object>"
      ]
     },
     "metadata": {},
     "output_type": "display_data"
    },
    {
     "data": {
      "text/markdown": [
       "<span style=\"color:#33cc33\">Correct:</span> \n",
       "\n",
       "Though we can see the training loss continuing to fall, the early stopping callback prevented any overfitting. Moreover, the accuracy rose at the same rate as the cross-entropy fell, so it appears that minimizing cross-entropy was a good stand-in. All in all, it looks like this training was a success!"
      ],
      "text/plain": [
       "Correct: \n",
       "\n",
       "Though we can see the training loss continuing to fall, the early stopping callback prevented any overfitting. Moreover, the accuracy rose at the same rate as the cross-entropy fell, so it appears that minimizing cross-entropy was a good stand-in. All in all, it looks like this training was a success!"
      ]
     },
     "metadata": {},
     "output_type": "display_data"
    }
   ],
   "source": [
    "# View the solution (Run this cell to receive credit!)\n",
    "q_3.check()"
   ]
  },
  {
   "cell_type": "markdown",
   "id": "e9916213",
   "metadata": {
    "papermill": {
     "duration": 0.03586,
     "end_time": "2022-08-30T14:40:10.340668",
     "exception": false,
     "start_time": "2022-08-30T14:40:10.304808",
     "status": "completed"
    },
    "tags": []
   },
   "source": [
    "# Conclusion #\n",
    "\n",
    "Congratulations! You've completed Kaggle's *Introduction to Deep Learning* course!\n",
    "\n",
    "With your new skills you're ready to take on more advanced applications like computer vision and sentiment classification. What would you like to do next?\n",
    "\n",
    "Why not try one of our *Getting Started* competitions?\n",
    "\n",
    "- Classify images with TPUs in [**Petals to the Metal**](https://www.kaggle.com/c/tpu-getting-started)\n",
    "- Create art with GANs in [**I'm Something of a Painter Myself**](https://www.kaggle.com/c/gan-getting-started)\n",
    "- Classify Tweets in [**Real or Not? NLP with Disaster Tweets**](https://www.kaggle.com/c/nlp-getting-started)\n",
    "- Detect contradiction and entailment in [**Contradictory, My Dear Watson**](https://www.kaggle.com/c/contradictory-my-dear-watson)\n",
    "\n",
    "Until next time, Kagglers!"
   ]
  },
  {
   "cell_type": "markdown",
   "id": "76bfc1d6",
   "metadata": {
    "papermill": {
     "duration": 0.0356,
     "end_time": "2022-08-30T14:40:10.412015",
     "exception": false,
     "start_time": "2022-08-30T14:40:10.376415",
     "status": "completed"
    },
    "tags": []
   },
   "source": [
    "---\n",
    "\n",
    "\n",
    "\n",
    "\n",
    "*Have questions or comments? Visit the [course discussion forum](https://www.kaggle.com/learn/intro-to-deep-learning/discussion) to chat with other learners.*"
   ]
  }
 ],
 "metadata": {
  "kernelspec": {
   "display_name": "Python 3",
   "language": "python",
   "name": "python3"
  },
  "language_info": {
   "codemirror_mode": {
    "name": "ipython",
    "version": 3
   },
   "file_extension": ".py",
   "mimetype": "text/x-python",
   "name": "python",
   "nbconvert_exporter": "python",
   "pygments_lexer": "ipython3",
   "version": "3.7.12"
  },
  "papermill": {
   "default_parameters": {},
   "duration": 64.212989,
   "end_time": "2022-08-30T14:40:13.740942",
   "environment_variables": {},
   "exception": null,
   "input_path": "__notebook__.ipynb",
   "output_path": "__notebook__.ipynb",
   "parameters": {},
   "start_time": "2022-08-30T14:39:09.527953",
   "version": "2.3.4"
  }
 },
 "nbformat": 4,
 "nbformat_minor": 5
}
