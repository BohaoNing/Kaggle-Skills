{
 "cells": [
  {
   "cell_type": "markdown",
   "id": "135ab658",
   "metadata": {
    "papermill": {
     "duration": 0.006174,
     "end_time": "2022-09-24T20:06:53.302102",
     "exception": false,
     "start_time": "2022-09-24T20:06:53.295928",
     "status": "completed"
    },
    "tags": []
   },
   "source": [
    "**This notebook is an exercise in the [Intro to Deep Learning](https://www.kaggle.com/learn/intro-to-deep-learning) course.  You can reference the tutorial at [this link](https://www.kaggle.com/ryanholbrook/binary-classification).**\n",
    "\n",
    "---\n"
   ]
  },
  {
   "cell_type": "markdown",
   "id": "0bfb3cbb",
   "metadata": {
    "papermill": {
     "duration": 0.004953,
     "end_time": "2022-09-24T20:06:53.311553",
     "exception": false,
     "start_time": "2022-09-24T20:06:53.306600",
     "status": "completed"
    },
    "tags": []
   },
   "source": [
    "# Introduction #\n",
    "\n",
    "In this exercise, you'll build a model to predict hotel cancellations with a binary classifier."
   ]
  },
  {
   "cell_type": "code",
   "execution_count": 1,
   "id": "49318e41",
   "metadata": {
    "execution": {
     "iopub.execute_input": "2022-09-24T20:06:53.325093Z",
     "iopub.status.busy": "2022-09-24T20:06:53.324575Z",
     "iopub.status.idle": "2022-09-24T20:06:53.375923Z",
     "shell.execute_reply": "2022-09-24T20:06:53.375032Z"
    },
    "lines_to_next_cell": 0,
    "papermill": {
     "duration": 0.060455,
     "end_time": "2022-09-24T20:06:53.378037",
     "exception": false,
     "start_time": "2022-09-24T20:06:53.317582",
     "status": "completed"
    },
    "tags": []
   },
   "outputs": [],
   "source": [
    "# Setup plotting\n",
    "import matplotlib.pyplot as plt\n",
    "plt.style.use('seaborn-whitegrid')\n",
    "# Set Matplotlib defaults\n",
    "plt.rc('figure', autolayout=True)\n",
    "plt.rc('axes', labelweight='bold', labelsize='large',\n",
    "       titleweight='bold', titlesize=18, titlepad=10)\n",
    "plt.rc('animation', html='html5')\n",
    "\n",
    "# Setup feedback system\n",
    "from learntools.core import binder\n",
    "binder.bind(globals())\n",
    "from learntools.deep_learning_intro.ex6 import *"
   ]
  },
  {
   "cell_type": "markdown",
   "id": "c952bb49",
   "metadata": {
    "papermill": {
     "duration": 0.00299,
     "end_time": "2022-09-24T20:06:53.384611",
     "exception": false,
     "start_time": "2022-09-24T20:06:53.381621",
     "status": "completed"
    },
    "tags": []
   },
   "source": [
    "First, load the *Hotel Cancellations* dataset."
   ]
  },
  {
   "cell_type": "code",
   "execution_count": 2,
   "id": "51f7160d",
   "metadata": {
    "execution": {
     "iopub.execute_input": "2022-09-24T20:06:53.392850Z",
     "iopub.status.busy": "2022-09-24T20:06:53.392149Z",
     "iopub.status.idle": "2022-09-24T20:06:55.724817Z",
     "shell.execute_reply": "2022-09-24T20:06:55.723825Z"
    },
    "lines_to_next_cell": 2,
    "papermill": {
     "duration": 2.339253,
     "end_time": "2022-09-24T20:06:55.727261",
     "exception": false,
     "start_time": "2022-09-24T20:06:53.388008",
     "status": "completed"
    },
    "tags": []
   },
   "outputs": [],
   "source": [
    "import pandas as pd\n",
    "\n",
    "from sklearn.model_selection import train_test_split\n",
    "from sklearn.preprocessing import StandardScaler, OneHotEncoder\n",
    "from sklearn.impute import SimpleImputer\n",
    "from sklearn.pipeline import make_pipeline\n",
    "from sklearn.compose import make_column_transformer\n",
    "\n",
    "hotel = pd.read_csv('../input/dl-course-data/hotel.csv')\n",
    "\n",
    "X = hotel.copy()\n",
    "y = X.pop('is_canceled')\n",
    "\n",
    "X['arrival_date_month'] = \\\n",
    "    X['arrival_date_month'].map(\n",
    "        {'January':1, 'February': 2, 'March':3,\n",
    "         'April':4, 'May':5, 'June':6, 'July':7,\n",
    "         'August':8, 'September':9, 'October':10,\n",
    "         'November':11, 'December':12}\n",
    "    )\n",
    "\n",
    "features_num = [\n",
    "    \"lead_time\", \"arrival_date_week_number\",\n",
    "    \"arrival_date_day_of_month\", \"stays_in_weekend_nights\",\n",
    "    \"stays_in_week_nights\", \"adults\", \"children\", \"babies\",\n",
    "    \"is_repeated_guest\", \"previous_cancellations\",\n",
    "    \"previous_bookings_not_canceled\", \"required_car_parking_spaces\",\n",
    "    \"total_of_special_requests\", \"adr\",\n",
    "]\n",
    "features_cat = [\n",
    "    \"hotel\", \"arrival_date_month\", \"meal\",\n",
    "    \"market_segment\", \"distribution_channel\",\n",
    "    \"reserved_room_type\", \"deposit_type\", \"customer_type\",\n",
    "]\n",
    "\n",
    "transformer_num = make_pipeline(\n",
    "    SimpleImputer(strategy=\"constant\"), # there are a few missing values\n",
    "    StandardScaler(),\n",
    ")\n",
    "transformer_cat = make_pipeline(\n",
    "    SimpleImputer(strategy=\"constant\", fill_value=\"NA\"),\n",
    "    OneHotEncoder(handle_unknown='ignore'),\n",
    ")\n",
    "\n",
    "preprocessor = make_column_transformer(\n",
    "    (transformer_num, features_num),\n",
    "    (transformer_cat, features_cat),\n",
    ")\n",
    "\n",
    "# stratify - make sure classes are evenlly represented across splits\n",
    "X_train, X_valid, y_train, y_valid = \\\n",
    "    train_test_split(X, y, stratify=y, train_size=0.75)\n",
    "\n",
    "X_train = preprocessor.fit_transform(X_train)\n",
    "X_valid = preprocessor.transform(X_valid)\n",
    "\n",
    "input_shape = [X_train.shape[1]]"
   ]
  },
  {
   "cell_type": "markdown",
   "id": "e68464ed",
   "metadata": {
    "papermill": {
     "duration": 0.003096,
     "end_time": "2022-09-24T20:06:55.733779",
     "exception": false,
     "start_time": "2022-09-24T20:06:55.730683",
     "status": "completed"
    },
    "tags": []
   },
   "source": [
    "# 1) Define Model #\n",
    "\n",
    "The model we'll use this time will have both batch normalization and dropout layers. To ease reading we've broken the diagram into blocks, but you can define it layer by layer as usual.\n",
    "\n",
    "Define a model with an architecture given by this diagram:\n",
    "\n",
    "<figure style=\"padding: 1em;\">\n",
    "<img src=\"https://i.imgur.com/V04o59Z.png\" width=\"400\" alt=\"Diagram of network architecture: BatchNorm, Dense, BatchNorm, Dropout, Dense, BatchNorm, Dropout, Dense.\">\n",
    "<figcaption style=\"textalign: center; font-style: italic\"><center>Diagram of a binary classifier.</center></figcaption>\n",
    "</figure>\n"
   ]
  },
  {
   "cell_type": "code",
   "execution_count": 3,
   "id": "7e928fa4",
   "metadata": {
    "execution": {
     "iopub.execute_input": "2022-09-24T20:06:55.742457Z",
     "iopub.status.busy": "2022-09-24T20:06:55.740976Z",
     "iopub.status.idle": "2022-09-24T20:07:03.693637Z",
     "shell.execute_reply": "2022-09-24T20:07:03.692584Z"
    },
    "lines_to_next_cell": 2,
    "papermill": {
     "duration": 7.96002,
     "end_time": "2022-09-24T20:07:03.696914",
     "exception": false,
     "start_time": "2022-09-24T20:06:55.736894",
     "status": "completed"
    },
    "tags": []
   },
   "outputs": [
    {
     "name": "stderr",
     "output_type": "stream",
     "text": [
      "2022-09-24 20:07:00.909095: I tensorflow/stream_executor/cuda/cuda_gpu_executor.cc:937] successful NUMA node read from SysFS had negative value (-1), but there must be at least one NUMA node, so returning NUMA node zero\n",
      "2022-09-24 20:07:01.007019: I tensorflow/stream_executor/cuda/cuda_gpu_executor.cc:937] successful NUMA node read from SysFS had negative value (-1), but there must be at least one NUMA node, so returning NUMA node zero\n",
      "2022-09-24 20:07:01.008004: I tensorflow/stream_executor/cuda/cuda_gpu_executor.cc:937] successful NUMA node read from SysFS had negative value (-1), but there must be at least one NUMA node, so returning NUMA node zero\n",
      "2022-09-24 20:07:01.009405: I tensorflow/core/platform/cpu_feature_guard.cc:142] This TensorFlow binary is optimized with oneAPI Deep Neural Network Library (oneDNN) to use the following CPU instructions in performance-critical operations:  AVX2 AVX512F FMA\n",
      "To enable them in other operations, rebuild TensorFlow with the appropriate compiler flags.\n",
      "2022-09-24 20:07:01.016440: I tensorflow/stream_executor/cuda/cuda_gpu_executor.cc:937] successful NUMA node read from SysFS had negative value (-1), but there must be at least one NUMA node, so returning NUMA node zero\n",
      "2022-09-24 20:07:01.017128: I tensorflow/stream_executor/cuda/cuda_gpu_executor.cc:937] successful NUMA node read from SysFS had negative value (-1), but there must be at least one NUMA node, so returning NUMA node zero\n",
      "2022-09-24 20:07:01.017829: I tensorflow/stream_executor/cuda/cuda_gpu_executor.cc:937] successful NUMA node read from SysFS had negative value (-1), but there must be at least one NUMA node, so returning NUMA node zero\n",
      "2022-09-24 20:07:03.258627: I tensorflow/stream_executor/cuda/cuda_gpu_executor.cc:937] successful NUMA node read from SysFS had negative value (-1), but there must be at least one NUMA node, so returning NUMA node zero\n",
      "2022-09-24 20:07:03.259574: I tensorflow/stream_executor/cuda/cuda_gpu_executor.cc:937] successful NUMA node read from SysFS had negative value (-1), but there must be at least one NUMA node, so returning NUMA node zero\n",
      "2022-09-24 20:07:03.260262: I tensorflow/stream_executor/cuda/cuda_gpu_executor.cc:937] successful NUMA node read from SysFS had negative value (-1), but there must be at least one NUMA node, so returning NUMA node zero\n",
      "2022-09-24 20:07:03.260865: I tensorflow/core/common_runtime/gpu/gpu_device.cc:1510] Created device /job:localhost/replica:0/task:0/device:GPU:0 with 15401 MB memory:  -> device: 0, name: Tesla P100-PCIE-16GB, pci bus id: 0000:00:04.0, compute capability: 6.0\n"
     ]
    },
    {
     "data": {
      "application/javascript": [
       "parent.postMessage({\"jupyterEvent\": \"custom.exercise_interaction\", \"data\": {\"outcomeType\": 1, \"valueTowardsCompletion\": 0.3333333333333333, \"interactionType\": 1, \"questionType\": 2, \"questionId\": \"1_Q1\", \"learnToolsVersion\": \"0.3.4\", \"failureMessage\": \"\", \"exceptionClass\": \"\", \"trace\": \"\"}}, \"*\")"
      ],
      "text/plain": [
       "<IPython.core.display.Javascript object>"
      ]
     },
     "metadata": {},
     "output_type": "display_data"
    },
    {
     "data": {
      "text/markdown": [
       "<span style=\"color:#33cc33\">Correct</span>"
      ],
      "text/plain": [
       "Correct"
      ]
     },
     "metadata": {},
     "output_type": "display_data"
    }
   ],
   "source": [
    "from tensorflow import keras\n",
    "from tensorflow.keras import layers\n",
    "\n",
    "# YOUR CODE HERE: define the model given in the diagram\n",
    "model = keras.Sequential([\n",
    "    layers.BatchNormalization(input_shape=input_shape),\n",
    "    layers.Dense(256,activation='relu'),\n",
    "    layers.BatchNormalization(),\n",
    "    layers.Dropout(0.3),\n",
    "    layers.Dense(256,activation='relu'),\n",
    "    layers.BatchNormalization(),\n",
    "    layers.Dropout(0.3),\n",
    "    layers.Dense(1,activation='sigmoid')\n",
    "])\n",
    "\n",
    "# Check your answer\n",
    "q_1.check()"
   ]
  },
  {
   "cell_type": "markdown",
   "id": "ff6f6fb5",
   "metadata": {
    "papermill": {
     "duration": 0.003459,
     "end_time": "2022-09-24T20:07:03.704328",
     "exception": false,
     "start_time": "2022-09-24T20:07:03.700869",
     "status": "completed"
    },
    "tags": []
   },
   "source": [
    "# 2) Add Optimizer, Loss, and Metric #\n",
    "\n",
    "Now compile the model with the Adam optimizer and binary versions of the cross-entropy loss and accuracy metric."
   ]
  },
  {
   "cell_type": "code",
   "execution_count": 4,
   "id": "cc3e72b6",
   "metadata": {
    "execution": {
     "iopub.execute_input": "2022-09-24T20:07:03.712320Z",
     "iopub.status.busy": "2022-09-24T20:07:03.712039Z",
     "iopub.status.idle": "2022-09-24T20:07:03.727871Z",
     "shell.execute_reply": "2022-09-24T20:07:03.727056Z"
    },
    "lines_to_next_cell": 0,
    "papermill": {
     "duration": 0.022187,
     "end_time": "2022-09-24T20:07:03.729925",
     "exception": false,
     "start_time": "2022-09-24T20:07:03.707738",
     "status": "completed"
    },
    "tags": []
   },
   "outputs": [
    {
     "data": {
      "application/javascript": [
       "parent.postMessage({\"jupyterEvent\": \"custom.exercise_interaction\", \"data\": {\"outcomeType\": 1, \"valueTowardsCompletion\": 0.3333333333333333, \"interactionType\": 1, \"questionType\": 2, \"questionId\": \"2_Q2\", \"learnToolsVersion\": \"0.3.4\", \"failureMessage\": \"\", \"exceptionClass\": \"\", \"trace\": \"\"}}, \"*\")"
      ],
      "text/plain": [
       "<IPython.core.display.Javascript object>"
      ]
     },
     "metadata": {},
     "output_type": "display_data"
    },
    {
     "data": {
      "text/markdown": [
       "<span style=\"color:#33cc33\">Correct</span>"
      ],
      "text/plain": [
       "Correct"
      ]
     },
     "metadata": {},
     "output_type": "display_data"
    }
   ],
   "source": [
    "# YOUR CODE HERE\n",
    "model.compile(\n",
    "    optimizer='adam',\n",
    "    loss='binary_crossentropy',\n",
    "    metrics=['binary_accuracy'],\n",
    ")\n",
    "\n",
    "# Check your answer\n",
    "q_2.check()"
   ]
  },
  {
   "cell_type": "code",
   "execution_count": 5,
   "id": "932cbb64",
   "metadata": {
    "execution": {
     "iopub.execute_input": "2022-09-24T20:07:03.738593Z",
     "iopub.status.busy": "2022-09-24T20:07:03.738059Z",
     "iopub.status.idle": "2022-09-24T20:07:03.741972Z",
     "shell.execute_reply": "2022-09-24T20:07:03.741061Z"
    },
    "lines_to_next_cell": 0,
    "papermill": {
     "duration": 0.01038,
     "end_time": "2022-09-24T20:07:03.743960",
     "exception": false,
     "start_time": "2022-09-24T20:07:03.733580",
     "status": "completed"
    },
    "tags": []
   },
   "outputs": [],
   "source": [
    "# Lines below will give you a hint or solution code\n",
    "#q_2.hint()\n",
    "#q_2.solution()"
   ]
  },
  {
   "cell_type": "markdown",
   "id": "81e7709d",
   "metadata": {
    "papermill": {
     "duration": 0.00356,
     "end_time": "2022-09-24T20:07:03.751179",
     "exception": false,
     "start_time": "2022-09-24T20:07:03.747619",
     "status": "completed"
    },
    "tags": []
   },
   "source": [
    "Finally, run this cell to train the model and view the learning curves. It may run for around 60 to 70 epochs, which could take a minute or two."
   ]
  },
  {
   "cell_type": "code",
   "execution_count": 6,
   "id": "62133f35",
   "metadata": {
    "execution": {
     "iopub.execute_input": "2022-09-24T20:07:03.759992Z",
     "iopub.status.busy": "2022-09-24T20:07:03.759346Z",
     "iopub.status.idle": "2022-09-24T20:07:41.122620Z",
     "shell.execute_reply": "2022-09-24T20:07:41.121459Z"
    },
    "papermill": {
     "duration": 37.37026,
     "end_time": "2022-09-24T20:07:41.125088",
     "exception": false,
     "start_time": "2022-09-24T20:07:03.754828",
     "status": "completed"
    },
    "tags": []
   },
   "outputs": [
    {
     "name": "stderr",
     "output_type": "stream",
     "text": [
      "2022-09-24 20:07:03.880526: I tensorflow/compiler/mlir/mlir_graph_optimization_pass.cc:185] None of the MLIR Optimization Passes are enabled (registered 2)\n"
     ]
    },
    {
     "name": "stdout",
     "output_type": "stream",
     "text": [
      "Epoch 1/200\n",
      "175/175 [==============================] - 3s 7ms/step - loss: 0.4829 - binary_accuracy: 0.7709 - val_loss: 0.4361 - val_binary_accuracy: 0.7986\n",
      "Epoch 2/200\n",
      "175/175 [==============================] - 1s 4ms/step - loss: 0.4227 - binary_accuracy: 0.8031 - val_loss: 0.4055 - val_binary_accuracy: 0.8113\n",
      "Epoch 3/200\n",
      "175/175 [==============================] - 1s 4ms/step - loss: 0.4100 - binary_accuracy: 0.8090 - val_loss: 0.3967 - val_binary_accuracy: 0.8160\n",
      "Epoch 4/200\n",
      "175/175 [==============================] - 1s 4ms/step - loss: 0.4014 - binary_accuracy: 0.8132 - val_loss: 0.3938 - val_binary_accuracy: 0.8185\n",
      "Epoch 5/200\n",
      "175/175 [==============================] - 1s 4ms/step - loss: 0.3948 - binary_accuracy: 0.8166 - val_loss: 0.3876 - val_binary_accuracy: 0.8220\n",
      "Epoch 6/200\n",
      "175/175 [==============================] - 1s 4ms/step - loss: 0.3917 - binary_accuracy: 0.8188 - val_loss: 0.3844 - val_binary_accuracy: 0.8214\n",
      "Epoch 7/200\n",
      "175/175 [==============================] - 1s 4ms/step - loss: 0.3879 - binary_accuracy: 0.8209 - val_loss: 0.3822 - val_binary_accuracy: 0.8226\n",
      "Epoch 8/200\n",
      "175/175 [==============================] - 1s 4ms/step - loss: 0.3841 - binary_accuracy: 0.8216 - val_loss: 0.3799 - val_binary_accuracy: 0.8262\n",
      "Epoch 9/200\n",
      "175/175 [==============================] - 1s 5ms/step - loss: 0.3825 - binary_accuracy: 0.8223 - val_loss: 0.3765 - val_binary_accuracy: 0.8278\n",
      "Epoch 10/200\n",
      "175/175 [==============================] - 1s 4ms/step - loss: 0.3785 - binary_accuracy: 0.8237 - val_loss: 0.3742 - val_binary_accuracy: 0.8294\n",
      "Epoch 11/200\n",
      "175/175 [==============================] - 1s 4ms/step - loss: 0.3761 - binary_accuracy: 0.8258 - val_loss: 0.3737 - val_binary_accuracy: 0.8291\n",
      "Epoch 12/200\n",
      "175/175 [==============================] - 1s 6ms/step - loss: 0.3751 - binary_accuracy: 0.8258 - val_loss: 0.3717 - val_binary_accuracy: 0.8293\n",
      "Epoch 13/200\n",
      "175/175 [==============================] - 1s 5ms/step - loss: 0.3725 - binary_accuracy: 0.8284 - val_loss: 0.3688 - val_binary_accuracy: 0.8312\n",
      "Epoch 14/200\n",
      "175/175 [==============================] - 1s 6ms/step - loss: 0.3703 - binary_accuracy: 0.8282 - val_loss: 0.3671 - val_binary_accuracy: 0.8316\n",
      "Epoch 15/200\n",
      "175/175 [==============================] - 1s 4ms/step - loss: 0.3685 - binary_accuracy: 0.8298 - val_loss: 0.3661 - val_binary_accuracy: 0.8322\n",
      "Epoch 16/200\n",
      "175/175 [==============================] - 1s 5ms/step - loss: 0.3662 - binary_accuracy: 0.8312 - val_loss: 0.3655 - val_binary_accuracy: 0.8325\n",
      "Epoch 17/200\n",
      "175/175 [==============================] - 1s 4ms/step - loss: 0.3649 - binary_accuracy: 0.8314 - val_loss: 0.3630 - val_binary_accuracy: 0.8337\n",
      "Epoch 18/200\n",
      "175/175 [==============================] - 1s 4ms/step - loss: 0.3627 - binary_accuracy: 0.8332 - val_loss: 0.3644 - val_binary_accuracy: 0.8327\n",
      "Epoch 19/200\n",
      "175/175 [==============================] - 1s 4ms/step - loss: 0.3608 - binary_accuracy: 0.8340 - val_loss: 0.3619 - val_binary_accuracy: 0.8316\n",
      "Epoch 20/200\n",
      "175/175 [==============================] - 1s 4ms/step - loss: 0.3602 - binary_accuracy: 0.8336 - val_loss: 0.3607 - val_binary_accuracy: 0.8338\n",
      "Epoch 21/200\n",
      "175/175 [==============================] - 1s 5ms/step - loss: 0.3580 - binary_accuracy: 0.8349 - val_loss: 0.3617 - val_binary_accuracy: 0.8331\n",
      "Epoch 22/200\n",
      "175/175 [==============================] - 1s 4ms/step - loss: 0.3569 - binary_accuracy: 0.8376 - val_loss: 0.3594 - val_binary_accuracy: 0.8328\n",
      "Epoch 23/200\n",
      "175/175 [==============================] - 1s 4ms/step - loss: 0.3543 - binary_accuracy: 0.8371 - val_loss: 0.3587 - val_binary_accuracy: 0.8330\n",
      "Epoch 24/200\n",
      "175/175 [==============================] - 1s 4ms/step - loss: 0.3547 - binary_accuracy: 0.8370 - val_loss: 0.3591 - val_binary_accuracy: 0.8331\n",
      "Epoch 25/200\n",
      "175/175 [==============================] - 1s 4ms/step - loss: 0.3527 - binary_accuracy: 0.8375 - val_loss: 0.3568 - val_binary_accuracy: 0.8340\n",
      "Epoch 26/200\n",
      "175/175 [==============================] - 1s 4ms/step - loss: 0.3524 - binary_accuracy: 0.8381 - val_loss: 0.3583 - val_binary_accuracy: 0.8347\n",
      "Epoch 27/200\n",
      "175/175 [==============================] - 1s 4ms/step - loss: 0.3508 - binary_accuracy: 0.8387 - val_loss: 0.3553 - val_binary_accuracy: 0.8353\n",
      "Epoch 28/200\n",
      "175/175 [==============================] - 1s 5ms/step - loss: 0.3503 - binary_accuracy: 0.8392 - val_loss: 0.3565 - val_binary_accuracy: 0.8363\n",
      "Epoch 29/200\n",
      "175/175 [==============================] - 1s 5ms/step - loss: 0.3491 - binary_accuracy: 0.8398 - val_loss: 0.3556 - val_binary_accuracy: 0.8355\n",
      "Epoch 30/200\n",
      "175/175 [==============================] - 1s 4ms/step - loss: 0.3487 - binary_accuracy: 0.8398 - val_loss: 0.3546 - val_binary_accuracy: 0.8364\n",
      "Epoch 31/200\n",
      "175/175 [==============================] - 1s 4ms/step - loss: 0.3456 - binary_accuracy: 0.8405 - val_loss: 0.3542 - val_binary_accuracy: 0.8377\n",
      "Epoch 32/200\n",
      "175/175 [==============================] - 1s 5ms/step - loss: 0.3454 - binary_accuracy: 0.8398 - val_loss: 0.3545 - val_binary_accuracy: 0.8372\n",
      "Epoch 33/200\n",
      "175/175 [==============================] - 1s 4ms/step - loss: 0.3453 - binary_accuracy: 0.8413 - val_loss: 0.3540 - val_binary_accuracy: 0.8370\n",
      "Epoch 34/200\n",
      "175/175 [==============================] - 1s 4ms/step - loss: 0.3443 - binary_accuracy: 0.8418 - val_loss: 0.3532 - val_binary_accuracy: 0.8381\n",
      "Epoch 35/200\n",
      "175/175 [==============================] - 1s 4ms/step - loss: 0.3438 - binary_accuracy: 0.8422 - val_loss: 0.3523 - val_binary_accuracy: 0.8384\n",
      "Epoch 36/200\n",
      "175/175 [==============================] - 1s 4ms/step - loss: 0.3424 - binary_accuracy: 0.8421 - val_loss: 0.3531 - val_binary_accuracy: 0.8383\n",
      "Epoch 37/200\n",
      "175/175 [==============================] - 1s 4ms/step - loss: 0.3430 - binary_accuracy: 0.8425 - val_loss: 0.3534 - val_binary_accuracy: 0.8370\n",
      "Epoch 38/200\n",
      "175/175 [==============================] - 1s 4ms/step - loss: 0.3391 - binary_accuracy: 0.8439 - val_loss: 0.3526 - val_binary_accuracy: 0.8380\n",
      "Epoch 39/200\n",
      "175/175 [==============================] - 1s 4ms/step - loss: 0.3400 - binary_accuracy: 0.8420 - val_loss: 0.3506 - val_binary_accuracy: 0.8385\n",
      "Epoch 40/200\n",
      "175/175 [==============================] - 1s 4ms/step - loss: 0.3384 - binary_accuracy: 0.8439 - val_loss: 0.3522 - val_binary_accuracy: 0.8387\n",
      "Epoch 41/200\n",
      "175/175 [==============================] - 1s 5ms/step - loss: 0.3379 - binary_accuracy: 0.8451 - val_loss: 0.3517 - val_binary_accuracy: 0.8375\n",
      "Epoch 42/200\n",
      "175/175 [==============================] - 1s 4ms/step - loss: 0.3380 - binary_accuracy: 0.8434 - val_loss: 0.3515 - val_binary_accuracy: 0.8383\n",
      "Epoch 43/200\n",
      "175/175 [==============================] - 1s 6ms/step - loss: 0.3368 - binary_accuracy: 0.8452 - val_loss: 0.3517 - val_binary_accuracy: 0.8375\n",
      "Epoch 44/200\n",
      "175/175 [==============================] - 1s 5ms/step - loss: 0.3374 - binary_accuracy: 0.8439 - val_loss: 0.3512 - val_binary_accuracy: 0.8385\n"
     ]
    },
    {
     "data": {
      "text/plain": [
       "<AxesSubplot:title={'center':'Accuracy'}>"
      ]
     },
     "execution_count": 6,
     "metadata": {},
     "output_type": "execute_result"
    },
    {
     "data": {
      "image/png": "[encoded data removed]",
      "text/plain": [
       "<Figure size 432x288 with 1 Axes>"
      ]
     },
     "metadata": {},
     "output_type": "display_data"
    },
    {
     "data": {
      "image/png": "[encoded data removed]",
      "text/plain": [
       "<Figure size 432x288 with 1 Axes>"
      ]
     },
     "metadata": {},
     "output_type": "display_data"
    }
   ],
   "source": [
    "early_stopping = keras.callbacks.EarlyStopping(\n",
    "    patience=5,\n",
    "    min_delta=0.001,\n",
    "    restore_best_weights=True,\n",
    ")\n",
    "history = model.fit(\n",
    "    X_train, y_train,\n",
    "    validation_data=(X_valid, y_valid),\n",
    "    batch_size=512,\n",
    "    epochs=200,\n",
    "    callbacks=[early_stopping],\n",
    ")\n",
    "\n",
    "history_df = pd.DataFrame(history.history)\n",
    "history_df.loc[:, ['loss', 'val_loss']].plot(title=\"Cross-entropy\")\n",
    "history_df.loc[:, ['binary_accuracy', 'val_binary_accuracy']].plot(title=\"Accuracy\")"
   ]
  },
  {
   "cell_type": "markdown",
   "id": "090f73a5",
   "metadata": {
    "papermill": {
     "duration": 0.035694,
     "end_time": "2022-09-24T20:07:41.198846",
     "exception": false,
     "start_time": "2022-09-24T20:07:41.163152",
     "status": "completed"
    },
    "tags": []
   },
   "source": [
    "# 3) Train and Evaluate #\n",
    "\n",
    "\n",
    "What do you think about the learning curves? Does it look like the model underfit or overfit? Was the cross-entropy loss a good stand-in for accuracy?"
   ]
  },
  {
   "cell_type": "code",
   "execution_count": 7,
   "id": "fda981d0",
   "metadata": {
    "execution": {
     "iopub.execute_input": "2022-09-24T20:07:41.272831Z",
     "iopub.status.busy": "2022-09-24T20:07:41.271878Z",
     "iopub.status.idle": "2022-09-24T20:07:41.280651Z",
     "shell.execute_reply": "2022-09-24T20:07:41.279577Z"
    },
    "papermill": {
     "duration": 0.048646,
     "end_time": "2022-09-24T20:07:41.283513",
     "exception": false,
     "start_time": "2022-09-24T20:07:41.234867",
     "status": "completed"
    },
    "tags": []
   },
   "outputs": [
    {
     "data": {
      "application/javascript": [
       "parent.postMessage({\"jupyterEvent\": \"custom.exercise_interaction\", \"data\": {\"outcomeType\": 1, \"valueTowardsCompletion\": 0.3333333333333333, \"interactionType\": 1, \"questionType\": 4, \"questionId\": \"3_Q3\", \"learnToolsVersion\": \"0.3.4\", \"failureMessage\": \"\", \"exceptionClass\": \"\", \"trace\": \"\"}}, \"*\")"
      ],
      "text/plain": [
       "<IPython.core.display.Javascript object>"
      ]
     },
     "metadata": {},
     "output_type": "display_data"
    },
    {
     "data": {
      "text/markdown": [
       "<span style=\"color:#33cc33\">Correct:</span> \n",
       "\n",
       "Though we can see the training loss continuing to fall, the early stopping callback prevented any overfitting. Moreover, the accuracy rose at the same rate as the cross-entropy fell, so it appears that minimizing cross-entropy was a good stand-in. All in all, it looks like this training was a success!"
      ],
      "text/plain": [
       "Correct: \n",
       "\n",
       "Though we can see the training loss continuing to fall, the early stopping callback prevented any overfitting. Moreover, the accuracy rose at the same rate as the cross-entropy fell, so it appears that minimizing cross-entropy was a good stand-in. All in all, it looks like this training was a success!"
      ]
     },
     "metadata": {},
     "output_type": "display_data"
    }
   ],
   "source": [
    "# View the solution (Run this cell to receive credit!)\n",
    "q_3.check()"
   ]
  },
  {
   "cell_type": "markdown",
   "id": "761babe6",
   "metadata": {
    "papermill": {
     "duration": 0.035403,
     "end_time": "2022-09-24T20:07:41.354327",
     "exception": false,
     "start_time": "2022-09-24T20:07:41.318924",
     "status": "completed"
    },
    "tags": []
   },
   "source": [
    "# Conclusion #\n",
    "\n",
    "Congratulations! You've completed Kaggle's *Introduction to Deep Learning* course!\n",
    "\n",
    "With your new skills you're ready to take on more advanced applications like computer vision and sentiment classification. What would you like to do next?\n",
    "\n",
    "Why not try one of our *Getting Started* competitions?\n",
    "\n",
    "- Classify images with TPUs in [**Petals to the Metal**](https://www.kaggle.com/c/tpu-getting-started)\n",
    "- Create art with GANs in [**I'm Something of a Painter Myself**](https://www.kaggle.com/c/gan-getting-started)\n",
    "- Classify Tweets in [**Real or Not? NLP with Disaster Tweets**](https://www.kaggle.com/c/nlp-getting-started)\n",
    "- Detect contradiction and entailment in [**Contradictory, My Dear Watson**](https://www.kaggle.com/c/contradictory-my-dear-watson)\n",
    "\n",
    "Until next time, Kagglers!"
   ]
  },
  {
   "cell_type": "markdown",
   "id": "5adb3db5",
   "metadata": {
    "papermill": {
     "duration": 0.035564,
     "end_time": "2022-09-24T20:07:41.425449",
     "exception": false,
     "start_time": "2022-09-24T20:07:41.389885",
     "status": "completed"
    },
    "tags": []
   },
   "source": [
    "---\n",
    "\n",
    "\n",
    "\n",
    "\n",
    "*Have questions or comments? Visit the [course discussion forum](https://www.kaggle.com/learn/intro-to-deep-learning/discussion) to chat with other learners.*"
   ]
  }
 ],
 "metadata": {
  "kernelspec": {
   "display_name": "Python 3",
   "language": "python",
   "name": "python3"
  },
  "language_info": {
   "codemirror_mode": {
    "name": "ipython",
    "version": 3
   },
   "file_extension": ".py",
   "mimetype": "text/x-python",
   "name": "python",
   "nbconvert_exporter": "python",
   "pygments_lexer": "ipython3",
   "version": "3.7.12"
  },
  "papermill": {
   "default_parameters": {},
   "duration": 59.294009,
   "end_time": "2022-09-24T20:07:44.875302",
   "environment_variables": {},
   "exception": null,
   "input_path": "__notebook__.ipynb",
   "output_path": "__notebook__.ipynb",
   "parameters": {},
   "start_time": "2022-09-24T20:06:45.581293",
   "version": "2.3.4"
  }
 },
 "nbformat": 4,
 "nbformat_minor": 5
}
