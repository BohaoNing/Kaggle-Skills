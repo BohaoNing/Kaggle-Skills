{
 "cells": [
  {
   "cell_type": "markdown",
   "id": "7bd57333",
   "metadata": {
    "papermill": {
     "duration": 0.009175,
     "end_time": "2022-07-30T15:43:21.897450",
     "exception": false,
     "start_time": "2022-07-30T15:43:21.888275",
     "status": "completed"
    },
    "tags": []
   },
   "source": [
    "**This notebook is an exercise in the [Intro to Deep Learning](https://www.kaggle.com/learn/intro-to-deep-learning) course.  You can reference the tutorial at [this link](https://www.kaggle.com/ryanholbrook/binary-classification).**\n",
    "\n",
    "---\n"
   ]
  },
  {
   "cell_type": "markdown",
   "id": "fc9a80a4",
   "metadata": {
    "papermill": {
     "duration": 0.008706,
     "end_time": "2022-07-30T15:43:21.916492",
     "exception": false,
     "start_time": "2022-07-30T15:43:21.907786",
     "status": "completed"
    },
    "tags": []
   },
   "source": [
    "# Introduction #\n",
    "\n",
    "In this exercise, you'll build a model to predict hotel cancellations with a binary classifier."
   ]
  },
  {
   "cell_type": "code",
   "execution_count": 1,
   "id": "21af8a67",
   "metadata": {
    "execution": {
     "iopub.execute_input": "2022-07-30T15:43:21.937297Z",
     "iopub.status.busy": "2022-07-30T15:43:21.936479Z",
     "iopub.status.idle": "2022-07-30T15:43:22.003688Z",
     "shell.execute_reply": "2022-07-30T15:43:22.001884Z"
    },
    "lines_to_next_cell": 0,
    "papermill": {
     "duration": 0.081924,
     "end_time": "2022-07-30T15:43:22.007529",
     "exception": false,
     "start_time": "2022-07-30T15:43:21.925605",
     "status": "completed"
    },
    "tags": []
   },
   "outputs": [],
   "source": [
    "# Setup plotting\n",
    "import matplotlib.pyplot as plt\n",
    "plt.style.use('seaborn-whitegrid')\n",
    "# Set Matplotlib defaults\n",
    "plt.rc('figure', autolayout=True)\n",
    "plt.rc('axes', labelweight='bold', labelsize='large',\n",
    "       titleweight='bold', titlesize=18, titlepad=10)\n",
    "plt.rc('animation', html='html5')\n",
    "\n",
    "# Setup feedback system\n",
    "from learntools.core import binder\n",
    "binder.bind(globals())\n",
    "from learntools.deep_learning_intro.ex6 import *"
   ]
  },
  {
   "cell_type": "markdown",
   "id": "3b0cfef1",
   "metadata": {
    "papermill": {
     "duration": 0.007296,
     "end_time": "2022-07-30T15:43:22.023179",
     "exception": false,
     "start_time": "2022-07-30T15:43:22.015883",
     "status": "completed"
    },
    "tags": []
   },
   "source": [
    "First, load the *Hotel Cancellations* dataset."
   ]
  },
  {
   "cell_type": "code",
   "execution_count": 2,
   "id": "68d107ea",
   "metadata": {
    "execution": {
     "iopub.execute_input": "2022-07-30T15:43:22.040271Z",
     "iopub.status.busy": "2022-07-30T15:43:22.039795Z",
     "iopub.status.idle": "2022-07-30T15:43:24.516862Z",
     "shell.execute_reply": "2022-07-30T15:43:24.515673Z"
    },
    "lines_to_next_cell": 2,
    "papermill": {
     "duration": 2.488814,
     "end_time": "2022-07-30T15:43:24.519891",
     "exception": false,
     "start_time": "2022-07-30T15:43:22.031077",
     "status": "completed"
    },
    "tags": []
   },
   "outputs": [],
   "source": [
    "import pandas as pd\n",
    "\n",
    "from sklearn.model_selection import train_test_split\n",
    "from sklearn.preprocessing import StandardScaler, OneHotEncoder\n",
    "from sklearn.impute import SimpleImputer\n",
    "from sklearn.pipeline import make_pipeline\n",
    "from sklearn.compose import make_column_transformer\n",
    "\n",
    "hotel = pd.read_csv('../input/dl-course-data/hotel.csv')\n",
    "\n",
    "X = hotel.copy()\n",
    "y = X.pop('is_canceled')\n",
    "\n",
    "X['arrival_date_month'] = \\\n",
    "    X['arrival_date_month'].map(\n",
    "        {'January':1, 'February': 2, 'March':3,\n",
    "         'April':4, 'May':5, 'June':6, 'July':7,\n",
    "         'August':8, 'September':9, 'October':10,\n",
    "         'November':11, 'December':12}\n",
    "    )\n",
    "\n",
    "features_num = [\n",
    "    \"lead_time\", \"arrival_date_week_number\",\n",
    "    \"arrival_date_day_of_month\", \"stays_in_weekend_nights\",\n",
    "    \"stays_in_week_nights\", \"adults\", \"children\", \"babies\",\n",
    "    \"is_repeated_guest\", \"previous_cancellations\",\n",
    "    \"previous_bookings_not_canceled\", \"required_car_parking_spaces\",\n",
    "    \"total_of_special_requests\", \"adr\",\n",
    "]\n",
    "features_cat = [\n",
    "    \"hotel\", \"arrival_date_month\", \"meal\",\n",
    "    \"market_segment\", \"distribution_channel\",\n",
    "    \"reserved_room_type\", \"deposit_type\", \"customer_type\",\n",
    "]\n",
    "\n",
    "transformer_num = make_pipeline(\n",
    "    SimpleImputer(strategy=\"constant\"), # there are a few missing values\n",
    "    StandardScaler(),\n",
    ")\n",
    "transformer_cat = make_pipeline(\n",
    "    SimpleImputer(strategy=\"constant\", fill_value=\"NA\"),\n",
    "    OneHotEncoder(handle_unknown='ignore'),\n",
    ")\n",
    "\n",
    "preprocessor = make_column_transformer(\n",
    "    (transformer_num, features_num),\n",
    "    (transformer_cat, features_cat),\n",
    ")\n",
    "\n",
    "# stratify - make sure classes are evenlly represented across splits\n",
    "X_train, X_valid, y_train, y_valid = \\\n",
    "    train_test_split(X, y, stratify=y, train_size=0.75)\n",
    "\n",
    "X_train = preprocessor.fit_transform(X_train)\n",
    "X_valid = preprocessor.transform(X_valid)\n",
    "\n",
    "input_shape = [X_train.shape[1]]"
   ]
  },
  {
   "cell_type": "markdown",
   "id": "f9509f4e",
   "metadata": {
    "papermill": {
     "duration": 0.004777,
     "end_time": "2022-07-30T15:43:24.530675",
     "exception": false,
     "start_time": "2022-07-30T15:43:24.525898",
     "status": "completed"
    },
    "tags": []
   },
   "source": [
    "# 1) Define Model #\n",
    "\n",
    "The model we'll use this time will have both batch normalization and dropout layers. To ease reading we've broken the diagram into blocks, but you can define it layer by layer as usual.\n",
    "\n",
    "Define a model with an architecture given by this diagram:\n",
    "\n",
    "<figure style=\"padding: 1em;\">\n",
    "<img src=\"https://i.imgur.com/V04o59Z.png\" width=\"400\" alt=\"Diagram of network architecture: BatchNorm, Dense, BatchNorm, Dropout, Dense, BatchNorm, Dropout, Dense.\">\n",
    "<figcaption style=\"textalign: center; font-style: italic\"><center>Diagram of a binary classifier.</center></figcaption>\n",
    "</figure>\n"
   ]
  },
  {
   "cell_type": "code",
   "execution_count": 3,
   "id": "f9a80cea",
   "metadata": {
    "execution": {
     "iopub.execute_input": "2022-07-30T15:43:24.540136Z",
     "iopub.status.busy": "2022-07-30T15:43:24.539772Z",
     "iopub.status.idle": "2022-07-30T15:43:33.996909Z",
     "shell.execute_reply": "2022-07-30T15:43:33.995617Z"
    },
    "lines_to_next_cell": 2,
    "papermill": {
     "duration": 9.464873,
     "end_time": "2022-07-30T15:43:33.999618",
     "exception": false,
     "start_time": "2022-07-30T15:43:24.534745",
     "status": "completed"
    },
    "tags": []
   },
   "outputs": [
    {
     "name": "stderr",
     "output_type": "stream",
     "text": [
      "2022-07-30 15:43:30.644098: I tensorflow/stream_executor/cuda/cuda_gpu_executor.cc:937] successful NUMA node read from SysFS had negative value (-1), but there must be at least one NUMA node, so returning NUMA node zero\n",
      "2022-07-30 15:43:30.790991: I tensorflow/stream_executor/cuda/cuda_gpu_executor.cc:937] successful NUMA node read from SysFS had negative value (-1), but there must be at least one NUMA node, so returning NUMA node zero\n",
      "2022-07-30 15:43:30.792236: I tensorflow/stream_executor/cuda/cuda_gpu_executor.cc:937] successful NUMA node read from SysFS had negative value (-1), but there must be at least one NUMA node, so returning NUMA node zero\n",
      "2022-07-30 15:43:30.794639: I tensorflow/core/platform/cpu_feature_guard.cc:142] This TensorFlow binary is optimized with oneAPI Deep Neural Network Library (oneDNN) to use the following CPU instructions in performance-critical operations:  AVX2 FMA\n",
      "To enable them in other operations, rebuild TensorFlow with the appropriate compiler flags.\n",
      "2022-07-30 15:43:30.799051: I tensorflow/stream_executor/cuda/cuda_gpu_executor.cc:937] successful NUMA node read from SysFS had negative value (-1), but there must be at least one NUMA node, so returning NUMA node zero\n",
      "2022-07-30 15:43:30.800117: I tensorflow/stream_executor/cuda/cuda_gpu_executor.cc:937] successful NUMA node read from SysFS had negative value (-1), but there must be at least one NUMA node, so returning NUMA node zero\n",
      "2022-07-30 15:43:30.801146: I tensorflow/stream_executor/cuda/cuda_gpu_executor.cc:937] successful NUMA node read from SysFS had negative value (-1), but there must be at least one NUMA node, so returning NUMA node zero\n",
      "2022-07-30 15:43:33.530923: I tensorflow/stream_executor/cuda/cuda_gpu_executor.cc:937] successful NUMA node read from SysFS had negative value (-1), but there must be at least one NUMA node, so returning NUMA node zero\n",
      "2022-07-30 15:43:33.532212: I tensorflow/stream_executor/cuda/cuda_gpu_executor.cc:937] successful NUMA node read from SysFS had negative value (-1), but there must be at least one NUMA node, so returning NUMA node zero\n",
      "2022-07-30 15:43:33.533255: I tensorflow/stream_executor/cuda/cuda_gpu_executor.cc:937] successful NUMA node read from SysFS had negative value (-1), but there must be at least one NUMA node, so returning NUMA node zero\n",
      "2022-07-30 15:43:33.534114: I tensorflow/core/common_runtime/gpu/gpu_device.cc:1510] Created device /job:localhost/replica:0/task:0/device:GPU:0 with 15403 MB memory:  -> device: 0, name: Tesla P100-PCIE-16GB, pci bus id: 0000:00:04.0, compute capability: 6.0\n"
     ]
    },
    {
     "data": {
      "application/javascript": [
       "parent.postMessage({\"jupyterEvent\": \"custom.exercise_interaction\", \"data\": {\"outcomeType\": 1, \"valueTowardsCompletion\": 0.3333333333333333, \"interactionType\": 1, \"questionType\": 2, \"questionId\": \"1_Q1\", \"learnToolsVersion\": \"0.3.4\", \"failureMessage\": \"\", \"exceptionClass\": \"\", \"trace\": \"\"}}, \"*\")"
      ],
      "text/plain": [
       "<IPython.core.display.Javascript object>"
      ]
     },
     "metadata": {},
     "output_type": "display_data"
    },
    {
     "data": {
      "text/markdown": [
       "<span style=\"color:#33cc33\">Correct</span>"
      ],
      "text/plain": [
       "Correct"
      ]
     },
     "metadata": {},
     "output_type": "display_data"
    }
   ],
   "source": [
    "from tensorflow import keras\n",
    "from tensorflow.keras import layers\n",
    "\n",
    "# YOUR CODE HERE: define the model given in the diagram\n",
    "model = keras.Sequential([\n",
    "    layers.BatchNormalization(input_shape=input_shape),\n",
    "    layers.Dense(256,activation='relu'),\n",
    "    layers.BatchNormalization(),\n",
    "    layers.Dropout(0.3),\n",
    "    layers.Dense(256,activation='relu'),\n",
    "    layers.BatchNormalization(),\n",
    "    layers.Dropout(0.3),\n",
    "    layers.Dense(1,activation='sigmoid')\n",
    "])\n",
    "\n",
    "# Check your answer\n",
    "q_1.check()"
   ]
  },
  {
   "cell_type": "markdown",
   "id": "06c333c3",
   "metadata": {
    "papermill": {
     "duration": 0.004889,
     "end_time": "2022-07-30T15:43:34.009507",
     "exception": false,
     "start_time": "2022-07-30T15:43:34.004618",
     "status": "completed"
    },
    "tags": []
   },
   "source": [
    "# 2) Add Optimizer, Loss, and Metric #\n",
    "\n",
    "Now compile the model with the Adam optimizer and binary versions of the cross-entropy loss and accuracy metric."
   ]
  },
  {
   "cell_type": "code",
   "execution_count": 4,
   "id": "83fac5bc",
   "metadata": {
    "execution": {
     "iopub.execute_input": "2022-07-30T15:43:34.020751Z",
     "iopub.status.busy": "2022-07-30T15:43:34.020392Z",
     "iopub.status.idle": "2022-07-30T15:43:34.038989Z",
     "shell.execute_reply": "2022-07-30T15:43:34.037696Z"
    },
    "lines_to_next_cell": 0,
    "papermill": {
     "duration": 0.027227,
     "end_time": "2022-07-30T15:43:34.041574",
     "exception": false,
     "start_time": "2022-07-30T15:43:34.014347",
     "status": "completed"
    },
    "tags": []
   },
   "outputs": [
    {
     "data": {
      "application/javascript": [
       "parent.postMessage({\"jupyterEvent\": \"custom.exercise_interaction\", \"data\": {\"outcomeType\": 1, \"valueTowardsCompletion\": 0.3333333333333333, \"interactionType\": 1, \"questionType\": 2, \"questionId\": \"2_Q2\", \"learnToolsVersion\": \"0.3.4\", \"failureMessage\": \"\", \"exceptionClass\": \"\", \"trace\": \"\"}}, \"*\")"
      ],
      "text/plain": [
       "<IPython.core.display.Javascript object>"
      ]
     },
     "metadata": {},
     "output_type": "display_data"
    },
    {
     "data": {
      "text/markdown": [
       "<span style=\"color:#33cc33\">Correct</span>"
      ],
      "text/plain": [
       "Correct"
      ]
     },
     "metadata": {},
     "output_type": "display_data"
    }
   ],
   "source": [
    "# YOUR CODE HERE\n",
    "model.compile(\n",
    "    optimizer='adam',\n",
    "    loss='binary_crossentropy',\n",
    "    metrics=['binary_accuracy'],\n",
    ")\n",
    "\n",
    "# Check your answer\n",
    "q_2.check()"
   ]
  },
  {
   "cell_type": "code",
   "execution_count": 5,
   "id": "78186ca8",
   "metadata": {
    "execution": {
     "iopub.execute_input": "2022-07-30T15:43:34.053326Z",
     "iopub.status.busy": "2022-07-30T15:43:34.052404Z",
     "iopub.status.idle": "2022-07-30T15:43:34.057583Z",
     "shell.execute_reply": "2022-07-30T15:43:34.056182Z"
    },
    "lines_to_next_cell": 0,
    "papermill": {
     "duration": 0.013497,
     "end_time": "2022-07-30T15:43:34.059988",
     "exception": false,
     "start_time": "2022-07-30T15:43:34.046491",
     "status": "completed"
    },
    "tags": []
   },
   "outputs": [],
   "source": [
    "# Lines below will give you a hint or solution code\n",
    "#q_2.hint()\n",
    "#q_2.solution()"
   ]
  },
  {
   "cell_type": "markdown",
   "id": "fd9f47ba",
   "metadata": {
    "papermill": {
     "duration": 0.004713,
     "end_time": "2022-07-30T15:43:34.069499",
     "exception": false,
     "start_time": "2022-07-30T15:43:34.064786",
     "status": "completed"
    },
    "tags": []
   },
   "source": [
    "Finally, run this cell to train the model and view the learning curves. It may run for around 60 to 70 epochs, which could take a minute or two."
   ]
  },
  {
   "cell_type": "code",
   "execution_count": 6,
   "id": "0b629617",
   "metadata": {
    "execution": {
     "iopub.execute_input": "2022-07-30T15:43:34.080458Z",
     "iopub.status.busy": "2022-07-30T15:43:34.080134Z",
     "iopub.status.idle": "2022-07-30T15:44:19.563714Z",
     "shell.execute_reply": "2022-07-30T15:44:19.562357Z"
    },
    "papermill": {
     "duration": 45.491805,
     "end_time": "2022-07-30T15:44:19.566255",
     "exception": false,
     "start_time": "2022-07-30T15:43:34.074450",
     "status": "completed"
    },
    "tags": []
   },
   "outputs": [
    {
     "name": "stderr",
     "output_type": "stream",
     "text": [
      "2022-07-30 15:43:34.210810: I tensorflow/compiler/mlir/mlir_graph_optimization_pass.cc:185] None of the MLIR Optimization Passes are enabled (registered 2)\n"
     ]
    },
    {
     "name": "stdout",
     "output_type": "stream",
     "text": [
      "Epoch 1/200\n",
      "175/175 [==============================] - 3s 7ms/step - loss: 0.4842 - binary_accuracy: 0.7715 - val_loss: 0.4344 - val_binary_accuracy: 0.7940\n",
      "Epoch 2/200\n",
      "175/175 [==============================] - 1s 6ms/step - loss: 0.4247 - binary_accuracy: 0.8018 - val_loss: 0.4027 - val_binary_accuracy: 0.8114\n",
      "Epoch 3/200\n",
      "175/175 [==============================] - 1s 6ms/step - loss: 0.4089 - binary_accuracy: 0.8083 - val_loss: 0.3963 - val_binary_accuracy: 0.8174\n",
      "Epoch 4/200\n",
      "175/175 [==============================] - 1s 6ms/step - loss: 0.4016 - binary_accuracy: 0.8122 - val_loss: 0.3907 - val_binary_accuracy: 0.8190\n",
      "Epoch 5/200\n",
      "175/175 [==============================] - 1s 6ms/step - loss: 0.3961 - binary_accuracy: 0.8157 - val_loss: 0.3879 - val_binary_accuracy: 0.8192\n",
      "Epoch 6/200\n",
      "175/175 [==============================] - 1s 6ms/step - loss: 0.3915 - binary_accuracy: 0.8179 - val_loss: 0.3853 - val_binary_accuracy: 0.8222\n",
      "Epoch 7/200\n",
      "175/175 [==============================] - 1s 6ms/step - loss: 0.3887 - binary_accuracy: 0.8195 - val_loss: 0.3821 - val_binary_accuracy: 0.8238\n",
      "Epoch 8/200\n",
      "175/175 [==============================] - 1s 7ms/step - loss: 0.3849 - binary_accuracy: 0.8217 - val_loss: 0.3795 - val_binary_accuracy: 0.8267\n",
      "Epoch 9/200\n",
      "175/175 [==============================] - 1s 6ms/step - loss: 0.3819 - binary_accuracy: 0.8230 - val_loss: 0.3842 - val_binary_accuracy: 0.8226\n",
      "Epoch 10/200\n",
      "175/175 [==============================] - 1s 6ms/step - loss: 0.3793 - binary_accuracy: 0.8234 - val_loss: 0.3776 - val_binary_accuracy: 0.8280\n",
      "Epoch 11/200\n",
      "175/175 [==============================] - 1s 6ms/step - loss: 0.3765 - binary_accuracy: 0.8247 - val_loss: 0.3755 - val_binary_accuracy: 0.8291\n",
      "Epoch 12/200\n",
      "175/175 [==============================] - 1s 6ms/step - loss: 0.3750 - binary_accuracy: 0.8265 - val_loss: 0.3723 - val_binary_accuracy: 0.8297\n",
      "Epoch 13/200\n",
      "175/175 [==============================] - 1s 6ms/step - loss: 0.3713 - binary_accuracy: 0.8290 - val_loss: 0.3703 - val_binary_accuracy: 0.8322\n",
      "Epoch 14/200\n",
      "175/175 [==============================] - 1s 5ms/step - loss: 0.3699 - binary_accuracy: 0.8289 - val_loss: 0.3685 - val_binary_accuracy: 0.8320\n",
      "Epoch 15/200\n",
      "175/175 [==============================] - 1s 5ms/step - loss: 0.3676 - binary_accuracy: 0.8294 - val_loss: 0.3725 - val_binary_accuracy: 0.8296\n",
      "Epoch 16/200\n",
      "175/175 [==============================] - 1s 6ms/step - loss: 0.3663 - binary_accuracy: 0.8302 - val_loss: 0.3655 - val_binary_accuracy: 0.8341\n",
      "Epoch 17/200\n",
      "175/175 [==============================] - 1s 6ms/step - loss: 0.3649 - binary_accuracy: 0.8315 - val_loss: 0.3667 - val_binary_accuracy: 0.8337\n",
      "Epoch 18/200\n",
      "175/175 [==============================] - 1s 6ms/step - loss: 0.3622 - binary_accuracy: 0.8324 - val_loss: 0.3682 - val_binary_accuracy: 0.8340\n",
      "Epoch 19/200\n",
      "175/175 [==============================] - 1s 7ms/step - loss: 0.3603 - binary_accuracy: 0.8329 - val_loss: 0.3663 - val_binary_accuracy: 0.8329\n",
      "Epoch 20/200\n",
      "175/175 [==============================] - 1s 6ms/step - loss: 0.3609 - binary_accuracy: 0.8326 - val_loss: 0.3631 - val_binary_accuracy: 0.8351\n",
      "Epoch 21/200\n",
      "175/175 [==============================] - 1s 7ms/step - loss: 0.3570 - binary_accuracy: 0.8350 - val_loss: 0.3638 - val_binary_accuracy: 0.8352\n",
      "Epoch 22/200\n",
      "175/175 [==============================] - 1s 7ms/step - loss: 0.3573 - binary_accuracy: 0.8334 - val_loss: 0.3609 - val_binary_accuracy: 0.8341\n",
      "Epoch 23/200\n",
      "175/175 [==============================] - 1s 6ms/step - loss: 0.3545 - binary_accuracy: 0.8351 - val_loss: 0.3604 - val_binary_accuracy: 0.8354\n",
      "Epoch 24/200\n",
      "175/175 [==============================] - 1s 6ms/step - loss: 0.3547 - binary_accuracy: 0.8361 - val_loss: 0.3585 - val_binary_accuracy: 0.8384\n",
      "Epoch 25/200\n",
      "175/175 [==============================] - 1s 6ms/step - loss: 0.3520 - binary_accuracy: 0.8372 - val_loss: 0.3582 - val_binary_accuracy: 0.8381\n",
      "Epoch 26/200\n",
      "175/175 [==============================] - 1s 6ms/step - loss: 0.3513 - binary_accuracy: 0.8381 - val_loss: 0.3573 - val_binary_accuracy: 0.8383\n",
      "Epoch 27/200\n",
      "175/175 [==============================] - 1s 6ms/step - loss: 0.3513 - binary_accuracy: 0.8364 - val_loss: 0.3557 - val_binary_accuracy: 0.8393\n",
      "Epoch 28/200\n",
      "175/175 [==============================] - 1s 6ms/step - loss: 0.3501 - binary_accuracy: 0.8383 - val_loss: 0.3581 - val_binary_accuracy: 0.8389\n",
      "Epoch 29/200\n",
      "175/175 [==============================] - 1s 7ms/step - loss: 0.3496 - binary_accuracy: 0.8387 - val_loss: 0.3570 - val_binary_accuracy: 0.8385\n",
      "Epoch 30/200\n",
      "175/175 [==============================] - 1s 5ms/step - loss: 0.3469 - binary_accuracy: 0.8398 - val_loss: 0.3556 - val_binary_accuracy: 0.8399\n",
      "Epoch 31/200\n",
      "175/175 [==============================] - 1s 6ms/step - loss: 0.3466 - binary_accuracy: 0.8395 - val_loss: 0.3547 - val_binary_accuracy: 0.8402\n",
      "Epoch 32/200\n",
      "175/175 [==============================] - 1s 6ms/step - loss: 0.3447 - binary_accuracy: 0.8406 - val_loss: 0.3551 - val_binary_accuracy: 0.8397\n",
      "Epoch 33/200\n",
      "175/175 [==============================] - 1s 6ms/step - loss: 0.3446 - binary_accuracy: 0.8407 - val_loss: 0.3540 - val_binary_accuracy: 0.8397\n",
      "Epoch 34/200\n",
      "175/175 [==============================] - 1s 6ms/step - loss: 0.3444 - binary_accuracy: 0.8402 - val_loss: 0.3528 - val_binary_accuracy: 0.8411\n",
      "Epoch 35/200\n",
      "175/175 [==============================] - 1s 6ms/step - loss: 0.3440 - binary_accuracy: 0.8422 - val_loss: 0.3526 - val_binary_accuracy: 0.8398\n",
      "Epoch 36/200\n",
      "175/175 [==============================] - 1s 5ms/step - loss: 0.3422 - binary_accuracy: 0.8417 - val_loss: 0.3512 - val_binary_accuracy: 0.8413\n",
      "Epoch 37/200\n",
      "175/175 [==============================] - 1s 5ms/step - loss: 0.3406 - binary_accuracy: 0.8421 - val_loss: 0.3545 - val_binary_accuracy: 0.8402\n",
      "Epoch 38/200\n",
      "175/175 [==============================] - 1s 5ms/step - loss: 0.3413 - binary_accuracy: 0.8420 - val_loss: 0.3508 - val_binary_accuracy: 0.8407\n",
      "Epoch 39/200\n",
      "175/175 [==============================] - 1s 6ms/step - loss: 0.3391 - binary_accuracy: 0.8436 - val_loss: 0.3537 - val_binary_accuracy: 0.8397\n",
      "Epoch 40/200\n",
      "175/175 [==============================] - 1s 7ms/step - loss: 0.3393 - binary_accuracy: 0.8434 - val_loss: 0.3515 - val_binary_accuracy: 0.8406\n",
      "Epoch 41/200\n",
      "175/175 [==============================] - 1s 6ms/step - loss: 0.3384 - binary_accuracy: 0.8439 - val_loss: 0.3517 - val_binary_accuracy: 0.8410\n"
     ]
    },
    {
     "data": {
      "text/plain": [
       "<AxesSubplot:title={'center':'Accuracy'}>"
      ]
     },
     "execution_count": 6,
     "metadata": {},
     "output_type": "execute_result"
    },
    {
     "data": {
      "image/png": "[encoded data removed]",
      "text/plain": [
       "<Figure size 432x288 with 1 Axes>"
      ]
     },
     "metadata": {},
     "output_type": "display_data"
    },
    {
     "data": {
      "image/png": "[encoded data removed]",
      "text/plain": [
       "<Figure size 432x288 with 1 Axes>"
      ]
     },
     "metadata": {},
     "output_type": "display_data"
    }
   ],
   "source": [
    "early_stopping = keras.callbacks.EarlyStopping(\n",
    "    patience=5,\n",
    "    min_delta=0.001,\n",
    "    restore_best_weights=True,\n",
    ")\n",
    "history = model.fit(\n",
    "    X_train, y_train,\n",
    "    validation_data=(X_valid, y_valid),\n",
    "    batch_size=512,\n",
    "    epochs=200,\n",
    "    callbacks=[early_stopping],\n",
    ")\n",
    "\n",
    "history_df = pd.DataFrame(history.history)\n",
    "history_df.loc[:, ['loss', 'val_loss']].plot(title=\"Cross-entropy\")\n",
    "history_df.loc[:, ['binary_accuracy', 'val_binary_accuracy']].plot(title=\"Accuracy\")"
   ]
  },
  {
   "cell_type": "markdown",
   "id": "6e2afedf",
   "metadata": {
    "papermill": {
     "duration": 0.054874,
     "end_time": "2022-07-30T15:44:19.677006",
     "exception": false,
     "start_time": "2022-07-30T15:44:19.622132",
     "status": "completed"
    },
    "tags": []
   },
   "source": [
    "# 3) Train and Evaluate #\n",
    "\n",
    "\n",
    "What do you think about the learning curves? Does it look like the model underfit or overfit? Was the cross-entropy loss a good stand-in for accuracy?"
   ]
  },
  {
   "cell_type": "code",
   "execution_count": 7,
   "id": "0108f1b4",
   "metadata": {
    "execution": {
     "iopub.execute_input": "2022-07-30T15:44:19.806222Z",
     "iopub.status.busy": "2022-07-30T15:44:19.805813Z",
     "iopub.status.idle": "2022-07-30T15:44:19.817427Z",
     "shell.execute_reply": "2022-07-30T15:44:19.816124Z"
    },
    "papermill": {
     "duration": 0.088527,
     "end_time": "2022-07-30T15:44:19.819960",
     "exception": false,
     "start_time": "2022-07-30T15:44:19.731433",
     "status": "completed"
    },
    "tags": []
   },
   "outputs": [
    {
     "data": {
      "application/javascript": [
       "parent.postMessage({\"jupyterEvent\": \"custom.exercise_interaction\", \"data\": {\"outcomeType\": 1, \"valueTowardsCompletion\": 0.3333333333333333, \"interactionType\": 1, \"questionType\": 4, \"questionId\": \"3_Q3\", \"learnToolsVersion\": \"0.3.4\", \"failureMessage\": \"\", \"exceptionClass\": \"\", \"trace\": \"\"}}, \"*\")"
      ],
      "text/plain": [
       "<IPython.core.display.Javascript object>"
      ]
     },
     "metadata": {},
     "output_type": "display_data"
    },
    {
     "data": {
      "text/markdown": [
       "<span style=\"color:#33cc33\">Correct:</span> \n",
       "\n",
       "Though we can see the training loss continuing to fall, the early stopping callback prevented any overfitting. Moreover, the accuracy rose at the same rate as the cross-entropy fell, so it appears that minimizing cross-entropy was a good stand-in. All in all, it looks like this training was a success!"
      ],
      "text/plain": [
       "Correct: \n",
       "\n",
       "Though we can see the training loss continuing to fall, the early stopping callback prevented any overfitting. Moreover, the accuracy rose at the same rate as the cross-entropy fell, so it appears that minimizing cross-entropy was a good stand-in. All in all, it looks like this training was a success!"
      ]
     },
     "metadata": {},
     "output_type": "display_data"
    }
   ],
   "source": [
    "# View the solution (Run this cell to receive credit!)\n",
    "q_3.check()"
   ]
  },
  {
   "cell_type": "markdown",
   "id": "1507f6a1",
   "metadata": {
    "papermill": {
     "duration": 0.054721,
     "end_time": "2022-07-30T15:44:19.929976",
     "exception": false,
     "start_time": "2022-07-30T15:44:19.875255",
     "status": "completed"
    },
    "tags": []
   },
   "source": [
    "# Conclusion #\n",
    "\n",
    "Congratulations! You've completed Kaggle's *Introduction to Deep Learning* course!\n",
    "\n",
    "With your new skills you're ready to take on more advanced applications like computer vision and sentiment classification. What would you like to do next?\n",
    "\n",
    "Why not try one of our *Getting Started* competitions?\n",
    "\n",
    "- Classify images with TPUs in [**Petals to the Metal**](https://www.kaggle.com/c/tpu-getting-started)\n",
    "- Create art with GANs in [**I'm Something of a Painter Myself**](https://www.kaggle.com/c/gan-getting-started)\n",
    "- Classify Tweets in [**Real or Not? NLP with Disaster Tweets**](https://www.kaggle.com/c/nlp-getting-started)\n",
    "- Detect contradiction and entailment in [**Contradictory, My Dear Watson**](https://www.kaggle.com/c/contradictory-my-dear-watson)\n",
    "\n",
    "Until next time, Kagglers!"
   ]
  },
  {
   "cell_type": "markdown",
   "id": "9c3bb5eb",
   "metadata": {
    "papermill": {
     "duration": 0.055919,
     "end_time": "2022-07-30T15:44:20.041685",
     "exception": false,
     "start_time": "2022-07-30T15:44:19.985766",
     "status": "completed"
    },
    "tags": []
   },
   "source": [
    "---\n",
    "\n",
    "\n",
    "\n",
    "\n",
    "*Have questions or comments? Visit the [course discussion forum](https://www.kaggle.com/learn/intro-to-deep-learning/discussion) to chat with other learners.*"
   ]
  }
 ],
 "metadata": {
  "kernelspec": {
   "display_name": "Python 3",
   "language": "python",
   "name": "python3"
  },
  "language_info": {
   "codemirror_mode": {
    "name": "ipython",
    "version": 3
   },
   "file_extension": ".py",
   "mimetype": "text/x-python",
   "name": "python",
   "nbconvert_exporter": "python",
   "pygments_lexer": "ipython3",
   "version": "3.7.12"
  },
  "papermill": {
   "default_parameters": {},
   "duration": 71.614551,
   "end_time": "2022-07-30T15:44:23.987662",
   "environment_variables": {},
   "exception": null,
   "input_path": "__notebook__.ipynb",
   "output_path": "__notebook__.ipynb",
   "parameters": {},
   "start_time": "2022-07-30T15:43:12.373111",
   "version": "2.3.4"
  }
 },
 "nbformat": 4,
 "nbformat_minor": 5
}
