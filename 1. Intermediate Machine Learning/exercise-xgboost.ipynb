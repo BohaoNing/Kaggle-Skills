{
 "cells": [
  {
   "cell_type": "markdown",
   "id": "144b4210",
   "metadata": {
    "papermill": {
     "duration": 0.006365,
     "end_time": "2022-07-24T01:41:17.745232",
     "exception": false,
     "start_time": "2022-07-24T01:41:17.738867",
     "status": "completed"
    },
    "tags": []
   },
   "source": [
    "**This notebook is an exercise in the [Intermediate Machine Learning](https://www.kaggle.com/learn/intermediate-machine-learning) course.  You can reference the tutorial at [this link](https://www.kaggle.com/alexisbcook/xgboost).**\n",
    "\n",
    "---\n"
   ]
  },
  {
   "cell_type": "markdown",
   "id": "9917db48",
   "metadata": {
    "papermill": {
     "duration": 0.005022,
     "end_time": "2022-07-24T01:41:17.755639",
     "exception": false,
     "start_time": "2022-07-24T01:41:17.750617",
     "status": "completed"
    },
    "tags": []
   },
   "source": [
    "In this exercise, you will use your new knowledge to train a model with **gradient boosting**.\n",
    "\n",
    "# Setup\n",
    "\n",
    "The questions below will give you feedback on your work. Run the following cell to set up the feedback system."
   ]
  },
  {
   "cell_type": "code",
   "execution_count": 1,
   "id": "a673481b",
   "metadata": {
    "execution": {
     "iopub.execute_input": "2022-07-24T01:41:17.769776Z",
     "iopub.status.busy": "2022-07-24T01:41:17.768794Z",
     "iopub.status.idle": "2022-07-24T01:41:20.113331Z",
     "shell.execute_reply": "2022-07-24T01:41:20.111622Z"
    },
    "papermill": {
     "duration": 2.355331,
     "end_time": "2022-07-24T01:41:20.116568",
     "exception": false,
     "start_time": "2022-07-24T01:41:17.761237",
     "status": "completed"
    },
    "tags": []
   },
   "outputs": [
    {
     "name": "stdout",
     "output_type": "stream",
     "text": [
      "Setup Complete\n"
     ]
    }
   ],
   "source": [
    "# Set up code checking\n",
    "import os\n",
    "if not os.path.exists(\"../input/train.csv\"):\n",
    "    os.symlink(\"../input/home-data-for-ml-course/train.csv\", \"../input/train.csv\")  \n",
    "    os.symlink(\"../input/home-data-for-ml-course/test.csv\", \"../input/test.csv\") \n",
    "from learntools.core import binder\n",
    "binder.bind(globals())\n",
    "from learntools.ml_intermediate.ex6 import *\n",
    "print(\"Setup Complete\")"
   ]
  },
  {
   "cell_type": "markdown",
   "id": "52d24c50",
   "metadata": {
    "papermill": {
     "duration": 0.005591,
     "end_time": "2022-07-24T01:41:20.128624",
     "exception": false,
     "start_time": "2022-07-24T01:41:20.123033",
     "status": "completed"
    },
    "tags": []
   },
   "source": [
    "You will work with the [Housing Prices Competition for Kaggle Learn Users](https://www.kaggle.com/c/home-data-for-ml-course) dataset from the previous exercise. \n",
    "\n",
    "![Ames Housing dataset image](https://i.imgur.com/lTJVG4e.png)\n",
    "\n",
    "Run the next code cell without changes to load the training and validation sets in `X_train`, `X_valid`, `y_train`, and `y_valid`.  The test set is loaded in `X_test`."
   ]
  },
  {
   "cell_type": "code",
   "execution_count": 2,
   "id": "3a22683d",
   "metadata": {
    "execution": {
     "iopub.execute_input": "2022-07-24T01:41:20.141612Z",
     "iopub.status.busy": "2022-07-24T01:41:20.140991Z",
     "iopub.status.idle": "2022-07-24T01:41:20.330293Z",
     "shell.execute_reply": "2022-07-24T01:41:20.329146Z"
    },
    "papermill": {
     "duration": 0.199366,
     "end_time": "2022-07-24T01:41:20.333505",
     "exception": false,
     "start_time": "2022-07-24T01:41:20.134139",
     "status": "completed"
    },
    "tags": []
   },
   "outputs": [],
   "source": [
    "import pandas as pd\n",
    "from sklearn.model_selection import train_test_split\n",
    "\n",
    "# Read the data\n",
    "X = pd.read_csv('../input/train.csv', index_col='Id')\n",
    "X_test_full = pd.read_csv('../input/test.csv', index_col='Id')\n",
    "\n",
    "# Remove rows with missing target, separate target from predictors\n",
    "X.dropna(axis=0, subset=['SalePrice'], inplace=True)\n",
    "y = X.SalePrice              \n",
    "X.drop(['SalePrice'], axis=1, inplace=True)\n",
    "\n",
    "# Break off validation set from training data\n",
    "X_train_full, X_valid_full, y_train, y_valid = train_test_split(X, y, train_size=0.8, test_size=0.2,\n",
    "                                                                random_state=0)\n",
    "\n",
    "# \"Cardinality\" means the number of unique values in a column\n",
    "# Select categorical columns with relatively low cardinality (convenient but arbitrary)\n",
    "low_cardinality_cols = [cname for cname in X_train_full.columns if X_train_full[cname].nunique() < 10 and \n",
    "                        X_train_full[cname].dtype == \"object\"]\n",
    "\n",
    "# Select numeric columns\n",
    "numeric_cols = [cname for cname in X_train_full.columns if X_train_full[cname].dtype in ['int64', 'float64']]\n",
    "\n",
    "# Keep selected columns only\n",
    "my_cols = low_cardinality_cols + numeric_cols\n",
    "X_train = X_train_full[my_cols].copy()\n",
    "X_valid = X_valid_full[my_cols].copy()\n",
    "X_test = X_test_full[my_cols].copy()\n",
    "\n",
    "# One-hot encode the data (to shorten the code, we use pandas)\n",
    "X_train = pd.get_dummies(X_train)\n",
    "X_valid = pd.get_dummies(X_valid)\n",
    "X_test = pd.get_dummies(X_test)\n",
    "X_train, X_valid = X_train.align(X_valid, join='left', axis=1)\n",
    "X_train, X_test = X_train.align(X_test, join='left', axis=1)"
   ]
  },
  {
   "cell_type": "markdown",
   "id": "fec50c64",
   "metadata": {
    "papermill": {
     "duration": 0.005334,
     "end_time": "2022-07-24T01:41:20.344450",
     "exception": false,
     "start_time": "2022-07-24T01:41:20.339116",
     "status": "completed"
    },
    "tags": []
   },
   "source": [
    "# Step 1: Build model\n",
    "\n",
    "### Part A\n",
    "\n",
    "In this step, you'll build and train your first model with gradient boosting.\n",
    "\n",
    "- Begin by setting `my_model_1` to an XGBoost model.  Use the [XGBRegressor](https://xgboost.readthedocs.io/en/latest/python/python_api.html#xgboost.XGBRegressor) class, and set the random seed to 0 (`random_state=0`).  **Leave all other parameters as default.**\n",
    "- Then, fit the model to the training data in `X_train` and `y_train`."
   ]
  },
  {
   "cell_type": "code",
   "execution_count": 3,
   "id": "ee3fced0",
   "metadata": {
    "execution": {
     "iopub.execute_input": "2022-07-24T01:41:20.356931Z",
     "iopub.status.busy": "2022-07-24T01:41:20.356530Z",
     "iopub.status.idle": "2022-07-24T01:41:21.263301Z",
     "shell.execute_reply": "2022-07-24T01:41:21.262143Z"
    },
    "papermill": {
     "duration": 0.915914,
     "end_time": "2022-07-24T01:41:21.265749",
     "exception": false,
     "start_time": "2022-07-24T01:41:20.349835",
     "status": "completed"
    },
    "tags": []
   },
   "outputs": [
    {
     "data": {
      "application/javascript": [
       "parent.postMessage({\"jupyterEvent\": \"custom.exercise_interaction\", \"data\": {\"outcomeType\": 1, \"valueTowardsCompletion\": 0.5, \"interactionType\": 1, \"questionType\": 2, \"questionId\": \"1.1_Model1A\", \"learnToolsVersion\": \"0.3.4\", \"failureMessage\": \"\", \"exceptionClass\": \"\", \"trace\": \"\"}}, \"*\")"
      ],
      "text/plain": [
       "<IPython.core.display.Javascript object>"
      ]
     },
     "metadata": {},
     "output_type": "display_data"
    },
    {
     "data": {
      "text/markdown": [
       "<span style=\"color:#33cc33\">Correct</span>"
      ],
      "text/plain": [
       "Correct"
      ]
     },
     "metadata": {},
     "output_type": "display_data"
    }
   ],
   "source": [
    "from xgboost import XGBRegressor\n",
    "\n",
    "# Define the model\n",
    "my_model_1 = XGBRegressor(random_state=0) # Your code here\n",
    "\n",
    "# Fit the model\n",
    "my_model_1.fit(X_train, y_train) # Your code here\n",
    "\n",
    "# Check your answer\n",
    "step_1.a.check()"
   ]
  },
  {
   "cell_type": "code",
   "execution_count": 4,
   "id": "48809451",
   "metadata": {
    "execution": {
     "iopub.execute_input": "2022-07-24T01:41:21.279520Z",
     "iopub.status.busy": "2022-07-24T01:41:21.279090Z",
     "iopub.status.idle": "2022-07-24T01:41:21.283446Z",
     "shell.execute_reply": "2022-07-24T01:41:21.282452Z"
    },
    "papermill": {
     "duration": 0.013669,
     "end_time": "2022-07-24T01:41:21.285605",
     "exception": false,
     "start_time": "2022-07-24T01:41:21.271936",
     "status": "completed"
    },
    "tags": []
   },
   "outputs": [],
   "source": [
    "# Lines below will give you a hint or solution code\n",
    "#step_1.a.hint()\n",
    "#step_1.a.solution()"
   ]
  },
  {
   "cell_type": "markdown",
   "id": "48d7b376",
   "metadata": {
    "papermill": {
     "duration": 0.005482,
     "end_time": "2022-07-24T01:41:21.296989",
     "exception": false,
     "start_time": "2022-07-24T01:41:21.291507",
     "status": "completed"
    },
    "tags": []
   },
   "source": [
    "### Part B\n",
    "\n",
    "Set `predictions_1` to the model's predictions for the validation data.  Recall that the validation features are stored in `X_valid`."
   ]
  },
  {
   "cell_type": "code",
   "execution_count": 5,
   "id": "f16ce698",
   "metadata": {
    "execution": {
     "iopub.execute_input": "2022-07-24T01:41:21.310495Z",
     "iopub.status.busy": "2022-07-24T01:41:21.309852Z",
     "iopub.status.idle": "2022-07-24T01:41:21.334900Z",
     "shell.execute_reply": "2022-07-24T01:41:21.334095Z"
    },
    "papermill": {
     "duration": 0.034577,
     "end_time": "2022-07-24T01:41:21.337293",
     "exception": false,
     "start_time": "2022-07-24T01:41:21.302716",
     "status": "completed"
    },
    "tags": []
   },
   "outputs": [
    {
     "data": {
      "application/javascript": [
       "parent.postMessage({\"jupyterEvent\": \"custom.exercise_interaction\", \"data\": {\"outcomeType\": 1, \"valueTowardsCompletion\": 0.5, \"interactionType\": 1, \"questionType\": 2, \"questionId\": \"1.2_Model1B\", \"learnToolsVersion\": \"0.3.4\", \"failureMessage\": \"\", \"exceptionClass\": \"\", \"trace\": \"\"}}, \"*\")"
      ],
      "text/plain": [
       "<IPython.core.display.Javascript object>"
      ]
     },
     "metadata": {},
     "output_type": "display_data"
    },
    {
     "data": {
      "text/markdown": [
       "<span style=\"color:#33cc33\">Correct</span>"
      ],
      "text/plain": [
       "Correct"
      ]
     },
     "metadata": {},
     "output_type": "display_data"
    }
   ],
   "source": [
    "from sklearn.metrics import mean_absolute_error\n",
    "\n",
    "# Get predictions\n",
    "predictions_1 = my_model_1.predict(X_valid) # Your code here\n",
    "\n",
    "# Check your answer\n",
    "step_1.b.check()"
   ]
  },
  {
   "cell_type": "code",
   "execution_count": 6,
   "id": "c3a7db9c",
   "metadata": {
    "execution": {
     "iopub.execute_input": "2022-07-24T01:41:21.351783Z",
     "iopub.status.busy": "2022-07-24T01:41:21.351429Z",
     "iopub.status.idle": "2022-07-24T01:41:21.355171Z",
     "shell.execute_reply": "2022-07-24T01:41:21.354393Z"
    },
    "papermill": {
     "duration": 0.01286,
     "end_time": "2022-07-24T01:41:21.357142",
     "exception": false,
     "start_time": "2022-07-24T01:41:21.344282",
     "status": "completed"
    },
    "tags": []
   },
   "outputs": [],
   "source": [
    "# Lines below will give you a hint or solution code\n",
    "#step_1.b.hint()\n",
    "#step_1.b.solution()"
   ]
  },
  {
   "cell_type": "markdown",
   "id": "2999cad0",
   "metadata": {
    "papermill": {
     "duration": 0.006043,
     "end_time": "2022-07-24T01:41:21.369357",
     "exception": false,
     "start_time": "2022-07-24T01:41:21.363314",
     "status": "completed"
    },
    "tags": []
   },
   "source": [
    "### Part C\n",
    "\n",
    "Finally, use the `mean_absolute_error()` function to calculate the mean absolute error (MAE) corresponding to the predictions for the validation set.  Recall that the labels for the validation data are stored in `y_valid`."
   ]
  },
  {
   "cell_type": "code",
   "execution_count": 7,
   "id": "84be8585",
   "metadata": {
    "execution": {
     "iopub.execute_input": "2022-07-24T01:41:21.383737Z",
     "iopub.status.busy": "2022-07-24T01:41:21.383080Z",
     "iopub.status.idle": "2022-07-24T01:41:21.393674Z",
     "shell.execute_reply": "2022-07-24T01:41:21.392671Z"
    },
    "papermill": {
     "duration": 0.020628,
     "end_time": "2022-07-24T01:41:21.396114",
     "exception": false,
     "start_time": "2022-07-24T01:41:21.375486",
     "status": "completed"
    },
    "tags": []
   },
   "outputs": [
    {
     "name": "stdout",
     "output_type": "stream",
     "text": [
      "Mean Absolute Error: 17662.736729452055\n"
     ]
    },
    {
     "data": {
      "application/javascript": [
       "parent.postMessage({\"jupyterEvent\": \"custom.exercise_interaction\", \"data\": {\"outcomeType\": 1, \"valueTowardsCompletion\": 0.5, \"interactionType\": 1, \"questionType\": 2, \"questionId\": \"1.3_Model1C\", \"learnToolsVersion\": \"0.3.4\", \"failureMessage\": \"\", \"exceptionClass\": \"\", \"trace\": \"\"}}, \"*\")"
      ],
      "text/plain": [
       "<IPython.core.display.Javascript object>"
      ]
     },
     "metadata": {},
     "output_type": "display_data"
    },
    {
     "data": {
      "text/markdown": [
       "<span style=\"color:#33cc33\">Correct</span>"
      ],
      "text/plain": [
       "Correct"
      ]
     },
     "metadata": {},
     "output_type": "display_data"
    }
   ],
   "source": [
    "# Calculate MAE\n",
    "mae_1 = mean_absolute_error(y_valid, predictions_1) # Your code here\n",
    "\n",
    "# Uncomment to print MAE\n",
    "print(\"Mean Absolute Error:\" , mae_1)\n",
    "\n",
    "# Check your answer\n",
    "step_1.c.check()"
   ]
  },
  {
   "cell_type": "code",
   "execution_count": 8,
   "id": "3ae682d2",
   "metadata": {
    "execution": {
     "iopub.execute_input": "2022-07-24T01:41:21.410958Z",
     "iopub.status.busy": "2022-07-24T01:41:21.410179Z",
     "iopub.status.idle": "2022-07-24T01:41:21.414977Z",
     "shell.execute_reply": "2022-07-24T01:41:21.414165Z"
    },
    "papermill": {
     "duration": 0.014479,
     "end_time": "2022-07-24T01:41:21.417038",
     "exception": false,
     "start_time": "2022-07-24T01:41:21.402559",
     "status": "completed"
    },
    "tags": []
   },
   "outputs": [],
   "source": [
    "# Lines below will give you a hint or solution code\n",
    "#step_1.c.hint()\n",
    "#step_1.c.solution()"
   ]
  },
  {
   "cell_type": "markdown",
   "id": "24d41303",
   "metadata": {
    "papermill": {
     "duration": 0.006206,
     "end_time": "2022-07-24T01:41:21.429813",
     "exception": false,
     "start_time": "2022-07-24T01:41:21.423607",
     "status": "completed"
    },
    "tags": []
   },
   "source": [
    "# Step 2: Improve the model\n",
    "\n",
    "Now that you've trained a default model as baseline, it's time to tinker with the parameters, to see if you can get better performance!\n",
    "- Begin by setting `my_model_2` to an XGBoost model, using the [XGBRegressor](https://xgboost.readthedocs.io/en/latest/python/python_api.html#xgboost.XGBRegressor) class.  Use what you learned in the previous tutorial to figure out how to change the default parameters (like `n_estimators` and `learning_rate`) to get better results.\n",
    "- Then, fit the model to the training data in `X_train` and `y_train`.\n",
    "- Set `predictions_2` to the model's predictions for the validation data.  Recall that the validation features are stored in `X_valid`.\n",
    "- Finally, use the `mean_absolute_error()` function to calculate the mean absolute error (MAE) corresponding to the predictions on the validation set.  Recall that the labels for the validation data are stored in `y_valid`.\n",
    "\n",
    "In order for this step to be marked correct, your model in `my_model_2` must attain lower MAE than the model in `my_model_1`. "
   ]
  },
  {
   "cell_type": "code",
   "execution_count": 9,
   "id": "e3f4df07",
   "metadata": {
    "execution": {
     "iopub.execute_input": "2022-07-24T01:41:21.445360Z",
     "iopub.status.busy": "2022-07-24T01:41:21.444938Z",
     "iopub.status.idle": "2022-07-24T01:41:30.130510Z",
     "shell.execute_reply": "2022-07-24T01:41:30.126559Z"
    },
    "papermill": {
     "duration": 8.701051,
     "end_time": "2022-07-24T01:41:30.137170",
     "exception": false,
     "start_time": "2022-07-24T01:41:21.436119",
     "status": "completed"
    },
    "tags": []
   },
   "outputs": [
    {
     "name": "stdout",
     "output_type": "stream",
     "text": [
      "Mean Absolute Error: 16688.691513270547\n"
     ]
    },
    {
     "data": {
      "application/javascript": [
       "parent.postMessage({\"jupyterEvent\": \"custom.exercise_interaction\", \"data\": {\"outcomeType\": 1, \"valueTowardsCompletion\": 0.5, \"interactionType\": 1, \"questionType\": 2, \"questionId\": \"2_Model2\", \"learnToolsVersion\": \"0.3.4\", \"failureMessage\": \"\", \"exceptionClass\": \"\", \"trace\": \"\"}}, \"*\")"
      ],
      "text/plain": [
       "<IPython.core.display.Javascript object>"
      ]
     },
     "metadata": {},
     "output_type": "display_data"
    },
    {
     "data": {
      "text/markdown": [
       "<span style=\"color:#33cc33\">Correct</span>"
      ],
      "text/plain": [
       "Correct"
      ]
     },
     "metadata": {},
     "output_type": "display_data"
    }
   ],
   "source": [
    "# Define the model\n",
    "my_model_2 = XGBRegressor(n_estimators=1000, learning_rate=0.05) # Your code here\n",
    "\n",
    "# Fit the model\n",
    "my_model_2.fit(X_train, y_train) # Your code here\n",
    "\n",
    "# Get predictions\n",
    "predictions_2 = my_model_2.predict(X_valid) # Your code here\n",
    "\n",
    "# Calculate MAE\n",
    "mae_2 = mean_absolute_error(y_valid, predictions_2) # Your code here\n",
    "\n",
    "# Uncomment to print MAE\n",
    "print(\"Mean Absolute Error:\" , mae_2)\n",
    "\n",
    "# Check your answer\n",
    "step_2.check()"
   ]
  },
  {
   "cell_type": "code",
   "execution_count": 10,
   "id": "f2b7e752",
   "metadata": {
    "execution": {
     "iopub.execute_input": "2022-07-24T01:41:30.154415Z",
     "iopub.status.busy": "2022-07-24T01:41:30.153954Z",
     "iopub.status.idle": "2022-07-24T01:41:30.159106Z",
     "shell.execute_reply": "2022-07-24T01:41:30.157614Z"
    },
    "papermill": {
     "duration": 0.016955,
     "end_time": "2022-07-24T01:41:30.162079",
     "exception": false,
     "start_time": "2022-07-24T01:41:30.145124",
     "status": "completed"
    },
    "tags": []
   },
   "outputs": [],
   "source": [
    "# Lines below will give you a hint or solution code\n",
    "#step_2.hint()\n",
    "#step_2.solution()"
   ]
  },
  {
   "cell_type": "markdown",
   "id": "3ac7ce11",
   "metadata": {
    "papermill": {
     "duration": 0.006892,
     "end_time": "2022-07-24T01:41:30.177013",
     "exception": false,
     "start_time": "2022-07-24T01:41:30.170121",
     "status": "completed"
    },
    "tags": []
   },
   "source": [
    "# Step 3: Break the model\n",
    "\n",
    "In this step, you will create a model that performs worse than the original model in Step 1.  This will help you to develop your intuition for how to set parameters.  You might even find that you accidentally get better performance, which is ultimately a nice problem to have and a valuable learning experience!\n",
    "- Begin by setting `my_model_3` to an XGBoost model, using the [XGBRegressor](https://xgboost.readthedocs.io/en/latest/python/python_api.html#xgboost.XGBRegressor) class.  Use what you learned in the previous tutorial to figure out how to change the default parameters (like `n_estimators` and `learning_rate`) to design a model to get high MAE.\n",
    "- Then, fit the model to the training data in `X_train` and `y_train`.\n",
    "- Set `predictions_3` to the model's predictions for the validation data.  Recall that the validation features are stored in `X_valid`.\n",
    "- Finally, use the `mean_absolute_error()` function to calculate the mean absolute error (MAE) corresponding to the predictions on the validation set.  Recall that the labels for the validation data are stored in `y_valid`.\n",
    "\n",
    "In order for this step to be marked correct, your model in `my_model_3` must attain higher MAE than the model in `my_model_1`. "
   ]
  },
  {
   "cell_type": "code",
   "execution_count": 11,
   "id": "7f957f97",
   "metadata": {
    "execution": {
     "iopub.execute_input": "2022-07-24T01:41:30.194368Z",
     "iopub.status.busy": "2022-07-24T01:41:30.193513Z",
     "iopub.status.idle": "2022-07-24T01:41:39.776890Z",
     "shell.execute_reply": "2022-07-24T01:41:39.775974Z"
    },
    "papermill": {
     "duration": 9.595038,
     "end_time": "2022-07-24T01:41:39.779298",
     "exception": false,
     "start_time": "2022-07-24T01:41:30.184260",
     "status": "completed"
    },
    "tags": []
   },
   "outputs": [
    {
     "name": "stdout",
     "output_type": "stream",
     "text": [
      "Mean Absolute Error: 16688.691513270547\n"
     ]
    },
    {
     "data": {
      "application/javascript": [
       "parent.postMessage({\"jupyterEvent\": \"custom.exercise_interaction\", \"data\": {\"outcomeType\": 2, \"failureMessage\": \"You must specify the parameters in `my_model_3` so that it attains higher MAE than the model in `my_model_1`.\", \"interactionType\": 1, \"questionType\": 2, \"questionId\": \"3_Model3\", \"learnToolsVersion\": \"0.3.4\", \"valueTowardsCompletion\": 0.0, \"exceptionClass\": \"\", \"trace\": \"\"}}, \"*\")"
      ],
      "text/plain": [
       "<IPython.core.display.Javascript object>"
      ]
     },
     "metadata": {},
     "output_type": "display_data"
    },
    {
     "data": {
      "text/markdown": [
       "<span style=\"color:#cc3333\">Incorrect:</span> You must specify the parameters in `my_model_3` so that it attains higher MAE than the model in `my_model_1`."
      ],
      "text/plain": [
       "Incorrect: You must specify the parameters in `my_model_3` so that it attains higher MAE than the model in `my_model_1`."
      ]
     },
     "metadata": {},
     "output_type": "display_data"
    }
   ],
   "source": [
    "# Define the model\n",
    "my_model_3 = XGBRegressor(n_estimators=1000, learning_rate=0.05) # Your code here\n",
    "\n",
    "# Fit the model\n",
    "my_model_3.fit(X_train, y_train) # Your code here\n",
    "\n",
    "# Get predictions\n",
    "predictions_3 = my_model_3.predict(X_valid) # Your code here\n",
    "\n",
    "# Calculate MAE\n",
    "mae_3 = mean_absolute_error(y_valid, predictions_3) # Your code here\n",
    "\n",
    "# Uncomment to print MAE\n",
    "print(\"Mean Absolute Error:\" , mae_3)\n",
    "\n",
    "# Check your answer\n",
    "step_3.check()"
   ]
  },
  {
   "cell_type": "code",
   "execution_count": 12,
   "id": "81d835ea",
   "metadata": {
    "execution": {
     "iopub.execute_input": "2022-07-24T01:41:39.798255Z",
     "iopub.status.busy": "2022-07-24T01:41:39.797843Z",
     "iopub.status.idle": "2022-07-24T01:41:39.802942Z",
     "shell.execute_reply": "2022-07-24T01:41:39.801582Z"
    },
    "papermill": {
     "duration": 0.01751,
     "end_time": "2022-07-24T01:41:39.806000",
     "exception": false,
     "start_time": "2022-07-24T01:41:39.788490",
     "status": "completed"
    },
    "tags": []
   },
   "outputs": [],
   "source": [
    "# Lines below will give you a hint or solution code\n",
    "#step_3.hint()\n",
    "#step_3.solution()"
   ]
  },
  {
   "cell_type": "markdown",
   "id": "80be8022",
   "metadata": {
    "papermill": {
     "duration": 0.007086,
     "end_time": "2022-07-24T01:41:39.820338",
     "exception": false,
     "start_time": "2022-07-24T01:41:39.813252",
     "status": "completed"
    },
    "tags": []
   },
   "source": [
    "# Keep going\n",
    "\n",
    "Continue to learn about **[data leakage](https://www.kaggle.com/alexisbcook/data-leakage)**.  This is an important issue for a data scientist to understand, and it has the potential to ruin your models in subtle and dangerous ways!"
   ]
  },
  {
   "cell_type": "markdown",
   "id": "7c469b2b",
   "metadata": {
    "papermill": {
     "duration": 0.007272,
     "end_time": "2022-07-24T01:41:39.835071",
     "exception": false,
     "start_time": "2022-07-24T01:41:39.827799",
     "status": "completed"
    },
    "tags": []
   },
   "source": [
    "---\n",
    "\n",
    "\n",
    "\n",
    "\n",
    "*Have questions or comments? Visit the [course discussion forum](https://www.kaggle.com/learn/intermediate-machine-learning/discussion) to chat with other learners.*"
   ]
  }
 ],
 "metadata": {
  "kernelspec": {
   "display_name": "Python 3",
   "language": "python",
   "name": "python3"
  },
  "language_info": {
   "codemirror_mode": {
    "name": "ipython",
    "version": 3
   },
   "file_extension": ".py",
   "mimetype": "text/x-python",
   "name": "python",
   "nbconvert_exporter": "python",
   "pygments_lexer": "ipython3",
   "version": "3.7.12"
  },
  "papermill": {
   "default_parameters": {},
   "duration": 32.16552,
   "end_time": "2022-07-24T01:41:40.564787",
   "environment_variables": {},
   "exception": null,
   "input_path": "__notebook__.ipynb",
   "output_path": "__notebook__.ipynb",
   "parameters": {},
   "start_time": "2022-07-24T01:41:08.399267",
   "version": "2.3.4"
  }
 },
 "nbformat": 4,
 "nbformat_minor": 5
}
