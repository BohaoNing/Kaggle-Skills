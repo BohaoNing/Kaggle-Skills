{
 "cells": [
  {
   "cell_type": "markdown",
   "id": "80612abf",
   "metadata": {
    "papermill": {
     "duration": 0.00479,
     "end_time": "2022-08-22T13:04:06.840041",
     "exception": false,
     "start_time": "2022-08-22T13:04:06.835251",
     "status": "completed"
    },
    "tags": []
   },
   "source": [
    "**This notebook is an exercise in the [Intermediate Machine Learning](https://www.kaggle.com/learn/intermediate-machine-learning) course.  You can reference the tutorial at [this link](https://www.kaggle.com/alexisbcook/xgboost).**\n",
    "\n",
    "---\n"
   ]
  },
  {
   "cell_type": "markdown",
   "id": "976282a5",
   "metadata": {
    "papermill": {
     "duration": 0.003648,
     "end_time": "2022-08-22T13:04:06.847710",
     "exception": false,
     "start_time": "2022-08-22T13:04:06.844062",
     "status": "completed"
    },
    "tags": []
   },
   "source": [
    "In this exercise, you will use your new knowledge to train a model with **gradient boosting**.\n",
    "\n",
    "# Setup\n",
    "\n",
    "The questions below will give you feedback on your work. Run the following cell to set up the feedback system."
   ]
  },
  {
   "cell_type": "code",
   "execution_count": 1,
   "id": "6983b310",
   "metadata": {
    "execution": {
     "iopub.execute_input": "2022-08-22T13:04:06.857412Z",
     "iopub.status.busy": "2022-08-22T13:04:06.856823Z",
     "iopub.status.idle": "2022-08-22T13:04:09.408988Z",
     "shell.execute_reply": "2022-08-22T13:04:09.408256Z"
    },
    "papermill": {
     "duration": 2.559583,
     "end_time": "2022-08-22T13:04:09.411206",
     "exception": false,
     "start_time": "2022-08-22T13:04:06.851623",
     "status": "completed"
    },
    "tags": []
   },
   "outputs": [
    {
     "name": "stdout",
     "output_type": "stream",
     "text": [
      "Setup Complete\n"
     ]
    }
   ],
   "source": [
    "# Set up code checking\n",
    "import os\n",
    "if not os.path.exists(\"../input/train.csv\"):\n",
    "    os.symlink(\"../input/home-data-for-ml-course/train.csv\", \"../input/train.csv\")  \n",
    "    os.symlink(\"../input/home-data-for-ml-course/test.csv\", \"../input/test.csv\") \n",
    "from learntools.core import binder\n",
    "binder.bind(globals())\n",
    "from learntools.ml_intermediate.ex6 import *\n",
    "print(\"Setup Complete\")"
   ]
  },
  {
   "cell_type": "markdown",
   "id": "c8f9040a",
   "metadata": {
    "papermill": {
     "duration": 0.004044,
     "end_time": "2022-08-22T13:04:09.420040",
     "exception": false,
     "start_time": "2022-08-22T13:04:09.415996",
     "status": "completed"
    },
    "tags": []
   },
   "source": [
    "You will work with the [Housing Prices Competition for Kaggle Learn Users](https://www.kaggle.com/c/home-data-for-ml-course) dataset from the previous exercise. \n",
    "\n",
    "![Ames Housing dataset image](https://i.imgur.com/lTJVG4e.png)\n",
    "\n",
    "Run the next code cell without changes to load the training and validation sets in `X_train`, `X_valid`, `y_train`, and `y_valid`.  The test set is loaded in `X_test`."
   ]
  },
  {
   "cell_type": "code",
   "execution_count": 2,
   "id": "1d27debd",
   "metadata": {
    "execution": {
     "iopub.execute_input": "2022-08-22T13:04:09.430146Z",
     "iopub.status.busy": "2022-08-22T13:04:09.429816Z",
     "iopub.status.idle": "2022-08-22T13:04:09.578145Z",
     "shell.execute_reply": "2022-08-22T13:04:09.577027Z"
    },
    "papermill": {
     "duration": 0.156374,
     "end_time": "2022-08-22T13:04:09.580637",
     "exception": false,
     "start_time": "2022-08-22T13:04:09.424263",
     "status": "completed"
    },
    "tags": []
   },
   "outputs": [],
   "source": [
    "import pandas as pd\n",
    "from sklearn.model_selection import train_test_split\n",
    "\n",
    "# Read the data\n",
    "X = pd.read_csv('../input/train.csv', index_col='Id')\n",
    "X_test_full = pd.read_csv('../input/test.csv', index_col='Id')\n",
    "\n",
    "# Remove rows with missing target, separate target from predictors\n",
    "X.dropna(axis=0, subset=['SalePrice'], inplace=True)\n",
    "y = X.SalePrice              \n",
    "X.drop(['SalePrice'], axis=1, inplace=True)\n",
    "\n",
    "# Break off validation set from training data\n",
    "X_train_full, X_valid_full, y_train, y_valid = train_test_split(X, y, train_size=0.8, test_size=0.2,\n",
    "                                                                random_state=0)\n",
    "\n",
    "# \"Cardinality\" means the number of unique values in a column\n",
    "# Select categorical columns with relatively low cardinality (convenient but arbitrary)\n",
    "low_cardinality_cols = [cname for cname in X_train_full.columns if X_train_full[cname].nunique() < 10 and \n",
    "                        X_train_full[cname].dtype == \"object\"]\n",
    "\n",
    "# Select numeric columns\n",
    "numeric_cols = [cname for cname in X_train_full.columns if X_train_full[cname].dtype in ['int64', 'float64']]\n",
    "\n",
    "# Keep selected columns only\n",
    "my_cols = low_cardinality_cols + numeric_cols\n",
    "X_train = X_train_full[my_cols].copy()\n",
    "X_valid = X_valid_full[my_cols].copy()\n",
    "X_test = X_test_full[my_cols].copy()\n",
    "\n",
    "# One-hot encode the data (to shorten the code, we use pandas)\n",
    "X_train = pd.get_dummies(X_train)\n",
    "X_valid = pd.get_dummies(X_valid)\n",
    "X_test = pd.get_dummies(X_test)\n",
    "X_train, X_valid = X_train.align(X_valid, join='left', axis=1)\n",
    "X_train, X_test = X_train.align(X_test, join='left', axis=1)"
   ]
  },
  {
   "cell_type": "markdown",
   "id": "7a21864a",
   "metadata": {
    "papermill": {
     "duration": 0.003778,
     "end_time": "2022-08-22T13:04:09.588727",
     "exception": false,
     "start_time": "2022-08-22T13:04:09.584949",
     "status": "completed"
    },
    "tags": []
   },
   "source": [
    "# Step 1: Build model\n",
    "\n",
    "### Part A\n",
    "\n",
    "In this step, you'll build and train your first model with gradient boosting.\n",
    "\n",
    "- Begin by setting `my_model_1` to an XGBoost model.  Use the [XGBRegressor](https://xgboost.readthedocs.io/en/latest/python/python_api.html#xgboost.XGBRegressor) class, and set the random seed to 0 (`random_state=0`).  **Leave all other parameters as default.**\n",
    "- Then, fit the model to the training data in `X_train` and `y_train`."
   ]
  },
  {
   "cell_type": "code",
   "execution_count": 3,
   "id": "d346e612",
   "metadata": {
    "execution": {
     "iopub.execute_input": "2022-08-22T13:04:09.598363Z",
     "iopub.status.busy": "2022-08-22T13:04:09.598030Z",
     "iopub.status.idle": "2022-08-22T13:04:10.473617Z",
     "shell.execute_reply": "2022-08-22T13:04:10.472624Z"
    },
    "papermill": {
     "duration": 0.883103,
     "end_time": "2022-08-22T13:04:10.475767",
     "exception": false,
     "start_time": "2022-08-22T13:04:09.592664",
     "status": "completed"
    },
    "tags": []
   },
   "outputs": [
    {
     "data": {
      "application/javascript": [
       "parent.postMessage({\"jupyterEvent\": \"custom.exercise_interaction\", \"data\": {\"outcomeType\": 1, \"valueTowardsCompletion\": 0.5, \"interactionType\": 1, \"questionType\": 2, \"questionId\": \"1.1_Model1A\", \"learnToolsVersion\": \"0.3.4\", \"failureMessage\": \"\", \"exceptionClass\": \"\", \"trace\": \"\"}}, \"*\")"
      ],
      "text/plain": [
       "<IPython.core.display.Javascript object>"
      ]
     },
     "metadata": {},
     "output_type": "display_data"
    },
    {
     "data": {
      "text/markdown": [
       "<span style=\"color:#33cc33\">Correct</span>"
      ],
      "text/plain": [
       "Correct"
      ]
     },
     "metadata": {},
     "output_type": "display_data"
    }
   ],
   "source": [
    "from xgboost import XGBRegressor\n",
    "\n",
    "# Define the model\n",
    "my_model_1 = XGBRegressor(random_state=0) # Your code here\n",
    "\n",
    "# Fit the model\n",
    "my_model_1.fit(X_train, y_train) # Your code here\n",
    "\n",
    "# Check your answer\n",
    "step_1.a.check()"
   ]
  },
  {
   "cell_type": "code",
   "execution_count": 4,
   "id": "dda584e7",
   "metadata": {
    "execution": {
     "iopub.execute_input": "2022-08-22T13:04:10.486691Z",
     "iopub.status.busy": "2022-08-22T13:04:10.486206Z",
     "iopub.status.idle": "2022-08-22T13:04:10.489066Z",
     "shell.execute_reply": "2022-08-22T13:04:10.488522Z"
    },
    "papermill": {
     "duration": 0.010233,
     "end_time": "2022-08-22T13:04:10.490644",
     "exception": false,
     "start_time": "2022-08-22T13:04:10.480411",
     "status": "completed"
    },
    "tags": []
   },
   "outputs": [],
   "source": [
    "# Lines below will give you a hint or solution code\n",
    "#step_1.a.hint()\n",
    "#step_1.a.solution()"
   ]
  },
  {
   "cell_type": "markdown",
   "id": "4102fb36",
   "metadata": {
    "papermill": {
     "duration": 0.00414,
     "end_time": "2022-08-22T13:04:10.499458",
     "exception": false,
     "start_time": "2022-08-22T13:04:10.495318",
     "status": "completed"
    },
    "tags": []
   },
   "source": [
    "### Part B\n",
    "\n",
    "Set `predictions_1` to the model's predictions for the validation data.  Recall that the validation features are stored in `X_valid`."
   ]
  },
  {
   "cell_type": "code",
   "execution_count": 5,
   "id": "94201d4f",
   "metadata": {
    "execution": {
     "iopub.execute_input": "2022-08-22T13:04:10.510091Z",
     "iopub.status.busy": "2022-08-22T13:04:10.509150Z",
     "iopub.status.idle": "2022-08-22T13:04:10.529618Z",
     "shell.execute_reply": "2022-08-22T13:04:10.528646Z"
    },
    "papermill": {
     "duration": 0.028947,
     "end_time": "2022-08-22T13:04:10.532847",
     "exception": false,
     "start_time": "2022-08-22T13:04:10.503900",
     "status": "completed"
    },
    "tags": []
   },
   "outputs": [
    {
     "data": {
      "application/javascript": [
       "parent.postMessage({\"jupyterEvent\": \"custom.exercise_interaction\", \"data\": {\"outcomeType\": 1, \"valueTowardsCompletion\": 0.5, \"interactionType\": 1, \"questionType\": 2, \"questionId\": \"1.2_Model1B\", \"learnToolsVersion\": \"0.3.4\", \"failureMessage\": \"\", \"exceptionClass\": \"\", \"trace\": \"\"}}, \"*\")"
      ],
      "text/plain": [
       "<IPython.core.display.Javascript object>"
      ]
     },
     "metadata": {},
     "output_type": "display_data"
    },
    {
     "data": {
      "text/markdown": [
       "<span style=\"color:#33cc33\">Correct</span>"
      ],
      "text/plain": [
       "Correct"
      ]
     },
     "metadata": {},
     "output_type": "display_data"
    }
   ],
   "source": [
    "from sklearn.metrics import mean_absolute_error\n",
    "\n",
    "# Get predictions\n",
    "predictions_1 = my_model_1.predict(X_valid) # Your code here\n",
    "\n",
    "# Check your answer\n",
    "step_1.b.check()"
   ]
  },
  {
   "cell_type": "code",
   "execution_count": 6,
   "id": "9f156270",
   "metadata": {
    "execution": {
     "iopub.execute_input": "2022-08-22T13:04:10.543791Z",
     "iopub.status.busy": "2022-08-22T13:04:10.543505Z",
     "iopub.status.idle": "2022-08-22T13:04:10.546822Z",
     "shell.execute_reply": "2022-08-22T13:04:10.546181Z"
    },
    "papermill": {
     "duration": 0.010429,
     "end_time": "2022-08-22T13:04:10.548538",
     "exception": false,
     "start_time": "2022-08-22T13:04:10.538109",
     "status": "completed"
    },
    "tags": []
   },
   "outputs": [],
   "source": [
    "# Lines below will give you a hint or solution code\n",
    "#step_1.b.hint()\n",
    "#step_1.b.solution()"
   ]
  },
  {
   "cell_type": "markdown",
   "id": "3f27f10e",
   "metadata": {
    "papermill": {
     "duration": 0.004054,
     "end_time": "2022-08-22T13:04:10.557084",
     "exception": false,
     "start_time": "2022-08-22T13:04:10.553030",
     "status": "completed"
    },
    "tags": []
   },
   "source": [
    "### Part C\n",
    "\n",
    "Finally, use the `mean_absolute_error()` function to calculate the mean absolute error (MAE) corresponding to the predictions for the validation set.  Recall that the labels for the validation data are stored in `y_valid`."
   ]
  },
  {
   "cell_type": "code",
   "execution_count": 7,
   "id": "ce784387",
   "metadata": {
    "execution": {
     "iopub.execute_input": "2022-08-22T13:04:10.568140Z",
     "iopub.status.busy": "2022-08-22T13:04:10.566867Z",
     "iopub.status.idle": "2022-08-22T13:04:10.577013Z",
     "shell.execute_reply": "2022-08-22T13:04:10.576408Z"
    },
    "papermill": {
     "duration": 0.017455,
     "end_time": "2022-08-22T13:04:10.578704",
     "exception": false,
     "start_time": "2022-08-22T13:04:10.561249",
     "status": "completed"
    },
    "tags": []
   },
   "outputs": [
    {
     "name": "stdout",
     "output_type": "stream",
     "text": [
      "Mean Absolute Error: 17662.736729452055\n"
     ]
    },
    {
     "data": {
      "application/javascript": [
       "parent.postMessage({\"jupyterEvent\": \"custom.exercise_interaction\", \"data\": {\"outcomeType\": 1, \"valueTowardsCompletion\": 0.5, \"interactionType\": 1, \"questionType\": 2, \"questionId\": \"1.3_Model1C\", \"learnToolsVersion\": \"0.3.4\", \"failureMessage\": \"\", \"exceptionClass\": \"\", \"trace\": \"\"}}, \"*\")"
      ],
      "text/plain": [
       "<IPython.core.display.Javascript object>"
      ]
     },
     "metadata": {},
     "output_type": "display_data"
    },
    {
     "data": {
      "text/markdown": [
       "<span style=\"color:#33cc33\">Correct</span>"
      ],
      "text/plain": [
       "Correct"
      ]
     },
     "metadata": {},
     "output_type": "display_data"
    }
   ],
   "source": [
    "# Calculate MAE\n",
    "mae_1 = mean_absolute_error(y_valid, predictions_1) # Your code here\n",
    "\n",
    "# Uncomment to print MAE\n",
    "print(\"Mean Absolute Error:\" , mae_1)\n",
    "\n",
    "# Check your answer\n",
    "step_1.c.check()"
   ]
  },
  {
   "cell_type": "code",
   "execution_count": 8,
   "id": "e769ea60",
   "metadata": {
    "execution": {
     "iopub.execute_input": "2022-08-22T13:04:10.590173Z",
     "iopub.status.busy": "2022-08-22T13:04:10.589401Z",
     "iopub.status.idle": "2022-08-22T13:04:10.592881Z",
     "shell.execute_reply": "2022-08-22T13:04:10.592387Z"
    },
    "papermill": {
     "duration": 0.010757,
     "end_time": "2022-08-22T13:04:10.594486",
     "exception": false,
     "start_time": "2022-08-22T13:04:10.583729",
     "status": "completed"
    },
    "tags": []
   },
   "outputs": [],
   "source": [
    "# Lines below will give you a hint or solution code\n",
    "#step_1.c.hint()\n",
    "#step_1.c.solution()"
   ]
  },
  {
   "cell_type": "markdown",
   "id": "4c407272",
   "metadata": {
    "papermill": {
     "duration": 0.004507,
     "end_time": "2022-08-22T13:04:10.603824",
     "exception": false,
     "start_time": "2022-08-22T13:04:10.599317",
     "status": "completed"
    },
    "tags": []
   },
   "source": [
    "# Step 2: Improve the model\n",
    "\n",
    "Now that you've trained a default model as baseline, it's time to tinker with the parameters, to see if you can get better performance!\n",
    "- Begin by setting `my_model_2` to an XGBoost model, using the [XGBRegressor](https://xgboost.readthedocs.io/en/latest/python/python_api.html#xgboost.XGBRegressor) class.  Use what you learned in the previous tutorial to figure out how to change the default parameters (like `n_estimators` and `learning_rate`) to get better results.\n",
    "- Then, fit the model to the training data in `X_train` and `y_train`.\n",
    "- Set `predictions_2` to the model's predictions for the validation data.  Recall that the validation features are stored in `X_valid`.\n",
    "- Finally, use the `mean_absolute_error()` function to calculate the mean absolute error (MAE) corresponding to the predictions on the validation set.  Recall that the labels for the validation data are stored in `y_valid`.\n",
    "\n",
    "In order for this step to be marked correct, your model in `my_model_2` must attain lower MAE than the model in `my_model_1`. "
   ]
  },
  {
   "cell_type": "code",
   "execution_count": 9,
   "id": "84ad6f17",
   "metadata": {
    "execution": {
     "iopub.execute_input": "2022-08-22T13:04:10.615395Z",
     "iopub.status.busy": "2022-08-22T13:04:10.614815Z",
     "iopub.status.idle": "2022-08-22T13:04:18.116495Z",
     "shell.execute_reply": "2022-08-22T13:04:18.115737Z"
    },
    "papermill": {
     "duration": 7.509932,
     "end_time": "2022-08-22T13:04:18.118419",
     "exception": false,
     "start_time": "2022-08-22T13:04:10.608487",
     "status": "completed"
    },
    "tags": []
   },
   "outputs": [
    {
     "name": "stdout",
     "output_type": "stream",
     "text": [
      "Mean Absolute Error: 16688.691513270547\n"
     ]
    },
    {
     "data": {
      "application/javascript": [
       "parent.postMessage({\"jupyterEvent\": \"custom.exercise_interaction\", \"data\": {\"outcomeType\": 1, \"valueTowardsCompletion\": 0.5, \"interactionType\": 1, \"questionType\": 2, \"questionId\": \"2_Model2\", \"learnToolsVersion\": \"0.3.4\", \"failureMessage\": \"\", \"exceptionClass\": \"\", \"trace\": \"\"}}, \"*\")"
      ],
      "text/plain": [
       "<IPython.core.display.Javascript object>"
      ]
     },
     "metadata": {},
     "output_type": "display_data"
    },
    {
     "data": {
      "text/markdown": [
       "<span style=\"color:#33cc33\">Correct</span>"
      ],
      "text/plain": [
       "Correct"
      ]
     },
     "metadata": {},
     "output_type": "display_data"
    }
   ],
   "source": [
    "# Define the model\n",
    "my_model_2 = XGBRegressor(n_estimators=1000, learning_rate=0.05) # Your code here\n",
    "\n",
    "# Fit the model\n",
    "my_model_2.fit(X_train, y_train) # Your code here\n",
    "\n",
    "# Get predictions\n",
    "predictions_2 = my_model_2.predict(X_valid) # Your code here\n",
    "\n",
    "# Calculate MAE\n",
    "mae_2 = mean_absolute_error(y_valid, predictions_2) # Your code here\n",
    "\n",
    "# Uncomment to print MAE\n",
    "print(\"Mean Absolute Error:\" , mae_2)\n",
    "\n",
    "# Check your answer\n",
    "step_2.check()"
   ]
  },
  {
   "cell_type": "code",
   "execution_count": 10,
   "id": "d9e3b944",
   "metadata": {
    "execution": {
     "iopub.execute_input": "2022-08-22T13:04:18.133940Z",
     "iopub.status.busy": "2022-08-22T13:04:18.133562Z",
     "iopub.status.idle": "2022-08-22T13:04:18.139637Z",
     "shell.execute_reply": "2022-08-22T13:04:18.137911Z"
    },
    "papermill": {
     "duration": 0.016806,
     "end_time": "2022-08-22T13:04:18.142437",
     "exception": false,
     "start_time": "2022-08-22T13:04:18.125631",
     "status": "completed"
    },
    "tags": []
   },
   "outputs": [],
   "source": [
    "# Lines below will give you a hint or solution code\n",
    "#step_2.hint()\n",
    "#step_2.solution()"
   ]
  },
  {
   "cell_type": "markdown",
   "id": "fdeb1c1a",
   "metadata": {
    "papermill": {
     "duration": 0.007192,
     "end_time": "2022-08-22T13:04:18.157809",
     "exception": false,
     "start_time": "2022-08-22T13:04:18.150617",
     "status": "completed"
    },
    "tags": []
   },
   "source": [
    "# Step 3: Break the model\n",
    "\n",
    "In this step, you will create a model that performs worse than the original model in Step 1.  This will help you to develop your intuition for how to set parameters.  You might even find that you accidentally get better performance, which is ultimately a nice problem to have and a valuable learning experience!\n",
    "- Begin by setting `my_model_3` to an XGBoost model, using the [XGBRegressor](https://xgboost.readthedocs.io/en/latest/python/python_api.html#xgboost.XGBRegressor) class.  Use what you learned in the previous tutorial to figure out how to change the default parameters (like `n_estimators` and `learning_rate`) to design a model to get high MAE.\n",
    "- Then, fit the model to the training data in `X_train` and `y_train`.\n",
    "- Set `predictions_3` to the model's predictions for the validation data.  Recall that the validation features are stored in `X_valid`.\n",
    "- Finally, use the `mean_absolute_error()` function to calculate the mean absolute error (MAE) corresponding to the predictions on the validation set.  Recall that the labels for the validation data are stored in `y_valid`.\n",
    "\n",
    "In order for this step to be marked correct, your model in `my_model_3` must attain higher MAE than the model in `my_model_1`. "
   ]
  },
  {
   "cell_type": "code",
   "execution_count": 11,
   "id": "8c3ef930",
   "metadata": {
    "execution": {
     "iopub.execute_input": "2022-08-22T13:04:18.173121Z",
     "iopub.status.busy": "2022-08-22T13:04:18.172788Z",
     "iopub.status.idle": "2022-08-22T13:04:25.671514Z",
     "shell.execute_reply": "2022-08-22T13:04:25.670526Z"
    },
    "papermill": {
     "duration": 7.509293,
     "end_time": "2022-08-22T13:04:25.673989",
     "exception": false,
     "start_time": "2022-08-22T13:04:18.164696",
     "status": "completed"
    },
    "tags": []
   },
   "outputs": [
    {
     "name": "stdout",
     "output_type": "stream",
     "text": [
      "Mean Absolute Error: 16688.691513270547\n"
     ]
    },
    {
     "data": {
      "application/javascript": [
       "parent.postMessage({\"jupyterEvent\": \"custom.exercise_interaction\", \"data\": {\"outcomeType\": 2, \"failureMessage\": \"You must specify the parameters in `my_model_3` so that it attains higher MAE than the model in `my_model_1`.\", \"interactionType\": 1, \"questionType\": 2, \"questionId\": \"3_Model3\", \"learnToolsVersion\": \"0.3.4\", \"valueTowardsCompletion\": 0.0, \"exceptionClass\": \"\", \"trace\": \"\"}}, \"*\")"
      ],
      "text/plain": [
       "<IPython.core.display.Javascript object>"
      ]
     },
     "metadata": {},
     "output_type": "display_data"
    },
    {
     "data": {
      "text/markdown": [
       "<span style=\"color:#cc3333\">Incorrect:</span> You must specify the parameters in `my_model_3` so that it attains higher MAE than the model in `my_model_1`."
      ],
      "text/plain": [
       "Incorrect: You must specify the parameters in `my_model_3` so that it attains higher MAE than the model in `my_model_1`."
      ]
     },
     "metadata": {},
     "output_type": "display_data"
    }
   ],
   "source": [
    "# Define the model\n",
    "my_model_3 = XGBRegressor(n_estimators=1000, learning_rate=0.05) # Your code here\n",
    "\n",
    "# Fit the model\n",
    "my_model_3.fit(X_train, y_train) # Your code here\n",
    "\n",
    "# Get predictions\n",
    "predictions_3 = my_model_3.predict(X_valid) # Your code here\n",
    "\n",
    "# Calculate MAE\n",
    "mae_3 = mean_absolute_error(y_valid, predictions_3) # Your code here\n",
    "\n",
    "# Uncomment to print MAE\n",
    "print(\"Mean Absolute Error:\" , mae_3)\n",
    "\n",
    "# Check your answer\n",
    "step_3.check()"
   ]
  },
  {
   "cell_type": "code",
   "execution_count": 12,
   "id": "3a750e75",
   "metadata": {
    "execution": {
     "iopub.execute_input": "2022-08-22T13:04:25.688126Z",
     "iopub.status.busy": "2022-08-22T13:04:25.687783Z",
     "iopub.status.idle": "2022-08-22T13:04:25.691739Z",
     "shell.execute_reply": "2022-08-22T13:04:25.690793Z"
    },
    "papermill": {
     "duration": 0.012761,
     "end_time": "2022-08-22T13:04:25.693419",
     "exception": false,
     "start_time": "2022-08-22T13:04:25.680658",
     "status": "completed"
    },
    "tags": []
   },
   "outputs": [],
   "source": [
    "# Lines below will give you a hint or solution code\n",
    "#step_3.hint()\n",
    "#step_3.solution()"
   ]
  },
  {
   "cell_type": "markdown",
   "id": "bb26dbd3",
   "metadata": {
    "papermill": {
     "duration": 0.005758,
     "end_time": "2022-08-22T13:04:25.705145",
     "exception": false,
     "start_time": "2022-08-22T13:04:25.699387",
     "status": "completed"
    },
    "tags": []
   },
   "source": [
    "# Keep going\n",
    "\n",
    "Continue to learn about **[data leakage](https://www.kaggle.com/alexisbcook/data-leakage)**.  This is an important issue for a data scientist to understand, and it has the potential to ruin your models in subtle and dangerous ways!"
   ]
  },
  {
   "cell_type": "markdown",
   "id": "88e77c2b",
   "metadata": {
    "papermill": {
     "duration": 0.005292,
     "end_time": "2022-08-22T13:04:25.715977",
     "exception": false,
     "start_time": "2022-08-22T13:04:25.710685",
     "status": "completed"
    },
    "tags": []
   },
   "source": [
    "---\n",
    "\n",
    "\n",
    "\n",
    "\n",
    "*Have questions or comments? Visit the [course discussion forum](https://www.kaggle.com/learn/intermediate-machine-learning/discussion) to chat with other learners.*"
   ]
  }
 ],
 "metadata": {
  "kernelspec": {
   "display_name": "Python 3",
   "language": "python",
   "name": "python3"
  },
  "language_info": {
   "codemirror_mode": {
    "name": "ipython",
    "version": 3
   },
   "file_extension": ".py",
   "mimetype": "text/x-python",
   "name": "python",
   "nbconvert_exporter": "python",
   "pygments_lexer": "ipython3",
   "version": "3.7.12"
  },
  "papermill": {
   "default_parameters": {},
   "duration": 27.956553,
   "end_time": "2022-08-22T13:04:26.442091",
   "environment_variables": {},
   "exception": null,
   "input_path": "__notebook__.ipynb",
   "output_path": "__notebook__.ipynb",
   "parameters": {},
   "start_time": "2022-08-22T13:03:58.485538",
   "version": "2.3.4"
  }
 },
 "nbformat": 4,
 "nbformat_minor": 5
}
