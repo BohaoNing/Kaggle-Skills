{
 "cells": [
  {
   "cell_type": "markdown",
   "id": "c835c008",
   "metadata": {
    "papermill": {
     "duration": 0.006074,
     "end_time": "2022-09-15T13:43:14.462549",
     "exception": false,
     "start_time": "2022-09-15T13:43:14.456475",
     "status": "completed"
    },
    "tags": []
   },
   "source": [
    "**This notebook is an exercise in the [Intermediate Machine Learning](https://www.kaggle.com/learn/intermediate-machine-learning) course.  You can reference the tutorial at [this link](https://www.kaggle.com/alexisbcook/xgboost).**\n",
    "\n",
    "---\n"
   ]
  },
  {
   "cell_type": "markdown",
   "id": "ea38d97c",
   "metadata": {
    "papermill": {
     "duration": 0.004664,
     "end_time": "2022-09-15T13:43:14.472265",
     "exception": false,
     "start_time": "2022-09-15T13:43:14.467601",
     "status": "completed"
    },
    "tags": []
   },
   "source": [
    "In this exercise, you will use your new knowledge to train a model with **gradient boosting**.\n",
    "\n",
    "# Setup\n",
    "\n",
    "The questions below will give you feedback on your work. Run the following cell to set up the feedback system."
   ]
  },
  {
   "cell_type": "code",
   "execution_count": 1,
   "id": "49c8e942",
   "metadata": {
    "execution": {
     "iopub.execute_input": "2022-09-15T13:43:14.484899Z",
     "iopub.status.busy": "2022-09-15T13:43:14.483698Z",
     "iopub.status.idle": "2022-09-15T13:43:17.129694Z",
     "shell.execute_reply": "2022-09-15T13:43:17.128735Z"
    },
    "papermill": {
     "duration": 2.65535,
     "end_time": "2022-09-15T13:43:17.132663",
     "exception": false,
     "start_time": "2022-09-15T13:43:14.477313",
     "status": "completed"
    },
    "tags": []
   },
   "outputs": [
    {
     "name": "stdout",
     "output_type": "stream",
     "text": [
      "Setup Complete\n"
     ]
    }
   ],
   "source": [
    "# Set up code checking\n",
    "import os\n",
    "if not os.path.exists(\"../input/train.csv\"):\n",
    "    os.symlink(\"../input/home-data-for-ml-course/train.csv\", \"../input/train.csv\")  \n",
    "    os.symlink(\"../input/home-data-for-ml-course/test.csv\", \"../input/test.csv\") \n",
    "from learntools.core import binder\n",
    "binder.bind(globals())\n",
    "from learntools.ml_intermediate.ex6 import *\n",
    "print(\"Setup Complete\")"
   ]
  },
  {
   "cell_type": "markdown",
   "id": "64aebaf9",
   "metadata": {
    "papermill": {
     "duration": 0.004852,
     "end_time": "2022-09-15T13:43:17.143373",
     "exception": false,
     "start_time": "2022-09-15T13:43:17.138521",
     "status": "completed"
    },
    "tags": []
   },
   "source": [
    "You will work with the [Housing Prices Competition for Kaggle Learn Users](https://www.kaggle.com/c/home-data-for-ml-course) dataset from the previous exercise. \n",
    "\n",
    "![Ames Housing dataset image](https://i.imgur.com/lTJVG4e.png)\n",
    "\n",
    "Run the next code cell without changes to load the training and validation sets in `X_train`, `X_valid`, `y_train`, and `y_valid`.  The test set is loaded in `X_test`."
   ]
  },
  {
   "cell_type": "code",
   "execution_count": 2,
   "id": "f9bbf6ef",
   "metadata": {
    "execution": {
     "iopub.execute_input": "2022-09-15T13:43:17.155253Z",
     "iopub.status.busy": "2022-09-15T13:43:17.154801Z",
     "iopub.status.idle": "2022-09-15T13:43:17.345821Z",
     "shell.execute_reply": "2022-09-15T13:43:17.344608Z"
    },
    "papermill": {
     "duration": 0.20008,
     "end_time": "2022-09-15T13:43:17.348549",
     "exception": false,
     "start_time": "2022-09-15T13:43:17.148469",
     "status": "completed"
    },
    "tags": []
   },
   "outputs": [],
   "source": [
    "import pandas as pd\n",
    "from sklearn.model_selection import train_test_split\n",
    "\n",
    "# Read the data\n",
    "X = pd.read_csv('../input/train.csv', index_col='Id')\n",
    "X_test_full = pd.read_csv('../input/test.csv', index_col='Id')\n",
    "\n",
    "# Remove rows with missing target, separate target from predictors\n",
    "X.dropna(axis=0, subset=['SalePrice'], inplace=True)\n",
    "y = X.SalePrice              \n",
    "X.drop(['SalePrice'], axis=1, inplace=True)\n",
    "\n",
    "# Break off validation set from training data\n",
    "X_train_full, X_valid_full, y_train, y_valid = train_test_split(X, y, train_size=0.8, test_size=0.2,\n",
    "                                                                random_state=0)\n",
    "\n",
    "# \"Cardinality\" means the number of unique values in a column\n",
    "# Select categorical columns with relatively low cardinality (convenient but arbitrary)\n",
    "low_cardinality_cols = [cname for cname in X_train_full.columns if X_train_full[cname].nunique() < 10 and \n",
    "                        X_train_full[cname].dtype == \"object\"]\n",
    "\n",
    "# Select numeric columns\n",
    "numeric_cols = [cname for cname in X_train_full.columns if X_train_full[cname].dtype in ['int64', 'float64']]\n",
    "\n",
    "# Keep selected columns only\n",
    "my_cols = low_cardinality_cols + numeric_cols\n",
    "X_train = X_train_full[my_cols].copy()\n",
    "X_valid = X_valid_full[my_cols].copy()\n",
    "X_test = X_test_full[my_cols].copy()\n",
    "\n",
    "# One-hot encode the data (to shorten the code, we use pandas)\n",
    "X_train = pd.get_dummies(X_train)\n",
    "X_valid = pd.get_dummies(X_valid)\n",
    "X_test = pd.get_dummies(X_test)\n",
    "X_train, X_valid = X_train.align(X_valid, join='left', axis=1)\n",
    "X_train, X_test = X_train.align(X_test, join='left', axis=1)"
   ]
  },
  {
   "cell_type": "markdown",
   "id": "58317d3e",
   "metadata": {
    "papermill": {
     "duration": 0.004901,
     "end_time": "2022-09-15T13:43:17.358522",
     "exception": false,
     "start_time": "2022-09-15T13:43:17.353621",
     "status": "completed"
    },
    "tags": []
   },
   "source": [
    "# Step 1: Build model\n",
    "\n",
    "### Part A\n",
    "\n",
    "In this step, you'll build and train your first model with gradient boosting.\n",
    "\n",
    "- Begin by setting `my_model_1` to an XGBoost model.  Use the [XGBRegressor](https://xgboost.readthedocs.io/en/latest/python/python_api.html#xgboost.XGBRegressor) class, and set the random seed to 0 (`random_state=0`).  **Leave all other parameters as default.**\n",
    "- Then, fit the model to the training data in `X_train` and `y_train`."
   ]
  },
  {
   "cell_type": "code",
   "execution_count": 3,
   "id": "d7ab5266",
   "metadata": {
    "execution": {
     "iopub.execute_input": "2022-09-15T13:43:17.370653Z",
     "iopub.status.busy": "2022-09-15T13:43:17.369657Z",
     "iopub.status.idle": "2022-09-15T13:43:18.350280Z",
     "shell.execute_reply": "2022-09-15T13:43:18.349069Z"
    },
    "papermill": {
     "duration": 0.989323,
     "end_time": "2022-09-15T13:43:18.352841",
     "exception": false,
     "start_time": "2022-09-15T13:43:17.363518",
     "status": "completed"
    },
    "tags": []
   },
   "outputs": [
    {
     "data": {
      "application/javascript": [
       "parent.postMessage({\"jupyterEvent\": \"custom.exercise_interaction\", \"data\": {\"outcomeType\": 1, \"valueTowardsCompletion\": 0.5, \"interactionType\": 1, \"questionType\": 2, \"questionId\": \"1.1_Model1A\", \"learnToolsVersion\": \"0.3.4\", \"failureMessage\": \"\", \"exceptionClass\": \"\", \"trace\": \"\"}}, \"*\")"
      ],
      "text/plain": [
       "<IPython.core.display.Javascript object>"
      ]
     },
     "metadata": {},
     "output_type": "display_data"
    },
    {
     "data": {
      "text/markdown": [
       "<span style=\"color:#33cc33\">Correct</span>"
      ],
      "text/plain": [
       "Correct"
      ]
     },
     "metadata": {},
     "output_type": "display_data"
    }
   ],
   "source": [
    "from xgboost import XGBRegressor\n",
    "\n",
    "# Define the model\n",
    "my_model_1 = XGBRegressor(random_state=0) # Your code here\n",
    "\n",
    "# Fit the model\n",
    "my_model_1.fit(X_train, y_train) # Your code here\n",
    "\n",
    "# Check your answer\n",
    "step_1.a.check()"
   ]
  },
  {
   "cell_type": "code",
   "execution_count": 4,
   "id": "8aa4f288",
   "metadata": {
    "execution": {
     "iopub.execute_input": "2022-09-15T13:43:18.365683Z",
     "iopub.status.busy": "2022-09-15T13:43:18.365269Z",
     "iopub.status.idle": "2022-09-15T13:43:18.369789Z",
     "shell.execute_reply": "2022-09-15T13:43:18.368608Z"
    },
    "papermill": {
     "duration": 0.013742,
     "end_time": "2022-09-15T13:43:18.372164",
     "exception": false,
     "start_time": "2022-09-15T13:43:18.358422",
     "status": "completed"
    },
    "tags": []
   },
   "outputs": [],
   "source": [
    "# Lines below will give you a hint or solution code\n",
    "#step_1.a.hint()\n",
    "#step_1.a.solution()"
   ]
  },
  {
   "cell_type": "markdown",
   "id": "b7551615",
   "metadata": {
    "papermill": {
     "duration": 0.005047,
     "end_time": "2022-09-15T13:43:18.382714",
     "exception": false,
     "start_time": "2022-09-15T13:43:18.377667",
     "status": "completed"
    },
    "tags": []
   },
   "source": [
    "### Part B\n",
    "\n",
    "Set `predictions_1` to the model's predictions for the validation data.  Recall that the validation features are stored in `X_valid`."
   ]
  },
  {
   "cell_type": "code",
   "execution_count": 5,
   "id": "3fddabde",
   "metadata": {
    "execution": {
     "iopub.execute_input": "2022-09-15T13:43:18.395639Z",
     "iopub.status.busy": "2022-09-15T13:43:18.395059Z",
     "iopub.status.idle": "2022-09-15T13:43:18.425333Z",
     "shell.execute_reply": "2022-09-15T13:43:18.424260Z"
    },
    "papermill": {
     "duration": 0.040035,
     "end_time": "2022-09-15T13:43:18.428068",
     "exception": false,
     "start_time": "2022-09-15T13:43:18.388033",
     "status": "completed"
    },
    "tags": []
   },
   "outputs": [
    {
     "data": {
      "application/javascript": [
       "parent.postMessage({\"jupyterEvent\": \"custom.exercise_interaction\", \"data\": {\"outcomeType\": 1, \"valueTowardsCompletion\": 0.5, \"interactionType\": 1, \"questionType\": 2, \"questionId\": \"1.2_Model1B\", \"learnToolsVersion\": \"0.3.4\", \"failureMessage\": \"\", \"exceptionClass\": \"\", \"trace\": \"\"}}, \"*\")"
      ],
      "text/plain": [
       "<IPython.core.display.Javascript object>"
      ]
     },
     "metadata": {},
     "output_type": "display_data"
    },
    {
     "data": {
      "text/markdown": [
       "<span style=\"color:#33cc33\">Correct</span>"
      ],
      "text/plain": [
       "Correct"
      ]
     },
     "metadata": {},
     "output_type": "display_data"
    }
   ],
   "source": [
    "from sklearn.metrics import mean_absolute_error\n",
    "\n",
    "# Get predictions\n",
    "predictions_1 = my_model_1.predict(X_valid) # Your code here\n",
    "\n",
    "# Check your answer\n",
    "step_1.b.check()"
   ]
  },
  {
   "cell_type": "code",
   "execution_count": 6,
   "id": "f5271816",
   "metadata": {
    "execution": {
     "iopub.execute_input": "2022-09-15T13:43:18.442258Z",
     "iopub.status.busy": "2022-09-15T13:43:18.441094Z",
     "iopub.status.idle": "2022-09-15T13:43:18.445534Z",
     "shell.execute_reply": "2022-09-15T13:43:18.444699Z"
    },
    "papermill": {
     "duration": 0.013595,
     "end_time": "2022-09-15T13:43:18.447875",
     "exception": false,
     "start_time": "2022-09-15T13:43:18.434280",
     "status": "completed"
    },
    "tags": []
   },
   "outputs": [],
   "source": [
    "# Lines below will give you a hint or solution code\n",
    "#step_1.b.hint()\n",
    "#step_1.b.solution()"
   ]
  },
  {
   "cell_type": "markdown",
   "id": "3f1c7c83",
   "metadata": {
    "papermill": {
     "duration": 0.005333,
     "end_time": "2022-09-15T13:43:18.458876",
     "exception": false,
     "start_time": "2022-09-15T13:43:18.453543",
     "status": "completed"
    },
    "tags": []
   },
   "source": [
    "### Part C\n",
    "\n",
    "Finally, use the `mean_absolute_error()` function to calculate the mean absolute error (MAE) corresponding to the predictions for the validation set.  Recall that the labels for the validation data are stored in `y_valid`."
   ]
  },
  {
   "cell_type": "code",
   "execution_count": 7,
   "id": "0618f3cf",
   "metadata": {
    "execution": {
     "iopub.execute_input": "2022-09-15T13:43:18.472684Z",
     "iopub.status.busy": "2022-09-15T13:43:18.471826Z",
     "iopub.status.idle": "2022-09-15T13:43:18.485111Z",
     "shell.execute_reply": "2022-09-15T13:43:18.483539Z"
    },
    "papermill": {
     "duration": 0.023058,
     "end_time": "2022-09-15T13:43:18.487812",
     "exception": false,
     "start_time": "2022-09-15T13:43:18.464754",
     "status": "completed"
    },
    "tags": []
   },
   "outputs": [
    {
     "name": "stdout",
     "output_type": "stream",
     "text": [
      "Mean Absolute Error: 17662.736729452055\n"
     ]
    },
    {
     "data": {
      "application/javascript": [
       "parent.postMessage({\"jupyterEvent\": \"custom.exercise_interaction\", \"data\": {\"outcomeType\": 1, \"valueTowardsCompletion\": 0.5, \"interactionType\": 1, \"questionType\": 2, \"questionId\": \"1.3_Model1C\", \"learnToolsVersion\": \"0.3.4\", \"failureMessage\": \"\", \"exceptionClass\": \"\", \"trace\": \"\"}}, \"*\")"
      ],
      "text/plain": [
       "<IPython.core.display.Javascript object>"
      ]
     },
     "metadata": {},
     "output_type": "display_data"
    },
    {
     "data": {
      "text/markdown": [
       "<span style=\"color:#33cc33\">Correct</span>"
      ],
      "text/plain": [
       "Correct"
      ]
     },
     "metadata": {},
     "output_type": "display_data"
    }
   ],
   "source": [
    "# Calculate MAE\n",
    "mae_1 = mean_absolute_error(y_valid, predictions_1) # Your code here\n",
    "\n",
    "# Uncomment to print MAE\n",
    "print(\"Mean Absolute Error:\" , mae_1)\n",
    "\n",
    "# Check your answer\n",
    "step_1.c.check()"
   ]
  },
  {
   "cell_type": "code",
   "execution_count": 8,
   "id": "373cea97",
   "metadata": {
    "execution": {
     "iopub.execute_input": "2022-09-15T13:43:18.502112Z",
     "iopub.status.busy": "2022-09-15T13:43:18.501294Z",
     "iopub.status.idle": "2022-09-15T13:43:18.506255Z",
     "shell.execute_reply": "2022-09-15T13:43:18.505293Z"
    },
    "papermill": {
     "duration": 0.014793,
     "end_time": "2022-09-15T13:43:18.508734",
     "exception": false,
     "start_time": "2022-09-15T13:43:18.493941",
     "status": "completed"
    },
    "tags": []
   },
   "outputs": [],
   "source": [
    "# Lines below will give you a hint or solution code\n",
    "#step_1.c.hint()\n",
    "#step_1.c.solution()"
   ]
  },
  {
   "cell_type": "markdown",
   "id": "fe3630bf",
   "metadata": {
    "papermill": {
     "duration": 0.005632,
     "end_time": "2022-09-15T13:43:18.520299",
     "exception": false,
     "start_time": "2022-09-15T13:43:18.514667",
     "status": "completed"
    },
    "tags": []
   },
   "source": [
    "# Step 2: Improve the model\n",
    "\n",
    "Now that you've trained a default model as baseline, it's time to tinker with the parameters, to see if you can get better performance!\n",
    "- Begin by setting `my_model_2` to an XGBoost model, using the [XGBRegressor](https://xgboost.readthedocs.io/en/latest/python/python_api.html#xgboost.XGBRegressor) class.  Use what you learned in the previous tutorial to figure out how to change the default parameters (like `n_estimators` and `learning_rate`) to get better results.\n",
    "- Then, fit the model to the training data in `X_train` and `y_train`.\n",
    "- Set `predictions_2` to the model's predictions for the validation data.  Recall that the validation features are stored in `X_valid`.\n",
    "- Finally, use the `mean_absolute_error()` function to calculate the mean absolute error (MAE) corresponding to the predictions on the validation set.  Recall that the labels for the validation data are stored in `y_valid`.\n",
    "\n",
    "In order for this step to be marked correct, your model in `my_model_2` must attain lower MAE than the model in `my_model_1`. "
   ]
  },
  {
   "cell_type": "code",
   "execution_count": 9,
   "id": "02bb0fed",
   "metadata": {
    "execution": {
     "iopub.execute_input": "2022-09-15T13:43:18.535175Z",
     "iopub.status.busy": "2022-09-15T13:43:18.534377Z",
     "iopub.status.idle": "2022-09-15T13:43:27.935374Z",
     "shell.execute_reply": "2022-09-15T13:43:27.934426Z"
    },
    "papermill": {
     "duration": 9.411584,
     "end_time": "2022-09-15T13:43:27.937768",
     "exception": false,
     "start_time": "2022-09-15T13:43:18.526184",
     "status": "completed"
    },
    "tags": []
   },
   "outputs": [
    {
     "name": "stdout",
     "output_type": "stream",
     "text": [
      "Mean Absolute Error: 16688.691513270547\n"
     ]
    },
    {
     "data": {
      "application/javascript": [
       "parent.postMessage({\"jupyterEvent\": \"custom.exercise_interaction\", \"data\": {\"outcomeType\": 1, \"valueTowardsCompletion\": 0.5, \"interactionType\": 1, \"questionType\": 2, \"questionId\": \"2_Model2\", \"learnToolsVersion\": \"0.3.4\", \"failureMessage\": \"\", \"exceptionClass\": \"\", \"trace\": \"\"}}, \"*\")"
      ],
      "text/plain": [
       "<IPython.core.display.Javascript object>"
      ]
     },
     "metadata": {},
     "output_type": "display_data"
    },
    {
     "data": {
      "text/markdown": [
       "<span style=\"color:#33cc33\">Correct</span>"
      ],
      "text/plain": [
       "Correct"
      ]
     },
     "metadata": {},
     "output_type": "display_data"
    }
   ],
   "source": [
    "# Define the model\n",
    "my_model_2 = XGBRegressor(n_estimators=1000, learning_rate=0.05) # Your code here\n",
    "\n",
    "# Fit the model\n",
    "my_model_2.fit(X_train, y_train) # Your code here\n",
    "\n",
    "# Get predictions\n",
    "predictions_2 = my_model_2.predict(X_valid) # Your code here\n",
    "\n",
    "# Calculate MAE\n",
    "mae_2 = mean_absolute_error(y_valid, predictions_2) # Your code here\n",
    "\n",
    "# Uncomment to print MAE\n",
    "print(\"Mean Absolute Error:\" , mae_2)\n",
    "\n",
    "# Check your answer\n",
    "step_2.check()"
   ]
  },
  {
   "cell_type": "code",
   "execution_count": 10,
   "id": "16db125f",
   "metadata": {
    "execution": {
     "iopub.execute_input": "2022-09-15T13:43:27.953224Z",
     "iopub.status.busy": "2022-09-15T13:43:27.952796Z",
     "iopub.status.idle": "2022-09-15T13:43:27.957701Z",
     "shell.execute_reply": "2022-09-15T13:43:27.956265Z"
    },
    "papermill": {
     "duration": 0.015097,
     "end_time": "2022-09-15T13:43:27.959985",
     "exception": false,
     "start_time": "2022-09-15T13:43:27.944888",
     "status": "completed"
    },
    "tags": []
   },
   "outputs": [],
   "source": [
    "# Lines below will give you a hint or solution code\n",
    "#step_2.hint()\n",
    "#step_2.solution()"
   ]
  },
  {
   "cell_type": "markdown",
   "id": "91967976",
   "metadata": {
    "papermill": {
     "duration": 0.005966,
     "end_time": "2022-09-15T13:43:27.972214",
     "exception": false,
     "start_time": "2022-09-15T13:43:27.966248",
     "status": "completed"
    },
    "tags": []
   },
   "source": [
    "# Step 3: Break the model\n",
    "\n",
    "In this step, you will create a model that performs worse than the original model in Step 1.  This will help you to develop your intuition for how to set parameters.  You might even find that you accidentally get better performance, which is ultimately a nice problem to have and a valuable learning experience!\n",
    "- Begin by setting `my_model_3` to an XGBoost model, using the [XGBRegressor](https://xgboost.readthedocs.io/en/latest/python/python_api.html#xgboost.XGBRegressor) class.  Use what you learned in the previous tutorial to figure out how to change the default parameters (like `n_estimators` and `learning_rate`) to design a model to get high MAE.\n",
    "- Then, fit the model to the training data in `X_train` and `y_train`.\n",
    "- Set `predictions_3` to the model's predictions for the validation data.  Recall that the validation features are stored in `X_valid`.\n",
    "- Finally, use the `mean_absolute_error()` function to calculate the mean absolute error (MAE) corresponding to the predictions on the validation set.  Recall that the labels for the validation data are stored in `y_valid`.\n",
    "\n",
    "In order for this step to be marked correct, your model in `my_model_3` must attain higher MAE than the model in `my_model_1`. "
   ]
  },
  {
   "cell_type": "code",
   "execution_count": 11,
   "id": "4dc4e234",
   "metadata": {
    "execution": {
     "iopub.execute_input": "2022-09-15T13:43:27.987269Z",
     "iopub.status.busy": "2022-09-15T13:43:27.986049Z",
     "iopub.status.idle": "2022-09-15T13:43:37.290216Z",
     "shell.execute_reply": "2022-09-15T13:43:37.289077Z"
    },
    "papermill": {
     "duration": 9.314101,
     "end_time": "2022-09-15T13:43:37.292626",
     "exception": false,
     "start_time": "2022-09-15T13:43:27.978525",
     "status": "completed"
    },
    "tags": []
   },
   "outputs": [
    {
     "name": "stdout",
     "output_type": "stream",
     "text": [
      "Mean Absolute Error: 16688.691513270547\n"
     ]
    },
    {
     "data": {
      "application/javascript": [
       "parent.postMessage({\"jupyterEvent\": \"custom.exercise_interaction\", \"data\": {\"outcomeType\": 2, \"failureMessage\": \"You must specify the parameters in `my_model_3` so that it attains higher MAE than the model in `my_model_1`.\", \"interactionType\": 1, \"questionType\": 2, \"questionId\": \"3_Model3\", \"learnToolsVersion\": \"0.3.4\", \"valueTowardsCompletion\": 0.0, \"exceptionClass\": \"\", \"trace\": \"\"}}, \"*\")"
      ],
      "text/plain": [
       "<IPython.core.display.Javascript object>"
      ]
     },
     "metadata": {},
     "output_type": "display_data"
    },
    {
     "data": {
      "text/markdown": [
       "<span style=\"color:#cc3333\">Incorrect:</span> You must specify the parameters in `my_model_3` so that it attains higher MAE than the model in `my_model_1`."
      ],
      "text/plain": [
       "Incorrect: You must specify the parameters in `my_model_3` so that it attains higher MAE than the model in `my_model_1`."
      ]
     },
     "metadata": {},
     "output_type": "display_data"
    }
   ],
   "source": [
    "# Define the model\n",
    "my_model_3 = XGBRegressor(n_estimators=1000, learning_rate=0.05) # Your code here\n",
    "\n",
    "# Fit the model\n",
    "my_model_3.fit(X_train, y_train) # Your code here\n",
    "\n",
    "# Get predictions\n",
    "predictions_3 = my_model_3.predict(X_valid) # Your code here\n",
    "\n",
    "# Calculate MAE\n",
    "mae_3 = mean_absolute_error(y_valid, predictions_3) # Your code here\n",
    "\n",
    "# Uncomment to print MAE\n",
    "print(\"Mean Absolute Error:\" , mae_3)\n",
    "\n",
    "# Check your answer\n",
    "step_3.check()"
   ]
  },
  {
   "cell_type": "code",
   "execution_count": 12,
   "id": "e68f6614",
   "metadata": {
    "execution": {
     "iopub.execute_input": "2022-09-15T13:43:37.308440Z",
     "iopub.status.busy": "2022-09-15T13:43:37.307980Z",
     "iopub.status.idle": "2022-09-15T13:43:37.313056Z",
     "shell.execute_reply": "2022-09-15T13:43:37.311716Z"
    },
    "papermill": {
     "duration": 0.015639,
     "end_time": "2022-09-15T13:43:37.315516",
     "exception": false,
     "start_time": "2022-09-15T13:43:37.299877",
     "status": "completed"
    },
    "tags": []
   },
   "outputs": [],
   "source": [
    "# Lines below will give you a hint or solution code\n",
    "#step_3.hint()\n",
    "#step_3.solution()"
   ]
  },
  {
   "cell_type": "markdown",
   "id": "09817516",
   "metadata": {
    "papermill": {
     "duration": 0.00628,
     "end_time": "2022-09-15T13:43:37.328521",
     "exception": false,
     "start_time": "2022-09-15T13:43:37.322241",
     "status": "completed"
    },
    "tags": []
   },
   "source": [
    "# Keep going\n",
    "\n",
    "Continue to learn about **[data leakage](https://www.kaggle.com/alexisbcook/data-leakage)**.  This is an important issue for a data scientist to understand, and it has the potential to ruin your models in subtle and dangerous ways!"
   ]
  },
  {
   "cell_type": "markdown",
   "id": "f4ac9acb",
   "metadata": {
    "papermill": {
     "duration": 0.006341,
     "end_time": "2022-09-15T13:43:37.341513",
     "exception": false,
     "start_time": "2022-09-15T13:43:37.335172",
     "status": "completed"
    },
    "tags": []
   },
   "source": [
    "---\n",
    "\n",
    "\n",
    "\n",
    "\n",
    "*Have questions or comments? Visit the [course discussion forum](https://www.kaggle.com/learn/intermediate-machine-learning/discussion) to chat with other learners.*"
   ]
  }
 ],
 "metadata": {
  "kernelspec": {
   "display_name": "Python 3",
   "language": "python",
   "name": "python3"
  },
  "language_info": {
   "codemirror_mode": {
    "name": "ipython",
    "version": 3
   },
   "file_extension": ".py",
   "mimetype": "text/x-python",
   "name": "python",
   "nbconvert_exporter": "python",
   "pygments_lexer": "ipython3",
   "version": "3.7.12"
  },
  "papermill": {
   "default_parameters": {},
   "duration": 33.2984,
   "end_time": "2022-09-15T13:43:38.170412",
   "environment_variables": {},
   "exception": null,
   "input_path": "__notebook__.ipynb",
   "output_path": "__notebook__.ipynb",
   "parameters": {},
   "start_time": "2022-09-15T13:43:04.872012",
   "version": "2.3.4"
  }
 },
 "nbformat": 4,
 "nbformat_minor": 5
}
