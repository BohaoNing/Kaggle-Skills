{
 "cells": [
  {
   "cell_type": "markdown",
   "id": "85d65de5",
   "metadata": {
    "papermill": {
     "duration": 0.011909,
     "end_time": "2022-07-24T01:40:37.529320",
     "exception": false,
     "start_time": "2022-07-24T01:40:37.517411",
     "status": "completed"
    },
    "tags": []
   },
   "source": [
    "**This notebook is an exercise in the [Intermediate Machine Learning](https://www.kaggle.com/learn/intermediate-machine-learning) course.  You can reference the tutorial at [this link](https://www.kaggle.com/alexisbcook/categorical-variables).**\n",
    "\n",
    "---\n"
   ]
  },
  {
   "cell_type": "markdown",
   "id": "465d4ef2",
   "metadata": {
    "papermill": {
     "duration": 0.013107,
     "end_time": "2022-07-24T01:40:37.555415",
     "exception": false,
     "start_time": "2022-07-24T01:40:37.542308",
     "status": "completed"
    },
    "tags": []
   },
   "source": [
    "By encoding **categorical variables**, you'll obtain your best results thus far!\n",
    "\n",
    "# Setup\n",
    "\n",
    "The questions below will give you feedback on your work. Run the following cell to set up the feedback system."
   ]
  },
  {
   "cell_type": "code",
   "execution_count": 1,
   "id": "f489afa9",
   "metadata": {
    "execution": {
     "iopub.execute_input": "2022-07-24T01:40:37.577712Z",
     "iopub.status.busy": "2022-07-24T01:40:37.576787Z",
     "iopub.status.idle": "2022-07-24T01:40:37.642188Z",
     "shell.execute_reply": "2022-07-24T01:40:37.640884Z"
    },
    "papermill": {
     "duration": 0.079539,
     "end_time": "2022-07-24T01:40:37.645164",
     "exception": false,
     "start_time": "2022-07-24T01:40:37.565625",
     "status": "completed"
    },
    "tags": []
   },
   "outputs": [
    {
     "name": "stdout",
     "output_type": "stream",
     "text": [
      "Setup Complete\n"
     ]
    }
   ],
   "source": [
    "# Set up code checking\n",
    "import os\n",
    "if not os.path.exists(\"../input/train.csv\"):\n",
    "    os.symlink(\"../input/home-data-for-ml-course/train.csv\", \"../input/train.csv\")  \n",
    "    os.symlink(\"../input/home-data-for-ml-course/test.csv\", \"../input/test.csv\") \n",
    "from learntools.core import binder\n",
    "binder.bind(globals())\n",
    "from learntools.ml_intermediate.ex3 import *\n",
    "print(\"Setup Complete\")"
   ]
  },
  {
   "cell_type": "markdown",
   "id": "16925372",
   "metadata": {
    "papermill": {
     "duration": 0.008875,
     "end_time": "2022-07-24T01:40:37.663873",
     "exception": false,
     "start_time": "2022-07-24T01:40:37.654998",
     "status": "completed"
    },
    "tags": []
   },
   "source": [
    "In this exercise, you will work with data from the [Housing Prices Competition for Kaggle Learn Users](https://www.kaggle.com/c/home-data-for-ml-course). \n",
    "\n",
    "![Ames Housing dataset image](https://i.imgur.com/lTJVG4e.png)\n",
    "\n",
    "Run the next code cell without changes to load the training and validation sets in `X_train`, `X_valid`, `y_train`, and `y_valid`.  The test set is loaded in `X_test`."
   ]
  },
  {
   "cell_type": "code",
   "execution_count": 2,
   "id": "a68939f8",
   "metadata": {
    "execution": {
     "iopub.execute_input": "2022-07-24T01:40:37.685442Z",
     "iopub.status.busy": "2022-07-24T01:40:37.684614Z",
     "iopub.status.idle": "2022-07-24T01:40:38.955322Z",
     "shell.execute_reply": "2022-07-24T01:40:38.954238Z"
    },
    "papermill": {
     "duration": 1.284683,
     "end_time": "2022-07-24T01:40:38.958637",
     "exception": false,
     "start_time": "2022-07-24T01:40:37.673954",
     "status": "completed"
    },
    "tags": []
   },
   "outputs": [],
   "source": [
    "import pandas as pd\n",
    "from sklearn.model_selection import train_test_split\n",
    "\n",
    "# Read the data\n",
    "X = pd.read_csv('../input/train.csv', index_col='Id') \n",
    "X_test = pd.read_csv('../input/test.csv', index_col='Id')\n",
    "\n",
    "# Remove rows with missing target, separate target from predictors\n",
    "X.dropna(axis=0, subset=['SalePrice'], inplace=True)\n",
    "y = X.SalePrice\n",
    "X.drop(['SalePrice'], axis=1, inplace=True)\n",
    "\n",
    "# To keep things simple, we'll drop columns with missing values\n",
    "cols_with_missing = [col for col in X.columns if X[col].isnull().any()] \n",
    "X.drop(cols_with_missing, axis=1, inplace=True)\n",
    "X_test.drop(cols_with_missing, axis=1, inplace=True)\n",
    "\n",
    "# Break off validation set from training data\n",
    "X_train, X_valid, y_train, y_valid = train_test_split(X, y,\n",
    "                                                      train_size=0.8, test_size=0.2,\n",
    "                                                      random_state=0)"
   ]
  },
  {
   "cell_type": "markdown",
   "id": "20674ba2",
   "metadata": {
    "papermill": {
     "duration": 0.008815,
     "end_time": "2022-07-24T01:40:38.976702",
     "exception": false,
     "start_time": "2022-07-24T01:40:38.967887",
     "status": "completed"
    },
    "tags": []
   },
   "source": [
    "Use the next code cell to print the first five rows of the data."
   ]
  },
  {
   "cell_type": "code",
   "execution_count": 3,
   "id": "0f82119c",
   "metadata": {
    "execution": {
     "iopub.execute_input": "2022-07-24T01:40:38.996670Z",
     "iopub.status.busy": "2022-07-24T01:40:38.996232Z",
     "iopub.status.idle": "2022-07-24T01:40:39.026869Z",
     "shell.execute_reply": "2022-07-24T01:40:39.025673Z"
    },
    "papermill": {
     "duration": 0.043588,
     "end_time": "2022-07-24T01:40:39.029422",
     "exception": false,
     "start_time": "2022-07-24T01:40:38.985834",
     "status": "completed"
    },
    "tags": []
   },
   "outputs": [
    {
     "data": {
      "text/html": [
       "<div>\n",
       "<style scoped>\n",
       "    .dataframe tbody tr th:only-of-type {\n",
       "        vertical-align: middle;\n",
       "    }\n",
       "\n",
       "    .dataframe tbody tr th {\n",
       "        vertical-align: top;\n",
       "    }\n",
       "\n",
       "    .dataframe thead th {\n",
       "        text-align: right;\n",
       "    }\n",
       "</style>\n",
       "<table border=\"1\" class=\"dataframe\">\n",
       "  <thead>\n",
       "    <tr style=\"text-align: right;\">\n",
       "      <th></th>\n",
       "      <th>MSSubClass</th>\n",
       "      <th>MSZoning</th>\n",
       "      <th>LotArea</th>\n",
       "      <th>Street</th>\n",
       "      <th>LotShape</th>\n",
       "      <th>LandContour</th>\n",
       "      <th>Utilities</th>\n",
       "      <th>LotConfig</th>\n",
       "      <th>LandSlope</th>\n",
       "      <th>Neighborhood</th>\n",
       "      <th>...</th>\n",
       "      <th>OpenPorchSF</th>\n",
       "      <th>EnclosedPorch</th>\n",
       "      <th>3SsnPorch</th>\n",
       "      <th>ScreenPorch</th>\n",
       "      <th>PoolArea</th>\n",
       "      <th>MiscVal</th>\n",
       "      <th>MoSold</th>\n",
       "      <th>YrSold</th>\n",
       "      <th>SaleType</th>\n",
       "      <th>SaleCondition</th>\n",
       "    </tr>\n",
       "    <tr>\n",
       "      <th>Id</th>\n",
       "      <th></th>\n",
       "      <th></th>\n",
       "      <th></th>\n",
       "      <th></th>\n",
       "      <th></th>\n",
       "      <th></th>\n",
       "      <th></th>\n",
       "      <th></th>\n",
       "      <th></th>\n",
       "      <th></th>\n",
       "      <th></th>\n",
       "      <th></th>\n",
       "      <th></th>\n",
       "      <th></th>\n",
       "      <th></th>\n",
       "      <th></th>\n",
       "      <th></th>\n",
       "      <th></th>\n",
       "      <th></th>\n",
       "      <th></th>\n",
       "      <th></th>\n",
       "    </tr>\n",
       "  </thead>\n",
       "  <tbody>\n",
       "    <tr>\n",
       "      <th>619</th>\n",
       "      <td>20</td>\n",
       "      <td>RL</td>\n",
       "      <td>11694</td>\n",
       "      <td>Pave</td>\n",
       "      <td>Reg</td>\n",
       "      <td>Lvl</td>\n",
       "      <td>AllPub</td>\n",
       "      <td>Inside</td>\n",
       "      <td>Gtl</td>\n",
       "      <td>NridgHt</td>\n",
       "      <td>...</td>\n",
       "      <td>108</td>\n",
       "      <td>0</td>\n",
       "      <td>0</td>\n",
       "      <td>260</td>\n",
       "      <td>0</td>\n",
       "      <td>0</td>\n",
       "      <td>7</td>\n",
       "      <td>2007</td>\n",
       "      <td>New</td>\n",
       "      <td>Partial</td>\n",
       "    </tr>\n",
       "    <tr>\n",
       "      <th>871</th>\n",
       "      <td>20</td>\n",
       "      <td>RL</td>\n",
       "      <td>6600</td>\n",
       "      <td>Pave</td>\n",
       "      <td>Reg</td>\n",
       "      <td>Lvl</td>\n",
       "      <td>AllPub</td>\n",
       "      <td>Inside</td>\n",
       "      <td>Gtl</td>\n",
       "      <td>NAmes</td>\n",
       "      <td>...</td>\n",
       "      <td>0</td>\n",
       "      <td>0</td>\n",
       "      <td>0</td>\n",
       "      <td>0</td>\n",
       "      <td>0</td>\n",
       "      <td>0</td>\n",
       "      <td>8</td>\n",
       "      <td>2009</td>\n",
       "      <td>WD</td>\n",
       "      <td>Normal</td>\n",
       "    </tr>\n",
       "    <tr>\n",
       "      <th>93</th>\n",
       "      <td>30</td>\n",
       "      <td>RL</td>\n",
       "      <td>13360</td>\n",
       "      <td>Pave</td>\n",
       "      <td>IR1</td>\n",
       "      <td>HLS</td>\n",
       "      <td>AllPub</td>\n",
       "      <td>Inside</td>\n",
       "      <td>Gtl</td>\n",
       "      <td>Crawfor</td>\n",
       "      <td>...</td>\n",
       "      <td>0</td>\n",
       "      <td>44</td>\n",
       "      <td>0</td>\n",
       "      <td>0</td>\n",
       "      <td>0</td>\n",
       "      <td>0</td>\n",
       "      <td>8</td>\n",
       "      <td>2009</td>\n",
       "      <td>WD</td>\n",
       "      <td>Normal</td>\n",
       "    </tr>\n",
       "    <tr>\n",
       "      <th>818</th>\n",
       "      <td>20</td>\n",
       "      <td>RL</td>\n",
       "      <td>13265</td>\n",
       "      <td>Pave</td>\n",
       "      <td>IR1</td>\n",
       "      <td>Lvl</td>\n",
       "      <td>AllPub</td>\n",
       "      <td>CulDSac</td>\n",
       "      <td>Gtl</td>\n",
       "      <td>Mitchel</td>\n",
       "      <td>...</td>\n",
       "      <td>59</td>\n",
       "      <td>0</td>\n",
       "      <td>0</td>\n",
       "      <td>0</td>\n",
       "      <td>0</td>\n",
       "      <td>0</td>\n",
       "      <td>7</td>\n",
       "      <td>2008</td>\n",
       "      <td>WD</td>\n",
       "      <td>Normal</td>\n",
       "    </tr>\n",
       "    <tr>\n",
       "      <th>303</th>\n",
       "      <td>20</td>\n",
       "      <td>RL</td>\n",
       "      <td>13704</td>\n",
       "      <td>Pave</td>\n",
       "      <td>IR1</td>\n",
       "      <td>Lvl</td>\n",
       "      <td>AllPub</td>\n",
       "      <td>Corner</td>\n",
       "      <td>Gtl</td>\n",
       "      <td>CollgCr</td>\n",
       "      <td>...</td>\n",
       "      <td>81</td>\n",
       "      <td>0</td>\n",
       "      <td>0</td>\n",
       "      <td>0</td>\n",
       "      <td>0</td>\n",
       "      <td>0</td>\n",
       "      <td>1</td>\n",
       "      <td>2006</td>\n",
       "      <td>WD</td>\n",
       "      <td>Normal</td>\n",
       "    </tr>\n",
       "  </tbody>\n",
       "</table>\n",
       "<p>5 rows × 60 columns</p>\n",
       "</div>"
      ],
      "text/plain": [
       "     MSSubClass MSZoning  LotArea Street LotShape LandContour Utilities  \\\n",
       "Id                                                                        \n",
       "619          20       RL    11694   Pave      Reg         Lvl    AllPub   \n",
       "871          20       RL     6600   Pave      Reg         Lvl    AllPub   \n",
       "93           30       RL    13360   Pave      IR1         HLS    AllPub   \n",
       "818          20       RL    13265   Pave      IR1         Lvl    AllPub   \n",
       "303          20       RL    13704   Pave      IR1         Lvl    AllPub   \n",
       "\n",
       "    LotConfig LandSlope Neighborhood  ... OpenPorchSF EnclosedPorch 3SsnPorch  \\\n",
       "Id                                    ...                                       \n",
       "619    Inside       Gtl      NridgHt  ...         108             0         0   \n",
       "871    Inside       Gtl        NAmes  ...           0             0         0   \n",
       "93     Inside       Gtl      Crawfor  ...           0            44         0   \n",
       "818   CulDSac       Gtl      Mitchel  ...          59             0         0   \n",
       "303    Corner       Gtl      CollgCr  ...          81             0         0   \n",
       "\n",
       "    ScreenPorch  PoolArea  MiscVal  MoSold  YrSold SaleType SaleCondition  \n",
       "Id                                                                         \n",
       "619         260         0        0       7    2007      New       Partial  \n",
       "871           0         0        0       8    2009       WD        Normal  \n",
       "93            0         0        0       8    2009       WD        Normal  \n",
       "818           0         0        0       7    2008       WD        Normal  \n",
       "303           0         0        0       1    2006       WD        Normal  \n",
       "\n",
       "[5 rows x 60 columns]"
      ]
     },
     "execution_count": 3,
     "metadata": {},
     "output_type": "execute_result"
    }
   ],
   "source": [
    "X_train.head()"
   ]
  },
  {
   "cell_type": "markdown",
   "id": "fc063a66",
   "metadata": {
    "papermill": {
     "duration": 0.009486,
     "end_time": "2022-07-24T01:40:39.048763",
     "exception": false,
     "start_time": "2022-07-24T01:40:39.039277",
     "status": "completed"
    },
    "tags": []
   },
   "source": [
    "Notice that the dataset contains both numerical and categorical variables.  You'll need to encode the categorical data before training a model.\n",
    "\n",
    "To compare different models, you'll use the same `score_dataset()` function from the tutorial.  This function reports the [mean absolute error](https://en.wikipedia.org/wiki/Mean_absolute_error) (MAE) from a random forest model."
   ]
  },
  {
   "cell_type": "code",
   "execution_count": 4,
   "id": "3bd6a04d",
   "metadata": {
    "execution": {
     "iopub.execute_input": "2022-07-24T01:40:39.070365Z",
     "iopub.status.busy": "2022-07-24T01:40:39.069586Z",
     "iopub.status.idle": "2022-07-24T01:40:39.295774Z",
     "shell.execute_reply": "2022-07-24T01:40:39.294682Z"
    },
    "papermill": {
     "duration": 0.23991,
     "end_time": "2022-07-24T01:40:39.298388",
     "exception": false,
     "start_time": "2022-07-24T01:40:39.058478",
     "status": "completed"
    },
    "tags": []
   },
   "outputs": [],
   "source": [
    "from sklearn.ensemble import RandomForestRegressor\n",
    "from sklearn.metrics import mean_absolute_error\n",
    "\n",
    "# function for comparing different approaches\n",
    "def score_dataset(X_train, X_valid, y_train, y_valid):\n",
    "    model = RandomForestRegressor(n_estimators=100, random_state=0)\n",
    "    model.fit(X_train, y_train)\n",
    "    preds = model.predict(X_valid)\n",
    "    return mean_absolute_error(y_valid, preds)"
   ]
  },
  {
   "cell_type": "markdown",
   "id": "a35510c9",
   "metadata": {
    "papermill": {
     "duration": 0.009261,
     "end_time": "2022-07-24T01:40:39.317414",
     "exception": false,
     "start_time": "2022-07-24T01:40:39.308153",
     "status": "completed"
    },
    "tags": []
   },
   "source": [
    "# Step 1: Drop columns with categorical data\n",
    "\n",
    "You'll get started with the most straightforward approach.  Use the code cell below to preprocess the data in `X_train` and `X_valid` to remove columns with categorical data.  Set the preprocessed DataFrames to `drop_X_train` and `drop_X_valid`, respectively.  "
   ]
  },
  {
   "cell_type": "code",
   "execution_count": 5,
   "id": "9a1cfa1a",
   "metadata": {
    "execution": {
     "iopub.execute_input": "2022-07-24T01:40:39.339192Z",
     "iopub.status.busy": "2022-07-24T01:40:39.338387Z",
     "iopub.status.idle": "2022-07-24T01:40:39.344316Z",
     "shell.execute_reply": "2022-07-24T01:40:39.343448Z"
    },
    "papermill": {
     "duration": 0.019524,
     "end_time": "2022-07-24T01:40:39.346605",
     "exception": false,
     "start_time": "2022-07-24T01:40:39.327081",
     "status": "completed"
    },
    "tags": []
   },
   "outputs": [],
   "source": [
    "s = X_train.dtypes == 'object'\n",
    "cols = s[s].index"
   ]
  },
  {
   "cell_type": "code",
   "execution_count": 6,
   "id": "ee6818f2",
   "metadata": {
    "execution": {
     "iopub.execute_input": "2022-07-24T01:40:39.370773Z",
     "iopub.status.busy": "2022-07-24T01:40:39.369252Z",
     "iopub.status.idle": "2022-07-24T01:40:39.383563Z",
     "shell.execute_reply": "2022-07-24T01:40:39.382423Z"
    },
    "papermill": {
     "duration": 0.028041,
     "end_time": "2022-07-24T01:40:39.385904",
     "exception": false,
     "start_time": "2022-07-24T01:40:39.357863",
     "status": "completed"
    },
    "tags": []
   },
   "outputs": [
    {
     "data": {
      "application/javascript": [
       "parent.postMessage({\"jupyterEvent\": \"custom.exercise_interaction\", \"data\": {\"outcomeType\": 1, \"valueTowardsCompletion\": 0.5, \"interactionType\": 1, \"questionType\": 2, \"questionId\": \"1_Drop\", \"learnToolsVersion\": \"0.3.4\", \"failureMessage\": \"\", \"exceptionClass\": \"\", \"trace\": \"\"}}, \"*\")"
      ],
      "text/plain": [
       "<IPython.core.display.Javascript object>"
      ]
     },
     "metadata": {},
     "output_type": "display_data"
    },
    {
     "data": {
      "text/markdown": [
       "<span style=\"color:#33cc33\">Correct</span>"
      ],
      "text/plain": [
       "Correct"
      ]
     },
     "metadata": {},
     "output_type": "display_data"
    }
   ],
   "source": [
    "# Fill in the lines below: drop columns in training and validation data\n",
    "drop_X_train = X_train.drop(cols, axis=1)\n",
    "drop_X_valid = X_valid.drop(cols, axis=1)\n",
    "\n",
    "# Check your answers\n",
    "step_1.check()"
   ]
  },
  {
   "cell_type": "code",
   "execution_count": 7,
   "id": "a8a2fb55",
   "metadata": {
    "execution": {
     "iopub.execute_input": "2022-07-24T01:40:39.407537Z",
     "iopub.status.busy": "2022-07-24T01:40:39.407120Z",
     "iopub.status.idle": "2022-07-24T01:40:39.411574Z",
     "shell.execute_reply": "2022-07-24T01:40:39.410412Z"
    },
    "papermill": {
     "duration": 0.01796,
     "end_time": "2022-07-24T01:40:39.413718",
     "exception": false,
     "start_time": "2022-07-24T01:40:39.395758",
     "status": "completed"
    },
    "tags": []
   },
   "outputs": [],
   "source": [
    "# Lines below will give you a hint or solution code\n",
    "#step_1.hint()\n",
    "#step_1.solution()"
   ]
  },
  {
   "cell_type": "markdown",
   "id": "89f8babb",
   "metadata": {
    "papermill": {
     "duration": 0.010083,
     "end_time": "2022-07-24T01:40:39.433851",
     "exception": false,
     "start_time": "2022-07-24T01:40:39.423768",
     "status": "completed"
    },
    "tags": []
   },
   "source": [
    "Run the next code cell to get the MAE for this approach."
   ]
  },
  {
   "cell_type": "code",
   "execution_count": 8,
   "id": "48fe7520",
   "metadata": {
    "execution": {
     "iopub.execute_input": "2022-07-24T01:40:39.455953Z",
     "iopub.status.busy": "2022-07-24T01:40:39.455032Z",
     "iopub.status.idle": "2022-07-24T01:40:40.556465Z",
     "shell.execute_reply": "2022-07-24T01:40:40.555250Z"
    },
    "papermill": {
     "duration": 1.11503,
     "end_time": "2022-07-24T01:40:40.558813",
     "exception": false,
     "start_time": "2022-07-24T01:40:39.443783",
     "status": "completed"
    },
    "tags": []
   },
   "outputs": [
    {
     "name": "stdout",
     "output_type": "stream",
     "text": [
      "MAE from Approach 1 (Drop categorical variables):\n",
      "17837.82570776256\n"
     ]
    }
   ],
   "source": [
    "print(\"MAE from Approach 1 (Drop categorical variables):\")\n",
    "print(score_dataset(drop_X_train, drop_X_valid, y_train, y_valid))"
   ]
  },
  {
   "cell_type": "markdown",
   "id": "3b67db65",
   "metadata": {
    "papermill": {
     "duration": 0.009742,
     "end_time": "2022-07-24T01:40:40.578601",
     "exception": false,
     "start_time": "2022-07-24T01:40:40.568859",
     "status": "completed"
    },
    "tags": []
   },
   "source": [
    "Before jumping into ordinal encoding, we'll investigate the dataset.  Specifically, we'll look at the `'Condition2'` column.  The code cell below prints the unique entries in both the training and validation sets."
   ]
  },
  {
   "cell_type": "code",
   "execution_count": 9,
   "id": "9a8f9a97",
   "metadata": {
    "execution": {
     "iopub.execute_input": "2022-07-24T01:40:40.600607Z",
     "iopub.status.busy": "2022-07-24T01:40:40.600187Z",
     "iopub.status.idle": "2022-07-24T01:40:40.607741Z",
     "shell.execute_reply": "2022-07-24T01:40:40.606595Z"
    },
    "papermill": {
     "duration": 0.021887,
     "end_time": "2022-07-24T01:40:40.610568",
     "exception": false,
     "start_time": "2022-07-24T01:40:40.588681",
     "status": "completed"
    },
    "tags": []
   },
   "outputs": [
    {
     "name": "stdout",
     "output_type": "stream",
     "text": [
      "Unique values in 'Condition2' column in training data: ['Norm' 'PosA' 'Feedr' 'PosN' 'Artery' 'RRAe']\n",
      "\n",
      "Unique values in 'Condition2' column in validation data: ['Norm' 'RRAn' 'RRNn' 'Artery' 'Feedr' 'PosN']\n"
     ]
    }
   ],
   "source": [
    "print(\"Unique values in 'Condition2' column in training data:\", X_train['Condition2'].unique())\n",
    "print(\"\\nUnique values in 'Condition2' column in validation data:\", X_valid['Condition2'].unique())"
   ]
  },
  {
   "cell_type": "markdown",
   "id": "cc3d9697",
   "metadata": {
    "papermill": {
     "duration": 0.009768,
     "end_time": "2022-07-24T01:40:40.631215",
     "exception": false,
     "start_time": "2022-07-24T01:40:40.621447",
     "status": "completed"
    },
    "tags": []
   },
   "source": [
    "# Step 2: Ordinal encoding\n",
    "\n",
    "### Part A\n",
    "\n",
    "If you now write code to: \n",
    "- fit an ordinal encoder to the training data, and then \n",
    "- use it to transform both the training and validation data, \n",
    "\n",
    "you'll get an error.  Can you see why this is the case?  (_You'll need  to use the above output to answer this question._)"
   ]
  },
  {
   "cell_type": "code",
   "execution_count": 10,
   "id": "2be151ef",
   "metadata": {
    "execution": {
     "iopub.execute_input": "2022-07-24T01:40:40.653572Z",
     "iopub.status.busy": "2022-07-24T01:40:40.652852Z",
     "iopub.status.idle": "2022-07-24T01:40:40.661220Z",
     "shell.execute_reply": "2022-07-24T01:40:40.660096Z"
    },
    "papermill": {
     "duration": 0.02211,
     "end_time": "2022-07-24T01:40:40.663512",
     "exception": false,
     "start_time": "2022-07-24T01:40:40.641402",
     "status": "completed"
    },
    "tags": []
   },
   "outputs": [
    {
     "data": {
      "application/javascript": [
       "parent.postMessage({\"jupyterEvent\": \"custom.exercise_interaction\", \"data\": {\"outcomeType\": 1, \"valueTowardsCompletion\": 0.5, \"interactionType\": 1, \"questionType\": 4, \"questionId\": \"2.1_LabelA\", \"learnToolsVersion\": \"0.3.4\", \"failureMessage\": \"\", \"exceptionClass\": \"\", \"trace\": \"\"}}, \"*\")"
      ],
      "text/plain": [
       "<IPython.core.display.Javascript object>"
      ]
     },
     "metadata": {},
     "output_type": "display_data"
    },
    {
     "data": {
      "text/markdown": [
       "<span style=\"color:#33cc33\">Correct:</span> \n",
       "\n",
       "Fitting an ordinal encoder to a column in the training data creates a corresponding integer-valued label for each unique value **that appears in the training data**. In the case that the validation data contains values that don't also appear in the training data, the encoder will throw an error, because these values won't have an integer assigned to them.  Notice that the `'Condition2'` column in the validation data contains the values `'RRAn'` and `'RRNn'`, but these don't appear in the training data -- thus, if we try to use an ordinal encoder with scikit-learn, the code will throw an error."
      ],
      "text/plain": [
       "Correct: \n",
       "\n",
       "Fitting an ordinal encoder to a column in the training data creates a corresponding integer-valued label for each unique value **that appears in the training data**. In the case that the validation data contains values that don't also appear in the training data, the encoder will throw an error, because these values won't have an integer assigned to them.  Notice that the `'Condition2'` column in the validation data contains the values `'RRAn'` and `'RRNn'`, but these don't appear in the training data -- thus, if we try to use an ordinal encoder with scikit-learn, the code will throw an error."
      ]
     },
     "metadata": {},
     "output_type": "display_data"
    }
   ],
   "source": [
    "# Check your answer (Run this code cell to receive credit!)\n",
    "step_2.a.check()"
   ]
  },
  {
   "cell_type": "code",
   "execution_count": 11,
   "id": "6ec5fcfc",
   "metadata": {
    "execution": {
     "iopub.execute_input": "2022-07-24T01:40:40.686555Z",
     "iopub.status.busy": "2022-07-24T01:40:40.685788Z",
     "iopub.status.idle": "2022-07-24T01:40:40.690477Z",
     "shell.execute_reply": "2022-07-24T01:40:40.689696Z"
    },
    "papermill": {
     "duration": 0.018799,
     "end_time": "2022-07-24T01:40:40.692744",
     "exception": false,
     "start_time": "2022-07-24T01:40:40.673945",
     "status": "completed"
    },
    "tags": []
   },
   "outputs": [],
   "source": [
    "#step_2.a.hint()"
   ]
  },
  {
   "cell_type": "markdown",
   "id": "76ac37c7",
   "metadata": {
    "papermill": {
     "duration": 0.010043,
     "end_time": "2022-07-24T01:40:40.713159",
     "exception": false,
     "start_time": "2022-07-24T01:40:40.703116",
     "status": "completed"
    },
    "tags": []
   },
   "source": [
    "This is a common problem that you'll encounter with real-world data, and there are many approaches to fixing this issue.  For instance, you can write a custom ordinal encoder to deal with new categories.  The simplest approach, however, is to drop the problematic categorical columns.  \n",
    "\n",
    "Run the code cell below to save the problematic columns to a Python list `bad_label_cols`.  Likewise, columns that can be safely ordinal encoded are stored in `good_label_cols`."
   ]
  },
  {
   "cell_type": "code",
   "execution_count": 12,
   "id": "f1b6418b",
   "metadata": {
    "execution": {
     "iopub.execute_input": "2022-07-24T01:40:40.736224Z",
     "iopub.status.busy": "2022-07-24T01:40:40.735467Z",
     "iopub.status.idle": "2022-07-24T01:40:40.751203Z",
     "shell.execute_reply": "2022-07-24T01:40:40.750006Z"
    },
    "papermill": {
     "duration": 0.030116,
     "end_time": "2022-07-24T01:40:40.753759",
     "exception": false,
     "start_time": "2022-07-24T01:40:40.723643",
     "status": "completed"
    },
    "tags": []
   },
   "outputs": [
    {
     "name": "stdout",
     "output_type": "stream",
     "text": [
      "Categorical columns that will be ordinal encoded: ['MSZoning', 'Street', 'LotShape', 'LandContour', 'Utilities', 'LotConfig', 'LandSlope', 'Neighborhood', 'Condition1', 'BldgType', 'HouseStyle', 'RoofStyle', 'Exterior1st', 'Exterior2nd', 'ExterQual', 'ExterCond', 'Foundation', 'Heating', 'HeatingQC', 'CentralAir', 'KitchenQual', 'PavedDrive', 'SaleType', 'SaleCondition']\n",
      "\n",
      "Categorical columns that will be dropped from the dataset: ['Condition2', 'Functional', 'RoofMatl']\n"
     ]
    }
   ],
   "source": [
    "# Categorical columns in the training data\n",
    "object_cols = [col for col in X_train.columns if X_train[col].dtype == \"object\"]\n",
    "\n",
    "# Columns that can be safely ordinal encoded\n",
    "good_label_cols = [col for col in object_cols if \n",
    "                   set(X_valid[col]).issubset(set(X_train[col]))]\n",
    "        \n",
    "# Problematic columns that will be dropped from the dataset\n",
    "bad_label_cols = list(set(object_cols)-set(good_label_cols))\n",
    "        \n",
    "print('Categorical columns that will be ordinal encoded:', good_label_cols)\n",
    "print('\\nCategorical columns that will be dropped from the dataset:', bad_label_cols)"
   ]
  },
  {
   "cell_type": "markdown",
   "id": "1d474076",
   "metadata": {
    "papermill": {
     "duration": 0.010174,
     "end_time": "2022-07-24T01:40:40.774979",
     "exception": false,
     "start_time": "2022-07-24T01:40:40.764805",
     "status": "completed"
    },
    "tags": []
   },
   "source": [
    "### Part B\n",
    "\n",
    "Use the next code cell to ordinal encode the data in `X_train` and `X_valid`.  Set the preprocessed DataFrames to `label_X_train` and `label_X_valid`, respectively.  \n",
    "- We have provided code below to drop the categorical columns in `bad_label_cols` from the dataset. \n",
    "- You should ordinal encode the categorical columns in `good_label_cols`.  "
   ]
  },
  {
   "cell_type": "code",
   "execution_count": 13,
   "id": "5364bade",
   "metadata": {
    "execution": {
     "iopub.execute_input": "2022-07-24T01:40:40.799041Z",
     "iopub.status.busy": "2022-07-24T01:40:40.798253Z",
     "iopub.status.idle": "2022-07-24T01:40:40.845828Z",
     "shell.execute_reply": "2022-07-24T01:40:40.844589Z"
    },
    "papermill": {
     "duration": 0.062341,
     "end_time": "2022-07-24T01:40:40.848325",
     "exception": false,
     "start_time": "2022-07-24T01:40:40.785984",
     "status": "completed"
    },
    "tags": []
   },
   "outputs": [
    {
     "data": {
      "application/javascript": [
       "parent.postMessage({\"jupyterEvent\": \"custom.exercise_interaction\", \"data\": {\"outcomeType\": 1, \"valueTowardsCompletion\": 0.5, \"interactionType\": 1, \"questionType\": 2, \"questionId\": \"2.2_LabelB\", \"learnToolsVersion\": \"0.3.4\", \"failureMessage\": \"\", \"exceptionClass\": \"\", \"trace\": \"\"}}, \"*\")"
      ],
      "text/plain": [
       "<IPython.core.display.Javascript object>"
      ]
     },
     "metadata": {},
     "output_type": "display_data"
    },
    {
     "data": {
      "text/markdown": [
       "<span style=\"color:#33cc33\">Correct</span>"
      ],
      "text/plain": [
       "Correct"
      ]
     },
     "metadata": {},
     "output_type": "display_data"
    }
   ],
   "source": [
    "from sklearn.preprocessing import OrdinalEncoder\n",
    "\n",
    "# Drop categorical columns that will not be encoded\n",
    "label_X_train = X_train.drop(bad_label_cols, axis=1)\n",
    "label_X_valid = X_valid.drop(bad_label_cols, axis=1)\n",
    "\n",
    "# Apply ordinal encoder \n",
    "# Your code here\n",
    "encoder = OrdinalEncoder()\n",
    "label_X_train[good_label_cols] = encoder.fit_transform(label_X_train[good_label_cols])\n",
    "label_X_valid[good_label_cols] = encoder.transform(label_X_valid[good_label_cols])\n",
    "    \n",
    "# Check your answer\n",
    "step_2.b.check()"
   ]
  },
  {
   "cell_type": "code",
   "execution_count": 14,
   "id": "36b7047b",
   "metadata": {
    "execution": {
     "iopub.execute_input": "2022-07-24T01:40:40.872706Z",
     "iopub.status.busy": "2022-07-24T01:40:40.871913Z",
     "iopub.status.idle": "2022-07-24T01:40:40.876649Z",
     "shell.execute_reply": "2022-07-24T01:40:40.875779Z"
    },
    "papermill": {
     "duration": 0.019692,
     "end_time": "2022-07-24T01:40:40.878940",
     "exception": false,
     "start_time": "2022-07-24T01:40:40.859248",
     "status": "completed"
    },
    "tags": []
   },
   "outputs": [],
   "source": [
    "# Lines below will give you a hint or solution code\n",
    "#step_2.b.hint()\n",
    "#step_2.b.solution()"
   ]
  },
  {
   "cell_type": "markdown",
   "id": "4160237a",
   "metadata": {
    "papermill": {
     "duration": 0.010729,
     "end_time": "2022-07-24T01:40:40.901819",
     "exception": false,
     "start_time": "2022-07-24T01:40:40.891090",
     "status": "completed"
    },
    "tags": []
   },
   "source": [
    "Run the next code cell to get the MAE for this approach."
   ]
  },
  {
   "cell_type": "code",
   "execution_count": 15,
   "id": "feba2594",
   "metadata": {
    "execution": {
     "iopub.execute_input": "2022-07-24T01:40:40.925373Z",
     "iopub.status.busy": "2022-07-24T01:40:40.924962Z",
     "iopub.status.idle": "2022-07-24T01:40:42.333602Z",
     "shell.execute_reply": "2022-07-24T01:40:42.332092Z"
    },
    "papermill": {
     "duration": 1.423624,
     "end_time": "2022-07-24T01:40:42.336388",
     "exception": false,
     "start_time": "2022-07-24T01:40:40.912764",
     "status": "completed"
    },
    "tags": []
   },
   "outputs": [
    {
     "name": "stdout",
     "output_type": "stream",
     "text": [
      "MAE from Approach 2 (Ordinal Encoding):\n",
      "17098.01649543379\n"
     ]
    }
   ],
   "source": [
    "print(\"MAE from Approach 2 (Ordinal Encoding):\") \n",
    "print(score_dataset(label_X_train, label_X_valid, y_train, y_valid))"
   ]
  },
  {
   "cell_type": "markdown",
   "id": "4b3ef50b",
   "metadata": {
    "papermill": {
     "duration": 0.010566,
     "end_time": "2022-07-24T01:40:42.358238",
     "exception": false,
     "start_time": "2022-07-24T01:40:42.347672",
     "status": "completed"
    },
    "tags": []
   },
   "source": [
    "So far, you've tried two different approaches to dealing with categorical variables.  And, you've seen that encoding categorical data yields better results than removing columns from the dataset.\n",
    "\n",
    "Soon, you'll try one-hot encoding.  Before then, there's one additional topic we need to cover.  Begin by running the next code cell without changes.  "
   ]
  },
  {
   "cell_type": "code",
   "execution_count": 16,
   "id": "be220bfa",
   "metadata": {
    "execution": {
     "iopub.execute_input": "2022-07-24T01:40:42.382008Z",
     "iopub.status.busy": "2022-07-24T01:40:42.381217Z",
     "iopub.status.idle": "2022-07-24T01:40:42.395553Z",
     "shell.execute_reply": "2022-07-24T01:40:42.394408Z"
    },
    "papermill": {
     "duration": 0.028894,
     "end_time": "2022-07-24T01:40:42.397898",
     "exception": false,
     "start_time": "2022-07-24T01:40:42.369004",
     "status": "completed"
    },
    "tags": []
   },
   "outputs": [
    {
     "data": {
      "text/plain": [
       "[('Street', 2),\n",
       " ('Utilities', 2),\n",
       " ('CentralAir', 2),\n",
       " ('LandSlope', 3),\n",
       " ('PavedDrive', 3),\n",
       " ('LotShape', 4),\n",
       " ('LandContour', 4),\n",
       " ('ExterQual', 4),\n",
       " ('KitchenQual', 4),\n",
       " ('MSZoning', 5),\n",
       " ('LotConfig', 5),\n",
       " ('BldgType', 5),\n",
       " ('ExterCond', 5),\n",
       " ('HeatingQC', 5),\n",
       " ('Condition2', 6),\n",
       " ('RoofStyle', 6),\n",
       " ('Foundation', 6),\n",
       " ('Heating', 6),\n",
       " ('Functional', 6),\n",
       " ('SaleCondition', 6),\n",
       " ('RoofMatl', 7),\n",
       " ('HouseStyle', 8),\n",
       " ('Condition1', 9),\n",
       " ('SaleType', 9),\n",
       " ('Exterior1st', 15),\n",
       " ('Exterior2nd', 16),\n",
       " ('Neighborhood', 25)]"
      ]
     },
     "execution_count": 16,
     "metadata": {},
     "output_type": "execute_result"
    }
   ],
   "source": [
    "# Get number of unique entries in each column with categorical data\n",
    "object_nunique = list(map(lambda col: X_train[col].nunique(), object_cols))\n",
    "d = dict(zip(object_cols, object_nunique))\n",
    "\n",
    "# Print number of unique entries by column, in ascending order\n",
    "sorted(d.items(), key=lambda x: x[1])"
   ]
  },
  {
   "cell_type": "markdown",
   "id": "bd348658",
   "metadata": {
    "papermill": {
     "duration": 0.010595,
     "end_time": "2022-07-24T01:40:42.419533",
     "exception": false,
     "start_time": "2022-07-24T01:40:42.408938",
     "status": "completed"
    },
    "tags": []
   },
   "source": [
    "# Step 3: Investigating cardinality\n",
    "\n",
    "### Part A\n",
    "\n",
    "The output above shows, for each column with categorical data, the number of unique values in the column.  For instance, the `'Street'` column in the training data has two unique values: `'Grvl'` and `'Pave'`, corresponding to a gravel road and a paved road, respectively.\n",
    "\n",
    "We refer to the number of unique entries of a categorical variable as the **cardinality** of that categorical variable.  For instance, the `'Street'` variable has cardinality 2.\n",
    "\n",
    "Use the output above to answer the questions below."
   ]
  },
  {
   "cell_type": "code",
   "execution_count": 17,
   "id": "e8e81a75",
   "metadata": {
    "execution": {
     "iopub.execute_input": "2022-07-24T01:40:42.443442Z",
     "iopub.status.busy": "2022-07-24T01:40:42.442665Z",
     "iopub.status.idle": "2022-07-24T01:40:42.452186Z",
     "shell.execute_reply": "2022-07-24T01:40:42.451330Z"
    },
    "papermill": {
     "duration": 0.02401,
     "end_time": "2022-07-24T01:40:42.454411",
     "exception": false,
     "start_time": "2022-07-24T01:40:42.430401",
     "status": "completed"
    },
    "tags": []
   },
   "outputs": [
    {
     "data": {
      "application/javascript": [
       "parent.postMessage({\"jupyterEvent\": \"custom.exercise_interaction\", \"data\": {\"outcomeType\": 1, \"valueTowardsCompletion\": 0.5, \"interactionType\": 1, \"questionType\": 1, \"questionId\": \"3.1_CardinalityA\", \"learnToolsVersion\": \"0.3.4\", \"failureMessage\": \"\", \"exceptionClass\": \"\", \"trace\": \"\"}}, \"*\")"
      ],
      "text/plain": [
       "<IPython.core.display.Javascript object>"
      ]
     },
     "metadata": {},
     "output_type": "display_data"
    },
    {
     "data": {
      "text/markdown": [
       "<span style=\"color:#33cc33\">Correct</span>"
      ],
      "text/plain": [
       "Correct"
      ]
     },
     "metadata": {},
     "output_type": "display_data"
    }
   ],
   "source": [
    "# Fill in the line below: How many categorical variables in the training data\n",
    "# have cardinality greater than 10?\n",
    "high_cardinality_numcols = 3\n",
    "\n",
    "# Fill in the line below: How many columns are needed to one-hot encode the \n",
    "# 'Neighborhood' variable in the training data?\n",
    "num_cols_neighborhood = 25\n",
    "\n",
    "# Check your answers\n",
    "step_3.a.check()"
   ]
  },
  {
   "cell_type": "code",
   "execution_count": 18,
   "id": "bde9ffbc",
   "metadata": {
    "execution": {
     "iopub.execute_input": "2022-07-24T01:40:42.479098Z",
     "iopub.status.busy": "2022-07-24T01:40:42.478110Z",
     "iopub.status.idle": "2022-07-24T01:40:42.483192Z",
     "shell.execute_reply": "2022-07-24T01:40:42.482358Z"
    },
    "papermill": {
     "duration": 0.019935,
     "end_time": "2022-07-24T01:40:42.485534",
     "exception": false,
     "start_time": "2022-07-24T01:40:42.465599",
     "status": "completed"
    },
    "tags": []
   },
   "outputs": [],
   "source": [
    "# Lines below will give you a hint or solution code\n",
    "#step_3.a.hint()\n",
    "#step_3.a.solution()"
   ]
  },
  {
   "cell_type": "markdown",
   "id": "b534f7df",
   "metadata": {
    "papermill": {
     "duration": 0.010951,
     "end_time": "2022-07-24T01:40:42.507779",
     "exception": false,
     "start_time": "2022-07-24T01:40:42.496828",
     "status": "completed"
    },
    "tags": []
   },
   "source": [
    "### Part B\n",
    "\n",
    "For large datasets with many rows, one-hot encoding can greatly expand the size of the dataset.  For this reason, we typically will only one-hot encode columns with relatively low cardinality.  Then, high cardinality columns can either be dropped from the dataset, or we can use ordinal encoding.\n",
    "\n",
    "As an example, consider a dataset with 10,000 rows, and containing one categorical column with 100 unique entries.  \n",
    "- If this column is replaced with the corresponding one-hot encoding, how many entries are added to the dataset?  \n",
    "- If we instead replace the column with the ordinal encoding, how many entries are added?  \n",
    "\n",
    "Use your answers to fill in the lines below."
   ]
  },
  {
   "cell_type": "code",
   "execution_count": 19,
   "id": "f8b272da",
   "metadata": {
    "execution": {
     "iopub.execute_input": "2022-07-24T01:40:42.532939Z",
     "iopub.status.busy": "2022-07-24T01:40:42.532023Z",
     "iopub.status.idle": "2022-07-24T01:40:42.540983Z",
     "shell.execute_reply": "2022-07-24T01:40:42.540076Z"
    },
    "papermill": {
     "duration": 0.02388,
     "end_time": "2022-07-24T01:40:42.543084",
     "exception": false,
     "start_time": "2022-07-24T01:40:42.519204",
     "status": "completed"
    },
    "tags": []
   },
   "outputs": [
    {
     "data": {
      "application/javascript": [
       "parent.postMessage({\"jupyterEvent\": \"custom.exercise_interaction\", \"data\": {\"outcomeType\": 1, \"valueTowardsCompletion\": 0.5, \"interactionType\": 1, \"questionType\": 1, \"questionId\": \"3.2_CardinalityB\", \"learnToolsVersion\": \"0.3.4\", \"failureMessage\": \"\", \"exceptionClass\": \"\", \"trace\": \"\"}}, \"*\")"
      ],
      "text/plain": [
       "<IPython.core.display.Javascript object>"
      ]
     },
     "metadata": {},
     "output_type": "display_data"
    },
    {
     "data": {
      "text/markdown": [
       "<span style=\"color:#33cc33\">Correct</span>"
      ],
      "text/plain": [
       "Correct"
      ]
     },
     "metadata": {},
     "output_type": "display_data"
    }
   ],
   "source": [
    "# Fill in the line below: How many entries are added to the dataset by \n",
    "# replacing the column with a one-hot encoding?\n",
    "OH_entries_added = 99*10000\n",
    "\n",
    "# Fill in the line below: How many entries are added to the dataset by\n",
    "# replacing the column with an ordinal encoding?\n",
    "label_entries_added = 0\n",
    "\n",
    "# Check your answers\n",
    "step_3.b.check()"
   ]
  },
  {
   "cell_type": "code",
   "execution_count": 20,
   "id": "5f37b431",
   "metadata": {
    "execution": {
     "iopub.execute_input": "2022-07-24T01:40:42.569893Z",
     "iopub.status.busy": "2022-07-24T01:40:42.568779Z",
     "iopub.status.idle": "2022-07-24T01:40:42.573235Z",
     "shell.execute_reply": "2022-07-24T01:40:42.572421Z"
    },
    "papermill": {
     "duration": 0.020218,
     "end_time": "2022-07-24T01:40:42.575290",
     "exception": false,
     "start_time": "2022-07-24T01:40:42.555072",
     "status": "completed"
    },
    "tags": []
   },
   "outputs": [],
   "source": [
    "# Lines below will give you a hint or solution code\n",
    "#step_3.b.hint()\n",
    "#step_3.b.solution()"
   ]
  },
  {
   "cell_type": "markdown",
   "id": "730ad63a",
   "metadata": {
    "papermill": {
     "duration": 0.011301,
     "end_time": "2022-07-24T01:40:42.598234",
     "exception": false,
     "start_time": "2022-07-24T01:40:42.586933",
     "status": "completed"
    },
    "tags": []
   },
   "source": [
    "Next, you'll experiment with one-hot encoding.  But, instead of encoding all of the categorical variables in the dataset, you'll only create a one-hot encoding for columns with cardinality less than 10.\n",
    "\n",
    "Run the code cell below without changes to set `low_cardinality_cols` to a Python list containing the columns that will be one-hot encoded.  Likewise, `high_cardinality_cols` contains a list of categorical columns that will be dropped from the dataset."
   ]
  },
  {
   "cell_type": "code",
   "execution_count": 21,
   "id": "e4c23db1",
   "metadata": {
    "execution": {
     "iopub.execute_input": "2022-07-24T01:40:42.623497Z",
     "iopub.status.busy": "2022-07-24T01:40:42.622683Z",
     "iopub.status.idle": "2022-07-24T01:40:42.634408Z",
     "shell.execute_reply": "2022-07-24T01:40:42.633073Z"
    },
    "papermill": {
     "duration": 0.027751,
     "end_time": "2022-07-24T01:40:42.637585",
     "exception": false,
     "start_time": "2022-07-24T01:40:42.609834",
     "status": "completed"
    },
    "tags": []
   },
   "outputs": [
    {
     "name": "stdout",
     "output_type": "stream",
     "text": [
      "Categorical columns that will be one-hot encoded: ['MSZoning', 'Street', 'LotShape', 'LandContour', 'Utilities', 'LotConfig', 'LandSlope', 'Condition1', 'Condition2', 'BldgType', 'HouseStyle', 'RoofStyle', 'RoofMatl', 'ExterQual', 'ExterCond', 'Foundation', 'Heating', 'HeatingQC', 'CentralAir', 'KitchenQual', 'Functional', 'PavedDrive', 'SaleType', 'SaleCondition']\n",
      "\n",
      "Categorical columns that will be dropped from the dataset: ['Exterior2nd', 'Neighborhood', 'Exterior1st']\n"
     ]
    }
   ],
   "source": [
    "# Columns that will be one-hot encoded\n",
    "low_cardinality_cols = [col for col in object_cols if X_train[col].nunique() < 10]\n",
    "\n",
    "# Columns that will be dropped from the dataset\n",
    "high_cardinality_cols = list(set(object_cols)-set(low_cardinality_cols))\n",
    "\n",
    "print('Categorical columns that will be one-hot encoded:', low_cardinality_cols)\n",
    "print('\\nCategorical columns that will be dropped from the dataset:', high_cardinality_cols)"
   ]
  },
  {
   "cell_type": "markdown",
   "id": "e61d2683",
   "metadata": {
    "papermill": {
     "duration": 0.011695,
     "end_time": "2022-07-24T01:40:42.661576",
     "exception": false,
     "start_time": "2022-07-24T01:40:42.649881",
     "status": "completed"
    },
    "tags": []
   },
   "source": [
    "# Step 4: One-hot encoding\n",
    "\n",
    "Use the next code cell to one-hot encode the data in `X_train` and `X_valid`.  Set the preprocessed DataFrames to `OH_X_train` and `OH_X_valid`, respectively.  \n",
    "- The full list of categorical columns in the dataset can be found in the Python list `object_cols`.\n",
    "- You should only one-hot encode the categorical columns in `low_cardinality_cols`.  All other categorical columns should be dropped from the dataset. "
   ]
  },
  {
   "cell_type": "code",
   "execution_count": 22,
   "id": "d29433ed",
   "metadata": {
    "execution": {
     "iopub.execute_input": "2022-07-24T01:40:42.687288Z",
     "iopub.status.busy": "2022-07-24T01:40:42.686530Z",
     "iopub.status.idle": "2022-07-24T01:40:42.726815Z",
     "shell.execute_reply": "2022-07-24T01:40:42.725596Z"
    },
    "papermill": {
     "duration": 0.05572,
     "end_time": "2022-07-24T01:40:42.729177",
     "exception": false,
     "start_time": "2022-07-24T01:40:42.673457",
     "status": "completed"
    },
    "tags": []
   },
   "outputs": [
    {
     "data": {
      "application/javascript": [
       "parent.postMessage({\"jupyterEvent\": \"custom.exercise_interaction\", \"data\": {\"outcomeType\": 1, \"valueTowardsCompletion\": 0.5, \"interactionType\": 1, \"questionType\": 2, \"questionId\": \"4_OneHot\", \"learnToolsVersion\": \"0.3.4\", \"failureMessage\": \"\", \"exceptionClass\": \"\", \"trace\": \"\"}}, \"*\")"
      ],
      "text/plain": [
       "<IPython.core.display.Javascript object>"
      ]
     },
     "metadata": {},
     "output_type": "display_data"
    },
    {
     "data": {
      "text/markdown": [
       "<span style=\"color:#33cc33\">Correct</span>"
      ],
      "text/plain": [
       "Correct"
      ]
     },
     "metadata": {},
     "output_type": "display_data"
    }
   ],
   "source": [
    "from sklearn.preprocessing import OneHotEncoder\n",
    "\n",
    "OH_encoder = OneHotEncoder(handle_unknown='ignore', sparse=False)\n",
    "OH_cols_train = pd.DataFrame(OH_encoder.fit_transform(X_train[low_cardinality_cols]))\n",
    "OH_cols_valid = pd.DataFrame(OH_encoder.transform(X_valid[low_cardinality_cols]))\n",
    "\n",
    "OH_cols_train.index = X_train.index\n",
    "OH_cols_valid.index = X_valid.index\n",
    "\n",
    "num_X_train = X_train.drop(object_cols, axis=1)\n",
    "num_X_valid = X_valid.drop(object_cols, axis=1)\n",
    "\n",
    "# Add one-hot encoded columns to numerical features\n",
    "OH_X_train = pd.concat([num_X_train, OH_cols_train], axis=1)\n",
    "OH_X_valid = pd.concat([num_X_valid, OH_cols_valid], axis=1)\n",
    "\n",
    "# Check your answer\n",
    "step_4.check()"
   ]
  },
  {
   "cell_type": "code",
   "execution_count": 23,
   "id": "ec3197ca",
   "metadata": {
    "execution": {
     "iopub.execute_input": "2022-07-24T01:40:42.755039Z",
     "iopub.status.busy": "2022-07-24T01:40:42.754671Z",
     "iopub.status.idle": "2022-07-24T01:40:42.758927Z",
     "shell.execute_reply": "2022-07-24T01:40:42.757847Z"
    },
    "papermill": {
     "duration": 0.019907,
     "end_time": "2022-07-24T01:40:42.761207",
     "exception": false,
     "start_time": "2022-07-24T01:40:42.741300",
     "status": "completed"
    },
    "tags": []
   },
   "outputs": [],
   "source": [
    "# Lines below will give you a hint or solution code\n",
    "#step_4.hint()\n",
    "#step_4.solution()"
   ]
  },
  {
   "cell_type": "markdown",
   "id": "0e7da901",
   "metadata": {
    "papermill": {
     "duration": 0.011449,
     "end_time": "2022-07-24T01:40:42.784512",
     "exception": false,
     "start_time": "2022-07-24T01:40:42.773063",
     "status": "completed"
    },
    "tags": []
   },
   "source": [
    "Run the next code cell to get the MAE for this approach."
   ]
  },
  {
   "cell_type": "code",
   "execution_count": 24,
   "id": "2c8f71a0",
   "metadata": {
    "execution": {
     "iopub.execute_input": "2022-07-24T01:40:42.809946Z",
     "iopub.status.busy": "2022-07-24T01:40:42.809569Z",
     "iopub.status.idle": "2022-07-24T01:40:44.616129Z",
     "shell.execute_reply": "2022-07-24T01:40:44.614671Z"
    },
    "papermill": {
     "duration": 1.822185,
     "end_time": "2022-07-24T01:40:44.618475",
     "exception": false,
     "start_time": "2022-07-24T01:40:42.796290",
     "status": "completed"
    },
    "tags": []
   },
   "outputs": [
    {
     "name": "stdout",
     "output_type": "stream",
     "text": [
      "MAE from Approach 3 (One-Hot Encoding):\n"
     ]
    },
    {
     "name": "stderr",
     "output_type": "stream",
     "text": [
      "/opt/conda/lib/python3.7/site-packages/sklearn/utils/validation.py:1692: FutureWarning: Feature names only support names that are all strings. Got feature names with dtypes: ['int', 'str']. An error will be raised in 1.2.\n",
      "  FutureWarning,\n"
     ]
    },
    {
     "name": "stdout",
     "output_type": "stream",
     "text": [
      "17525.345719178084\n"
     ]
    },
    {
     "name": "stderr",
     "output_type": "stream",
     "text": [
      "/opt/conda/lib/python3.7/site-packages/sklearn/utils/validation.py:1692: FutureWarning: Feature names only support names that are all strings. Got feature names with dtypes: ['int', 'str']. An error will be raised in 1.2.\n",
      "  FutureWarning,\n"
     ]
    }
   ],
   "source": [
    "print(\"MAE from Approach 3 (One-Hot Encoding):\") \n",
    "print(score_dataset(OH_X_train, OH_X_valid, y_train, y_valid))"
   ]
  },
  {
   "cell_type": "markdown",
   "id": "7fa122a8",
   "metadata": {
    "papermill": {
     "duration": 0.01175,
     "end_time": "2022-07-24T01:40:44.642391",
     "exception": false,
     "start_time": "2022-07-24T01:40:44.630641",
     "status": "completed"
    },
    "tags": []
   },
   "source": [
    "# Generate test predictions and submit your results\n",
    "\n",
    "After you complete Step 4, if you'd like to use what you've learned to submit your results to the leaderboard, you'll need to preprocess the test data before generating predictions.\n",
    "\n",
    "**This step is completely optional, and you do not need to submit results to the leaderboard to successfully complete the exercise.**\n",
    "\n",
    "Check out the previous exercise if you need help with remembering how to [join the competition](https://www.kaggle.com/c/home-data-for-ml-course) or save your results to CSV.  Once you have generated a file with your results, follow the instructions below:\n",
    "1. Begin by clicking on the **Save Version** button in the top right corner of the window.  This will generate a pop-up window.  \n",
    "2. Ensure that the **Save and Run All** option is selected, and then click on the **Save** button.\n",
    "3. This generates a window in the bottom left corner of the notebook.  After it has finished running, click on the number to the right of the **Save Version** button.  This pulls up a list of versions on the right of the screen.  Click on the ellipsis **(...)** to the right of the most recent version, and select **Open in Viewer**.  This brings you into view mode of the same page. You will need to scroll down to get back to these instructions.\n",
    "4. Click on the **Output** tab on the right of the screen.  Then, click on the file you would like to submit, and click on the **Submit** button to submit your results to the leaderboard.\n",
    "\n",
    "You have now successfully submitted to the competition!\n",
    "\n",
    "If you want to keep working to improve your performance, select the **Edit** button in the top right of the screen. Then you can change your code and repeat the process. There's a lot of room to improve, and you will climb up the leaderboard as you work.\n"
   ]
  },
  {
   "cell_type": "code",
   "execution_count": 25,
   "id": "91d75733",
   "metadata": {
    "execution": {
     "iopub.execute_input": "2022-07-24T01:40:44.668262Z",
     "iopub.status.busy": "2022-07-24T01:40:44.667845Z",
     "iopub.status.idle": "2022-07-24T01:40:44.672632Z",
     "shell.execute_reply": "2022-07-24T01:40:44.671619Z"
    },
    "papermill": {
     "duration": 0.020442,
     "end_time": "2022-07-24T01:40:44.674920",
     "exception": false,
     "start_time": "2022-07-24T01:40:44.654478",
     "status": "completed"
    },
    "tags": []
   },
   "outputs": [],
   "source": [
    "# (Optional) Your code here"
   ]
  },
  {
   "cell_type": "markdown",
   "id": "ff9b87c3",
   "metadata": {
    "papermill": {
     "duration": 0.011758,
     "end_time": "2022-07-24T01:40:44.698710",
     "exception": false,
     "start_time": "2022-07-24T01:40:44.686952",
     "status": "completed"
    },
    "tags": []
   },
   "source": [
    "# Keep going\n",
    "\n",
    "With missing value handling and categorical encoding, your modeling process is getting complex. This complexity gets worse when you want to save your model to use in the future. The key to managing this complexity is something called **pipelines**. \n",
    "\n",
    "**[Learn to use pipelines](https://www.kaggle.com/alexisbcook/pipelines)** to preprocess datasets with categorical variables, missing values and any other messiness your data throws at you."
   ]
  },
  {
   "cell_type": "markdown",
   "id": "9bad92f2",
   "metadata": {
    "papermill": {
     "duration": 0.011716,
     "end_time": "2022-07-24T01:40:44.722466",
     "exception": false,
     "start_time": "2022-07-24T01:40:44.710750",
     "status": "completed"
    },
    "tags": []
   },
   "source": [
    "---\n",
    "\n",
    "\n",
    "\n",
    "\n",
    "*Have questions or comments? Visit the [course discussion forum](https://www.kaggle.com/learn/intermediate-machine-learning/discussion) to chat with other learners.*"
   ]
  }
 ],
 "metadata": {
  "kernelspec": {
   "display_name": "Python 3",
   "language": "python",
   "name": "python3"
  },
  "language_info": {
   "codemirror_mode": {
    "name": "ipython",
    "version": 3
   },
   "file_extension": ".py",
   "mimetype": "text/x-python",
   "name": "python",
   "nbconvert_exporter": "python",
   "pygments_lexer": "ipython3",
   "version": "3.7.12"
  },
  "papermill": {
   "default_parameters": {},
   "duration": 17.785532,
   "end_time": "2022-07-24T01:40:45.456771",
   "environment_variables": {},
   "exception": null,
   "input_path": "__notebook__.ipynb",
   "output_path": "__notebook__.ipynb",
   "parameters": {},
   "start_time": "2022-07-24T01:40:27.671239",
   "version": "2.3.4"
  }
 },
 "nbformat": 4,
 "nbformat_minor": 5
}
