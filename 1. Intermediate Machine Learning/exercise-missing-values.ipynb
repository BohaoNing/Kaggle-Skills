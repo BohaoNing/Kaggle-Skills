{
 "cells": [
  {
   "cell_type": "markdown",
   "id": "a6682e1e",
   "metadata": {
    "papermill": {
     "duration": 0.011371,
     "end_time": "2022-09-13T00:23:50.718437",
     "exception": false,
     "start_time": "2022-09-13T00:23:50.707066",
     "status": "completed"
    },
    "tags": []
   },
   "source": [
    "**This notebook is an exercise in the [Intermediate Machine Learning](https://www.kaggle.com/learn/intermediate-machine-learning) course.  You can reference the tutorial at [this link](https://www.kaggle.com/alexisbcook/missing-values).**\n",
    "\n",
    "---\n"
   ]
  },
  {
   "cell_type": "markdown",
   "id": "f2d6526c",
   "metadata": {
    "papermill": {
     "duration": 0.007958,
     "end_time": "2022-09-13T00:23:50.735176",
     "exception": false,
     "start_time": "2022-09-13T00:23:50.727218",
     "status": "completed"
    },
    "tags": []
   },
   "source": [
    "Now it's your turn to test your new knowledge of **missing values** handling. You'll probably find it makes a big difference.\n",
    "\n",
    "# Setup\n",
    "\n",
    "The questions will give you feedback on your work. Run the following cell to set up the feedback system."
   ]
  },
  {
   "cell_type": "code",
   "execution_count": 1,
   "id": "25387b75",
   "metadata": {
    "execution": {
     "iopub.execute_input": "2022-09-13T00:23:50.753636Z",
     "iopub.status.busy": "2022-09-13T00:23:50.752953Z",
     "iopub.status.idle": "2022-09-13T00:23:50.810225Z",
     "shell.execute_reply": "2022-09-13T00:23:50.809396Z"
    },
    "papermill": {
     "duration": 0.071544,
     "end_time": "2022-09-13T00:23:50.814902",
     "exception": false,
     "start_time": "2022-09-13T00:23:50.743358",
     "status": "completed"
    },
    "tags": []
   },
   "outputs": [
    {
     "name": "stdout",
     "output_type": "stream",
     "text": [
      "Setup Complete\n"
     ]
    }
   ],
   "source": [
    "# Set up code checking\n",
    "import os\n",
    "if not os.path.exists(\"../input/train.csv\"):\n",
    "    os.symlink(\"../input/home-data-for-ml-course/train.csv\", \"../input/train.csv\")  \n",
    "    os.symlink(\"../input/home-data-for-ml-course/test.csv\", \"../input/test.csv\") \n",
    "from learntools.core import binder\n",
    "binder.bind(globals())\n",
    "from learntools.ml_intermediate.ex2 import *\n",
    "print(\"Setup Complete\")"
   ]
  },
  {
   "cell_type": "markdown",
   "id": "75e70e4a",
   "metadata": {
    "papermill": {
     "duration": 0.008282,
     "end_time": "2022-09-13T00:23:50.832819",
     "exception": false,
     "start_time": "2022-09-13T00:23:50.824537",
     "status": "completed"
    },
    "tags": []
   },
   "source": [
    "In this exercise, you will work with data from the [Housing Prices Competition for Kaggle Learn Users](https://www.kaggle.com/c/home-data-for-ml-course). \n",
    "\n",
    "![Ames Housing dataset image](https://i.imgur.com/lTJVG4e.png)\n",
    "\n",
    "Run the next code cell without changes to load the training and validation sets in `X_train`, `X_valid`, `y_train`, and `y_valid`.  The test set is loaded in `X_test`."
   ]
  },
  {
   "cell_type": "code",
   "execution_count": 2,
   "id": "eee6efa5",
   "metadata": {
    "execution": {
     "iopub.execute_input": "2022-09-13T00:23:50.851480Z",
     "iopub.status.busy": "2022-09-13T00:23:50.851012Z",
     "iopub.status.idle": "2022-09-13T00:23:52.142527Z",
     "shell.execute_reply": "2022-09-13T00:23:52.141437Z"
    },
    "papermill": {
     "duration": 1.304279,
     "end_time": "2022-09-13T00:23:52.145426",
     "exception": false,
     "start_time": "2022-09-13T00:23:50.841147",
     "status": "completed"
    },
    "tags": []
   },
   "outputs": [],
   "source": [
    "import pandas as pd\n",
    "from sklearn.model_selection import train_test_split\n",
    "\n",
    "# Read the data\n",
    "X_full = pd.read_csv('../input/train.csv', index_col='Id')\n",
    "X_test_full = pd.read_csv('../input/test.csv', index_col='Id')\n",
    "\n",
    "# Remove rows with missing target, separate target from predictors\n",
    "X_full.dropna(axis=0, subset=['SalePrice'], inplace=True)\n",
    "y = X_full.SalePrice\n",
    "X_full.drop(['SalePrice'], axis=1, inplace=True)\n",
    "\n",
    "# To keep things simple, we'll use only numerical predictors\n",
    "X = X_full.select_dtypes(exclude=['object'])\n",
    "X_test = X_test_full.select_dtypes(exclude=['object'])\n",
    "\n",
    "# Break off validation set from training data\n",
    "X_train, X_valid, y_train, y_valid = train_test_split(X, y, train_size=0.8, test_size=0.2,\n",
    "                                                      random_state=0)"
   ]
  },
  {
   "cell_type": "markdown",
   "id": "2540a419",
   "metadata": {
    "papermill": {
     "duration": 0.008373,
     "end_time": "2022-09-13T00:23:52.162361",
     "exception": false,
     "start_time": "2022-09-13T00:23:52.153988",
     "status": "completed"
    },
    "tags": []
   },
   "source": [
    "Use the next code cell to print the first five rows of the data."
   ]
  },
  {
   "cell_type": "code",
   "execution_count": 3,
   "id": "9140c909",
   "metadata": {
    "execution": {
     "iopub.execute_input": "2022-09-13T00:23:52.181356Z",
     "iopub.status.busy": "2022-09-13T00:23:52.180932Z",
     "iopub.status.idle": "2022-09-13T00:23:52.210746Z",
     "shell.execute_reply": "2022-09-13T00:23:52.209724Z"
    },
    "papermill": {
     "duration": 0.042377,
     "end_time": "2022-09-13T00:23:52.213164",
     "exception": false,
     "start_time": "2022-09-13T00:23:52.170787",
     "status": "completed"
    },
    "tags": []
   },
   "outputs": [
    {
     "data": {
      "text/html": [
       "<div>\n",
       "<style scoped>\n",
       "    .dataframe tbody tr th:only-of-type {\n",
       "        vertical-align: middle;\n",
       "    }\n",
       "\n",
       "    .dataframe tbody tr th {\n",
       "        vertical-align: top;\n",
       "    }\n",
       "\n",
       "    .dataframe thead th {\n",
       "        text-align: right;\n",
       "    }\n",
       "</style>\n",
       "<table border=\"1\" class=\"dataframe\">\n",
       "  <thead>\n",
       "    <tr style=\"text-align: right;\">\n",
       "      <th></th>\n",
       "      <th>MSSubClass</th>\n",
       "      <th>LotFrontage</th>\n",
       "      <th>LotArea</th>\n",
       "      <th>OverallQual</th>\n",
       "      <th>OverallCond</th>\n",
       "      <th>YearBuilt</th>\n",
       "      <th>YearRemodAdd</th>\n",
       "      <th>MasVnrArea</th>\n",
       "      <th>BsmtFinSF1</th>\n",
       "      <th>BsmtFinSF2</th>\n",
       "      <th>...</th>\n",
       "      <th>GarageArea</th>\n",
       "      <th>WoodDeckSF</th>\n",
       "      <th>OpenPorchSF</th>\n",
       "      <th>EnclosedPorch</th>\n",
       "      <th>3SsnPorch</th>\n",
       "      <th>ScreenPorch</th>\n",
       "      <th>PoolArea</th>\n",
       "      <th>MiscVal</th>\n",
       "      <th>MoSold</th>\n",
       "      <th>YrSold</th>\n",
       "    </tr>\n",
       "    <tr>\n",
       "      <th>Id</th>\n",
       "      <th></th>\n",
       "      <th></th>\n",
       "      <th></th>\n",
       "      <th></th>\n",
       "      <th></th>\n",
       "      <th></th>\n",
       "      <th></th>\n",
       "      <th></th>\n",
       "      <th></th>\n",
       "      <th></th>\n",
       "      <th></th>\n",
       "      <th></th>\n",
       "      <th></th>\n",
       "      <th></th>\n",
       "      <th></th>\n",
       "      <th></th>\n",
       "      <th></th>\n",
       "      <th></th>\n",
       "      <th></th>\n",
       "      <th></th>\n",
       "      <th></th>\n",
       "    </tr>\n",
       "  </thead>\n",
       "  <tbody>\n",
       "    <tr>\n",
       "      <th>619</th>\n",
       "      <td>20</td>\n",
       "      <td>90.0</td>\n",
       "      <td>11694</td>\n",
       "      <td>9</td>\n",
       "      <td>5</td>\n",
       "      <td>2007</td>\n",
       "      <td>2007</td>\n",
       "      <td>452.0</td>\n",
       "      <td>48</td>\n",
       "      <td>0</td>\n",
       "      <td>...</td>\n",
       "      <td>774</td>\n",
       "      <td>0</td>\n",
       "      <td>108</td>\n",
       "      <td>0</td>\n",
       "      <td>0</td>\n",
       "      <td>260</td>\n",
       "      <td>0</td>\n",
       "      <td>0</td>\n",
       "      <td>7</td>\n",
       "      <td>2007</td>\n",
       "    </tr>\n",
       "    <tr>\n",
       "      <th>871</th>\n",
       "      <td>20</td>\n",
       "      <td>60.0</td>\n",
       "      <td>6600</td>\n",
       "      <td>5</td>\n",
       "      <td>5</td>\n",
       "      <td>1962</td>\n",
       "      <td>1962</td>\n",
       "      <td>0.0</td>\n",
       "      <td>0</td>\n",
       "      <td>0</td>\n",
       "      <td>...</td>\n",
       "      <td>308</td>\n",
       "      <td>0</td>\n",
       "      <td>0</td>\n",
       "      <td>0</td>\n",
       "      <td>0</td>\n",
       "      <td>0</td>\n",
       "      <td>0</td>\n",
       "      <td>0</td>\n",
       "      <td>8</td>\n",
       "      <td>2009</td>\n",
       "    </tr>\n",
       "    <tr>\n",
       "      <th>93</th>\n",
       "      <td>30</td>\n",
       "      <td>80.0</td>\n",
       "      <td>13360</td>\n",
       "      <td>5</td>\n",
       "      <td>7</td>\n",
       "      <td>1921</td>\n",
       "      <td>2006</td>\n",
       "      <td>0.0</td>\n",
       "      <td>713</td>\n",
       "      <td>0</td>\n",
       "      <td>...</td>\n",
       "      <td>432</td>\n",
       "      <td>0</td>\n",
       "      <td>0</td>\n",
       "      <td>44</td>\n",
       "      <td>0</td>\n",
       "      <td>0</td>\n",
       "      <td>0</td>\n",
       "      <td>0</td>\n",
       "      <td>8</td>\n",
       "      <td>2009</td>\n",
       "    </tr>\n",
       "    <tr>\n",
       "      <th>818</th>\n",
       "      <td>20</td>\n",
       "      <td>NaN</td>\n",
       "      <td>13265</td>\n",
       "      <td>8</td>\n",
       "      <td>5</td>\n",
       "      <td>2002</td>\n",
       "      <td>2002</td>\n",
       "      <td>148.0</td>\n",
       "      <td>1218</td>\n",
       "      <td>0</td>\n",
       "      <td>...</td>\n",
       "      <td>857</td>\n",
       "      <td>150</td>\n",
       "      <td>59</td>\n",
       "      <td>0</td>\n",
       "      <td>0</td>\n",
       "      <td>0</td>\n",
       "      <td>0</td>\n",
       "      <td>0</td>\n",
       "      <td>7</td>\n",
       "      <td>2008</td>\n",
       "    </tr>\n",
       "    <tr>\n",
       "      <th>303</th>\n",
       "      <td>20</td>\n",
       "      <td>118.0</td>\n",
       "      <td>13704</td>\n",
       "      <td>7</td>\n",
       "      <td>5</td>\n",
       "      <td>2001</td>\n",
       "      <td>2002</td>\n",
       "      <td>150.0</td>\n",
       "      <td>0</td>\n",
       "      <td>0</td>\n",
       "      <td>...</td>\n",
       "      <td>843</td>\n",
       "      <td>468</td>\n",
       "      <td>81</td>\n",
       "      <td>0</td>\n",
       "      <td>0</td>\n",
       "      <td>0</td>\n",
       "      <td>0</td>\n",
       "      <td>0</td>\n",
       "      <td>1</td>\n",
       "      <td>2006</td>\n",
       "    </tr>\n",
       "  </tbody>\n",
       "</table>\n",
       "<p>5 rows × 36 columns</p>\n",
       "</div>"
      ],
      "text/plain": [
       "     MSSubClass  LotFrontage  LotArea  OverallQual  OverallCond  YearBuilt  \\\n",
       "Id                                                                           \n",
       "619          20         90.0    11694            9            5       2007   \n",
       "871          20         60.0     6600            5            5       1962   \n",
       "93           30         80.0    13360            5            7       1921   \n",
       "818          20          NaN    13265            8            5       2002   \n",
       "303          20        118.0    13704            7            5       2001   \n",
       "\n",
       "     YearRemodAdd  MasVnrArea  BsmtFinSF1  BsmtFinSF2  ...  GarageArea  \\\n",
       "Id                                                     ...               \n",
       "619          2007       452.0          48           0  ...         774   \n",
       "871          1962         0.0           0           0  ...         308   \n",
       "93           2006         0.0         713           0  ...         432   \n",
       "818          2002       148.0        1218           0  ...         857   \n",
       "303          2002       150.0           0           0  ...         843   \n",
       "\n",
       "     WoodDeckSF  OpenPorchSF  EnclosedPorch  3SsnPorch  ScreenPorch  PoolArea  \\\n",
       "Id                                                                              \n",
       "619           0          108              0          0          260         0   \n",
       "871           0            0              0          0            0         0   \n",
       "93            0            0             44          0            0         0   \n",
       "818         150           59              0          0            0         0   \n",
       "303         468           81              0          0            0         0   \n",
       "\n",
       "     MiscVal  MoSold  YrSold  \n",
       "Id                            \n",
       "619        0       7    2007  \n",
       "871        0       8    2009  \n",
       "93         0       8    2009  \n",
       "818        0       7    2008  \n",
       "303        0       1    2006  \n",
       "\n",
       "[5 rows x 36 columns]"
      ]
     },
     "execution_count": 3,
     "metadata": {},
     "output_type": "execute_result"
    }
   ],
   "source": [
    "X_train.head()"
   ]
  },
  {
   "cell_type": "markdown",
   "id": "07900eb0",
   "metadata": {
    "papermill": {
     "duration": 0.008609,
     "end_time": "2022-09-13T00:23:52.231833",
     "exception": false,
     "start_time": "2022-09-13T00:23:52.223224",
     "status": "completed"
    },
    "tags": []
   },
   "source": [
    "You can already see a few missing values in the first several rows.  In the next step, you'll obtain a more comprehensive understanding of the missing values in the dataset.\n",
    "\n",
    "# Step 1: Preliminary investigation\n",
    "\n",
    "Run the code cell below without changes."
   ]
  },
  {
   "cell_type": "code",
   "execution_count": 4,
   "id": "92c78b62",
   "metadata": {
    "execution": {
     "iopub.execute_input": "2022-09-13T00:23:52.251963Z",
     "iopub.status.busy": "2022-09-13T00:23:52.251134Z",
     "iopub.status.idle": "2022-09-13T00:23:52.261030Z",
     "shell.execute_reply": "2022-09-13T00:23:52.259512Z"
    },
    "papermill": {
     "duration": 0.02271,
     "end_time": "2022-09-13T00:23:52.263536",
     "exception": false,
     "start_time": "2022-09-13T00:23:52.240826",
     "status": "completed"
    },
    "tags": []
   },
   "outputs": [
    {
     "name": "stdout",
     "output_type": "stream",
     "text": [
      "(1168, 36)\n",
      "LotFrontage    212\n",
      "MasVnrArea       6\n",
      "GarageYrBlt     58\n",
      "dtype: int64\n"
     ]
    }
   ],
   "source": [
    "# Shape of training data (num_rows, num_columns)\n",
    "print(X_train.shape)\n",
    "\n",
    "# Number of missing values in each column of training data\n",
    "missing_val_count_by_column = (X_train.isnull().sum())\n",
    "print(missing_val_count_by_column[missing_val_count_by_column > 0])"
   ]
  },
  {
   "cell_type": "markdown",
   "id": "4982cbc0",
   "metadata": {
    "papermill": {
     "duration": 0.00862,
     "end_time": "2022-09-13T00:23:52.281342",
     "exception": false,
     "start_time": "2022-09-13T00:23:52.272722",
     "status": "completed"
    },
    "tags": []
   },
   "source": [
    "### Part A\n",
    "\n",
    "Use the above output to answer the questions below."
   ]
  },
  {
   "cell_type": "code",
   "execution_count": 5,
   "id": "c595c9f9",
   "metadata": {
    "execution": {
     "iopub.execute_input": "2022-09-13T00:23:52.300856Z",
     "iopub.status.busy": "2022-09-13T00:23:52.300395Z",
     "iopub.status.idle": "2022-09-13T00:23:52.309038Z",
     "shell.execute_reply": "2022-09-13T00:23:52.308217Z"
    },
    "papermill": {
     "duration": 0.021011,
     "end_time": "2022-09-13T00:23:52.311150",
     "exception": false,
     "start_time": "2022-09-13T00:23:52.290139",
     "status": "completed"
    },
    "tags": []
   },
   "outputs": [
    {
     "data": {
      "application/javascript": [
       "parent.postMessage({\"jupyterEvent\": \"custom.exercise_interaction\", \"data\": {\"outcomeType\": 1, \"valueTowardsCompletion\": 1.0, \"interactionType\": 1, \"questionType\": 1, \"questionId\": \"1.1_InvestigateEquality\", \"learnToolsVersion\": \"0.3.4\", \"failureMessage\": \"\", \"exceptionClass\": \"\", \"trace\": \"\"}}, \"*\")"
      ],
      "text/plain": [
       "<IPython.core.display.Javascript object>"
      ]
     },
     "metadata": {},
     "output_type": "display_data"
    },
    {
     "data": {
      "text/markdown": [
       "<span style=\"color:#33cc33\">Correct</span>"
      ],
      "text/plain": [
       "Correct"
      ]
     },
     "metadata": {},
     "output_type": "display_data"
    }
   ],
   "source": [
    "# Fill in the line below: How many rows are in the training data?\n",
    "num_rows = 1168\n",
    "\n",
    "# Fill in the line below: How many columns in the training data\n",
    "# have missing values?\n",
    "num_cols_with_missing = 3\n",
    "\n",
    "# Fill in the line below: How many missing entries are contained in \n",
    "# all of the training data?\n",
    "tot_missing = 212+6+58\n",
    "\n",
    "# Check your answers\n",
    "step_1.a.check()"
   ]
  },
  {
   "cell_type": "code",
   "execution_count": 6,
   "id": "d5133d82",
   "metadata": {
    "execution": {
     "iopub.execute_input": "2022-09-13T00:23:52.331674Z",
     "iopub.status.busy": "2022-09-13T00:23:52.330892Z",
     "iopub.status.idle": "2022-09-13T00:23:52.334882Z",
     "shell.execute_reply": "2022-09-13T00:23:52.334048Z"
    },
    "papermill": {
     "duration": 0.016603,
     "end_time": "2022-09-13T00:23:52.336944",
     "exception": false,
     "start_time": "2022-09-13T00:23:52.320341",
     "status": "completed"
    },
    "tags": []
   },
   "outputs": [],
   "source": [
    "# Lines below will give you a hint or solution code\n",
    "#step_1.a.hint()\n",
    "#step_1.a.solution()"
   ]
  },
  {
   "cell_type": "markdown",
   "id": "1f88f624",
   "metadata": {
    "papermill": {
     "duration": 0.008877,
     "end_time": "2022-09-13T00:23:52.355102",
     "exception": false,
     "start_time": "2022-09-13T00:23:52.346225",
     "status": "completed"
    },
    "tags": []
   },
   "source": [
    "### Part B\n",
    "Considering your answers above, what do you think is likely the best approach to dealing with the missing values?"
   ]
  },
  {
   "cell_type": "code",
   "execution_count": 7,
   "id": "ac8d6ed0",
   "metadata": {
    "execution": {
     "iopub.execute_input": "2022-09-13T00:23:52.375619Z",
     "iopub.status.busy": "2022-09-13T00:23:52.374884Z",
     "iopub.status.idle": "2022-09-13T00:23:52.382260Z",
     "shell.execute_reply": "2022-09-13T00:23:52.381349Z"
    },
    "papermill": {
     "duration": 0.020049,
     "end_time": "2022-09-13T00:23:52.384290",
     "exception": false,
     "start_time": "2022-09-13T00:23:52.364241",
     "status": "completed"
    },
    "tags": []
   },
   "outputs": [
    {
     "data": {
      "application/javascript": [
       "parent.postMessage({\"jupyterEvent\": \"custom.exercise_interaction\", \"data\": {\"outcomeType\": 1, \"valueTowardsCompletion\": 1.0, \"interactionType\": 1, \"questionType\": 4, \"questionId\": \"1.2_InvestigateThought\", \"learnToolsVersion\": \"0.3.4\", \"failureMessage\": \"\", \"exceptionClass\": \"\", \"trace\": \"\"}}, \"*\")"
      ],
      "text/plain": [
       "<IPython.core.display.Javascript object>"
      ]
     },
     "metadata": {},
     "output_type": "display_data"
    },
    {
     "data": {
      "text/markdown": [
       "<span style=\"color:#33cc33\">Correct:</span> \n",
       "\n",
       "Since there are relatively few missing entries in the data (the column with the greatest percentage of missing values is missing less than 20% of its entries), we can expect that dropping columns is unlikely to yield good results.  This is because we'd be throwing away a lot of valuable data, and so imputation will likely perform better."
      ],
      "text/plain": [
       "Correct: \n",
       "\n",
       "Since there are relatively few missing entries in the data (the column with the greatest percentage of missing values is missing less than 20% of its entries), we can expect that dropping columns is unlikely to yield good results.  This is because we'd be throwing away a lot of valuable data, and so imputation will likely perform better."
      ]
     },
     "metadata": {},
     "output_type": "display_data"
    }
   ],
   "source": [
    "# Check your answer (Run this code cell to receive credit!)\n",
    "step_1.b.check()"
   ]
  },
  {
   "cell_type": "code",
   "execution_count": 8,
   "id": "d699054b",
   "metadata": {
    "execution": {
     "iopub.execute_input": "2022-09-13T00:23:52.405010Z",
     "iopub.status.busy": "2022-09-13T00:23:52.404298Z",
     "iopub.status.idle": "2022-09-13T00:23:52.408509Z",
     "shell.execute_reply": "2022-09-13T00:23:52.407521Z"
    },
    "papermill": {
     "duration": 0.01686,
     "end_time": "2022-09-13T00:23:52.410421",
     "exception": false,
     "start_time": "2022-09-13T00:23:52.393561",
     "status": "completed"
    },
    "tags": []
   },
   "outputs": [],
   "source": [
    "#step_1.b.hint()"
   ]
  },
  {
   "cell_type": "markdown",
   "id": "1e72c983",
   "metadata": {
    "papermill": {
     "duration": 0.008997,
     "end_time": "2022-09-13T00:23:52.428910",
     "exception": false,
     "start_time": "2022-09-13T00:23:52.419913",
     "status": "completed"
    },
    "tags": []
   },
   "source": [
    "To compare different approaches to dealing with missing values, you'll use the same `score_dataset()` function from the tutorial.  This function reports the [mean absolute error](https://en.wikipedia.org/wiki/Mean_absolute_error) (MAE) from a random forest model."
   ]
  },
  {
   "cell_type": "code",
   "execution_count": 9,
   "id": "6e7fcb34",
   "metadata": {
    "execution": {
     "iopub.execute_input": "2022-09-13T00:23:52.449854Z",
     "iopub.status.busy": "2022-09-13T00:23:52.449019Z",
     "iopub.status.idle": "2022-09-13T00:23:52.687079Z",
     "shell.execute_reply": "2022-09-13T00:23:52.686030Z"
    },
    "papermill": {
     "duration": 0.251432,
     "end_time": "2022-09-13T00:23:52.689766",
     "exception": false,
     "start_time": "2022-09-13T00:23:52.438334",
     "status": "completed"
    },
    "tags": []
   },
   "outputs": [],
   "source": [
    "from sklearn.ensemble import RandomForestRegressor\n",
    "from sklearn.metrics import mean_absolute_error\n",
    "\n",
    "# Function for comparing different approaches\n",
    "def score_dataset(X_train, X_valid, y_train, y_valid):\n",
    "    model = RandomForestRegressor(n_estimators=100, random_state=0)\n",
    "    model.fit(X_train, y_train)\n",
    "    preds = model.predict(X_valid)\n",
    "    return mean_absolute_error(y_valid, preds)"
   ]
  },
  {
   "cell_type": "markdown",
   "id": "6b1c132b",
   "metadata": {
    "papermill": {
     "duration": 0.009697,
     "end_time": "2022-09-13T00:23:52.709313",
     "exception": false,
     "start_time": "2022-09-13T00:23:52.699616",
     "status": "completed"
    },
    "tags": []
   },
   "source": [
    "# Step 2: Drop columns with missing values\n",
    "\n",
    "In this step, you'll preprocess the data in `X_train` and `X_valid` to remove columns with missing values.  Set the preprocessed DataFrames to `reduced_X_train` and `reduced_X_valid`, respectively.  "
   ]
  },
  {
   "cell_type": "code",
   "execution_count": 10,
   "id": "0fbe3500",
   "metadata": {
    "execution": {
     "iopub.execute_input": "2022-09-13T00:23:52.731082Z",
     "iopub.status.busy": "2022-09-13T00:23:52.730125Z",
     "iopub.status.idle": "2022-09-13T00:23:52.754996Z",
     "shell.execute_reply": "2022-09-13T00:23:52.753921Z"
    },
    "papermill": {
     "duration": 0.038039,
     "end_time": "2022-09-13T00:23:52.757370",
     "exception": false,
     "start_time": "2022-09-13T00:23:52.719331",
     "status": "completed"
    },
    "tags": []
   },
   "outputs": [
    {
     "data": {
      "application/javascript": [
       "parent.postMessage({\"jupyterEvent\": \"custom.exercise_interaction\", \"data\": {\"outcomeType\": 1, \"valueTowardsCompletion\": 1.0, \"interactionType\": 1, \"questionType\": 2, \"questionId\": \"2_DropMissing\", \"learnToolsVersion\": \"0.3.4\", \"failureMessage\": \"\", \"exceptionClass\": \"\", \"trace\": \"\"}}, \"*\")"
      ],
      "text/plain": [
       "<IPython.core.display.Javascript object>"
      ]
     },
     "metadata": {},
     "output_type": "display_data"
    },
    {
     "data": {
      "text/markdown": [
       "<span style=\"color:#33cc33\">Correct</span>"
      ],
      "text/plain": [
       "Correct"
      ]
     },
     "metadata": {},
     "output_type": "display_data"
    }
   ],
   "source": [
    "# Fill in the line below: get names of columns with missing values\n",
    " # Your code here\n",
    "missing_val_count_by_column = (X_train.isnull().sum())\n",
    "missing_val_cols = missing_val_count_by_column[missing_val_count_by_column > 0].index\n",
    "\n",
    "# Fill in the lines below: drop columns in training and validation data\n",
    "reduced_X_train = X_train.drop(labels=missing_val_cols, axis=1)\n",
    "reduced_X_valid = X_valid.drop(labels=missing_val_cols, axis=1)\n",
    "\n",
    "# Check your answers\n",
    "step_2.check()"
   ]
  },
  {
   "cell_type": "code",
   "execution_count": 11,
   "id": "6381cc27",
   "metadata": {
    "execution": {
     "iopub.execute_input": "2022-09-13T00:23:52.779311Z",
     "iopub.status.busy": "2022-09-13T00:23:52.778610Z",
     "iopub.status.idle": "2022-09-13T00:23:52.783655Z",
     "shell.execute_reply": "2022-09-13T00:23:52.782707Z"
    },
    "papermill": {
     "duration": 0.018495,
     "end_time": "2022-09-13T00:23:52.785912",
     "exception": false,
     "start_time": "2022-09-13T00:23:52.767417",
     "status": "completed"
    },
    "tags": []
   },
   "outputs": [],
   "source": [
    "# Lines below will give you a hint or solution code\n",
    "#step_2.hint()\n",
    "#step_2.solution()"
   ]
  },
  {
   "cell_type": "markdown",
   "id": "ce5d2536",
   "metadata": {
    "papermill": {
     "duration": 0.009514,
     "end_time": "2022-09-13T00:23:52.805466",
     "exception": false,
     "start_time": "2022-09-13T00:23:52.795952",
     "status": "completed"
    },
    "tags": []
   },
   "source": [
    "Run the next code cell without changes to obtain the MAE for this approach."
   ]
  },
  {
   "cell_type": "code",
   "execution_count": 12,
   "id": "1c6cca71",
   "metadata": {
    "execution": {
     "iopub.execute_input": "2022-09-13T00:23:52.827298Z",
     "iopub.status.busy": "2022-09-13T00:23:52.826456Z",
     "iopub.status.idle": "2022-09-13T00:23:53.959303Z",
     "shell.execute_reply": "2022-09-13T00:23:53.958004Z"
    },
    "papermill": {
     "duration": 1.146554,
     "end_time": "2022-09-13T00:23:53.961789",
     "exception": false,
     "start_time": "2022-09-13T00:23:52.815235",
     "status": "completed"
    },
    "tags": []
   },
   "outputs": [
    {
     "name": "stdout",
     "output_type": "stream",
     "text": [
      "MAE (Drop columns with missing values):\n",
      "17837.82570776256\n"
     ]
    }
   ],
   "source": [
    "print(\"MAE (Drop columns with missing values):\")\n",
    "print(score_dataset(reduced_X_train, reduced_X_valid, y_train, y_valid))"
   ]
  },
  {
   "cell_type": "markdown",
   "id": "e72044fc",
   "metadata": {
    "papermill": {
     "duration": 0.00953,
     "end_time": "2022-09-13T00:23:53.981422",
     "exception": false,
     "start_time": "2022-09-13T00:23:53.971892",
     "status": "completed"
    },
    "tags": []
   },
   "source": [
    "# Step 3: Imputation\n",
    "\n",
    "### Part A\n",
    "\n",
    "Use the next code cell to impute missing values with the mean value along each column.  Set the preprocessed DataFrames to `imputed_X_train` and `imputed_X_valid`.  Make sure that the column names match those in `X_train` and `X_valid`."
   ]
  },
  {
   "cell_type": "code",
   "execution_count": 13,
   "id": "2359bfe9",
   "metadata": {
    "execution": {
     "iopub.execute_input": "2022-09-13T00:23:54.003192Z",
     "iopub.status.busy": "2022-09-13T00:23:54.002779Z",
     "iopub.status.idle": "2022-09-13T00:23:54.038929Z",
     "shell.execute_reply": "2022-09-13T00:23:54.037739Z"
    },
    "papermill": {
     "duration": 0.049805,
     "end_time": "2022-09-13T00:23:54.041469",
     "exception": false,
     "start_time": "2022-09-13T00:23:53.991664",
     "status": "completed"
    },
    "tags": []
   },
   "outputs": [
    {
     "data": {
      "application/javascript": [
       "parent.postMessage({\"jupyterEvent\": \"custom.exercise_interaction\", \"data\": {\"outcomeType\": 1, \"valueTowardsCompletion\": 1.0, \"interactionType\": 1, \"questionType\": 2, \"questionId\": \"3.1_ImputeCode\", \"learnToolsVersion\": \"0.3.4\", \"failureMessage\": \"\", \"exceptionClass\": \"\", \"trace\": \"\"}}, \"*\")"
      ],
      "text/plain": [
       "<IPython.core.display.Javascript object>"
      ]
     },
     "metadata": {},
     "output_type": "display_data"
    },
    {
     "data": {
      "text/markdown": [
       "<span style=\"color:#33cc33\">Correct</span>"
      ],
      "text/plain": [
       "Correct"
      ]
     },
     "metadata": {},
     "output_type": "display_data"
    }
   ],
   "source": [
    "from sklearn.impute import SimpleImputer\n",
    "\n",
    "# Fill in the lines below: imputation\n",
    "imputer = SimpleImputer() # Your code here\n",
    "imputed_X_train = pd.DataFrame(imputer.fit_transform(X_train))\n",
    "imputed_X_valid = pd.DataFrame(imputer.transform(X_valid))\n",
    "\n",
    "# Fill in the lines below: imputation removed column names; put them back\n",
    "imputed_X_train.columns = X_train.columns\n",
    "imputed_X_valid.columns = X_valid.columns\n",
    "\n",
    "# Check your answers\n",
    "step_3.a.check()"
   ]
  },
  {
   "cell_type": "code",
   "execution_count": 14,
   "id": "47ef4cd2",
   "metadata": {
    "execution": {
     "iopub.execute_input": "2022-09-13T00:23:54.063900Z",
     "iopub.status.busy": "2022-09-13T00:23:54.062902Z",
     "iopub.status.idle": "2022-09-13T00:23:54.068123Z",
     "shell.execute_reply": "2022-09-13T00:23:54.067167Z"
    },
    "papermill": {
     "duration": 0.018882,
     "end_time": "2022-09-13T00:23:54.070478",
     "exception": false,
     "start_time": "2022-09-13T00:23:54.051596",
     "status": "completed"
    },
    "tags": []
   },
   "outputs": [],
   "source": [
    "# Lines below will give you a hint or solution code\n",
    "#step_3.a.hint()\n",
    "#step_3.a.solution()"
   ]
  },
  {
   "cell_type": "markdown",
   "id": "22612f45",
   "metadata": {
    "papermill": {
     "duration": 0.010408,
     "end_time": "2022-09-13T00:23:54.091239",
     "exception": false,
     "start_time": "2022-09-13T00:23:54.080831",
     "status": "completed"
    },
    "tags": []
   },
   "source": [
    "Run the next code cell without changes to obtain the MAE for this approach."
   ]
  },
  {
   "cell_type": "code",
   "execution_count": 15,
   "id": "97a6c2d6",
   "metadata": {
    "execution": {
     "iopub.execute_input": "2022-09-13T00:23:54.113688Z",
     "iopub.status.busy": "2022-09-13T00:23:54.113289Z",
     "iopub.status.idle": "2022-09-13T00:23:55.325259Z",
     "shell.execute_reply": "2022-09-13T00:23:55.323500Z"
    },
    "papermill": {
     "duration": 1.226265,
     "end_time": "2022-09-13T00:23:55.327867",
     "exception": false,
     "start_time": "2022-09-13T00:23:54.101602",
     "status": "completed"
    },
    "tags": []
   },
   "outputs": [
    {
     "name": "stdout",
     "output_type": "stream",
     "text": [
      "MAE (Imputation):\n",
      "18062.894611872147\n"
     ]
    }
   ],
   "source": [
    "print(\"MAE (Imputation):\")\n",
    "print(score_dataset(imputed_X_train, imputed_X_valid, y_train, y_valid))"
   ]
  },
  {
   "cell_type": "markdown",
   "id": "630c10e6",
   "metadata": {
    "papermill": {
     "duration": 0.009914,
     "end_time": "2022-09-13T00:23:55.348451",
     "exception": false,
     "start_time": "2022-09-13T00:23:55.338537",
     "status": "completed"
    },
    "tags": []
   },
   "source": [
    "### Part B\n",
    "\n",
    "Compare the MAE from each approach.  Does anything surprise you about the results?  Why do you think one approach performed better than the other?"
   ]
  },
  {
   "cell_type": "code",
   "execution_count": 16,
   "id": "5675cdbd",
   "metadata": {
    "execution": {
     "iopub.execute_input": "2022-09-13T00:23:55.370464Z",
     "iopub.status.busy": "2022-09-13T00:23:55.370023Z",
     "iopub.status.idle": "2022-09-13T00:23:55.377763Z",
     "shell.execute_reply": "2022-09-13T00:23:55.376984Z"
    },
    "papermill": {
     "duration": 0.021138,
     "end_time": "2022-09-13T00:23:55.379815",
     "exception": false,
     "start_time": "2022-09-13T00:23:55.358677",
     "status": "completed"
    },
    "tags": []
   },
   "outputs": [
    {
     "data": {
      "application/javascript": [
       "parent.postMessage({\"jupyterEvent\": \"custom.exercise_interaction\", \"data\": {\"outcomeType\": 1, \"valueTowardsCompletion\": 1.0, \"interactionType\": 1, \"questionType\": 4, \"questionId\": \"3.2_ImputeThought\", \"learnToolsVersion\": \"0.3.4\", \"failureMessage\": \"\", \"exceptionClass\": \"\", \"trace\": \"\"}}, \"*\")"
      ],
      "text/plain": [
       "<IPython.core.display.Javascript object>"
      ]
     },
     "metadata": {},
     "output_type": "display_data"
    },
    {
     "data": {
      "text/markdown": [
       "<span style=\"color:#33cc33\">Correct:</span> \n",
       "\n",
       "Given that thre are so few missing values in the dataset, we'd expect imputation to perform better than dropping columns entirely.  However, we see that dropping columns performs slightly better!  While this can probably partially be attributed to noise in the dataset, another potential explanation is that the imputation method is not a great match to this dataset.  That is, maybe instead of filling in the mean value, it makes more sense to set every missing value to a value of 0, to fill in the most frequently encountered value, or to use some other method.  For instance, consider the `GarageYrBlt` column (which indicates the year that the garage was built).  It's likely that in some cases, a missing value could indicate a house that does not have a garage.  Does it make more sense to fill in the median value along each column in this case?  Or could we get better results by filling in the minimum value along each column?  It's not quite clear what's best in this case, but perhaps we can rule out some options immediately - for instance, setting missing values in this column to 0 is likely to yield horrible results!"
      ],
      "text/plain": [
       "Correct: \n",
       "\n",
       "Given that thre are so few missing values in the dataset, we'd expect imputation to perform better than dropping columns entirely.  However, we see that dropping columns performs slightly better!  While this can probably partially be attributed to noise in the dataset, another potential explanation is that the imputation method is not a great match to this dataset.  That is, maybe instead of filling in the mean value, it makes more sense to set every missing value to a value of 0, to fill in the most frequently encountered value, or to use some other method.  For instance, consider the `GarageYrBlt` column (which indicates the year that the garage was built).  It's likely that in some cases, a missing value could indicate a house that does not have a garage.  Does it make more sense to fill in the median value along each column in this case?  Or could we get better results by filling in the minimum value along each column?  It's not quite clear what's best in this case, but perhaps we can rule out some options immediately - for instance, setting missing values in this column to 0 is likely to yield horrible results!"
      ]
     },
     "metadata": {},
     "output_type": "display_data"
    }
   ],
   "source": [
    "# Check your answer (Run this code cell to receive credit!)\n",
    "step_3.b.check()"
   ]
  },
  {
   "cell_type": "code",
   "execution_count": 17,
   "id": "97338c7f",
   "metadata": {
    "execution": {
     "iopub.execute_input": "2022-09-13T00:23:55.403463Z",
     "iopub.status.busy": "2022-09-13T00:23:55.402693Z",
     "iopub.status.idle": "2022-09-13T00:23:55.406943Z",
     "shell.execute_reply": "2022-09-13T00:23:55.405823Z"
    },
    "papermill": {
     "duration": 0.018524,
     "end_time": "2022-09-13T00:23:55.409003",
     "exception": false,
     "start_time": "2022-09-13T00:23:55.390479",
     "status": "completed"
    },
    "tags": []
   },
   "outputs": [],
   "source": [
    "#step_3.b.hint()"
   ]
  },
  {
   "cell_type": "markdown",
   "id": "e965d027",
   "metadata": {
    "papermill": {
     "duration": 0.010103,
     "end_time": "2022-09-13T00:23:55.429923",
     "exception": false,
     "start_time": "2022-09-13T00:23:55.419820",
     "status": "completed"
    },
    "tags": []
   },
   "source": [
    "# Step 4: Generate test predictions\n",
    "\n",
    "In this final step, you'll use any approach of your choosing to deal with missing values.  Once you've preprocessed the training and validation features, you'll train and evaluate a random forest model.  Then, you'll preprocess the test data before generating predictions that can be submitted to the competition!\n",
    "\n",
    "### Part A\n",
    "\n",
    "Use the next code cell to preprocess the training and validation data.  Set the preprocessed DataFrames to `final_X_train` and `final_X_valid`.  **You can use any approach of your choosing here!**  in order for this step to be marked as correct, you need only ensure:\n",
    "- the preprocessed DataFrames have the same number of columns,\n",
    "- the preprocessed DataFrames have no missing values, \n",
    "- `final_X_train` and `y_train` have the same number of rows, and\n",
    "- `final_X_valid` and `y_valid` have the same number of rows."
   ]
  },
  {
   "cell_type": "code",
   "execution_count": 18,
   "id": "5e8badee",
   "metadata": {
    "execution": {
     "iopub.execute_input": "2022-09-13T00:23:55.452502Z",
     "iopub.status.busy": "2022-09-13T00:23:55.452086Z",
     "iopub.status.idle": "2022-09-13T00:23:55.484860Z",
     "shell.execute_reply": "2022-09-13T00:23:55.483770Z"
    },
    "papermill": {
     "duration": 0.046921,
     "end_time": "2022-09-13T00:23:55.487336",
     "exception": false,
     "start_time": "2022-09-13T00:23:55.440415",
     "status": "completed"
    },
    "tags": []
   },
   "outputs": [
    {
     "data": {
      "application/javascript": [
       "parent.postMessage({\"jupyterEvent\": \"custom.exercise_interaction\", \"data\": {\"outcomeType\": 1, \"valueTowardsCompletion\": 1.0, \"interactionType\": 1, \"questionType\": 2, \"questionId\": \"4.1_PredsCodeA\", \"learnToolsVersion\": \"0.3.4\", \"failureMessage\": \"\", \"exceptionClass\": \"\", \"trace\": \"\"}}, \"*\")"
      ],
      "text/plain": [
       "<IPython.core.display.Javascript object>"
      ]
     },
     "metadata": {},
     "output_type": "display_data"
    },
    {
     "data": {
      "text/markdown": [
       "<span style=\"color:#33cc33\">Correct</span>"
      ],
      "text/plain": [
       "Correct"
      ]
     },
     "metadata": {},
     "output_type": "display_data"
    }
   ],
   "source": [
    "# Preprocessed training and validation features\n",
    "# LotFrontage, MasVnrArea, GarageYrBlt\n",
    "\n",
    "imputer = SimpleImputer(strategy='median') # Your code here\n",
    "\n",
    "filled_X_train = X_train\n",
    "# filled_X_train['GarageYrBlt'] = filled_X_train['GarageYrBlt'].fillna(value=1900)\n",
    "filled_X_valid = X_valid\n",
    "# filled_X_valid['GarageYrBlt'] = filled_X_valid['GarageYrBlt'].fillna(value=1900)\n",
    "\n",
    "imputed_X_train = pd.DataFrame(imputer.fit_transform(filled_X_train))\n",
    "imputed_X_valid = pd.DataFrame(imputer.transform(filled_X_valid))\n",
    "imputed_X_train.columns = X_train.columns\n",
    "imputed_X_valid.columns = X_valid.columns\n",
    "\n",
    "final_X_train = imputed_X_train\n",
    "final_X_valid = imputed_X_valid\n",
    "\n",
    "# Check your answers\n",
    "step_4.a.check()"
   ]
  },
  {
   "cell_type": "code",
   "execution_count": 19,
   "id": "d5e08e46",
   "metadata": {
    "execution": {
     "iopub.execute_input": "2022-09-13T00:23:55.512017Z",
     "iopub.status.busy": "2022-09-13T00:23:55.511355Z",
     "iopub.status.idle": "2022-09-13T00:23:55.515719Z",
     "shell.execute_reply": "2022-09-13T00:23:55.514663Z"
    },
    "papermill": {
     "duration": 0.01937,
     "end_time": "2022-09-13T00:23:55.518161",
     "exception": false,
     "start_time": "2022-09-13T00:23:55.498791",
     "status": "completed"
    },
    "tags": []
   },
   "outputs": [],
   "source": [
    "# Lines below will give you a hint or solution code\n",
    "#step_4.a.hint()\n",
    "#step_4.a.solution()"
   ]
  },
  {
   "cell_type": "markdown",
   "id": "96d66b43",
   "metadata": {
    "papermill": {
     "duration": 0.010478,
     "end_time": "2022-09-13T00:23:55.539701",
     "exception": false,
     "start_time": "2022-09-13T00:23:55.529223",
     "status": "completed"
    },
    "tags": []
   },
   "source": [
    "Run the next code cell to train and evaluate a random forest model.  (*Note that we don't use the `score_dataset()` function above, because we will soon use the trained model to generate test predictions!*)"
   ]
  },
  {
   "cell_type": "code",
   "execution_count": 20,
   "id": "4849defb",
   "metadata": {
    "execution": {
     "iopub.execute_input": "2022-09-13T00:23:55.562754Z",
     "iopub.status.busy": "2022-09-13T00:23:55.562357Z",
     "iopub.status.idle": "2022-09-13T00:23:56.777882Z",
     "shell.execute_reply": "2022-09-13T00:23:56.776471Z"
    },
    "papermill": {
     "duration": 1.230045,
     "end_time": "2022-09-13T00:23:56.780521",
     "exception": false,
     "start_time": "2022-09-13T00:23:55.550476",
     "status": "completed"
    },
    "tags": []
   },
   "outputs": [
    {
     "name": "stdout",
     "output_type": "stream",
     "text": [
      "MAE (Your approach):\n",
      "17791.59899543379\n"
     ]
    }
   ],
   "source": [
    "# Define and fit model\n",
    "model = RandomForestRegressor(n_estimators=100, random_state=0)\n",
    "model.fit(final_X_train, y_train)\n",
    "\n",
    "# Get validation predictions and MAE\n",
    "preds_valid = model.predict(final_X_valid)\n",
    "print(\"MAE (Your approach):\")\n",
    "print(mean_absolute_error(y_valid, preds_valid))"
   ]
  },
  {
   "cell_type": "markdown",
   "id": "e1d2ddbf",
   "metadata": {
    "papermill": {
     "duration": 0.010872,
     "end_time": "2022-09-13T00:23:56.802643",
     "exception": false,
     "start_time": "2022-09-13T00:23:56.791771",
     "status": "completed"
    },
    "tags": []
   },
   "source": [
    "### Part B\n",
    "\n",
    "Use the next code cell to preprocess your test data.  Make sure that you use a method that agrees with how you preprocessed the training and validation data, and set the preprocessed test features to `final_X_test`.\n",
    "\n",
    "Then, use the preprocessed test features and the trained model to generate test predictions in `preds_test`.\n",
    "\n",
    "In order for this step to be marked correct, you need only ensure:\n",
    "- the preprocessed test DataFrame has no missing values, and\n",
    "- `final_X_test` has the same number of rows as `X_test`."
   ]
  },
  {
   "cell_type": "code",
   "execution_count": 21,
   "id": "fd21e3a3",
   "metadata": {
    "execution": {
     "iopub.execute_input": "2022-09-13T00:23:56.826745Z",
     "iopub.status.busy": "2022-09-13T00:23:56.825802Z",
     "iopub.status.idle": "2022-09-13T00:23:56.892662Z",
     "shell.execute_reply": "2022-09-13T00:23:56.891504Z"
    },
    "papermill": {
     "duration": 0.08159,
     "end_time": "2022-09-13T00:23:56.895125",
     "exception": false,
     "start_time": "2022-09-13T00:23:56.813535",
     "status": "completed"
    },
    "tags": []
   },
   "outputs": [
    {
     "data": {
      "application/javascript": [
       "parent.postMessage({\"jupyterEvent\": \"custom.exercise_interaction\", \"data\": {\"outcomeType\": 1, \"valueTowardsCompletion\": 1.0, \"interactionType\": 1, \"questionType\": 2, \"questionId\": \"4.2_PredsCodeB\", \"learnToolsVersion\": \"0.3.4\", \"failureMessage\": \"\", \"exceptionClass\": \"\", \"trace\": \"\"}}, \"*\")"
      ],
      "text/plain": [
       "<IPython.core.display.Javascript object>"
      ]
     },
     "metadata": {},
     "output_type": "display_data"
    },
    {
     "data": {
      "text/markdown": [
       "<span style=\"color:#33cc33\">Correct</span>"
      ],
      "text/plain": [
       "Correct"
      ]
     },
     "metadata": {},
     "output_type": "display_data"
    }
   ],
   "source": [
    "# Fill in the line below: preprocess test data\n",
    "imputer = SimpleImputer(strategy='median') # Your code here\n",
    "imputed_X_test = pd.DataFrame(imputer.fit_transform(X_test))\n",
    "imputed_X_test.columns = X_test.columns\n",
    "final_X_test = imputed_X_test\n",
    "\n",
    "# Fill in the line below: get test predictions\n",
    "preds_test = model.predict(final_X_test)\n",
    "\n",
    "# Check your answers\n",
    "step_4.b.check()"
   ]
  },
  {
   "cell_type": "code",
   "execution_count": 22,
   "id": "de734f6a",
   "metadata": {
    "execution": {
     "iopub.execute_input": "2022-09-13T00:23:56.919690Z",
     "iopub.status.busy": "2022-09-13T00:23:56.919273Z",
     "iopub.status.idle": "2022-09-13T00:23:56.924738Z",
     "shell.execute_reply": "2022-09-13T00:23:56.923404Z"
    },
    "papermill": {
     "duration": 0.020452,
     "end_time": "2022-09-13T00:23:56.927108",
     "exception": false,
     "start_time": "2022-09-13T00:23:56.906656",
     "status": "completed"
    },
    "tags": []
   },
   "outputs": [],
   "source": [
    "# Lines below will give you a hint or solution code\n",
    "#step_4.b.hint()\n",
    "#step_4.b.solution()"
   ]
  },
  {
   "cell_type": "markdown",
   "id": "bf8989a1",
   "metadata": {
    "papermill": {
     "duration": 0.010855,
     "end_time": "2022-09-13T00:23:56.949391",
     "exception": false,
     "start_time": "2022-09-13T00:23:56.938536",
     "status": "completed"
    },
    "tags": []
   },
   "source": [
    "Run the next code cell without changes to save your results to a CSV file that can be submitted directly to the competition."
   ]
  },
  {
   "cell_type": "code",
   "execution_count": 23,
   "id": "a2ffff88",
   "metadata": {
    "execution": {
     "iopub.execute_input": "2022-09-13T00:23:56.973824Z",
     "iopub.status.busy": "2022-09-13T00:23:56.973102Z",
     "iopub.status.idle": "2022-09-13T00:23:56.987215Z",
     "shell.execute_reply": "2022-09-13T00:23:56.986345Z"
    },
    "papermill": {
     "duration": 0.0298,
     "end_time": "2022-09-13T00:23:56.990354",
     "exception": false,
     "start_time": "2022-09-13T00:23:56.960554",
     "status": "completed"
    },
    "tags": []
   },
   "outputs": [],
   "source": [
    "# Save test predictions to file\n",
    "output = pd.DataFrame({'Id': X_test.index,\n",
    "                       'SalePrice': preds_test})\n",
    "output.to_csv('submission.csv', index=False)"
   ]
  },
  {
   "cell_type": "markdown",
   "id": "4e222b4b",
   "metadata": {
    "papermill": {
     "duration": 0.010939,
     "end_time": "2022-09-13T00:23:57.013598",
     "exception": false,
     "start_time": "2022-09-13T00:23:57.002659",
     "status": "completed"
    },
    "tags": []
   },
   "source": [
    "# Submit your results\n",
    "\n",
    "Once you have successfully completed Step 4, you're ready to submit your results to the leaderboard!  (_You also learned how to do this in the previous exercise.  If you need a reminder of how to do this, please use the instructions below._)  \n",
    "\n",
    "First, you'll need to join the competition if you haven't already.  So open a new window by clicking on [this link](https://www.kaggle.com/c/home-data-for-ml-course).  Then click on the **Join Competition** button.\n",
    "\n",
    "![join competition image](https://i.imgur.com/wLmFtH3.png)\n",
    "\n",
    "Next, follow the instructions below:\n",
    "1. Begin by clicking on the **Save Version** button in the top right corner of the window.  This will generate a pop-up window.  \n",
    "2. Ensure that the **Save and Run All** option is selected, and then click on the **Save** button.\n",
    "3. This generates a window in the bottom left corner of the notebook.  After it has finished running, click on the number to the right of the **Save Version** button.  This pulls up a list of versions on the right of the screen.  Click on the ellipsis **(...)** to the right of the most recent version, and select **Open in Viewer**.  This brings you into view mode of the same page. You will need to scroll down to get back to these instructions.\n",
    "4. Click on the **Output** tab on the right of the screen.  Then, click on the file you would like to submit, and click on the **Submit** button to submit your results to the leaderboard.\n",
    "\n",
    "You have now successfully submitted to the competition!\n",
    "\n",
    "If you want to keep working to improve your performance, select the **Edit** button in the top right of the screen. Then you can change your code and repeat the process. There's a lot of room to improve, and you will climb up the leaderboard as you work.\n",
    "\n",
    "\n",
    "# Keep going\n",
    "\n",
    "Move on to learn what **[categorical variables](https://www.kaggle.com/alexisbcook/categorical-variables)** are, along with how to incorporate them into your machine learning models.  Categorical variables are very common in real-world data, but you'll get an error if you try to plug them into your models without processing them first!"
   ]
  },
  {
   "cell_type": "markdown",
   "id": "06bfa1f2",
   "metadata": {
    "papermill": {
     "duration": 0.011414,
     "end_time": "2022-09-13T00:23:57.036218",
     "exception": false,
     "start_time": "2022-09-13T00:23:57.024804",
     "status": "completed"
    },
    "tags": []
   },
   "source": [
    "---\n",
    "\n",
    "\n",
    "\n",
    "\n",
    "*Have questions or comments? Visit the [course discussion forum](https://www.kaggle.com/learn/intermediate-machine-learning/discussion) to chat with other learners.*"
   ]
  }
 ],
 "metadata": {
  "kernelspec": {
   "display_name": "Python 3",
   "language": "python",
   "name": "python3"
  },
  "language_info": {
   "codemirror_mode": {
    "name": "ipython",
    "version": 3
   },
   "file_extension": ".py",
   "mimetype": "text/x-python",
   "name": "python",
   "nbconvert_exporter": "python",
   "pygments_lexer": "ipython3",
   "version": "3.7.12"
  },
  "papermill": {
   "default_parameters": {},
   "duration": 16.259785,
   "end_time": "2022-09-13T00:23:57.769484",
   "environment_variables": {},
   "exception": null,
   "input_path": "__notebook__.ipynb",
   "output_path": "__notebook__.ipynb",
   "parameters": {},
   "start_time": "2022-09-13T00:23:41.509699",
   "version": "2.3.4"
  }
 },
 "nbformat": 4,
 "nbformat_minor": 5
}
