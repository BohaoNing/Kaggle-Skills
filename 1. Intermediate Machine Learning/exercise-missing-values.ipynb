{
 "cells": [
  {
   "cell_type": "markdown",
   "id": "6619d4c3",
   "metadata": {
    "papermill": {
     "duration": 0.009129,
     "end_time": "2022-07-23T14:34:06.132883",
     "exception": false,
     "start_time": "2022-07-23T14:34:06.123754",
     "status": "completed"
    },
    "tags": []
   },
   "source": [
    "**This notebook is an exercise in the [Intermediate Machine Learning](https://www.kaggle.com/learn/intermediate-machine-learning) course.  You can reference the tutorial at [this link](https://www.kaggle.com/alexisbcook/missing-values).**\n",
    "\n",
    "---\n"
   ]
  },
  {
   "cell_type": "markdown",
   "id": "df9cf705",
   "metadata": {
    "papermill": {
     "duration": 0.006759,
     "end_time": "2022-07-23T14:34:06.147250",
     "exception": false,
     "start_time": "2022-07-23T14:34:06.140491",
     "status": "completed"
    },
    "tags": []
   },
   "source": [
    "Now it's your turn to test your new knowledge of **missing values** handling. You'll probably find it makes a big difference.\n",
    "\n",
    "# Setup\n",
    "\n",
    "The questions will give you feedback on your work. Run the following cell to set up the feedback system."
   ]
  },
  {
   "cell_type": "code",
   "execution_count": 1,
   "id": "b34a8269",
   "metadata": {
    "execution": {
     "iopub.execute_input": "2022-07-23T14:34:06.164091Z",
     "iopub.status.busy": "2022-07-23T14:34:06.163303Z",
     "iopub.status.idle": "2022-07-23T14:34:06.221896Z",
     "shell.execute_reply": "2022-07-23T14:34:06.220715Z"
    },
    "papermill": {
     "duration": 0.070825,
     "end_time": "2022-07-23T14:34:06.225049",
     "exception": false,
     "start_time": "2022-07-23T14:34:06.154224",
     "status": "completed"
    },
    "tags": []
   },
   "outputs": [
    {
     "name": "stdout",
     "output_type": "stream",
     "text": [
      "Setup Complete\n"
     ]
    }
   ],
   "source": [
    "# Set up code checking\n",
    "import os\n",
    "if not os.path.exists(\"../input/train.csv\"):\n",
    "    os.symlink(\"../input/home-data-for-ml-course/train.csv\", \"../input/train.csv\")  \n",
    "    os.symlink(\"../input/home-data-for-ml-course/test.csv\", \"../input/test.csv\") \n",
    "from learntools.core import binder\n",
    "binder.bind(globals())\n",
    "from learntools.ml_intermediate.ex2 import *\n",
    "print(\"Setup Complete\")"
   ]
  },
  {
   "cell_type": "markdown",
   "id": "e3a36908",
   "metadata": {
    "papermill": {
     "duration": 0.007053,
     "end_time": "2022-07-23T14:34:06.239921",
     "exception": false,
     "start_time": "2022-07-23T14:34:06.232868",
     "status": "completed"
    },
    "tags": []
   },
   "source": [
    "In this exercise, you will work with data from the [Housing Prices Competition for Kaggle Learn Users](https://www.kaggle.com/c/home-data-for-ml-course). \n",
    "\n",
    "![Ames Housing dataset image](https://i.imgur.com/lTJVG4e.png)\n",
    "\n",
    "Run the next code cell without changes to load the training and validation sets in `X_train`, `X_valid`, `y_train`, and `y_valid`.  The test set is loaded in `X_test`."
   ]
  },
  {
   "cell_type": "code",
   "execution_count": 2,
   "id": "8c57f49a",
   "metadata": {
    "execution": {
     "iopub.execute_input": "2022-07-23T14:34:06.255924Z",
     "iopub.status.busy": "2022-07-23T14:34:06.255529Z",
     "iopub.status.idle": "2022-07-23T14:34:07.625562Z",
     "shell.execute_reply": "2022-07-23T14:34:07.624412Z"
    },
    "papermill": {
     "duration": 1.381734,
     "end_time": "2022-07-23T14:34:07.628622",
     "exception": false,
     "start_time": "2022-07-23T14:34:06.246888",
     "status": "completed"
    },
    "tags": []
   },
   "outputs": [],
   "source": [
    "import pandas as pd\n",
    "from sklearn.model_selection import train_test_split\n",
    "\n",
    "# Read the data\n",
    "X_full = pd.read_csv('../input/train.csv', index_col='Id')\n",
    "X_test_full = pd.read_csv('../input/test.csv', index_col='Id')\n",
    "\n",
    "# Remove rows with missing target, separate target from predictors\n",
    "X_full.dropna(axis=0, subset=['SalePrice'], inplace=True)\n",
    "y = X_full.SalePrice\n",
    "X_full.drop(['SalePrice'], axis=1, inplace=True)\n",
    "\n",
    "# To keep things simple, we'll use only numerical predictors\n",
    "X = X_full.select_dtypes(exclude=['object'])\n",
    "X_test = X_test_full.select_dtypes(exclude=['object'])\n",
    "\n",
    "# Break off validation set from training data\n",
    "X_train, X_valid, y_train, y_valid = train_test_split(X, y, train_size=0.8, test_size=0.2,\n",
    "                                                      random_state=0)"
   ]
  },
  {
   "cell_type": "markdown",
   "id": "bd6e51a6",
   "metadata": {
    "papermill": {
     "duration": 0.006761,
     "end_time": "2022-07-23T14:34:07.643233",
     "exception": false,
     "start_time": "2022-07-23T14:34:07.636472",
     "status": "completed"
    },
    "tags": []
   },
   "source": [
    "Use the next code cell to print the first five rows of the data."
   ]
  },
  {
   "cell_type": "code",
   "execution_count": 3,
   "id": "1dc2d1c0",
   "metadata": {
    "execution": {
     "iopub.execute_input": "2022-07-23T14:34:07.659623Z",
     "iopub.status.busy": "2022-07-23T14:34:07.658721Z",
     "iopub.status.idle": "2022-07-23T14:34:07.683645Z",
     "shell.execute_reply": "2022-07-23T14:34:07.682511Z"
    },
    "papermill": {
     "duration": 0.035643,
     "end_time": "2022-07-23T14:34:07.686230",
     "exception": false,
     "start_time": "2022-07-23T14:34:07.650587",
     "status": "completed"
    },
    "tags": []
   },
   "outputs": [
    {
     "data": {
      "text/html": [
       "<div>\n",
       "<style scoped>\n",
       "    .dataframe tbody tr th:only-of-type {\n",
       "        vertical-align: middle;\n",
       "    }\n",
       "\n",
       "    .dataframe tbody tr th {\n",
       "        vertical-align: top;\n",
       "    }\n",
       "\n",
       "    .dataframe thead th {\n",
       "        text-align: right;\n",
       "    }\n",
       "</style>\n",
       "<table border=\"1\" class=\"dataframe\">\n",
       "  <thead>\n",
       "    <tr style=\"text-align: right;\">\n",
       "      <th></th>\n",
       "      <th>MSSubClass</th>\n",
       "      <th>LotFrontage</th>\n",
       "      <th>LotArea</th>\n",
       "      <th>OverallQual</th>\n",
       "      <th>OverallCond</th>\n",
       "      <th>YearBuilt</th>\n",
       "      <th>YearRemodAdd</th>\n",
       "      <th>MasVnrArea</th>\n",
       "      <th>BsmtFinSF1</th>\n",
       "      <th>BsmtFinSF2</th>\n",
       "      <th>...</th>\n",
       "      <th>GarageArea</th>\n",
       "      <th>WoodDeckSF</th>\n",
       "      <th>OpenPorchSF</th>\n",
       "      <th>EnclosedPorch</th>\n",
       "      <th>3SsnPorch</th>\n",
       "      <th>ScreenPorch</th>\n",
       "      <th>PoolArea</th>\n",
       "      <th>MiscVal</th>\n",
       "      <th>MoSold</th>\n",
       "      <th>YrSold</th>\n",
       "    </tr>\n",
       "    <tr>\n",
       "      <th>Id</th>\n",
       "      <th></th>\n",
       "      <th></th>\n",
       "      <th></th>\n",
       "      <th></th>\n",
       "      <th></th>\n",
       "      <th></th>\n",
       "      <th></th>\n",
       "      <th></th>\n",
       "      <th></th>\n",
       "      <th></th>\n",
       "      <th></th>\n",
       "      <th></th>\n",
       "      <th></th>\n",
       "      <th></th>\n",
       "      <th></th>\n",
       "      <th></th>\n",
       "      <th></th>\n",
       "      <th></th>\n",
       "      <th></th>\n",
       "      <th></th>\n",
       "      <th></th>\n",
       "    </tr>\n",
       "  </thead>\n",
       "  <tbody>\n",
       "    <tr>\n",
       "      <th>619</th>\n",
       "      <td>20</td>\n",
       "      <td>90.0</td>\n",
       "      <td>11694</td>\n",
       "      <td>9</td>\n",
       "      <td>5</td>\n",
       "      <td>2007</td>\n",
       "      <td>2007</td>\n",
       "      <td>452.0</td>\n",
       "      <td>48</td>\n",
       "      <td>0</td>\n",
       "      <td>...</td>\n",
       "      <td>774</td>\n",
       "      <td>0</td>\n",
       "      <td>108</td>\n",
       "      <td>0</td>\n",
       "      <td>0</td>\n",
       "      <td>260</td>\n",
       "      <td>0</td>\n",
       "      <td>0</td>\n",
       "      <td>7</td>\n",
       "      <td>2007</td>\n",
       "    </tr>\n",
       "    <tr>\n",
       "      <th>871</th>\n",
       "      <td>20</td>\n",
       "      <td>60.0</td>\n",
       "      <td>6600</td>\n",
       "      <td>5</td>\n",
       "      <td>5</td>\n",
       "      <td>1962</td>\n",
       "      <td>1962</td>\n",
       "      <td>0.0</td>\n",
       "      <td>0</td>\n",
       "      <td>0</td>\n",
       "      <td>...</td>\n",
       "      <td>308</td>\n",
       "      <td>0</td>\n",
       "      <td>0</td>\n",
       "      <td>0</td>\n",
       "      <td>0</td>\n",
       "      <td>0</td>\n",
       "      <td>0</td>\n",
       "      <td>0</td>\n",
       "      <td>8</td>\n",
       "      <td>2009</td>\n",
       "    </tr>\n",
       "    <tr>\n",
       "      <th>93</th>\n",
       "      <td>30</td>\n",
       "      <td>80.0</td>\n",
       "      <td>13360</td>\n",
       "      <td>5</td>\n",
       "      <td>7</td>\n",
       "      <td>1921</td>\n",
       "      <td>2006</td>\n",
       "      <td>0.0</td>\n",
       "      <td>713</td>\n",
       "      <td>0</td>\n",
       "      <td>...</td>\n",
       "      <td>432</td>\n",
       "      <td>0</td>\n",
       "      <td>0</td>\n",
       "      <td>44</td>\n",
       "      <td>0</td>\n",
       "      <td>0</td>\n",
       "      <td>0</td>\n",
       "      <td>0</td>\n",
       "      <td>8</td>\n",
       "      <td>2009</td>\n",
       "    </tr>\n",
       "    <tr>\n",
       "      <th>818</th>\n",
       "      <td>20</td>\n",
       "      <td>NaN</td>\n",
       "      <td>13265</td>\n",
       "      <td>8</td>\n",
       "      <td>5</td>\n",
       "      <td>2002</td>\n",
       "      <td>2002</td>\n",
       "      <td>148.0</td>\n",
       "      <td>1218</td>\n",
       "      <td>0</td>\n",
       "      <td>...</td>\n",
       "      <td>857</td>\n",
       "      <td>150</td>\n",
       "      <td>59</td>\n",
       "      <td>0</td>\n",
       "      <td>0</td>\n",
       "      <td>0</td>\n",
       "      <td>0</td>\n",
       "      <td>0</td>\n",
       "      <td>7</td>\n",
       "      <td>2008</td>\n",
       "    </tr>\n",
       "    <tr>\n",
       "      <th>303</th>\n",
       "      <td>20</td>\n",
       "      <td>118.0</td>\n",
       "      <td>13704</td>\n",
       "      <td>7</td>\n",
       "      <td>5</td>\n",
       "      <td>2001</td>\n",
       "      <td>2002</td>\n",
       "      <td>150.0</td>\n",
       "      <td>0</td>\n",
       "      <td>0</td>\n",
       "      <td>...</td>\n",
       "      <td>843</td>\n",
       "      <td>468</td>\n",
       "      <td>81</td>\n",
       "      <td>0</td>\n",
       "      <td>0</td>\n",
       "      <td>0</td>\n",
       "      <td>0</td>\n",
       "      <td>0</td>\n",
       "      <td>1</td>\n",
       "      <td>2006</td>\n",
       "    </tr>\n",
       "  </tbody>\n",
       "</table>\n",
       "<p>5 rows × 36 columns</p>\n",
       "</div>"
      ],
      "text/plain": [
       "     MSSubClass  LotFrontage  LotArea  OverallQual  OverallCond  YearBuilt  \\\n",
       "Id                                                                           \n",
       "619          20         90.0    11694            9            5       2007   \n",
       "871          20         60.0     6600            5            5       1962   \n",
       "93           30         80.0    13360            5            7       1921   \n",
       "818          20          NaN    13265            8            5       2002   \n",
       "303          20        118.0    13704            7            5       2001   \n",
       "\n",
       "     YearRemodAdd  MasVnrArea  BsmtFinSF1  BsmtFinSF2  ...  GarageArea  \\\n",
       "Id                                                     ...               \n",
       "619          2007       452.0          48           0  ...         774   \n",
       "871          1962         0.0           0           0  ...         308   \n",
       "93           2006         0.0         713           0  ...         432   \n",
       "818          2002       148.0        1218           0  ...         857   \n",
       "303          2002       150.0           0           0  ...         843   \n",
       "\n",
       "     WoodDeckSF  OpenPorchSF  EnclosedPorch  3SsnPorch  ScreenPorch  PoolArea  \\\n",
       "Id                                                                              \n",
       "619           0          108              0          0          260         0   \n",
       "871           0            0              0          0            0         0   \n",
       "93            0            0             44          0            0         0   \n",
       "818         150           59              0          0            0         0   \n",
       "303         468           81              0          0            0         0   \n",
       "\n",
       "     MiscVal  MoSold  YrSold  \n",
       "Id                            \n",
       "619        0       7    2007  \n",
       "871        0       8    2009  \n",
       "93         0       8    2009  \n",
       "818        0       7    2008  \n",
       "303        0       1    2006  \n",
       "\n",
       "[5 rows x 36 columns]"
      ]
     },
     "execution_count": 3,
     "metadata": {},
     "output_type": "execute_result"
    }
   ],
   "source": [
    "X_train.head()"
   ]
  },
  {
   "cell_type": "markdown",
   "id": "08b7a27e",
   "metadata": {
    "papermill": {
     "duration": 0.00689,
     "end_time": "2022-07-23T14:34:07.701362",
     "exception": false,
     "start_time": "2022-07-23T14:34:07.694472",
     "status": "completed"
    },
    "tags": []
   },
   "source": [
    "You can already see a few missing values in the first several rows.  In the next step, you'll obtain a more comprehensive understanding of the missing values in the dataset.\n",
    "\n",
    "# Step 1: Preliminary investigation\n",
    "\n",
    "Run the code cell below without changes."
   ]
  },
  {
   "cell_type": "code",
   "execution_count": 4,
   "id": "b2367c18",
   "metadata": {
    "execution": {
     "iopub.execute_input": "2022-07-23T14:34:07.718104Z",
     "iopub.status.busy": "2022-07-23T14:34:07.717502Z",
     "iopub.status.idle": "2022-07-23T14:34:07.726883Z",
     "shell.execute_reply": "2022-07-23T14:34:07.725410Z"
    },
    "papermill": {
     "duration": 0.020491,
     "end_time": "2022-07-23T14:34:07.729284",
     "exception": false,
     "start_time": "2022-07-23T14:34:07.708793",
     "status": "completed"
    },
    "tags": []
   },
   "outputs": [
    {
     "name": "stdout",
     "output_type": "stream",
     "text": [
      "(1168, 36)\n",
      "LotFrontage    212\n",
      "MasVnrArea       6\n",
      "GarageYrBlt     58\n",
      "dtype: int64\n"
     ]
    }
   ],
   "source": [
    "# Shape of training data (num_rows, num_columns)\n",
    "print(X_train.shape)\n",
    "\n",
    "# Number of missing values in each column of training data\n",
    "missing_val_count_by_column = (X_train.isnull().sum())\n",
    "print(missing_val_count_by_column[missing_val_count_by_column > 0])"
   ]
  },
  {
   "cell_type": "markdown",
   "id": "980cbee3",
   "metadata": {
    "papermill": {
     "duration": 0.006966,
     "end_time": "2022-07-23T14:34:07.744253",
     "exception": false,
     "start_time": "2022-07-23T14:34:07.737287",
     "status": "completed"
    },
    "tags": []
   },
   "source": [
    "### Part A\n",
    "\n",
    "Use the above output to answer the questions below."
   ]
  },
  {
   "cell_type": "code",
   "execution_count": 5,
   "id": "e139031a",
   "metadata": {
    "execution": {
     "iopub.execute_input": "2022-07-23T14:34:07.760706Z",
     "iopub.status.busy": "2022-07-23T14:34:07.759952Z",
     "iopub.status.idle": "2022-07-23T14:34:07.769176Z",
     "shell.execute_reply": "2022-07-23T14:34:07.768315Z"
    },
    "papermill": {
     "duration": 0.01989,
     "end_time": "2022-07-23T14:34:07.771215",
     "exception": false,
     "start_time": "2022-07-23T14:34:07.751325",
     "status": "completed"
    },
    "tags": []
   },
   "outputs": [
    {
     "data": {
      "application/javascript": [
       "parent.postMessage({\"jupyterEvent\": \"custom.exercise_interaction\", \"data\": {\"outcomeType\": 1, \"valueTowardsCompletion\": 1.0, \"interactionType\": 1, \"questionType\": 1, \"questionId\": \"1.1_InvestigateEquality\", \"learnToolsVersion\": \"0.3.4\", \"failureMessage\": \"\", \"exceptionClass\": \"\", \"trace\": \"\"}}, \"*\")"
      ],
      "text/plain": [
       "<IPython.core.display.Javascript object>"
      ]
     },
     "metadata": {},
     "output_type": "display_data"
    },
    {
     "data": {
      "text/markdown": [
       "<span style=\"color:#33cc33\">Correct</span>"
      ],
      "text/plain": [
       "Correct"
      ]
     },
     "metadata": {},
     "output_type": "display_data"
    }
   ],
   "source": [
    "# Fill in the line below: How many rows are in the training data?\n",
    "num_rows = 1168\n",
    "\n",
    "# Fill in the line below: How many columns in the training data\n",
    "# have missing values?\n",
    "num_cols_with_missing = 3\n",
    "\n",
    "# Fill in the line below: How many missing entries are contained in \n",
    "# all of the training data?\n",
    "tot_missing = 212+6+58\n",
    "\n",
    "# Check your answers\n",
    "step_1.a.check()"
   ]
  },
  {
   "cell_type": "code",
   "execution_count": 6,
   "id": "a4aa50d6",
   "metadata": {
    "execution": {
     "iopub.execute_input": "2022-07-23T14:34:07.788567Z",
     "iopub.status.busy": "2022-07-23T14:34:07.787828Z",
     "iopub.status.idle": "2022-07-23T14:34:07.792246Z",
     "shell.execute_reply": "2022-07-23T14:34:07.791485Z"
    },
    "papermill": {
     "duration": 0.015132,
     "end_time": "2022-07-23T14:34:07.794216",
     "exception": false,
     "start_time": "2022-07-23T14:34:07.779084",
     "status": "completed"
    },
    "tags": []
   },
   "outputs": [],
   "source": [
    "# Lines below will give you a hint or solution code\n",
    "#step_1.a.hint()\n",
    "#step_1.a.solution()"
   ]
  },
  {
   "cell_type": "markdown",
   "id": "27c6ae8e",
   "metadata": {
    "papermill": {
     "duration": 0.007007,
     "end_time": "2022-07-23T14:34:07.808825",
     "exception": false,
     "start_time": "2022-07-23T14:34:07.801818",
     "status": "completed"
    },
    "tags": []
   },
   "source": [
    "### Part B\n",
    "Considering your answers above, what do you think is likely the best approach to dealing with the missing values?"
   ]
  },
  {
   "cell_type": "code",
   "execution_count": 7,
   "id": "cb4071cf",
   "metadata": {
    "execution": {
     "iopub.execute_input": "2022-07-23T14:34:07.826114Z",
     "iopub.status.busy": "2022-07-23T14:34:07.825605Z",
     "iopub.status.idle": "2022-07-23T14:34:07.834022Z",
     "shell.execute_reply": "2022-07-23T14:34:07.832926Z"
    },
    "papermill": {
     "duration": 0.019518,
     "end_time": "2022-07-23T14:34:07.836088",
     "exception": false,
     "start_time": "2022-07-23T14:34:07.816570",
     "status": "completed"
    },
    "tags": []
   },
   "outputs": [
    {
     "data": {
      "application/javascript": [
       "parent.postMessage({\"jupyterEvent\": \"custom.exercise_interaction\", \"data\": {\"outcomeType\": 1, \"valueTowardsCompletion\": 1.0, \"interactionType\": 1, \"questionType\": 4, \"questionId\": \"1.2_InvestigateThought\", \"learnToolsVersion\": \"0.3.4\", \"failureMessage\": \"\", \"exceptionClass\": \"\", \"trace\": \"\"}}, \"*\")"
      ],
      "text/plain": [
       "<IPython.core.display.Javascript object>"
      ]
     },
     "metadata": {},
     "output_type": "display_data"
    },
    {
     "data": {
      "text/markdown": [
       "<span style=\"color:#33cc33\">Correct:</span> \n",
       "\n",
       "Since there are relatively few missing entries in the data (the column with the greatest percentage of missing values is missing less than 20% of its entries), we can expect that dropping columns is unlikely to yield good results.  This is because we'd be throwing away a lot of valuable data, and so imputation will likely perform better."
      ],
      "text/plain": [
       "Correct: \n",
       "\n",
       "Since there are relatively few missing entries in the data (the column with the greatest percentage of missing values is missing less than 20% of its entries), we can expect that dropping columns is unlikely to yield good results.  This is because we'd be throwing away a lot of valuable data, and so imputation will likely perform better."
      ]
     },
     "metadata": {},
     "output_type": "display_data"
    }
   ],
   "source": [
    "# Check your answer (Run this code cell to receive credit!)\n",
    "step_1.b.check()"
   ]
  },
  {
   "cell_type": "code",
   "execution_count": 8,
   "id": "9c48ed9a",
   "metadata": {
    "execution": {
     "iopub.execute_input": "2022-07-23T14:34:07.853235Z",
     "iopub.status.busy": "2022-07-23T14:34:07.852597Z",
     "iopub.status.idle": "2022-07-23T14:34:07.856723Z",
     "shell.execute_reply": "2022-07-23T14:34:07.855683Z"
    },
    "papermill": {
     "duration": 0.015396,
     "end_time": "2022-07-23T14:34:07.859035",
     "exception": false,
     "start_time": "2022-07-23T14:34:07.843639",
     "status": "completed"
    },
    "tags": []
   },
   "outputs": [],
   "source": [
    "#step_1.b.hint()"
   ]
  },
  {
   "cell_type": "markdown",
   "id": "19e79522",
   "metadata": {
    "papermill": {
     "duration": 0.007484,
     "end_time": "2022-07-23T14:34:07.874595",
     "exception": false,
     "start_time": "2022-07-23T14:34:07.867111",
     "status": "completed"
    },
    "tags": []
   },
   "source": [
    "To compare different approaches to dealing with missing values, you'll use the same `score_dataset()` function from the tutorial.  This function reports the [mean absolute error](https://en.wikipedia.org/wiki/Mean_absolute_error) (MAE) from a random forest model."
   ]
  },
  {
   "cell_type": "code",
   "execution_count": 9,
   "id": "b130b158",
   "metadata": {
    "execution": {
     "iopub.execute_input": "2022-07-23T14:34:07.892006Z",
     "iopub.status.busy": "2022-07-23T14:34:07.891275Z",
     "iopub.status.idle": "2022-07-23T14:34:08.110190Z",
     "shell.execute_reply": "2022-07-23T14:34:08.109128Z"
    },
    "papermill": {
     "duration": 0.230363,
     "end_time": "2022-07-23T14:34:08.112662",
     "exception": false,
     "start_time": "2022-07-23T14:34:07.882299",
     "status": "completed"
    },
    "tags": []
   },
   "outputs": [],
   "source": [
    "from sklearn.ensemble import RandomForestRegressor\n",
    "from sklearn.metrics import mean_absolute_error\n",
    "\n",
    "# Function for comparing different approaches\n",
    "def score_dataset(X_train, X_valid, y_train, y_valid):\n",
    "    model = RandomForestRegressor(n_estimators=100, random_state=0)\n",
    "    model.fit(X_train, y_train)\n",
    "    preds = model.predict(X_valid)\n",
    "    return mean_absolute_error(y_valid, preds)"
   ]
  },
  {
   "cell_type": "markdown",
   "id": "e606226f",
   "metadata": {
    "papermill": {
     "duration": 0.007891,
     "end_time": "2022-07-23T14:34:08.129810",
     "exception": false,
     "start_time": "2022-07-23T14:34:08.121919",
     "status": "completed"
    },
    "tags": []
   },
   "source": [
    "# Step 2: Drop columns with missing values\n",
    "\n",
    "In this step, you'll preprocess the data in `X_train` and `X_valid` to remove columns with missing values.  Set the preprocessed DataFrames to `reduced_X_train` and `reduced_X_valid`, respectively.  "
   ]
  },
  {
   "cell_type": "code",
   "execution_count": 10,
   "id": "5f9ef779",
   "metadata": {
    "execution": {
     "iopub.execute_input": "2022-07-23T14:34:08.147658Z",
     "iopub.status.busy": "2022-07-23T14:34:08.146945Z",
     "iopub.status.idle": "2022-07-23T14:34:08.169494Z",
     "shell.execute_reply": "2022-07-23T14:34:08.168655Z"
    },
    "papermill": {
     "duration": 0.03385,
     "end_time": "2022-07-23T14:34:08.171563",
     "exception": false,
     "start_time": "2022-07-23T14:34:08.137713",
     "status": "completed"
    },
    "tags": []
   },
   "outputs": [
    {
     "data": {
      "application/javascript": [
       "parent.postMessage({\"jupyterEvent\": \"custom.exercise_interaction\", \"data\": {\"outcomeType\": 1, \"valueTowardsCompletion\": 1.0, \"interactionType\": 1, \"questionType\": 2, \"questionId\": \"2_DropMissing\", \"learnToolsVersion\": \"0.3.4\", \"failureMessage\": \"\", \"exceptionClass\": \"\", \"trace\": \"\"}}, \"*\")"
      ],
      "text/plain": [
       "<IPython.core.display.Javascript object>"
      ]
     },
     "metadata": {},
     "output_type": "display_data"
    },
    {
     "data": {
      "text/markdown": [
       "<span style=\"color:#33cc33\">Correct</span>"
      ],
      "text/plain": [
       "Correct"
      ]
     },
     "metadata": {},
     "output_type": "display_data"
    }
   ],
   "source": [
    "# Fill in the line below: get names of columns with missing values\n",
    " # Your code here\n",
    "missing_val_count_by_column = (X_train.isnull().sum())\n",
    "missing_val_cols = missing_val_count_by_column[missing_val_count_by_column > 0].index\n",
    "\n",
    "# Fill in the lines below: drop columns in training and validation data\n",
    "reduced_X_train = X_train.drop(labels=missing_val_cols, axis=1)\n",
    "reduced_X_valid = X_valid.drop(labels=missing_val_cols, axis=1)\n",
    "\n",
    "# Check your answers\n",
    "step_2.check()"
   ]
  },
  {
   "cell_type": "code",
   "execution_count": 11,
   "id": "b591a80b",
   "metadata": {
    "execution": {
     "iopub.execute_input": "2022-07-23T14:34:08.190064Z",
     "iopub.status.busy": "2022-07-23T14:34:08.188869Z",
     "iopub.status.idle": "2022-07-23T14:34:08.193336Z",
     "shell.execute_reply": "2022-07-23T14:34:08.192386Z"
    },
    "papermill": {
     "duration": 0.015627,
     "end_time": "2022-07-23T14:34:08.195254",
     "exception": false,
     "start_time": "2022-07-23T14:34:08.179627",
     "status": "completed"
    },
    "tags": []
   },
   "outputs": [],
   "source": [
    "# Lines below will give you a hint or solution code\n",
    "#step_2.hint()\n",
    "#step_2.solution()"
   ]
  },
  {
   "cell_type": "markdown",
   "id": "787a2d41",
   "metadata": {
    "papermill": {
     "duration": 0.00792,
     "end_time": "2022-07-23T14:34:08.211957",
     "exception": false,
     "start_time": "2022-07-23T14:34:08.204037",
     "status": "completed"
    },
    "tags": []
   },
   "source": [
    "Run the next code cell without changes to obtain the MAE for this approach."
   ]
  },
  {
   "cell_type": "code",
   "execution_count": 12,
   "id": "3d0bbfe9",
   "metadata": {
    "execution": {
     "iopub.execute_input": "2022-07-23T14:34:08.230764Z",
     "iopub.status.busy": "2022-07-23T14:34:08.229665Z",
     "iopub.status.idle": "2022-07-23T14:34:09.333577Z",
     "shell.execute_reply": "2022-07-23T14:34:09.331795Z"
    },
    "papermill": {
     "duration": 1.115794,
     "end_time": "2022-07-23T14:34:09.336204",
     "exception": false,
     "start_time": "2022-07-23T14:34:08.220410",
     "status": "completed"
    },
    "tags": []
   },
   "outputs": [
    {
     "name": "stdout",
     "output_type": "stream",
     "text": [
      "MAE (Drop columns with missing values):\n",
      "17837.82570776256\n"
     ]
    }
   ],
   "source": [
    "print(\"MAE (Drop columns with missing values):\")\n",
    "print(score_dataset(reduced_X_train, reduced_X_valid, y_train, y_valid))"
   ]
  },
  {
   "cell_type": "markdown",
   "id": "a0ec844f",
   "metadata": {
    "papermill": {
     "duration": 0.008143,
     "end_time": "2022-07-23T14:34:09.353931",
     "exception": false,
     "start_time": "2022-07-23T14:34:09.345788",
     "status": "completed"
    },
    "tags": []
   },
   "source": [
    "# Step 3: Imputation\n",
    "\n",
    "### Part A\n",
    "\n",
    "Use the next code cell to impute missing values with the mean value along each column.  Set the preprocessed DataFrames to `imputed_X_train` and `imputed_X_valid`.  Make sure that the column names match those in `X_train` and `X_valid`."
   ]
  },
  {
   "cell_type": "code",
   "execution_count": 13,
   "id": "0e420cc3",
   "metadata": {
    "execution": {
     "iopub.execute_input": "2022-07-23T14:34:09.373564Z",
     "iopub.status.busy": "2022-07-23T14:34:09.373096Z",
     "iopub.status.idle": "2022-07-23T14:34:09.409395Z",
     "shell.execute_reply": "2022-07-23T14:34:09.408019Z"
    },
    "papermill": {
     "duration": 0.049019,
     "end_time": "2022-07-23T14:34:09.411775",
     "exception": false,
     "start_time": "2022-07-23T14:34:09.362756",
     "status": "completed"
    },
    "tags": []
   },
   "outputs": [
    {
     "data": {
      "application/javascript": [
       "parent.postMessage({\"jupyterEvent\": \"custom.exercise_interaction\", \"data\": {\"outcomeType\": 1, \"valueTowardsCompletion\": 1.0, \"interactionType\": 1, \"questionType\": 2, \"questionId\": \"3.1_ImputeCode\", \"learnToolsVersion\": \"0.3.4\", \"failureMessage\": \"\", \"exceptionClass\": \"\", \"trace\": \"\"}}, \"*\")"
      ],
      "text/plain": [
       "<IPython.core.display.Javascript object>"
      ]
     },
     "metadata": {},
     "output_type": "display_data"
    },
    {
     "data": {
      "text/markdown": [
       "<span style=\"color:#33cc33\">Correct</span>"
      ],
      "text/plain": [
       "Correct"
      ]
     },
     "metadata": {},
     "output_type": "display_data"
    }
   ],
   "source": [
    "from sklearn.impute import SimpleImputer\n",
    "\n",
    "# Fill in the lines below: imputation\n",
    "imputer = SimpleImputer() # Your code here\n",
    "imputed_X_train = pd.DataFrame(imputer.fit_transform(X_train))\n",
    "imputed_X_valid = pd.DataFrame(imputer.transform(X_valid))\n",
    "\n",
    "# Fill in the lines below: imputation removed column names; put them back\n",
    "imputed_X_train.columns = X_train.columns\n",
    "imputed_X_valid.columns = X_valid.columns\n",
    "\n",
    "# Check your answers\n",
    "step_3.a.check()"
   ]
  },
  {
   "cell_type": "code",
   "execution_count": 14,
   "id": "1e9ab670",
   "metadata": {
    "execution": {
     "iopub.execute_input": "2022-07-23T14:34:09.431747Z",
     "iopub.status.busy": "2022-07-23T14:34:09.430613Z",
     "iopub.status.idle": "2022-07-23T14:34:09.437539Z",
     "shell.execute_reply": "2022-07-23T14:34:09.435618Z"
    },
    "papermill": {
     "duration": 0.019948,
     "end_time": "2022-07-23T14:34:09.440311",
     "exception": false,
     "start_time": "2022-07-23T14:34:09.420363",
     "status": "completed"
    },
    "tags": []
   },
   "outputs": [],
   "source": [
    "# Lines below will give you a hint or solution code\n",
    "#step_3.a.hint()\n",
    "#step_3.a.solution()"
   ]
  },
  {
   "cell_type": "markdown",
   "id": "55356fa0",
   "metadata": {
    "papermill": {
     "duration": 0.008282,
     "end_time": "2022-07-23T14:34:09.457308",
     "exception": false,
     "start_time": "2022-07-23T14:34:09.449026",
     "status": "completed"
    },
    "tags": []
   },
   "source": [
    "Run the next code cell without changes to obtain the MAE for this approach."
   ]
  },
  {
   "cell_type": "code",
   "execution_count": 15,
   "id": "22aca917",
   "metadata": {
    "execution": {
     "iopub.execute_input": "2022-07-23T14:34:09.477768Z",
     "iopub.status.busy": "2022-07-23T14:34:09.477301Z",
     "iopub.status.idle": "2022-07-23T14:34:10.705322Z",
     "shell.execute_reply": "2022-07-23T14:34:10.703725Z"
    },
    "papermill": {
     "duration": 1.242147,
     "end_time": "2022-07-23T14:34:10.708570",
     "exception": false,
     "start_time": "2022-07-23T14:34:09.466423",
     "status": "completed"
    },
    "tags": []
   },
   "outputs": [
    {
     "name": "stdout",
     "output_type": "stream",
     "text": [
      "MAE (Imputation):\n",
      "18062.894611872147\n"
     ]
    }
   ],
   "source": [
    "print(\"MAE (Imputation):\")\n",
    "print(score_dataset(imputed_X_train, imputed_X_valid, y_train, y_valid))"
   ]
  },
  {
   "cell_type": "markdown",
   "id": "450ed5cd",
   "metadata": {
    "papermill": {
     "duration": 0.008452,
     "end_time": "2022-07-23T14:34:10.726148",
     "exception": false,
     "start_time": "2022-07-23T14:34:10.717696",
     "status": "completed"
    },
    "tags": []
   },
   "source": [
    "### Part B\n",
    "\n",
    "Compare the MAE from each approach.  Does anything surprise you about the results?  Why do you think one approach performed better than the other?"
   ]
  },
  {
   "cell_type": "code",
   "execution_count": 16,
   "id": "f21cb968",
   "metadata": {
    "execution": {
     "iopub.execute_input": "2022-07-23T14:34:10.745471Z",
     "iopub.status.busy": "2022-07-23T14:34:10.744903Z",
     "iopub.status.idle": "2022-07-23T14:34:10.752122Z",
     "shell.execute_reply": "2022-07-23T14:34:10.751307Z"
    },
    "papermill": {
     "duration": 0.019047,
     "end_time": "2022-07-23T14:34:10.754049",
     "exception": false,
     "start_time": "2022-07-23T14:34:10.735002",
     "status": "completed"
    },
    "tags": []
   },
   "outputs": [
    {
     "data": {
      "application/javascript": [
       "parent.postMessage({\"jupyterEvent\": \"custom.exercise_interaction\", \"data\": {\"outcomeType\": 1, \"valueTowardsCompletion\": 1.0, \"interactionType\": 1, \"questionType\": 4, \"questionId\": \"3.2_ImputeThought\", \"learnToolsVersion\": \"0.3.4\", \"failureMessage\": \"\", \"exceptionClass\": \"\", \"trace\": \"\"}}, \"*\")"
      ],
      "text/plain": [
       "<IPython.core.display.Javascript object>"
      ]
     },
     "metadata": {},
     "output_type": "display_data"
    },
    {
     "data": {
      "text/markdown": [
       "<span style=\"color:#33cc33\">Correct:</span> \n",
       "\n",
       "Given that thre are so few missing values in the dataset, we'd expect imputation to perform better than dropping columns entirely.  However, we see that dropping columns performs slightly better!  While this can probably partially be attributed to noise in the dataset, another potential explanation is that the imputation method is not a great match to this dataset.  That is, maybe instead of filling in the mean value, it makes more sense to set every missing value to a value of 0, to fill in the most frequently encountered value, or to use some other method.  For instance, consider the `GarageYrBlt` column (which indicates the year that the garage was built).  It's likely that in some cases, a missing value could indicate a house that does not have a garage.  Does it make more sense to fill in the median value along each column in this case?  Or could we get better results by filling in the minimum value along each column?  It's not quite clear what's best in this case, but perhaps we can rule out some options immediately - for instance, setting missing values in this column to 0 is likely to yield horrible results!"
      ],
      "text/plain": [
       "Correct: \n",
       "\n",
       "Given that thre are so few missing values in the dataset, we'd expect imputation to perform better than dropping columns entirely.  However, we see that dropping columns performs slightly better!  While this can probably partially be attributed to noise in the dataset, another potential explanation is that the imputation method is not a great match to this dataset.  That is, maybe instead of filling in the mean value, it makes more sense to set every missing value to a value of 0, to fill in the most frequently encountered value, or to use some other method.  For instance, consider the `GarageYrBlt` column (which indicates the year that the garage was built).  It's likely that in some cases, a missing value could indicate a house that does not have a garage.  Does it make more sense to fill in the median value along each column in this case?  Or could we get better results by filling in the minimum value along each column?  It's not quite clear what's best in this case, but perhaps we can rule out some options immediately - for instance, setting missing values in this column to 0 is likely to yield horrible results!"
      ]
     },
     "metadata": {},
     "output_type": "display_data"
    }
   ],
   "source": [
    "# Check your answer (Run this code cell to receive credit!)\n",
    "step_3.b.check()"
   ]
  },
  {
   "cell_type": "code",
   "execution_count": 17,
   "id": "ccfdf913",
   "metadata": {
    "execution": {
     "iopub.execute_input": "2022-07-23T14:34:10.774479Z",
     "iopub.status.busy": "2022-07-23T14:34:10.773517Z",
     "iopub.status.idle": "2022-07-23T14:34:10.777728Z",
     "shell.execute_reply": "2022-07-23T14:34:10.776916Z"
    },
    "papermill": {
     "duration": 0.016554,
     "end_time": "2022-07-23T14:34:10.780014",
     "exception": false,
     "start_time": "2022-07-23T14:34:10.763460",
     "status": "completed"
    },
    "tags": []
   },
   "outputs": [],
   "source": [
    "#step_3.b.hint()"
   ]
  },
  {
   "cell_type": "markdown",
   "id": "e8ecc41b",
   "metadata": {
    "papermill": {
     "duration": 0.009078,
     "end_time": "2022-07-23T14:34:10.798409",
     "exception": false,
     "start_time": "2022-07-23T14:34:10.789331",
     "status": "completed"
    },
    "tags": []
   },
   "source": [
    "# Step 4: Generate test predictions\n",
    "\n",
    "In this final step, you'll use any approach of your choosing to deal with missing values.  Once you've preprocessed the training and validation features, you'll train and evaluate a random forest model.  Then, you'll preprocess the test data before generating predictions that can be submitted to the competition!\n",
    "\n",
    "### Part A\n",
    "\n",
    "Use the next code cell to preprocess the training and validation data.  Set the preprocessed DataFrames to `final_X_train` and `final_X_valid`.  **You can use any approach of your choosing here!**  in order for this step to be marked as correct, you need only ensure:\n",
    "- the preprocessed DataFrames have the same number of columns,\n",
    "- the preprocessed DataFrames have no missing values, \n",
    "- `final_X_train` and `y_train` have the same number of rows, and\n",
    "- `final_X_valid` and `y_valid` have the same number of rows."
   ]
  },
  {
   "cell_type": "code",
   "execution_count": 18,
   "id": "c98d3f77",
   "metadata": {
    "execution": {
     "iopub.execute_input": "2022-07-23T14:34:10.820085Z",
     "iopub.status.busy": "2022-07-23T14:34:10.819694Z",
     "iopub.status.idle": "2022-07-23T14:34:10.851565Z",
     "shell.execute_reply": "2022-07-23T14:34:10.850106Z"
    },
    "papermill": {
     "duration": 0.045393,
     "end_time": "2022-07-23T14:34:10.854197",
     "exception": false,
     "start_time": "2022-07-23T14:34:10.808804",
     "status": "completed"
    },
    "tags": []
   },
   "outputs": [
    {
     "data": {
      "application/javascript": [
       "parent.postMessage({\"jupyterEvent\": \"custom.exercise_interaction\", \"data\": {\"outcomeType\": 1, \"valueTowardsCompletion\": 1.0, \"interactionType\": 1, \"questionType\": 2, \"questionId\": \"4.1_PredsCodeA\", \"learnToolsVersion\": \"0.3.4\", \"failureMessage\": \"\", \"exceptionClass\": \"\", \"trace\": \"\"}}, \"*\")"
      ],
      "text/plain": [
       "<IPython.core.display.Javascript object>"
      ]
     },
     "metadata": {},
     "output_type": "display_data"
    },
    {
     "data": {
      "text/markdown": [
       "<span style=\"color:#33cc33\">Correct</span>"
      ],
      "text/plain": [
       "Correct"
      ]
     },
     "metadata": {},
     "output_type": "display_data"
    }
   ],
   "source": [
    "# Preprocessed training and validation features\n",
    "# LotFrontage, MasVnrArea, GarageYrBlt\n",
    "\n",
    "imputer = SimpleImputer(strategy='median') # Your code here\n",
    "\n",
    "filled_X_train = X_train\n",
    "# filled_X_train['GarageYrBlt'] = filled_X_train['GarageYrBlt'].fillna(value=1900)\n",
    "filled_X_valid = X_valid\n",
    "# filled_X_valid['GarageYrBlt'] = filled_X_valid['GarageYrBlt'].fillna(value=1900)\n",
    "\n",
    "imputed_X_train = pd.DataFrame(imputer.fit_transform(filled_X_train))\n",
    "imputed_X_valid = pd.DataFrame(imputer.transform(filled_X_valid))\n",
    "imputed_X_train.columns = X_train.columns\n",
    "imputed_X_valid.columns = X_valid.columns\n",
    "\n",
    "final_X_train = imputed_X_train\n",
    "final_X_valid = imputed_X_valid\n",
    "\n",
    "# Check your answers\n",
    "step_4.a.check()"
   ]
  },
  {
   "cell_type": "code",
   "execution_count": 19,
   "id": "31ee84e4",
   "metadata": {
    "execution": {
     "iopub.execute_input": "2022-07-23T14:34:10.874468Z",
     "iopub.status.busy": "2022-07-23T14:34:10.873745Z",
     "iopub.status.idle": "2022-07-23T14:34:10.878836Z",
     "shell.execute_reply": "2022-07-23T14:34:10.877777Z"
    },
    "papermill": {
     "duration": 0.01746,
     "end_time": "2022-07-23T14:34:10.881087",
     "exception": false,
     "start_time": "2022-07-23T14:34:10.863627",
     "status": "completed"
    },
    "tags": []
   },
   "outputs": [],
   "source": [
    "# Lines below will give you a hint or solution code\n",
    "#step_4.a.hint()\n",
    "#step_4.a.solution()"
   ]
  },
  {
   "cell_type": "markdown",
   "id": "63a837ad",
   "metadata": {
    "papermill": {
     "duration": 0.008699,
     "end_time": "2022-07-23T14:34:10.899016",
     "exception": false,
     "start_time": "2022-07-23T14:34:10.890317",
     "status": "completed"
    },
    "tags": []
   },
   "source": [
    "Run the next code cell to train and evaluate a random forest model.  (*Note that we don't use the `score_dataset()` function above, because we will soon use the trained model to generate test predictions!*)"
   ]
  },
  {
   "cell_type": "code",
   "execution_count": 20,
   "id": "7025d953",
   "metadata": {
    "execution": {
     "iopub.execute_input": "2022-07-23T14:34:10.919405Z",
     "iopub.status.busy": "2022-07-23T14:34:10.918666Z",
     "iopub.status.idle": "2022-07-23T14:34:12.123192Z",
     "shell.execute_reply": "2022-07-23T14:34:12.121617Z"
    },
    "papermill": {
     "duration": 1.217464,
     "end_time": "2022-07-23T14:34:12.125806",
     "exception": false,
     "start_time": "2022-07-23T14:34:10.908342",
     "status": "completed"
    },
    "tags": []
   },
   "outputs": [
    {
     "name": "stdout",
     "output_type": "stream",
     "text": [
      "MAE (Your approach):\n",
      "17791.59899543379\n"
     ]
    }
   ],
   "source": [
    "# Define and fit model\n",
    "model = RandomForestRegressor(n_estimators=100, random_state=0)\n",
    "model.fit(final_X_train, y_train)\n",
    "\n",
    "# Get validation predictions and MAE\n",
    "preds_valid = model.predict(final_X_valid)\n",
    "print(\"MAE (Your approach):\")\n",
    "print(mean_absolute_error(y_valid, preds_valid))"
   ]
  },
  {
   "cell_type": "markdown",
   "id": "fe81bbae",
   "metadata": {
    "papermill": {
     "duration": 0.008965,
     "end_time": "2022-07-23T14:34:12.144710",
     "exception": false,
     "start_time": "2022-07-23T14:34:12.135745",
     "status": "completed"
    },
    "tags": []
   },
   "source": [
    "### Part B\n",
    "\n",
    "Use the next code cell to preprocess your test data.  Make sure that you use a method that agrees with how you preprocessed the training and validation data, and set the preprocessed test features to `final_X_test`.\n",
    "\n",
    "Then, use the preprocessed test features and the trained model to generate test predictions in `preds_test`.\n",
    "\n",
    "In order for this step to be marked correct, you need only ensure:\n",
    "- the preprocessed test DataFrame has no missing values, and\n",
    "- `final_X_test` has the same number of rows as `X_test`."
   ]
  },
  {
   "cell_type": "code",
   "execution_count": 21,
   "id": "5170cb5b",
   "metadata": {
    "execution": {
     "iopub.execute_input": "2022-07-23T14:34:12.166291Z",
     "iopub.status.busy": "2022-07-23T14:34:12.165937Z",
     "iopub.status.idle": "2022-07-23T14:34:12.232447Z",
     "shell.execute_reply": "2022-07-23T14:34:12.230619Z"
    },
    "papermill": {
     "duration": 0.081023,
     "end_time": "2022-07-23T14:34:12.235383",
     "exception": false,
     "start_time": "2022-07-23T14:34:12.154360",
     "status": "completed"
    },
    "tags": []
   },
   "outputs": [
    {
     "data": {
      "application/javascript": [
       "parent.postMessage({\"jupyterEvent\": \"custom.exercise_interaction\", \"data\": {\"outcomeType\": 1, \"valueTowardsCompletion\": 1.0, \"interactionType\": 1, \"questionType\": 2, \"questionId\": \"4.2_PredsCodeB\", \"learnToolsVersion\": \"0.3.4\", \"failureMessage\": \"\", \"exceptionClass\": \"\", \"trace\": \"\"}}, \"*\")"
      ],
      "text/plain": [
       "<IPython.core.display.Javascript object>"
      ]
     },
     "metadata": {},
     "output_type": "display_data"
    },
    {
     "data": {
      "text/markdown": [
       "<span style=\"color:#33cc33\">Correct</span>"
      ],
      "text/plain": [
       "Correct"
      ]
     },
     "metadata": {},
     "output_type": "display_data"
    }
   ],
   "source": [
    "# Fill in the line below: preprocess test data\n",
    "imputer = SimpleImputer(strategy='median') # Your code here\n",
    "imputed_X_test = pd.DataFrame(imputer.fit_transform(X_test))\n",
    "imputed_X_test.columns = X_test.columns\n",
    "final_X_test = imputed_X_test\n",
    "\n",
    "# Fill in the line below: get test predictions\n",
    "preds_test = model.predict(final_X_test)\n",
    "\n",
    "# Check your answers\n",
    "step_4.b.check()"
   ]
  },
  {
   "cell_type": "code",
   "execution_count": 22,
   "id": "e1c0e27d",
   "metadata": {
    "execution": {
     "iopub.execute_input": "2022-07-23T14:34:12.256552Z",
     "iopub.status.busy": "2022-07-23T14:34:12.256198Z",
     "iopub.status.idle": "2022-07-23T14:34:12.260467Z",
     "shell.execute_reply": "2022-07-23T14:34:12.259593Z"
    },
    "papermill": {
     "duration": 0.016884,
     "end_time": "2022-07-23T14:34:12.262211",
     "exception": false,
     "start_time": "2022-07-23T14:34:12.245327",
     "status": "completed"
    },
    "tags": []
   },
   "outputs": [],
   "source": [
    "# Lines below will give you a hint or solution code\n",
    "#step_4.b.hint()\n",
    "#step_4.b.solution()"
   ]
  },
  {
   "cell_type": "markdown",
   "id": "b667d75d",
   "metadata": {
    "papermill": {
     "duration": 0.009083,
     "end_time": "2022-07-23T14:34:12.280615",
     "exception": false,
     "start_time": "2022-07-23T14:34:12.271532",
     "status": "completed"
    },
    "tags": []
   },
   "source": [
    "Run the next code cell without changes to save your results to a CSV file that can be submitted directly to the competition."
   ]
  },
  {
   "cell_type": "code",
   "execution_count": 23,
   "id": "023247c0",
   "metadata": {
    "execution": {
     "iopub.execute_input": "2022-07-23T14:34:12.301619Z",
     "iopub.status.busy": "2022-07-23T14:34:12.301248Z",
     "iopub.status.idle": "2022-07-23T14:34:12.312238Z",
     "shell.execute_reply": "2022-07-23T14:34:12.310783Z"
    },
    "papermill": {
     "duration": 0.024317,
     "end_time": "2022-07-23T14:34:12.314656",
     "exception": false,
     "start_time": "2022-07-23T14:34:12.290339",
     "status": "completed"
    },
    "tags": []
   },
   "outputs": [],
   "source": [
    "# Save test predictions to file\n",
    "output = pd.DataFrame({'Id': X_test.index,\n",
    "                       'SalePrice': preds_test})\n",
    "output.to_csv('submission.csv', index=False)"
   ]
  },
  {
   "cell_type": "markdown",
   "id": "7b5ebbb6",
   "metadata": {
    "papermill": {
     "duration": 0.009087,
     "end_time": "2022-07-23T14:34:12.333378",
     "exception": false,
     "start_time": "2022-07-23T14:34:12.324291",
     "status": "completed"
    },
    "tags": []
   },
   "source": [
    "# Submit your results\n",
    "\n",
    "Once you have successfully completed Step 4, you're ready to submit your results to the leaderboard!  (_You also learned how to do this in the previous exercise.  If you need a reminder of how to do this, please use the instructions below._)  \n",
    "\n",
    "First, you'll need to join the competition if you haven't already.  So open a new window by clicking on [this link](https://www.kaggle.com/c/home-data-for-ml-course).  Then click on the **Join Competition** button.\n",
    "\n",
    "![join competition image](https://i.imgur.com/wLmFtH3.png)\n",
    "\n",
    "Next, follow the instructions below:\n",
    "1. Begin by clicking on the **Save Version** button in the top right corner of the window.  This will generate a pop-up window.  \n",
    "2. Ensure that the **Save and Run All** option is selected, and then click on the **Save** button.\n",
    "3. This generates a window in the bottom left corner of the notebook.  After it has finished running, click on the number to the right of the **Save Version** button.  This pulls up a list of versions on the right of the screen.  Click on the ellipsis **(...)** to the right of the most recent version, and select **Open in Viewer**.  This brings you into view mode of the same page. You will need to scroll down to get back to these instructions.\n",
    "4. Click on the **Output** tab on the right of the screen.  Then, click on the file you would like to submit, and click on the **Submit** button to submit your results to the leaderboard.\n",
    "\n",
    "You have now successfully submitted to the competition!\n",
    "\n",
    "If you want to keep working to improve your performance, select the **Edit** button in the top right of the screen. Then you can change your code and repeat the process. There's a lot of room to improve, and you will climb up the leaderboard as you work.\n",
    "\n",
    "\n",
    "# Keep going\n",
    "\n",
    "Move on to learn what **[categorical variables](https://www.kaggle.com/alexisbcook/categorical-variables)** are, along with how to incorporate them into your machine learning models.  Categorical variables are very common in real-world data, but you'll get an error if you try to plug them into your models without processing them first!"
   ]
  },
  {
   "cell_type": "markdown",
   "id": "131309d7",
   "metadata": {
    "papermill": {
     "duration": 0.009893,
     "end_time": "2022-07-23T14:34:12.352662",
     "exception": false,
     "start_time": "2022-07-23T14:34:12.342769",
     "status": "completed"
    },
    "tags": []
   },
   "source": [
    "---\n",
    "\n",
    "\n",
    "\n",
    "\n",
    "*Have questions or comments? Visit the [course discussion forum](https://www.kaggle.com/learn/intermediate-machine-learning/discussion) to chat with other learners.*"
   ]
  }
 ],
 "metadata": {
  "kernelspec": {
   "display_name": "Python 3",
   "language": "python",
   "name": "python3"
  },
  "language_info": {
   "codemirror_mode": {
    "name": "ipython",
    "version": 3
   },
   "file_extension": ".py",
   "mimetype": "text/x-python",
   "name": "python",
   "nbconvert_exporter": "python",
   "pygments_lexer": "ipython3",
   "version": "3.7.12"
  },
  "papermill": {
   "default_parameters": {},
   "duration": 16.449138,
   "end_time": "2022-07-23T14:34:13.186737",
   "environment_variables": {},
   "exception": null,
   "input_path": "__notebook__.ipynb",
   "output_path": "__notebook__.ipynb",
   "parameters": {},
   "start_time": "2022-07-23T14:33:56.737599",
   "version": "2.3.4"
  }
 },
 "nbformat": 4,
 "nbformat_minor": 5
}
