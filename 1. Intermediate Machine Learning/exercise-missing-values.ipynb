{
 "cells": [
  {
   "cell_type": "markdown",
   "id": "dfa419b8",
   "metadata": {
    "papermill": {
     "duration": 0.010058,
     "end_time": "2022-08-19T13:41:29.052023",
     "exception": false,
     "start_time": "2022-08-19T13:41:29.041965",
     "status": "completed"
    },
    "tags": []
   },
   "source": [
    "**This notebook is an exercise in the [Intermediate Machine Learning](https://www.kaggle.com/learn/intermediate-machine-learning) course.  You can reference the tutorial at [this link](https://www.kaggle.com/alexisbcook/missing-values).**\n",
    "\n",
    "---\n"
   ]
  },
  {
   "cell_type": "markdown",
   "id": "c3628f2e",
   "metadata": {
    "papermill": {
     "duration": 0.008232,
     "end_time": "2022-08-19T13:41:29.069110",
     "exception": false,
     "start_time": "2022-08-19T13:41:29.060878",
     "status": "completed"
    },
    "tags": []
   },
   "source": [
    "Now it's your turn to test your new knowledge of **missing values** handling. You'll probably find it makes a big difference.\n",
    "\n",
    "# Setup\n",
    "\n",
    "The questions will give you feedback on your work. Run the following cell to set up the feedback system."
   ]
  },
  {
   "cell_type": "code",
   "execution_count": 1,
   "id": "c6b673bb",
   "metadata": {
    "execution": {
     "iopub.execute_input": "2022-08-19T13:41:29.089474Z",
     "iopub.status.busy": "2022-08-19T13:41:29.088653Z",
     "iopub.status.idle": "2022-08-19T13:41:29.158797Z",
     "shell.execute_reply": "2022-08-19T13:41:29.157723Z"
    },
    "papermill": {
     "duration": 0.084532,
     "end_time": "2022-08-19T13:41:29.162773",
     "exception": false,
     "start_time": "2022-08-19T13:41:29.078241",
     "status": "completed"
    },
    "tags": []
   },
   "outputs": [
    {
     "name": "stdout",
     "output_type": "stream",
     "text": [
      "Setup Complete\n"
     ]
    }
   ],
   "source": [
    "# Set up code checking\n",
    "import os\n",
    "if not os.path.exists(\"../input/train.csv\"):\n",
    "    os.symlink(\"../input/home-data-for-ml-course/train.csv\", \"../input/train.csv\")  \n",
    "    os.symlink(\"../input/home-data-for-ml-course/test.csv\", \"../input/test.csv\") \n",
    "from learntools.core import binder\n",
    "binder.bind(globals())\n",
    "from learntools.ml_intermediate.ex2 import *\n",
    "print(\"Setup Complete\")"
   ]
  },
  {
   "cell_type": "markdown",
   "id": "1896bacf",
   "metadata": {
    "papermill": {
     "duration": 0.0081,
     "end_time": "2022-08-19T13:41:29.180565",
     "exception": false,
     "start_time": "2022-08-19T13:41:29.172465",
     "status": "completed"
    },
    "tags": []
   },
   "source": [
    "In this exercise, you will work with data from the [Housing Prices Competition for Kaggle Learn Users](https://www.kaggle.com/c/home-data-for-ml-course). \n",
    "\n",
    "![Ames Housing dataset image](https://i.imgur.com/lTJVG4e.png)\n",
    "\n",
    "Run the next code cell without changes to load the training and validation sets in `X_train`, `X_valid`, `y_train`, and `y_valid`.  The test set is loaded in `X_test`."
   ]
  },
  {
   "cell_type": "code",
   "execution_count": 2,
   "id": "7c8cd62d",
   "metadata": {
    "execution": {
     "iopub.execute_input": "2022-08-19T13:41:29.200012Z",
     "iopub.status.busy": "2022-08-19T13:41:29.199566Z",
     "iopub.status.idle": "2022-08-19T13:41:30.628516Z",
     "shell.execute_reply": "2022-08-19T13:41:30.627208Z"
    },
    "papermill": {
     "duration": 1.44205,
     "end_time": "2022-08-19T13:41:30.631497",
     "exception": false,
     "start_time": "2022-08-19T13:41:29.189447",
     "status": "completed"
    },
    "tags": []
   },
   "outputs": [],
   "source": [
    "import pandas as pd\n",
    "from sklearn.model_selection import train_test_split\n",
    "\n",
    "# Read the data\n",
    "X_full = pd.read_csv('../input/train.csv', index_col='Id')\n",
    "X_test_full = pd.read_csv('../input/test.csv', index_col='Id')\n",
    "\n",
    "# Remove rows with missing target, separate target from predictors\n",
    "X_full.dropna(axis=0, subset=['SalePrice'], inplace=True)\n",
    "y = X_full.SalePrice\n",
    "X_full.drop(['SalePrice'], axis=1, inplace=True)\n",
    "\n",
    "# To keep things simple, we'll use only numerical predictors\n",
    "X = X_full.select_dtypes(exclude=['object'])\n",
    "X_test = X_test_full.select_dtypes(exclude=['object'])\n",
    "\n",
    "# Break off validation set from training data\n",
    "X_train, X_valid, y_train, y_valid = train_test_split(X, y, train_size=0.8, test_size=0.2,\n",
    "                                                      random_state=0)"
   ]
  },
  {
   "cell_type": "markdown",
   "id": "8390bd33",
   "metadata": {
    "papermill": {
     "duration": 0.008128,
     "end_time": "2022-08-19T13:41:30.648846",
     "exception": false,
     "start_time": "2022-08-19T13:41:30.640718",
     "status": "completed"
    },
    "tags": []
   },
   "source": [
    "Use the next code cell to print the first five rows of the data."
   ]
  },
  {
   "cell_type": "code",
   "execution_count": 3,
   "id": "091d2cef",
   "metadata": {
    "execution": {
     "iopub.execute_input": "2022-08-19T13:41:30.667927Z",
     "iopub.status.busy": "2022-08-19T13:41:30.667466Z",
     "iopub.status.idle": "2022-08-19T13:41:30.703197Z",
     "shell.execute_reply": "2022-08-19T13:41:30.702178Z"
    },
    "papermill": {
     "duration": 0.048357,
     "end_time": "2022-08-19T13:41:30.705782",
     "exception": false,
     "start_time": "2022-08-19T13:41:30.657425",
     "status": "completed"
    },
    "tags": []
   },
   "outputs": [
    {
     "data": {
      "text/html": [
       "<div>\n",
       "<style scoped>\n",
       "    .dataframe tbody tr th:only-of-type {\n",
       "        vertical-align: middle;\n",
       "    }\n",
       "\n",
       "    .dataframe tbody tr th {\n",
       "        vertical-align: top;\n",
       "    }\n",
       "\n",
       "    .dataframe thead th {\n",
       "        text-align: right;\n",
       "    }\n",
       "</style>\n",
       "<table border=\"1\" class=\"dataframe\">\n",
       "  <thead>\n",
       "    <tr style=\"text-align: right;\">\n",
       "      <th></th>\n",
       "      <th>MSSubClass</th>\n",
       "      <th>LotFrontage</th>\n",
       "      <th>LotArea</th>\n",
       "      <th>OverallQual</th>\n",
       "      <th>OverallCond</th>\n",
       "      <th>YearBuilt</th>\n",
       "      <th>YearRemodAdd</th>\n",
       "      <th>MasVnrArea</th>\n",
       "      <th>BsmtFinSF1</th>\n",
       "      <th>BsmtFinSF2</th>\n",
       "      <th>...</th>\n",
       "      <th>GarageArea</th>\n",
       "      <th>WoodDeckSF</th>\n",
       "      <th>OpenPorchSF</th>\n",
       "      <th>EnclosedPorch</th>\n",
       "      <th>3SsnPorch</th>\n",
       "      <th>ScreenPorch</th>\n",
       "      <th>PoolArea</th>\n",
       "      <th>MiscVal</th>\n",
       "      <th>MoSold</th>\n",
       "      <th>YrSold</th>\n",
       "    </tr>\n",
       "    <tr>\n",
       "      <th>Id</th>\n",
       "      <th></th>\n",
       "      <th></th>\n",
       "      <th></th>\n",
       "      <th></th>\n",
       "      <th></th>\n",
       "      <th></th>\n",
       "      <th></th>\n",
       "      <th></th>\n",
       "      <th></th>\n",
       "      <th></th>\n",
       "      <th></th>\n",
       "      <th></th>\n",
       "      <th></th>\n",
       "      <th></th>\n",
       "      <th></th>\n",
       "      <th></th>\n",
       "      <th></th>\n",
       "      <th></th>\n",
       "      <th></th>\n",
       "      <th></th>\n",
       "      <th></th>\n",
       "    </tr>\n",
       "  </thead>\n",
       "  <tbody>\n",
       "    <tr>\n",
       "      <th>619</th>\n",
       "      <td>20</td>\n",
       "      <td>90.0</td>\n",
       "      <td>11694</td>\n",
       "      <td>9</td>\n",
       "      <td>5</td>\n",
       "      <td>2007</td>\n",
       "      <td>2007</td>\n",
       "      <td>452.0</td>\n",
       "      <td>48</td>\n",
       "      <td>0</td>\n",
       "      <td>...</td>\n",
       "      <td>774</td>\n",
       "      <td>0</td>\n",
       "      <td>108</td>\n",
       "      <td>0</td>\n",
       "      <td>0</td>\n",
       "      <td>260</td>\n",
       "      <td>0</td>\n",
       "      <td>0</td>\n",
       "      <td>7</td>\n",
       "      <td>2007</td>\n",
       "    </tr>\n",
       "    <tr>\n",
       "      <th>871</th>\n",
       "      <td>20</td>\n",
       "      <td>60.0</td>\n",
       "      <td>6600</td>\n",
       "      <td>5</td>\n",
       "      <td>5</td>\n",
       "      <td>1962</td>\n",
       "      <td>1962</td>\n",
       "      <td>0.0</td>\n",
       "      <td>0</td>\n",
       "      <td>0</td>\n",
       "      <td>...</td>\n",
       "      <td>308</td>\n",
       "      <td>0</td>\n",
       "      <td>0</td>\n",
       "      <td>0</td>\n",
       "      <td>0</td>\n",
       "      <td>0</td>\n",
       "      <td>0</td>\n",
       "      <td>0</td>\n",
       "      <td>8</td>\n",
       "      <td>2009</td>\n",
       "    </tr>\n",
       "    <tr>\n",
       "      <th>93</th>\n",
       "      <td>30</td>\n",
       "      <td>80.0</td>\n",
       "      <td>13360</td>\n",
       "      <td>5</td>\n",
       "      <td>7</td>\n",
       "      <td>1921</td>\n",
       "      <td>2006</td>\n",
       "      <td>0.0</td>\n",
       "      <td>713</td>\n",
       "      <td>0</td>\n",
       "      <td>...</td>\n",
       "      <td>432</td>\n",
       "      <td>0</td>\n",
       "      <td>0</td>\n",
       "      <td>44</td>\n",
       "      <td>0</td>\n",
       "      <td>0</td>\n",
       "      <td>0</td>\n",
       "      <td>0</td>\n",
       "      <td>8</td>\n",
       "      <td>2009</td>\n",
       "    </tr>\n",
       "    <tr>\n",
       "      <th>818</th>\n",
       "      <td>20</td>\n",
       "      <td>NaN</td>\n",
       "      <td>13265</td>\n",
       "      <td>8</td>\n",
       "      <td>5</td>\n",
       "      <td>2002</td>\n",
       "      <td>2002</td>\n",
       "      <td>148.0</td>\n",
       "      <td>1218</td>\n",
       "      <td>0</td>\n",
       "      <td>...</td>\n",
       "      <td>857</td>\n",
       "      <td>150</td>\n",
       "      <td>59</td>\n",
       "      <td>0</td>\n",
       "      <td>0</td>\n",
       "      <td>0</td>\n",
       "      <td>0</td>\n",
       "      <td>0</td>\n",
       "      <td>7</td>\n",
       "      <td>2008</td>\n",
       "    </tr>\n",
       "    <tr>\n",
       "      <th>303</th>\n",
       "      <td>20</td>\n",
       "      <td>118.0</td>\n",
       "      <td>13704</td>\n",
       "      <td>7</td>\n",
       "      <td>5</td>\n",
       "      <td>2001</td>\n",
       "      <td>2002</td>\n",
       "      <td>150.0</td>\n",
       "      <td>0</td>\n",
       "      <td>0</td>\n",
       "      <td>...</td>\n",
       "      <td>843</td>\n",
       "      <td>468</td>\n",
       "      <td>81</td>\n",
       "      <td>0</td>\n",
       "      <td>0</td>\n",
       "      <td>0</td>\n",
       "      <td>0</td>\n",
       "      <td>0</td>\n",
       "      <td>1</td>\n",
       "      <td>2006</td>\n",
       "    </tr>\n",
       "  </tbody>\n",
       "</table>\n",
       "<p>5 rows × 36 columns</p>\n",
       "</div>"
      ],
      "text/plain": [
       "     MSSubClass  LotFrontage  LotArea  OverallQual  OverallCond  YearBuilt  \\\n",
       "Id                                                                           \n",
       "619          20         90.0    11694            9            5       2007   \n",
       "871          20         60.0     6600            5            5       1962   \n",
       "93           30         80.0    13360            5            7       1921   \n",
       "818          20          NaN    13265            8            5       2002   \n",
       "303          20        118.0    13704            7            5       2001   \n",
       "\n",
       "     YearRemodAdd  MasVnrArea  BsmtFinSF1  BsmtFinSF2  ...  GarageArea  \\\n",
       "Id                                                     ...               \n",
       "619          2007       452.0          48           0  ...         774   \n",
       "871          1962         0.0           0           0  ...         308   \n",
       "93           2006         0.0         713           0  ...         432   \n",
       "818          2002       148.0        1218           0  ...         857   \n",
       "303          2002       150.0           0           0  ...         843   \n",
       "\n",
       "     WoodDeckSF  OpenPorchSF  EnclosedPorch  3SsnPorch  ScreenPorch  PoolArea  \\\n",
       "Id                                                                              \n",
       "619           0          108              0          0          260         0   \n",
       "871           0            0              0          0            0         0   \n",
       "93            0            0             44          0            0         0   \n",
       "818         150           59              0          0            0         0   \n",
       "303         468           81              0          0            0         0   \n",
       "\n",
       "     MiscVal  MoSold  YrSold  \n",
       "Id                            \n",
       "619        0       7    2007  \n",
       "871        0       8    2009  \n",
       "93         0       8    2009  \n",
       "818        0       7    2008  \n",
       "303        0       1    2006  \n",
       "\n",
       "[5 rows x 36 columns]"
      ]
     },
     "execution_count": 3,
     "metadata": {},
     "output_type": "execute_result"
    }
   ],
   "source": [
    "X_train.head()"
   ]
  },
  {
   "cell_type": "markdown",
   "id": "c5214095",
   "metadata": {
    "papermill": {
     "duration": 0.008793,
     "end_time": "2022-08-19T13:41:30.724587",
     "exception": false,
     "start_time": "2022-08-19T13:41:30.715794",
     "status": "completed"
    },
    "tags": []
   },
   "source": [
    "You can already see a few missing values in the first several rows.  In the next step, you'll obtain a more comprehensive understanding of the missing values in the dataset.\n",
    "\n",
    "# Step 1: Preliminary investigation\n",
    "\n",
    "Run the code cell below without changes."
   ]
  },
  {
   "cell_type": "code",
   "execution_count": 4,
   "id": "618eb744",
   "metadata": {
    "execution": {
     "iopub.execute_input": "2022-08-19T13:41:30.745551Z",
     "iopub.status.busy": "2022-08-19T13:41:30.744899Z",
     "iopub.status.idle": "2022-08-19T13:41:30.755274Z",
     "shell.execute_reply": "2022-08-19T13:41:30.753759Z"
    },
    "papermill": {
     "duration": 0.024481,
     "end_time": "2022-08-19T13:41:30.758276",
     "exception": false,
     "start_time": "2022-08-19T13:41:30.733795",
     "status": "completed"
    },
    "tags": []
   },
   "outputs": [
    {
     "name": "stdout",
     "output_type": "stream",
     "text": [
      "(1168, 36)\n",
      "LotFrontage    212\n",
      "MasVnrArea       6\n",
      "GarageYrBlt     58\n",
      "dtype: int64\n"
     ]
    }
   ],
   "source": [
    "# Shape of training data (num_rows, num_columns)\n",
    "print(X_train.shape)\n",
    "\n",
    "# Number of missing values in each column of training data\n",
    "missing_val_count_by_column = (X_train.isnull().sum())\n",
    "print(missing_val_count_by_column[missing_val_count_by_column > 0])"
   ]
  },
  {
   "cell_type": "markdown",
   "id": "9fe6ffc9",
   "metadata": {
    "papermill": {
     "duration": 0.008928,
     "end_time": "2022-08-19T13:41:30.776342",
     "exception": false,
     "start_time": "2022-08-19T13:41:30.767414",
     "status": "completed"
    },
    "tags": []
   },
   "source": [
    "### Part A\n",
    "\n",
    "Use the above output to answer the questions below."
   ]
  },
  {
   "cell_type": "code",
   "execution_count": 5,
   "id": "0b104334",
   "metadata": {
    "execution": {
     "iopub.execute_input": "2022-08-19T13:41:30.797153Z",
     "iopub.status.busy": "2022-08-19T13:41:30.796313Z",
     "iopub.status.idle": "2022-08-19T13:41:30.806133Z",
     "shell.execute_reply": "2022-08-19T13:41:30.805202Z"
    },
    "papermill": {
     "duration": 0.023028,
     "end_time": "2022-08-19T13:41:30.808331",
     "exception": false,
     "start_time": "2022-08-19T13:41:30.785303",
     "status": "completed"
    },
    "tags": []
   },
   "outputs": [
    {
     "data": {
      "application/javascript": [
       "parent.postMessage({\"jupyterEvent\": \"custom.exercise_interaction\", \"data\": {\"outcomeType\": 1, \"valueTowardsCompletion\": 1.0, \"interactionType\": 1, \"questionType\": 1, \"questionId\": \"1.1_InvestigateEquality\", \"learnToolsVersion\": \"0.3.4\", \"failureMessage\": \"\", \"exceptionClass\": \"\", \"trace\": \"\"}}, \"*\")"
      ],
      "text/plain": [
       "<IPython.core.display.Javascript object>"
      ]
     },
     "metadata": {},
     "output_type": "display_data"
    },
    {
     "data": {
      "text/markdown": [
       "<span style=\"color:#33cc33\">Correct</span>"
      ],
      "text/plain": [
       "Correct"
      ]
     },
     "metadata": {},
     "output_type": "display_data"
    }
   ],
   "source": [
    "# Fill in the line below: How many rows are in the training data?\n",
    "num_rows = 1168\n",
    "\n",
    "# Fill in the line below: How many columns in the training data\n",
    "# have missing values?\n",
    "num_cols_with_missing = 3\n",
    "\n",
    "# Fill in the line below: How many missing entries are contained in \n",
    "# all of the training data?\n",
    "tot_missing = 212+6+58\n",
    "\n",
    "# Check your answers\n",
    "step_1.a.check()"
   ]
  },
  {
   "cell_type": "code",
   "execution_count": 6,
   "id": "a7208ff8",
   "metadata": {
    "execution": {
     "iopub.execute_input": "2022-08-19T13:41:30.829752Z",
     "iopub.status.busy": "2022-08-19T13:41:30.828966Z",
     "iopub.status.idle": "2022-08-19T13:41:30.832995Z",
     "shell.execute_reply": "2022-08-19T13:41:30.832166Z"
    },
    "papermill": {
     "duration": 0.017093,
     "end_time": "2022-08-19T13:41:30.835219",
     "exception": false,
     "start_time": "2022-08-19T13:41:30.818126",
     "status": "completed"
    },
    "tags": []
   },
   "outputs": [],
   "source": [
    "# Lines below will give you a hint or solution code\n",
    "#step_1.a.hint()\n",
    "#step_1.a.solution()"
   ]
  },
  {
   "cell_type": "markdown",
   "id": "2edca991",
   "metadata": {
    "papermill": {
     "duration": 0.009057,
     "end_time": "2022-08-19T13:41:30.853627",
     "exception": false,
     "start_time": "2022-08-19T13:41:30.844570",
     "status": "completed"
    },
    "tags": []
   },
   "source": [
    "### Part B\n",
    "Considering your answers above, what do you think is likely the best approach to dealing with the missing values?"
   ]
  },
  {
   "cell_type": "code",
   "execution_count": 7,
   "id": "a51344aa",
   "metadata": {
    "execution": {
     "iopub.execute_input": "2022-08-19T13:41:30.875023Z",
     "iopub.status.busy": "2022-08-19T13:41:30.874276Z",
     "iopub.status.idle": "2022-08-19T13:41:30.883400Z",
     "shell.execute_reply": "2022-08-19T13:41:30.882227Z"
    },
    "papermill": {
     "duration": 0.022807,
     "end_time": "2022-08-19T13:41:30.885922",
     "exception": false,
     "start_time": "2022-08-19T13:41:30.863115",
     "status": "completed"
    },
    "tags": []
   },
   "outputs": [
    {
     "data": {
      "application/javascript": [
       "parent.postMessage({\"jupyterEvent\": \"custom.exercise_interaction\", \"data\": {\"outcomeType\": 1, \"valueTowardsCompletion\": 1.0, \"interactionType\": 1, \"questionType\": 4, \"questionId\": \"1.2_InvestigateThought\", \"learnToolsVersion\": \"0.3.4\", \"failureMessage\": \"\", \"exceptionClass\": \"\", \"trace\": \"\"}}, \"*\")"
      ],
      "text/plain": [
       "<IPython.core.display.Javascript object>"
      ]
     },
     "metadata": {},
     "output_type": "display_data"
    },
    {
     "data": {
      "text/markdown": [
       "<span style=\"color:#33cc33\">Correct:</span> \n",
       "\n",
       "Since there are relatively few missing entries in the data (the column with the greatest percentage of missing values is missing less than 20% of its entries), we can expect that dropping columns is unlikely to yield good results.  This is because we'd be throwing away a lot of valuable data, and so imputation will likely perform better."
      ],
      "text/plain": [
       "Correct: \n",
       "\n",
       "Since there are relatively few missing entries in the data (the column with the greatest percentage of missing values is missing less than 20% of its entries), we can expect that dropping columns is unlikely to yield good results.  This is because we'd be throwing away a lot of valuable data, and so imputation will likely perform better."
      ]
     },
     "metadata": {},
     "output_type": "display_data"
    }
   ],
   "source": [
    "# Check your answer (Run this code cell to receive credit!)\n",
    "step_1.b.check()"
   ]
  },
  {
   "cell_type": "code",
   "execution_count": 8,
   "id": "70c3761d",
   "metadata": {
    "execution": {
     "iopub.execute_input": "2022-08-19T13:41:30.907839Z",
     "iopub.status.busy": "2022-08-19T13:41:30.906445Z",
     "iopub.status.idle": "2022-08-19T13:41:30.911909Z",
     "shell.execute_reply": "2022-08-19T13:41:30.910672Z"
    },
    "papermill": {
     "duration": 0.019407,
     "end_time": "2022-08-19T13:41:30.914927",
     "exception": false,
     "start_time": "2022-08-19T13:41:30.895520",
     "status": "completed"
    },
    "tags": []
   },
   "outputs": [],
   "source": [
    "#step_1.b.hint()"
   ]
  },
  {
   "cell_type": "markdown",
   "id": "9b32b44f",
   "metadata": {
    "papermill": {
     "duration": 0.009204,
     "end_time": "2022-08-19T13:41:30.933951",
     "exception": false,
     "start_time": "2022-08-19T13:41:30.924747",
     "status": "completed"
    },
    "tags": []
   },
   "source": [
    "To compare different approaches to dealing with missing values, you'll use the same `score_dataset()` function from the tutorial.  This function reports the [mean absolute error](https://en.wikipedia.org/wiki/Mean_absolute_error) (MAE) from a random forest model."
   ]
  },
  {
   "cell_type": "code",
   "execution_count": 9,
   "id": "02266fdc",
   "metadata": {
    "execution": {
     "iopub.execute_input": "2022-08-19T13:41:30.956028Z",
     "iopub.status.busy": "2022-08-19T13:41:30.955448Z",
     "iopub.status.idle": "2022-08-19T13:41:31.209391Z",
     "shell.execute_reply": "2022-08-19T13:41:31.208339Z"
    },
    "papermill": {
     "duration": 0.268608,
     "end_time": "2022-08-19T13:41:31.212254",
     "exception": false,
     "start_time": "2022-08-19T13:41:30.943646",
     "status": "completed"
    },
    "tags": []
   },
   "outputs": [],
   "source": [
    "from sklearn.ensemble import RandomForestRegressor\n",
    "from sklearn.metrics import mean_absolute_error\n",
    "\n",
    "# Function for comparing different approaches\n",
    "def score_dataset(X_train, X_valid, y_train, y_valid):\n",
    "    model = RandomForestRegressor(n_estimators=100, random_state=0)\n",
    "    model.fit(X_train, y_train)\n",
    "    preds = model.predict(X_valid)\n",
    "    return mean_absolute_error(y_valid, preds)"
   ]
  },
  {
   "cell_type": "markdown",
   "id": "2b13ac29",
   "metadata": {
    "papermill": {
     "duration": 0.009316,
     "end_time": "2022-08-19T13:41:31.231262",
     "exception": false,
     "start_time": "2022-08-19T13:41:31.221946",
     "status": "completed"
    },
    "tags": []
   },
   "source": [
    "# Step 2: Drop columns with missing values\n",
    "\n",
    "In this step, you'll preprocess the data in `X_train` and `X_valid` to remove columns with missing values.  Set the preprocessed DataFrames to `reduced_X_train` and `reduced_X_valid`, respectively.  "
   ]
  },
  {
   "cell_type": "code",
   "execution_count": 10,
   "id": "e377ba37",
   "metadata": {
    "execution": {
     "iopub.execute_input": "2022-08-19T13:41:31.252172Z",
     "iopub.status.busy": "2022-08-19T13:41:31.251776Z",
     "iopub.status.idle": "2022-08-19T13:41:31.281376Z",
     "shell.execute_reply": "2022-08-19T13:41:31.280104Z"
    },
    "papermill": {
     "duration": 0.043544,
     "end_time": "2022-08-19T13:41:31.284399",
     "exception": false,
     "start_time": "2022-08-19T13:41:31.240855",
     "status": "completed"
    },
    "tags": []
   },
   "outputs": [
    {
     "data": {
      "application/javascript": [
       "parent.postMessage({\"jupyterEvent\": \"custom.exercise_interaction\", \"data\": {\"outcomeType\": 1, \"valueTowardsCompletion\": 1.0, \"interactionType\": 1, \"questionType\": 2, \"questionId\": \"2_DropMissing\", \"learnToolsVersion\": \"0.3.4\", \"failureMessage\": \"\", \"exceptionClass\": \"\", \"trace\": \"\"}}, \"*\")"
      ],
      "text/plain": [
       "<IPython.core.display.Javascript object>"
      ]
     },
     "metadata": {},
     "output_type": "display_data"
    },
    {
     "data": {
      "text/markdown": [
       "<span style=\"color:#33cc33\">Correct</span>"
      ],
      "text/plain": [
       "Correct"
      ]
     },
     "metadata": {},
     "output_type": "display_data"
    }
   ],
   "source": [
    "# Fill in the line below: get names of columns with missing values\n",
    " # Your code here\n",
    "missing_val_count_by_column = (X_train.isnull().sum())\n",
    "missing_val_cols = missing_val_count_by_column[missing_val_count_by_column > 0].index\n",
    "\n",
    "# Fill in the lines below: drop columns in training and validation data\n",
    "reduced_X_train = X_train.drop(labels=missing_val_cols, axis=1)\n",
    "reduced_X_valid = X_valid.drop(labels=missing_val_cols, axis=1)\n",
    "\n",
    "# Check your answers\n",
    "step_2.check()"
   ]
  },
  {
   "cell_type": "code",
   "execution_count": 11,
   "id": "7358898f",
   "metadata": {
    "execution": {
     "iopub.execute_input": "2022-08-19T13:41:31.307167Z",
     "iopub.status.busy": "2022-08-19T13:41:31.306553Z",
     "iopub.status.idle": "2022-08-19T13:41:31.311906Z",
     "shell.execute_reply": "2022-08-19T13:41:31.310506Z"
    },
    "papermill": {
     "duration": 0.019605,
     "end_time": "2022-08-19T13:41:31.314564",
     "exception": false,
     "start_time": "2022-08-19T13:41:31.294959",
     "status": "completed"
    },
    "tags": []
   },
   "outputs": [],
   "source": [
    "# Lines below will give you a hint or solution code\n",
    "#step_2.hint()\n",
    "#step_2.solution()"
   ]
  },
  {
   "cell_type": "markdown",
   "id": "568470ef",
   "metadata": {
    "papermill": {
     "duration": 0.009533,
     "end_time": "2022-08-19T13:41:31.334054",
     "exception": false,
     "start_time": "2022-08-19T13:41:31.324521",
     "status": "completed"
    },
    "tags": []
   },
   "source": [
    "Run the next code cell without changes to obtain the MAE for this approach."
   ]
  },
  {
   "cell_type": "code",
   "execution_count": 12,
   "id": "1e3e8111",
   "metadata": {
    "execution": {
     "iopub.execute_input": "2022-08-19T13:41:31.355746Z",
     "iopub.status.busy": "2022-08-19T13:41:31.355315Z",
     "iopub.status.idle": "2022-08-19T13:41:32.478889Z",
     "shell.execute_reply": "2022-08-19T13:41:32.477116Z"
    },
    "papermill": {
     "duration": 1.138716,
     "end_time": "2022-08-19T13:41:32.482732",
     "exception": false,
     "start_time": "2022-08-19T13:41:31.344016",
     "status": "completed"
    },
    "tags": []
   },
   "outputs": [
    {
     "name": "stdout",
     "output_type": "stream",
     "text": [
      "MAE (Drop columns with missing values):\n",
      "17837.82570776256\n"
     ]
    }
   ],
   "source": [
    "print(\"MAE (Drop columns with missing values):\")\n",
    "print(score_dataset(reduced_X_train, reduced_X_valid, y_train, y_valid))"
   ]
  },
  {
   "cell_type": "markdown",
   "id": "feab4f56",
   "metadata": {
    "papermill": {
     "duration": 0.010531,
     "end_time": "2022-08-19T13:41:32.504490",
     "exception": false,
     "start_time": "2022-08-19T13:41:32.493959",
     "status": "completed"
    },
    "tags": []
   },
   "source": [
    "# Step 3: Imputation\n",
    "\n",
    "### Part A\n",
    "\n",
    "Use the next code cell to impute missing values with the mean value along each column.  Set the preprocessed DataFrames to `imputed_X_train` and `imputed_X_valid`.  Make sure that the column names match those in `X_train` and `X_valid`."
   ]
  },
  {
   "cell_type": "code",
   "execution_count": 13,
   "id": "f536787f",
   "metadata": {
    "execution": {
     "iopub.execute_input": "2022-08-19T13:41:32.527227Z",
     "iopub.status.busy": "2022-08-19T13:41:32.526796Z",
     "iopub.status.idle": "2022-08-19T13:41:32.564117Z",
     "shell.execute_reply": "2022-08-19T13:41:32.562807Z"
    },
    "papermill": {
     "duration": 0.052047,
     "end_time": "2022-08-19T13:41:32.566811",
     "exception": false,
     "start_time": "2022-08-19T13:41:32.514764",
     "status": "completed"
    },
    "tags": []
   },
   "outputs": [
    {
     "data": {
      "application/javascript": [
       "parent.postMessage({\"jupyterEvent\": \"custom.exercise_interaction\", \"data\": {\"outcomeType\": 1, \"valueTowardsCompletion\": 1.0, \"interactionType\": 1, \"questionType\": 2, \"questionId\": \"3.1_ImputeCode\", \"learnToolsVersion\": \"0.3.4\", \"failureMessage\": \"\", \"exceptionClass\": \"\", \"trace\": \"\"}}, \"*\")"
      ],
      "text/plain": [
       "<IPython.core.display.Javascript object>"
      ]
     },
     "metadata": {},
     "output_type": "display_data"
    },
    {
     "data": {
      "text/markdown": [
       "<span style=\"color:#33cc33\">Correct</span>"
      ],
      "text/plain": [
       "Correct"
      ]
     },
     "metadata": {},
     "output_type": "display_data"
    }
   ],
   "source": [
    "from sklearn.impute import SimpleImputer\n",
    "\n",
    "# Fill in the lines below: imputation\n",
    "imputer = SimpleImputer() # Your code here\n",
    "imputed_X_train = pd.DataFrame(imputer.fit_transform(X_train))\n",
    "imputed_X_valid = pd.DataFrame(imputer.transform(X_valid))\n",
    "\n",
    "# Fill in the lines below: imputation removed column names; put them back\n",
    "imputed_X_train.columns = X_train.columns\n",
    "imputed_X_valid.columns = X_valid.columns\n",
    "\n",
    "# Check your answers\n",
    "step_3.a.check()"
   ]
  },
  {
   "cell_type": "code",
   "execution_count": 14,
   "id": "37b57b72",
   "metadata": {
    "execution": {
     "iopub.execute_input": "2022-08-19T13:41:32.589559Z",
     "iopub.status.busy": "2022-08-19T13:41:32.589148Z",
     "iopub.status.idle": "2022-08-19T13:41:32.594123Z",
     "shell.execute_reply": "2022-08-19T13:41:32.592859Z"
    },
    "papermill": {
     "duration": 0.019286,
     "end_time": "2022-08-19T13:41:32.596451",
     "exception": false,
     "start_time": "2022-08-19T13:41:32.577165",
     "status": "completed"
    },
    "tags": []
   },
   "outputs": [],
   "source": [
    "# Lines below will give you a hint or solution code\n",
    "#step_3.a.hint()\n",
    "#step_3.a.solution()"
   ]
  },
  {
   "cell_type": "markdown",
   "id": "13159e22",
   "metadata": {
    "papermill": {
     "duration": 0.010416,
     "end_time": "2022-08-19T13:41:32.617260",
     "exception": false,
     "start_time": "2022-08-19T13:41:32.606844",
     "status": "completed"
    },
    "tags": []
   },
   "source": [
    "Run the next code cell without changes to obtain the MAE for this approach."
   ]
  },
  {
   "cell_type": "code",
   "execution_count": 15,
   "id": "8070c88e",
   "metadata": {
    "execution": {
     "iopub.execute_input": "2022-08-19T13:41:32.640113Z",
     "iopub.status.busy": "2022-08-19T13:41:32.639669Z",
     "iopub.status.idle": "2022-08-19T13:41:33.879425Z",
     "shell.execute_reply": "2022-08-19T13:41:33.877639Z"
    },
    "papermill": {
     "duration": 1.254764,
     "end_time": "2022-08-19T13:41:33.882577",
     "exception": false,
     "start_time": "2022-08-19T13:41:32.627813",
     "status": "completed"
    },
    "tags": []
   },
   "outputs": [
    {
     "name": "stdout",
     "output_type": "stream",
     "text": [
      "MAE (Imputation):\n",
      "18062.894611872147\n"
     ]
    }
   ],
   "source": [
    "print(\"MAE (Imputation):\")\n",
    "print(score_dataset(imputed_X_train, imputed_X_valid, y_train, y_valid))"
   ]
  },
  {
   "cell_type": "markdown",
   "id": "18a0b138",
   "metadata": {
    "papermill": {
     "duration": 0.010089,
     "end_time": "2022-08-19T13:41:33.903351",
     "exception": false,
     "start_time": "2022-08-19T13:41:33.893262",
     "status": "completed"
    },
    "tags": []
   },
   "source": [
    "### Part B\n",
    "\n",
    "Compare the MAE from each approach.  Does anything surprise you about the results?  Why do you think one approach performed better than the other?"
   ]
  },
  {
   "cell_type": "code",
   "execution_count": 16,
   "id": "b8f6c85e",
   "metadata": {
    "execution": {
     "iopub.execute_input": "2022-08-19T13:41:33.926347Z",
     "iopub.status.busy": "2022-08-19T13:41:33.925708Z",
     "iopub.status.idle": "2022-08-19T13:41:33.933597Z",
     "shell.execute_reply": "2022-08-19T13:41:33.932808Z"
    },
    "papermill": {
     "duration": 0.022079,
     "end_time": "2022-08-19T13:41:33.935858",
     "exception": false,
     "start_time": "2022-08-19T13:41:33.913779",
     "status": "completed"
    },
    "tags": []
   },
   "outputs": [
    {
     "data": {
      "application/javascript": [
       "parent.postMessage({\"jupyterEvent\": \"custom.exercise_interaction\", \"data\": {\"outcomeType\": 1, \"valueTowardsCompletion\": 1.0, \"interactionType\": 1, \"questionType\": 4, \"questionId\": \"3.2_ImputeThought\", \"learnToolsVersion\": \"0.3.4\", \"failureMessage\": \"\", \"exceptionClass\": \"\", \"trace\": \"\"}}, \"*\")"
      ],
      "text/plain": [
       "<IPython.core.display.Javascript object>"
      ]
     },
     "metadata": {},
     "output_type": "display_data"
    },
    {
     "data": {
      "text/markdown": [
       "<span style=\"color:#33cc33\">Correct:</span> \n",
       "\n",
       "Given that thre are so few missing values in the dataset, we'd expect imputation to perform better than dropping columns entirely.  However, we see that dropping columns performs slightly better!  While this can probably partially be attributed to noise in the dataset, another potential explanation is that the imputation method is not a great match to this dataset.  That is, maybe instead of filling in the mean value, it makes more sense to set every missing value to a value of 0, to fill in the most frequently encountered value, or to use some other method.  For instance, consider the `GarageYrBlt` column (which indicates the year that the garage was built).  It's likely that in some cases, a missing value could indicate a house that does not have a garage.  Does it make more sense to fill in the median value along each column in this case?  Or could we get better results by filling in the minimum value along each column?  It's not quite clear what's best in this case, but perhaps we can rule out some options immediately - for instance, setting missing values in this column to 0 is likely to yield horrible results!"
      ],
      "text/plain": [
       "Correct: \n",
       "\n",
       "Given that thre are so few missing values in the dataset, we'd expect imputation to perform better than dropping columns entirely.  However, we see that dropping columns performs slightly better!  While this can probably partially be attributed to noise in the dataset, another potential explanation is that the imputation method is not a great match to this dataset.  That is, maybe instead of filling in the mean value, it makes more sense to set every missing value to a value of 0, to fill in the most frequently encountered value, or to use some other method.  For instance, consider the `GarageYrBlt` column (which indicates the year that the garage was built).  It's likely that in some cases, a missing value could indicate a house that does not have a garage.  Does it make more sense to fill in the median value along each column in this case?  Or could we get better results by filling in the minimum value along each column?  It's not quite clear what's best in this case, but perhaps we can rule out some options immediately - for instance, setting missing values in this column to 0 is likely to yield horrible results!"
      ]
     },
     "metadata": {},
     "output_type": "display_data"
    }
   ],
   "source": [
    "# Check your answer (Run this code cell to receive credit!)\n",
    "step_3.b.check()"
   ]
  },
  {
   "cell_type": "code",
   "execution_count": 17,
   "id": "3f54b216",
   "metadata": {
    "execution": {
     "iopub.execute_input": "2022-08-19T13:41:33.959903Z",
     "iopub.status.busy": "2022-08-19T13:41:33.959098Z",
     "iopub.status.idle": "2022-08-19T13:41:33.963590Z",
     "shell.execute_reply": "2022-08-19T13:41:33.962666Z"
    },
    "papermill": {
     "duration": 0.019068,
     "end_time": "2022-08-19T13:41:33.966072",
     "exception": false,
     "start_time": "2022-08-19T13:41:33.947004",
     "status": "completed"
    },
    "tags": []
   },
   "outputs": [],
   "source": [
    "#step_3.b.hint()"
   ]
  },
  {
   "cell_type": "markdown",
   "id": "b9535fe2",
   "metadata": {
    "papermill": {
     "duration": 0.010576,
     "end_time": "2022-08-19T13:41:33.987651",
     "exception": false,
     "start_time": "2022-08-19T13:41:33.977075",
     "status": "completed"
    },
    "tags": []
   },
   "source": [
    "# Step 4: Generate test predictions\n",
    "\n",
    "In this final step, you'll use any approach of your choosing to deal with missing values.  Once you've preprocessed the training and validation features, you'll train and evaluate a random forest model.  Then, you'll preprocess the test data before generating predictions that can be submitted to the competition!\n",
    "\n",
    "### Part A\n",
    "\n",
    "Use the next code cell to preprocess the training and validation data.  Set the preprocessed DataFrames to `final_X_train` and `final_X_valid`.  **You can use any approach of your choosing here!**  in order for this step to be marked as correct, you need only ensure:\n",
    "- the preprocessed DataFrames have the same number of columns,\n",
    "- the preprocessed DataFrames have no missing values, \n",
    "- `final_X_train` and `y_train` have the same number of rows, and\n",
    "- `final_X_valid` and `y_valid` have the same number of rows."
   ]
  },
  {
   "cell_type": "code",
   "execution_count": 18,
   "id": "62075bfe",
   "metadata": {
    "execution": {
     "iopub.execute_input": "2022-08-19T13:41:34.011902Z",
     "iopub.status.busy": "2022-08-19T13:41:34.011356Z",
     "iopub.status.idle": "2022-08-19T13:41:34.044572Z",
     "shell.execute_reply": "2022-08-19T13:41:34.043671Z"
    },
    "papermill": {
     "duration": 0.047934,
     "end_time": "2022-08-19T13:41:34.046966",
     "exception": false,
     "start_time": "2022-08-19T13:41:33.999032",
     "status": "completed"
    },
    "tags": []
   },
   "outputs": [
    {
     "data": {
      "application/javascript": [
       "parent.postMessage({\"jupyterEvent\": \"custom.exercise_interaction\", \"data\": {\"outcomeType\": 1, \"valueTowardsCompletion\": 1.0, \"interactionType\": 1, \"questionType\": 2, \"questionId\": \"4.1_PredsCodeA\", \"learnToolsVersion\": \"0.3.4\", \"failureMessage\": \"\", \"exceptionClass\": \"\", \"trace\": \"\"}}, \"*\")"
      ],
      "text/plain": [
       "<IPython.core.display.Javascript object>"
      ]
     },
     "metadata": {},
     "output_type": "display_data"
    },
    {
     "data": {
      "text/markdown": [
       "<span style=\"color:#33cc33\">Correct</span>"
      ],
      "text/plain": [
       "Correct"
      ]
     },
     "metadata": {},
     "output_type": "display_data"
    }
   ],
   "source": [
    "# Preprocessed training and validation features\n",
    "# LotFrontage, MasVnrArea, GarageYrBlt\n",
    "\n",
    "imputer = SimpleImputer(strategy='median') # Your code here\n",
    "\n",
    "filled_X_train = X_train\n",
    "# filled_X_train['GarageYrBlt'] = filled_X_train['GarageYrBlt'].fillna(value=1900)\n",
    "filled_X_valid = X_valid\n",
    "# filled_X_valid['GarageYrBlt'] = filled_X_valid['GarageYrBlt'].fillna(value=1900)\n",
    "\n",
    "imputed_X_train = pd.DataFrame(imputer.fit_transform(filled_X_train))\n",
    "imputed_X_valid = pd.DataFrame(imputer.transform(filled_X_valid))\n",
    "imputed_X_train.columns = X_train.columns\n",
    "imputed_X_valid.columns = X_valid.columns\n",
    "\n",
    "final_X_train = imputed_X_train\n",
    "final_X_valid = imputed_X_valid\n",
    "\n",
    "# Check your answers\n",
    "step_4.a.check()"
   ]
  },
  {
   "cell_type": "code",
   "execution_count": 19,
   "id": "caf4234c",
   "metadata": {
    "execution": {
     "iopub.execute_input": "2022-08-19T13:41:34.072987Z",
     "iopub.status.busy": "2022-08-19T13:41:34.072189Z",
     "iopub.status.idle": "2022-08-19T13:41:34.076498Z",
     "shell.execute_reply": "2022-08-19T13:41:34.075557Z"
    },
    "papermill": {
     "duration": 0.019893,
     "end_time": "2022-08-19T13:41:34.078932",
     "exception": false,
     "start_time": "2022-08-19T13:41:34.059039",
     "status": "completed"
    },
    "tags": []
   },
   "outputs": [],
   "source": [
    "# Lines below will give you a hint or solution code\n",
    "#step_4.a.hint()\n",
    "#step_4.a.solution()"
   ]
  },
  {
   "cell_type": "markdown",
   "id": "07816d2d",
   "metadata": {
    "papermill": {
     "duration": 0.010734,
     "end_time": "2022-08-19T13:41:34.101234",
     "exception": false,
     "start_time": "2022-08-19T13:41:34.090500",
     "status": "completed"
    },
    "tags": []
   },
   "source": [
    "Run the next code cell to train and evaluate a random forest model.  (*Note that we don't use the `score_dataset()` function above, because we will soon use the trained model to generate test predictions!*)"
   ]
  },
  {
   "cell_type": "code",
   "execution_count": 20,
   "id": "fb875324",
   "metadata": {
    "execution": {
     "iopub.execute_input": "2022-08-19T13:41:34.125745Z",
     "iopub.status.busy": "2022-08-19T13:41:34.125303Z",
     "iopub.status.idle": "2022-08-19T13:41:35.354939Z",
     "shell.execute_reply": "2022-08-19T13:41:35.353700Z"
    },
    "papermill": {
     "duration": 1.245233,
     "end_time": "2022-08-19T13:41:35.357823",
     "exception": false,
     "start_time": "2022-08-19T13:41:34.112590",
     "status": "completed"
    },
    "tags": []
   },
   "outputs": [
    {
     "name": "stdout",
     "output_type": "stream",
     "text": [
      "MAE (Your approach):\n",
      "17791.59899543379\n"
     ]
    }
   ],
   "source": [
    "# Define and fit model\n",
    "model = RandomForestRegressor(n_estimators=100, random_state=0)\n",
    "model.fit(final_X_train, y_train)\n",
    "\n",
    "# Get validation predictions and MAE\n",
    "preds_valid = model.predict(final_X_valid)\n",
    "print(\"MAE (Your approach):\")\n",
    "print(mean_absolute_error(y_valid, preds_valid))"
   ]
  },
  {
   "cell_type": "markdown",
   "id": "7d8100d7",
   "metadata": {
    "papermill": {
     "duration": 0.011362,
     "end_time": "2022-08-19T13:41:35.381745",
     "exception": false,
     "start_time": "2022-08-19T13:41:35.370383",
     "status": "completed"
    },
    "tags": []
   },
   "source": [
    "### Part B\n",
    "\n",
    "Use the next code cell to preprocess your test data.  Make sure that you use a method that agrees with how you preprocessed the training and validation data, and set the preprocessed test features to `final_X_test`.\n",
    "\n",
    "Then, use the preprocessed test features and the trained model to generate test predictions in `preds_test`.\n",
    "\n",
    "In order for this step to be marked correct, you need only ensure:\n",
    "- the preprocessed test DataFrame has no missing values, and\n",
    "- `final_X_test` has the same number of rows as `X_test`."
   ]
  },
  {
   "cell_type": "code",
   "execution_count": 21,
   "id": "5cfc94e5",
   "metadata": {
    "execution": {
     "iopub.execute_input": "2022-08-19T13:41:35.406507Z",
     "iopub.status.busy": "2022-08-19T13:41:35.405456Z",
     "iopub.status.idle": "2022-08-19T13:41:35.469160Z",
     "shell.execute_reply": "2022-08-19T13:41:35.468203Z"
    },
    "papermill": {
     "duration": 0.078337,
     "end_time": "2022-08-19T13:41:35.471299",
     "exception": false,
     "start_time": "2022-08-19T13:41:35.392962",
     "status": "completed"
    },
    "tags": []
   },
   "outputs": [
    {
     "data": {
      "application/javascript": [
       "parent.postMessage({\"jupyterEvent\": \"custom.exercise_interaction\", \"data\": {\"outcomeType\": 1, \"valueTowardsCompletion\": 1.0, \"interactionType\": 1, \"questionType\": 2, \"questionId\": \"4.2_PredsCodeB\", \"learnToolsVersion\": \"0.3.4\", \"failureMessage\": \"\", \"exceptionClass\": \"\", \"trace\": \"\"}}, \"*\")"
      ],
      "text/plain": [
       "<IPython.core.display.Javascript object>"
      ]
     },
     "metadata": {},
     "output_type": "display_data"
    },
    {
     "data": {
      "text/markdown": [
       "<span style=\"color:#33cc33\">Correct</span>"
      ],
      "text/plain": [
       "Correct"
      ]
     },
     "metadata": {},
     "output_type": "display_data"
    }
   ],
   "source": [
    "# Fill in the line below: preprocess test data\n",
    "imputer = SimpleImputer(strategy='median') # Your code here\n",
    "imputed_X_test = pd.DataFrame(imputer.fit_transform(X_test))\n",
    "imputed_X_test.columns = X_test.columns\n",
    "final_X_test = imputed_X_test\n",
    "\n",
    "# Fill in the line below: get test predictions\n",
    "preds_test = model.predict(final_X_test)\n",
    "\n",
    "# Check your answers\n",
    "step_4.b.check()"
   ]
  },
  {
   "cell_type": "code",
   "execution_count": 22,
   "id": "063c0a9f",
   "metadata": {
    "execution": {
     "iopub.execute_input": "2022-08-19T13:41:35.496865Z",
     "iopub.status.busy": "2022-08-19T13:41:35.496044Z",
     "iopub.status.idle": "2022-08-19T13:41:35.500343Z",
     "shell.execute_reply": "2022-08-19T13:41:35.499408Z"
    },
    "papermill": {
     "duration": 0.019751,
     "end_time": "2022-08-19T13:41:35.502643",
     "exception": false,
     "start_time": "2022-08-19T13:41:35.482892",
     "status": "completed"
    },
    "tags": []
   },
   "outputs": [],
   "source": [
    "# Lines below will give you a hint or solution code\n",
    "#step_4.b.hint()\n",
    "#step_4.b.solution()"
   ]
  },
  {
   "cell_type": "markdown",
   "id": "f8bd91cc",
   "metadata": {
    "papermill": {
     "duration": 0.01134,
     "end_time": "2022-08-19T13:41:35.525515",
     "exception": false,
     "start_time": "2022-08-19T13:41:35.514175",
     "status": "completed"
    },
    "tags": []
   },
   "source": [
    "Run the next code cell without changes to save your results to a CSV file that can be submitted directly to the competition."
   ]
  },
  {
   "cell_type": "code",
   "execution_count": 23,
   "id": "6a86f870",
   "metadata": {
    "execution": {
     "iopub.execute_input": "2022-08-19T13:41:35.550265Z",
     "iopub.status.busy": "2022-08-19T13:41:35.549825Z",
     "iopub.status.idle": "2022-08-19T13:41:35.562121Z",
     "shell.execute_reply": "2022-08-19T13:41:35.561161Z"
    },
    "papermill": {
     "duration": 0.027595,
     "end_time": "2022-08-19T13:41:35.564637",
     "exception": false,
     "start_time": "2022-08-19T13:41:35.537042",
     "status": "completed"
    },
    "tags": []
   },
   "outputs": [],
   "source": [
    "# Save test predictions to file\n",
    "output = pd.DataFrame({'Id': X_test.index,\n",
    "                       'SalePrice': preds_test})\n",
    "output.to_csv('submission.csv', index=False)"
   ]
  },
  {
   "cell_type": "markdown",
   "id": "8510c465",
   "metadata": {
    "papermill": {
     "duration": 0.010959,
     "end_time": "2022-08-19T13:41:35.587015",
     "exception": false,
     "start_time": "2022-08-19T13:41:35.576056",
     "status": "completed"
    },
    "tags": []
   },
   "source": [
    "# Submit your results\n",
    "\n",
    "Once you have successfully completed Step 4, you're ready to submit your results to the leaderboard!  (_You also learned how to do this in the previous exercise.  If you need a reminder of how to do this, please use the instructions below._)  \n",
    "\n",
    "First, you'll need to join the competition if you haven't already.  So open a new window by clicking on [this link](https://www.kaggle.com/c/home-data-for-ml-course).  Then click on the **Join Competition** button.\n",
    "\n",
    "![join competition image](https://i.imgur.com/wLmFtH3.png)\n",
    "\n",
    "Next, follow the instructions below:\n",
    "1. Begin by clicking on the **Save Version** button in the top right corner of the window.  This will generate a pop-up window.  \n",
    "2. Ensure that the **Save and Run All** option is selected, and then click on the **Save** button.\n",
    "3. This generates a window in the bottom left corner of the notebook.  After it has finished running, click on the number to the right of the **Save Version** button.  This pulls up a list of versions on the right of the screen.  Click on the ellipsis **(...)** to the right of the most recent version, and select **Open in Viewer**.  This brings you into view mode of the same page. You will need to scroll down to get back to these instructions.\n",
    "4. Click on the **Output** tab on the right of the screen.  Then, click on the file you would like to submit, and click on the **Submit** button to submit your results to the leaderboard.\n",
    "\n",
    "You have now successfully submitted to the competition!\n",
    "\n",
    "If you want to keep working to improve your performance, select the **Edit** button in the top right of the screen. Then you can change your code and repeat the process. There's a lot of room to improve, and you will climb up the leaderboard as you work.\n",
    "\n",
    "\n",
    "# Keep going\n",
    "\n",
    "Move on to learn what **[categorical variables](https://www.kaggle.com/alexisbcook/categorical-variables)** are, along with how to incorporate them into your machine learning models.  Categorical variables are very common in real-world data, but you'll get an error if you try to plug them into your models without processing them first!"
   ]
  },
  {
   "cell_type": "markdown",
   "id": "03ad4f41",
   "metadata": {
    "papermill": {
     "duration": 0.010996,
     "end_time": "2022-08-19T13:41:35.609213",
     "exception": false,
     "start_time": "2022-08-19T13:41:35.598217",
     "status": "completed"
    },
    "tags": []
   },
   "source": [
    "---\n",
    "\n",
    "\n",
    "\n",
    "\n",
    "*Have questions or comments? Visit the [course discussion forum](https://www.kaggle.com/learn/intermediate-machine-learning/discussion) to chat with other learners.*"
   ]
  }
 ],
 "metadata": {
  "kernelspec": {
   "display_name": "Python 3",
   "language": "python",
   "name": "python3"
  },
  "language_info": {
   "codemirror_mode": {
    "name": "ipython",
    "version": 3
   },
   "file_extension": ".py",
   "mimetype": "text/x-python",
   "name": "python",
   "nbconvert_exporter": "python",
   "pygments_lexer": "ipython3",
   "version": "3.7.12"
  },
  "papermill": {
   "default_parameters": {},
   "duration": 19.185607,
   "end_time": "2022-08-19T13:41:36.444354",
   "environment_variables": {},
   "exception": null,
   "input_path": "__notebook__.ipynb",
   "output_path": "__notebook__.ipynb",
   "parameters": {},
   "start_time": "2022-08-19T13:41:17.258747",
   "version": "2.3.4"
  }
 },
 "nbformat": 4,
 "nbformat_minor": 5
}
